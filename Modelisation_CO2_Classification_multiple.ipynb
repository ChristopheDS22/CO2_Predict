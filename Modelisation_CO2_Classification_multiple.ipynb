{
  "nbformat": 4,
  "nbformat_minor": 0,
  "metadata": {
    "colab": {
      "provenance": [],
      "collapsed_sections": [
        "hJHRWznejJsw"
      ]
    },
    "kernelspec": {
      "name": "python3",
      "display_name": "Python 3"
    },
    "language_info": {
      "name": "python"
    }
  },
  "cells": [
    {
      "cell_type": "markdown",
      "source": [
        "## **Récupération du fichier de travail et préparation des données**"
      ],
      "metadata": {
        "id": "3vbB01tmJo57"
      }
    },
    {
      "cell_type": "code",
      "source": [
        "from google.colab import drive\n",
        "drive.mount('/content/drive')"
      ],
      "metadata": {
        "colab": {
          "base_uri": "https://localhost:8080/"
        },
        "id": "9s8WxEhlk62K",
        "outputId": "18bd77b2-cada-4e6a-845c-c9f24e5876a9"
      },
      "execution_count": null,
      "outputs": [
        {
          "output_type": "stream",
          "name": "stdout",
          "text": [
            "Mounted at /content/drive\n"
          ]
        }
      ]
    },
    {
      "cell_type": "code",
      "execution_count": null,
      "metadata": {
        "id": "Q_Mwwz07VjZX"
      },
      "outputs": [],
      "source": [
        "import pandas as pd\n",
        "df= pd.read_csv('/content/drive/MyDrive/ML_C02.csv', index_col = 0)\n",
        "# Le document ML_02.csv est le DataFrame obtenu après nettoyage et analyse du DataFrame initial df_2013.csv\n",
        "# C'est à partir de ses données que nous effectuerons tout le travail de Machine Learning"
      ]
    },
    {
      "cell_type": "code",
      "source": [
        "df.head()"
      ],
      "metadata": {
        "colab": {
          "base_uri": "https://localhost:8080/",
          "height": 354
        },
        "id": "i8ansBtMVyLu",
        "outputId": "8e2a779b-9ee5-4d6b-ddde-5ec046dae4fa"
      },
      "execution_count": null,
      "outputs": [
        {
          "output_type": "execute_result",
          "data": {
            "text/plain": [
              "       Marque  cat   mq genre Carburant          gamme2 Hybride  \\\n",
              "0  ALFA-ROMEO  M10  ALF    VP        ES  MOY-SUPERIEURE     non   \n",
              "1  ALFA-ROMEO  M10  ALF    VP        GO  MOY-SUPERIEURE     non   \n",
              "2  ALFA-ROMEO  M10  ALF    VP        GO  MOY-SUPERIEURE     non   \n",
              "3  ALFA-ROMEO  M10  ALF    VP        GO  MOY-SUPERIEURE     non   \n",
              "4  ALFA-ROMEO  M10  ALF    VP        GO  MOY-SUPERIEURE     non   \n",
              "\n",
              "   Puissance maximale (kW)  Consommation urbaine (l/100km)  HC+NOX (g/km)  \\\n",
              "0                    147.0                            11.3       0.225175   \n",
              "1                    125.0                             6.6       0.190000   \n",
              "2                    100.0                             6.6       0.175000   \n",
              "3                    100.0                             6.6       0.175000   \n",
              "4                    125.0                             6.9       0.193000   \n",
              "\n",
              "   masse vide euro min (kg) Carrosserie cat_poll boite  rapport norme EURO  \n",
              "0                      1505       BREAK        E     M        6      EURO5  \n",
              "1                      1565     BERLINE        C     M        6      EURO5  \n",
              "2                      1565     BERLINE        C     M        6      EURO5  \n",
              "3                      1565     BERLINE        C     M        6      EURO5  \n",
              "4                      1565     BERLINE        C     M        6      EURO5  "
            ],
            "text/html": [
              "\n",
              "  <div id=\"df-72f573cb-6c7f-42d5-b3d8-98983bb91166\">\n",
              "    <div class=\"colab-df-container\">\n",
              "      <div>\n",
              "<style scoped>\n",
              "    .dataframe tbody tr th:only-of-type {\n",
              "        vertical-align: middle;\n",
              "    }\n",
              "\n",
              "    .dataframe tbody tr th {\n",
              "        vertical-align: top;\n",
              "    }\n",
              "\n",
              "    .dataframe thead th {\n",
              "        text-align: right;\n",
              "    }\n",
              "</style>\n",
              "<table border=\"1\" class=\"dataframe\">\n",
              "  <thead>\n",
              "    <tr style=\"text-align: right;\">\n",
              "      <th></th>\n",
              "      <th>Marque</th>\n",
              "      <th>cat</th>\n",
              "      <th>mq</th>\n",
              "      <th>genre</th>\n",
              "      <th>Carburant</th>\n",
              "      <th>gamme2</th>\n",
              "      <th>Hybride</th>\n",
              "      <th>Puissance maximale (kW)</th>\n",
              "      <th>Consommation urbaine (l/100km)</th>\n",
              "      <th>HC+NOX (g/km)</th>\n",
              "      <th>masse vide euro min (kg)</th>\n",
              "      <th>Carrosserie</th>\n",
              "      <th>cat_poll</th>\n",
              "      <th>boite</th>\n",
              "      <th>rapport</th>\n",
              "      <th>norme EURO</th>\n",
              "    </tr>\n",
              "  </thead>\n",
              "  <tbody>\n",
              "    <tr>\n",
              "      <th>0</th>\n",
              "      <td>ALFA-ROMEO</td>\n",
              "      <td>M10</td>\n",
              "      <td>ALF</td>\n",
              "      <td>VP</td>\n",
              "      <td>ES</td>\n",
              "      <td>MOY-SUPERIEURE</td>\n",
              "      <td>non</td>\n",
              "      <td>147.0</td>\n",
              "      <td>11.3</td>\n",
              "      <td>0.225175</td>\n",
              "      <td>1505</td>\n",
              "      <td>BREAK</td>\n",
              "      <td>E</td>\n",
              "      <td>M</td>\n",
              "      <td>6</td>\n",
              "      <td>EURO5</td>\n",
              "    </tr>\n",
              "    <tr>\n",
              "      <th>1</th>\n",
              "      <td>ALFA-ROMEO</td>\n",
              "      <td>M10</td>\n",
              "      <td>ALF</td>\n",
              "      <td>VP</td>\n",
              "      <td>GO</td>\n",
              "      <td>MOY-SUPERIEURE</td>\n",
              "      <td>non</td>\n",
              "      <td>125.0</td>\n",
              "      <td>6.6</td>\n",
              "      <td>0.190000</td>\n",
              "      <td>1565</td>\n",
              "      <td>BERLINE</td>\n",
              "      <td>C</td>\n",
              "      <td>M</td>\n",
              "      <td>6</td>\n",
              "      <td>EURO5</td>\n",
              "    </tr>\n",
              "    <tr>\n",
              "      <th>2</th>\n",
              "      <td>ALFA-ROMEO</td>\n",
              "      <td>M10</td>\n",
              "      <td>ALF</td>\n",
              "      <td>VP</td>\n",
              "      <td>GO</td>\n",
              "      <td>MOY-SUPERIEURE</td>\n",
              "      <td>non</td>\n",
              "      <td>100.0</td>\n",
              "      <td>6.6</td>\n",
              "      <td>0.175000</td>\n",
              "      <td>1565</td>\n",
              "      <td>BERLINE</td>\n",
              "      <td>C</td>\n",
              "      <td>M</td>\n",
              "      <td>6</td>\n",
              "      <td>EURO5</td>\n",
              "    </tr>\n",
              "    <tr>\n",
              "      <th>3</th>\n",
              "      <td>ALFA-ROMEO</td>\n",
              "      <td>M10</td>\n",
              "      <td>ALF</td>\n",
              "      <td>VP</td>\n",
              "      <td>GO</td>\n",
              "      <td>MOY-SUPERIEURE</td>\n",
              "      <td>non</td>\n",
              "      <td>100.0</td>\n",
              "      <td>6.6</td>\n",
              "      <td>0.175000</td>\n",
              "      <td>1565</td>\n",
              "      <td>BERLINE</td>\n",
              "      <td>C</td>\n",
              "      <td>M</td>\n",
              "      <td>6</td>\n",
              "      <td>EURO5</td>\n",
              "    </tr>\n",
              "    <tr>\n",
              "      <th>4</th>\n",
              "      <td>ALFA-ROMEO</td>\n",
              "      <td>M10</td>\n",
              "      <td>ALF</td>\n",
              "      <td>VP</td>\n",
              "      <td>GO</td>\n",
              "      <td>MOY-SUPERIEURE</td>\n",
              "      <td>non</td>\n",
              "      <td>125.0</td>\n",
              "      <td>6.9</td>\n",
              "      <td>0.193000</td>\n",
              "      <td>1565</td>\n",
              "      <td>BERLINE</td>\n",
              "      <td>C</td>\n",
              "      <td>M</td>\n",
              "      <td>6</td>\n",
              "      <td>EURO5</td>\n",
              "    </tr>\n",
              "  </tbody>\n",
              "</table>\n",
              "</div>\n",
              "      <button class=\"colab-df-convert\" onclick=\"convertToInteractive('df-72f573cb-6c7f-42d5-b3d8-98983bb91166')\"\n",
              "              title=\"Convert this dataframe to an interactive table.\"\n",
              "              style=\"display:none;\">\n",
              "        \n",
              "  <svg xmlns=\"http://www.w3.org/2000/svg\" height=\"24px\"viewBox=\"0 0 24 24\"\n",
              "       width=\"24px\">\n",
              "    <path d=\"M0 0h24v24H0V0z\" fill=\"none\"/>\n",
              "    <path d=\"M18.56 5.44l.94 2.06.94-2.06 2.06-.94-2.06-.94-.94-2.06-.94 2.06-2.06.94zm-11 1L8.5 8.5l.94-2.06 2.06-.94-2.06-.94L8.5 2.5l-.94 2.06-2.06.94zm10 10l.94 2.06.94-2.06 2.06-.94-2.06-.94-.94-2.06-.94 2.06-2.06.94z\"/><path d=\"M17.41 7.96l-1.37-1.37c-.4-.4-.92-.59-1.43-.59-.52 0-1.04.2-1.43.59L10.3 9.45l-7.72 7.72c-.78.78-.78 2.05 0 2.83L4 21.41c.39.39.9.59 1.41.59.51 0 1.02-.2 1.41-.59l7.78-7.78 2.81-2.81c.8-.78.8-2.07 0-2.86zM5.41 20L4 18.59l7.72-7.72 1.47 1.35L5.41 20z\"/>\n",
              "  </svg>\n",
              "      </button>\n",
              "      \n",
              "  <style>\n",
              "    .colab-df-container {\n",
              "      display:flex;\n",
              "      flex-wrap:wrap;\n",
              "      gap: 12px;\n",
              "    }\n",
              "\n",
              "    .colab-df-convert {\n",
              "      background-color: #E8F0FE;\n",
              "      border: none;\n",
              "      border-radius: 50%;\n",
              "      cursor: pointer;\n",
              "      display: none;\n",
              "      fill: #1967D2;\n",
              "      height: 32px;\n",
              "      padding: 0 0 0 0;\n",
              "      width: 32px;\n",
              "    }\n",
              "\n",
              "    .colab-df-convert:hover {\n",
              "      background-color: #E2EBFA;\n",
              "      box-shadow: 0px 1px 2px rgba(60, 64, 67, 0.3), 0px 1px 3px 1px rgba(60, 64, 67, 0.15);\n",
              "      fill: #174EA6;\n",
              "    }\n",
              "\n",
              "    [theme=dark] .colab-df-convert {\n",
              "      background-color: #3B4455;\n",
              "      fill: #D2E3FC;\n",
              "    }\n",
              "\n",
              "    [theme=dark] .colab-df-convert:hover {\n",
              "      background-color: #434B5C;\n",
              "      box-shadow: 0px 1px 3px 1px rgba(0, 0, 0, 0.15);\n",
              "      filter: drop-shadow(0px 1px 2px rgba(0, 0, 0, 0.3));\n",
              "      fill: #FFFFFF;\n",
              "    }\n",
              "  </style>\n",
              "\n",
              "      <script>\n",
              "        const buttonEl =\n",
              "          document.querySelector('#df-72f573cb-6c7f-42d5-b3d8-98983bb91166 button.colab-df-convert');\n",
              "        buttonEl.style.display =\n",
              "          google.colab.kernel.accessAllowed ? 'block' : 'none';\n",
              "\n",
              "        async function convertToInteractive(key) {\n",
              "          const element = document.querySelector('#df-72f573cb-6c7f-42d5-b3d8-98983bb91166');\n",
              "          const dataTable =\n",
              "            await google.colab.kernel.invokeFunction('convertToInteractive',\n",
              "                                                     [key], {});\n",
              "          if (!dataTable) return;\n",
              "\n",
              "          const docLinkHtml = 'Like what you see? Visit the ' +\n",
              "            '<a target=\"_blank\" href=https://colab.research.google.com/notebooks/data_table.ipynb>data table notebook</a>'\n",
              "            + ' to learn more about interactive tables.';\n",
              "          element.innerHTML = '';\n",
              "          dataTable['output_type'] = 'display_data';\n",
              "          await google.colab.output.renderOutput(dataTable, element);\n",
              "          const docLink = document.createElement('div');\n",
              "          docLink.innerHTML = docLinkHtml;\n",
              "          element.appendChild(docLink);\n",
              "        }\n",
              "      </script>\n",
              "    </div>\n",
              "  </div>\n",
              "  "
            ]
          },
          "metadata": {},
          "execution_count": 3
        }
      ]
    },
    {
      "cell_type": "code",
      "source": [
        "# On checke les doublons\n",
        "print('Il y a ', df.duplicated().sum(), 'doublons dans le dataset')"
      ],
      "metadata": {
        "colab": {
          "base_uri": "https://localhost:8080/"
        },
        "id": "IP2FgUufVTfH",
        "outputId": "db7a734d-99f4-4cfd-abd3-3d40cdc41b69"
      },
      "execution_count": null,
      "outputs": [
        {
          "output_type": "stream",
          "name": "stdout",
          "text": [
            "Il y a  38958 doublons dans le dataset\n"
          ]
        }
      ]
    },
    {
      "cell_type": "code",
      "source": [
        "# Suppression des doublons\n",
        "df = df.drop_duplicates()"
      ],
      "metadata": {
        "id": "dEtrZExVV-Je"
      },
      "execution_count": null,
      "outputs": []
    },
    {
      "cell_type": "code",
      "source": [
        "# Mise à jour des variables\n",
        "# Suppression d'une variable en double (mq et Marque)\n",
        "df = df.drop('mq', axis = 1)\n",
        "\n",
        "# On renomme quelques variables\n",
        "variables = {'gamme2' : 'gamme',\n",
        "             'Puissance maximale (kW)' : 'puiss_max',\n",
        "             'Consommation urbaine (l/100km)' : 'conso_urb',\n",
        "             'HC+NOX (g/km)' : 'hcnox',\n",
        "             'masse vide euro min (kg)' : 'masse_ordma_min',\n",
        "             'norme EURO' : 'norme_EUR'}\n",
        "\n",
        "df = df.rename(variables, axis = 1)"
      ],
      "metadata": {
        "id": "R_f8_Qjcda8r"
      },
      "execution_count": null,
      "outputs": []
    },
    {
      "cell_type": "code",
      "source": [
        "df.info()\n",
        "# Le DataFrame comporte 5 variables numériques et 10 variables catégorielles"
      ],
      "metadata": {
        "colab": {
          "base_uri": "https://localhost:8080/"
        },
        "id": "fUU3LrXbWLgT",
        "outputId": "7ad50adc-408c-4980-9d59-0b9aee7f634f"
      },
      "execution_count": null,
      "outputs": [
        {
          "output_type": "stream",
          "name": "stdout",
          "text": [
            "<class 'pandas.core.frame.DataFrame'>\n",
            "Int64Index: 5273 entries, 0 to 44849\n",
            "Data columns (total 15 columns):\n",
            " #   Column           Non-Null Count  Dtype  \n",
            "---  ------           --------------  -----  \n",
            " 0   Marque           5273 non-null   object \n",
            " 1   cat              5273 non-null   object \n",
            " 2   genre            5273 non-null   object \n",
            " 3   Carburant        5273 non-null   object \n",
            " 4   gamme            5273 non-null   object \n",
            " 5   Hybride          5273 non-null   object \n",
            " 6   puiss_max        5273 non-null   float64\n",
            " 7   conso_urb        5273 non-null   float64\n",
            " 8   hcnox            5273 non-null   float64\n",
            " 9   masse_ordma_min  5273 non-null   int64  \n",
            " 10  Carrosserie      5273 non-null   object \n",
            " 11  cat_poll         5273 non-null   object \n",
            " 12  boite            5273 non-null   object \n",
            " 13  rapport          5273 non-null   int64  \n",
            " 14  norme_EUR        5273 non-null   object \n",
            "dtypes: float64(3), int64(2), object(10)\n",
            "memory usage: 659.1+ KB\n"
          ]
        }
      ]
    },
    {
      "cell_type": "code",
      "source": [
        "df.describe()"
      ],
      "metadata": {
        "id": "5YOfKFrYWOEr",
        "colab": {
          "base_uri": "https://localhost:8080/",
          "height": 300
        },
        "outputId": "4341ec37-eff9-44e7-8a2e-4a0e3bb88c63"
      },
      "execution_count": null,
      "outputs": [
        {
          "output_type": "execute_result",
          "data": {
            "text/plain": [
              "         puiss_max    conso_urb        hcnox  masse_ordma_min      rapport\n",
              "count  5273.000000  5273.000000  5273.000000      5273.000000  5273.000000\n",
              "mean    135.477148     8.591631     0.206109      1685.665466     6.022947\n",
              "std      79.348915     3.515176     0.041331       371.673577     1.176740\n",
              "min      10.000000     0.000000     0.038000       825.000000     0.000000\n",
              "25%      85.000000     6.300000     0.176000      1439.000000     6.000000\n",
              "50%     110.000000     7.900000     0.225175      1630.000000     6.000000\n",
              "75%     150.000000     9.800000     0.225175      1955.000000     7.000000\n",
              "max     559.300000    41.100000     0.306000      3115.000000     8.000000"
            ],
            "text/html": [
              "\n",
              "  <div id=\"df-daae68b3-7cdb-4c0a-8ba4-2e702fa9bccd\">\n",
              "    <div class=\"colab-df-container\">\n",
              "      <div>\n",
              "<style scoped>\n",
              "    .dataframe tbody tr th:only-of-type {\n",
              "        vertical-align: middle;\n",
              "    }\n",
              "\n",
              "    .dataframe tbody tr th {\n",
              "        vertical-align: top;\n",
              "    }\n",
              "\n",
              "    .dataframe thead th {\n",
              "        text-align: right;\n",
              "    }\n",
              "</style>\n",
              "<table border=\"1\" class=\"dataframe\">\n",
              "  <thead>\n",
              "    <tr style=\"text-align: right;\">\n",
              "      <th></th>\n",
              "      <th>puiss_max</th>\n",
              "      <th>conso_urb</th>\n",
              "      <th>hcnox</th>\n",
              "      <th>masse_ordma_min</th>\n",
              "      <th>rapport</th>\n",
              "    </tr>\n",
              "  </thead>\n",
              "  <tbody>\n",
              "    <tr>\n",
              "      <th>count</th>\n",
              "      <td>5273.000000</td>\n",
              "      <td>5273.000000</td>\n",
              "      <td>5273.000000</td>\n",
              "      <td>5273.000000</td>\n",
              "      <td>5273.000000</td>\n",
              "    </tr>\n",
              "    <tr>\n",
              "      <th>mean</th>\n",
              "      <td>135.477148</td>\n",
              "      <td>8.591631</td>\n",
              "      <td>0.206109</td>\n",
              "      <td>1685.665466</td>\n",
              "      <td>6.022947</td>\n",
              "    </tr>\n",
              "    <tr>\n",
              "      <th>std</th>\n",
              "      <td>79.348915</td>\n",
              "      <td>3.515176</td>\n",
              "      <td>0.041331</td>\n",
              "      <td>371.673577</td>\n",
              "      <td>1.176740</td>\n",
              "    </tr>\n",
              "    <tr>\n",
              "      <th>min</th>\n",
              "      <td>10.000000</td>\n",
              "      <td>0.000000</td>\n",
              "      <td>0.038000</td>\n",
              "      <td>825.000000</td>\n",
              "      <td>0.000000</td>\n",
              "    </tr>\n",
              "    <tr>\n",
              "      <th>25%</th>\n",
              "      <td>85.000000</td>\n",
              "      <td>6.300000</td>\n",
              "      <td>0.176000</td>\n",
              "      <td>1439.000000</td>\n",
              "      <td>6.000000</td>\n",
              "    </tr>\n",
              "    <tr>\n",
              "      <th>50%</th>\n",
              "      <td>110.000000</td>\n",
              "      <td>7.900000</td>\n",
              "      <td>0.225175</td>\n",
              "      <td>1630.000000</td>\n",
              "      <td>6.000000</td>\n",
              "    </tr>\n",
              "    <tr>\n",
              "      <th>75%</th>\n",
              "      <td>150.000000</td>\n",
              "      <td>9.800000</td>\n",
              "      <td>0.225175</td>\n",
              "      <td>1955.000000</td>\n",
              "      <td>7.000000</td>\n",
              "    </tr>\n",
              "    <tr>\n",
              "      <th>max</th>\n",
              "      <td>559.300000</td>\n",
              "      <td>41.100000</td>\n",
              "      <td>0.306000</td>\n",
              "      <td>3115.000000</td>\n",
              "      <td>8.000000</td>\n",
              "    </tr>\n",
              "  </tbody>\n",
              "</table>\n",
              "</div>\n",
              "      <button class=\"colab-df-convert\" onclick=\"convertToInteractive('df-daae68b3-7cdb-4c0a-8ba4-2e702fa9bccd')\"\n",
              "              title=\"Convert this dataframe to an interactive table.\"\n",
              "              style=\"display:none;\">\n",
              "        \n",
              "  <svg xmlns=\"http://www.w3.org/2000/svg\" height=\"24px\"viewBox=\"0 0 24 24\"\n",
              "       width=\"24px\">\n",
              "    <path d=\"M0 0h24v24H0V0z\" fill=\"none\"/>\n",
              "    <path d=\"M18.56 5.44l.94 2.06.94-2.06 2.06-.94-2.06-.94-.94-2.06-.94 2.06-2.06.94zm-11 1L8.5 8.5l.94-2.06 2.06-.94-2.06-.94L8.5 2.5l-.94 2.06-2.06.94zm10 10l.94 2.06.94-2.06 2.06-.94-2.06-.94-.94-2.06-.94 2.06-2.06.94z\"/><path d=\"M17.41 7.96l-1.37-1.37c-.4-.4-.92-.59-1.43-.59-.52 0-1.04.2-1.43.59L10.3 9.45l-7.72 7.72c-.78.78-.78 2.05 0 2.83L4 21.41c.39.39.9.59 1.41.59.51 0 1.02-.2 1.41-.59l7.78-7.78 2.81-2.81c.8-.78.8-2.07 0-2.86zM5.41 20L4 18.59l7.72-7.72 1.47 1.35L5.41 20z\"/>\n",
              "  </svg>\n",
              "      </button>\n",
              "      \n",
              "  <style>\n",
              "    .colab-df-container {\n",
              "      display:flex;\n",
              "      flex-wrap:wrap;\n",
              "      gap: 12px;\n",
              "    }\n",
              "\n",
              "    .colab-df-convert {\n",
              "      background-color: #E8F0FE;\n",
              "      border: none;\n",
              "      border-radius: 50%;\n",
              "      cursor: pointer;\n",
              "      display: none;\n",
              "      fill: #1967D2;\n",
              "      height: 32px;\n",
              "      padding: 0 0 0 0;\n",
              "      width: 32px;\n",
              "    }\n",
              "\n",
              "    .colab-df-convert:hover {\n",
              "      background-color: #E2EBFA;\n",
              "      box-shadow: 0px 1px 2px rgba(60, 64, 67, 0.3), 0px 1px 3px 1px rgba(60, 64, 67, 0.15);\n",
              "      fill: #174EA6;\n",
              "    }\n",
              "\n",
              "    [theme=dark] .colab-df-convert {\n",
              "      background-color: #3B4455;\n",
              "      fill: #D2E3FC;\n",
              "    }\n",
              "\n",
              "    [theme=dark] .colab-df-convert:hover {\n",
              "      background-color: #434B5C;\n",
              "      box-shadow: 0px 1px 3px 1px rgba(0, 0, 0, 0.15);\n",
              "      filter: drop-shadow(0px 1px 2px rgba(0, 0, 0, 0.3));\n",
              "      fill: #FFFFFF;\n",
              "    }\n",
              "  </style>\n",
              "\n",
              "      <script>\n",
              "        const buttonEl =\n",
              "          document.querySelector('#df-daae68b3-7cdb-4c0a-8ba4-2e702fa9bccd button.colab-df-convert');\n",
              "        buttonEl.style.display =\n",
              "          google.colab.kernel.accessAllowed ? 'block' : 'none';\n",
              "\n",
              "        async function convertToInteractive(key) {\n",
              "          const element = document.querySelector('#df-daae68b3-7cdb-4c0a-8ba4-2e702fa9bccd');\n",
              "          const dataTable =\n",
              "            await google.colab.kernel.invokeFunction('convertToInteractive',\n",
              "                                                     [key], {});\n",
              "          if (!dataTable) return;\n",
              "\n",
              "          const docLinkHtml = 'Like what you see? Visit the ' +\n",
              "            '<a target=\"_blank\" href=https://colab.research.google.com/notebooks/data_table.ipynb>data table notebook</a>'\n",
              "            + ' to learn more about interactive tables.';\n",
              "          element.innerHTML = '';\n",
              "          dataTable['output_type'] = 'display_data';\n",
              "          await google.colab.output.renderOutput(dataTable, element);\n",
              "          const docLink = document.createElement('div');\n",
              "          docLink.innerHTML = docLinkHtml;\n",
              "          element.appendChild(docLink);\n",
              "        }\n",
              "      </script>\n",
              "    </div>\n",
              "  </div>\n",
              "  "
            ]
          },
          "metadata": {},
          "execution_count": 8
        }
      ]
    },
    {
      "cell_type": "code",
      "source": [
        "# On sépare les variables numériques et catégorielles\n",
        "var_num = df.select_dtypes(exclude = 'object') # On récupère les variables numériques\n",
        "var_cat = df.select_dtypes(include = 'object') # On récupère les variables catégorielles\n",
        "\n",
        "# On récupère la variable cible\n",
        "target = df['cat_poll']\n",
        "var_cat = var_cat.drop('cat_poll', axis = 1)  # La variable cible est éliminée des variables catégorielles"
      ],
      "metadata": {
        "id": "XYJSiyCMoBcP"
      },
      "execution_count": null,
      "outputs": []
    },
    {
      "cell_type": "code",
      "source": [
        "# Les variables catégorielles sont transformées en indicatrices\n",
        "var_cat_ind = pd.get_dummies(var_cat)\n",
        "var_cat_ind"
      ],
      "metadata": {
        "colab": {
          "base_uri": "https://localhost:8080/",
          "height": 505
        },
        "id": "_9iFZq8apAjb",
        "outputId": "134a75e4-ef8f-4347-a3fa-4f3fc9c580cd"
      },
      "execution_count": null,
      "outputs": [
        {
          "output_type": "execute_result",
          "data": {
            "text/plain": [
              "       Marque_ALFA-ROMEO  Marque_ASTON MARTIN  Marque_AUDI  Marque_BENTLEY  \\\n",
              "0                      1                    0            0               0   \n",
              "1                      1                    0            0               0   \n",
              "2                      1                    0            0               0   \n",
              "4                      1                    0            0               0   \n",
              "6                      1                    0            0               0   \n",
              "...                  ...                  ...          ...             ...   \n",
              "44845                  0                    0            0               0   \n",
              "44846                  0                    0            0               0   \n",
              "44847                  0                    0            0               0   \n",
              "44848                  0                    0            0               0   \n",
              "44849                  0                    0            0               0   \n",
              "\n",
              "       Marque_BMW  Marque_CADILLAC  Marque_CHEVROLET  Marque_CITROEN  \\\n",
              "0               0                0                 0               0   \n",
              "1               0                0                 0               0   \n",
              "2               0                0                 0               0   \n",
              "4               0                0                 0               0   \n",
              "6               0                0                 0               0   \n",
              "...           ...              ...               ...             ...   \n",
              "44845           0                0                 0               0   \n",
              "44846           0                0                 0               0   \n",
              "44847           0                0                 0               0   \n",
              "44848           0                0                 0               0   \n",
              "44849           0                0                 0               0   \n",
              "\n",
              "       Marque_DACIA  Marque_DANGEL  ...  Carrosserie_TS TERRAINS/CHEMINS  \\\n",
              "0                 0              0  ...                                0   \n",
              "1                 0              0  ...                                0   \n",
              "2                 0              0  ...                                0   \n",
              "4                 0              0  ...                                0   \n",
              "6                 0              0  ...                                0   \n",
              "...             ...            ...  ...                              ...   \n",
              "44845             0              0  ...                                0   \n",
              "44846             0              0  ...                                0   \n",
              "44847             0              0  ...                                0   \n",
              "44848             0              0  ...                                0   \n",
              "44849             0              0  ...                                0   \n",
              "\n",
              "       boite_A  boite_Autres  boite_M  norme_EUR_12EUR  norme_EUR_1EURO  \\\n",
              "0            0             0        1                0                0   \n",
              "1            0             0        1                0                0   \n",
              "2            0             0        1                0                0   \n",
              "4            0             0        1                0                0   \n",
              "6            0             0        1                0                0   \n",
              "...        ...           ...      ...              ...              ...   \n",
              "44845        1             0        0                0                0   \n",
              "44846        0             0        1                0                0   \n",
              "44847        1             0        0                0                0   \n",
              "44848        0             0        1                0                0   \n",
              "44849        1             0        0                0                0   \n",
              "\n",
              "       norme_EUR_2EURO  norme_EUR_74EEV  norme_EUR_EURO5  norme_EUR_EURO6  \n",
              "0                    0                0                1                0  \n",
              "1                    0                0                1                0  \n",
              "2                    0                0                1                0  \n",
              "4                    0                0                1                0  \n",
              "6                    0                0                1                0  \n",
              "...                ...              ...              ...              ...  \n",
              "44845                0                0                1                0  \n",
              "44846                0                0                1                0  \n",
              "44847                0                0                1                0  \n",
              "44848                0                0                1                0  \n",
              "44849                0                0                1                0  \n",
              "\n",
              "[5273 rows x 97 columns]"
            ],
            "text/html": [
              "\n",
              "  <div id=\"df-e43c8108-159f-43dc-80cd-d908c3e12d0e\">\n",
              "    <div class=\"colab-df-container\">\n",
              "      <div>\n",
              "<style scoped>\n",
              "    .dataframe tbody tr th:only-of-type {\n",
              "        vertical-align: middle;\n",
              "    }\n",
              "\n",
              "    .dataframe tbody tr th {\n",
              "        vertical-align: top;\n",
              "    }\n",
              "\n",
              "    .dataframe thead th {\n",
              "        text-align: right;\n",
              "    }\n",
              "</style>\n",
              "<table border=\"1\" class=\"dataframe\">\n",
              "  <thead>\n",
              "    <tr style=\"text-align: right;\">\n",
              "      <th></th>\n",
              "      <th>Marque_ALFA-ROMEO</th>\n",
              "      <th>Marque_ASTON MARTIN</th>\n",
              "      <th>Marque_AUDI</th>\n",
              "      <th>Marque_BENTLEY</th>\n",
              "      <th>Marque_BMW</th>\n",
              "      <th>Marque_CADILLAC</th>\n",
              "      <th>Marque_CHEVROLET</th>\n",
              "      <th>Marque_CITROEN</th>\n",
              "      <th>Marque_DACIA</th>\n",
              "      <th>Marque_DANGEL</th>\n",
              "      <th>...</th>\n",
              "      <th>Carrosserie_TS TERRAINS/CHEMINS</th>\n",
              "      <th>boite_A</th>\n",
              "      <th>boite_Autres</th>\n",
              "      <th>boite_M</th>\n",
              "      <th>norme_EUR_12EUR</th>\n",
              "      <th>norme_EUR_1EURO</th>\n",
              "      <th>norme_EUR_2EURO</th>\n",
              "      <th>norme_EUR_74EEV</th>\n",
              "      <th>norme_EUR_EURO5</th>\n",
              "      <th>norme_EUR_EURO6</th>\n",
              "    </tr>\n",
              "  </thead>\n",
              "  <tbody>\n",
              "    <tr>\n",
              "      <th>0</th>\n",
              "      <td>1</td>\n",
              "      <td>0</td>\n",
              "      <td>0</td>\n",
              "      <td>0</td>\n",
              "      <td>0</td>\n",
              "      <td>0</td>\n",
              "      <td>0</td>\n",
              "      <td>0</td>\n",
              "      <td>0</td>\n",
              "      <td>0</td>\n",
              "      <td>...</td>\n",
              "      <td>0</td>\n",
              "      <td>0</td>\n",
              "      <td>0</td>\n",
              "      <td>1</td>\n",
              "      <td>0</td>\n",
              "      <td>0</td>\n",
              "      <td>0</td>\n",
              "      <td>0</td>\n",
              "      <td>1</td>\n",
              "      <td>0</td>\n",
              "    </tr>\n",
              "    <tr>\n",
              "      <th>1</th>\n",
              "      <td>1</td>\n",
              "      <td>0</td>\n",
              "      <td>0</td>\n",
              "      <td>0</td>\n",
              "      <td>0</td>\n",
              "      <td>0</td>\n",
              "      <td>0</td>\n",
              "      <td>0</td>\n",
              "      <td>0</td>\n",
              "      <td>0</td>\n",
              "      <td>...</td>\n",
              "      <td>0</td>\n",
              "      <td>0</td>\n",
              "      <td>0</td>\n",
              "      <td>1</td>\n",
              "      <td>0</td>\n",
              "      <td>0</td>\n",
              "      <td>0</td>\n",
              "      <td>0</td>\n",
              "      <td>1</td>\n",
              "      <td>0</td>\n",
              "    </tr>\n",
              "    <tr>\n",
              "      <th>2</th>\n",
              "      <td>1</td>\n",
              "      <td>0</td>\n",
              "      <td>0</td>\n",
              "      <td>0</td>\n",
              "      <td>0</td>\n",
              "      <td>0</td>\n",
              "      <td>0</td>\n",
              "      <td>0</td>\n",
              "      <td>0</td>\n",
              "      <td>0</td>\n",
              "      <td>...</td>\n",
              "      <td>0</td>\n",
              "      <td>0</td>\n",
              "      <td>0</td>\n",
              "      <td>1</td>\n",
              "      <td>0</td>\n",
              "      <td>0</td>\n",
              "      <td>0</td>\n",
              "      <td>0</td>\n",
              "      <td>1</td>\n",
              "      <td>0</td>\n",
              "    </tr>\n",
              "    <tr>\n",
              "      <th>4</th>\n",
              "      <td>1</td>\n",
              "      <td>0</td>\n",
              "      <td>0</td>\n",
              "      <td>0</td>\n",
              "      <td>0</td>\n",
              "      <td>0</td>\n",
              "      <td>0</td>\n",
              "      <td>0</td>\n",
              "      <td>0</td>\n",
              "      <td>0</td>\n",
              "      <td>...</td>\n",
              "      <td>0</td>\n",
              "      <td>0</td>\n",
              "      <td>0</td>\n",
              "      <td>1</td>\n",
              "      <td>0</td>\n",
              "      <td>0</td>\n",
              "      <td>0</td>\n",
              "      <td>0</td>\n",
              "      <td>1</td>\n",
              "      <td>0</td>\n",
              "    </tr>\n",
              "    <tr>\n",
              "      <th>6</th>\n",
              "      <td>1</td>\n",
              "      <td>0</td>\n",
              "      <td>0</td>\n",
              "      <td>0</td>\n",
              "      <td>0</td>\n",
              "      <td>0</td>\n",
              "      <td>0</td>\n",
              "      <td>0</td>\n",
              "      <td>0</td>\n",
              "      <td>0</td>\n",
              "      <td>...</td>\n",
              "      <td>0</td>\n",
              "      <td>0</td>\n",
              "      <td>0</td>\n",
              "      <td>1</td>\n",
              "      <td>0</td>\n",
              "      <td>0</td>\n",
              "      <td>0</td>\n",
              "      <td>0</td>\n",
              "      <td>1</td>\n",
              "      <td>0</td>\n",
              "    </tr>\n",
              "    <tr>\n",
              "      <th>...</th>\n",
              "      <td>...</td>\n",
              "      <td>...</td>\n",
              "      <td>...</td>\n",
              "      <td>...</td>\n",
              "      <td>...</td>\n",
              "      <td>...</td>\n",
              "      <td>...</td>\n",
              "      <td>...</td>\n",
              "      <td>...</td>\n",
              "      <td>...</td>\n",
              "      <td>...</td>\n",
              "      <td>...</td>\n",
              "      <td>...</td>\n",
              "      <td>...</td>\n",
              "      <td>...</td>\n",
              "      <td>...</td>\n",
              "      <td>...</td>\n",
              "      <td>...</td>\n",
              "      <td>...</td>\n",
              "      <td>...</td>\n",
              "      <td>...</td>\n",
              "    </tr>\n",
              "    <tr>\n",
              "      <th>44845</th>\n",
              "      <td>0</td>\n",
              "      <td>0</td>\n",
              "      <td>0</td>\n",
              "      <td>0</td>\n",
              "      <td>0</td>\n",
              "      <td>0</td>\n",
              "      <td>0</td>\n",
              "      <td>0</td>\n",
              "      <td>0</td>\n",
              "      <td>0</td>\n",
              "      <td>...</td>\n",
              "      <td>0</td>\n",
              "      <td>1</td>\n",
              "      <td>0</td>\n",
              "      <td>0</td>\n",
              "      <td>0</td>\n",
              "      <td>0</td>\n",
              "      <td>0</td>\n",
              "      <td>0</td>\n",
              "      <td>1</td>\n",
              "      <td>0</td>\n",
              "    </tr>\n",
              "    <tr>\n",
              "      <th>44846</th>\n",
              "      <td>0</td>\n",
              "      <td>0</td>\n",
              "      <td>0</td>\n",
              "      <td>0</td>\n",
              "      <td>0</td>\n",
              "      <td>0</td>\n",
              "      <td>0</td>\n",
              "      <td>0</td>\n",
              "      <td>0</td>\n",
              "      <td>0</td>\n",
              "      <td>...</td>\n",
              "      <td>0</td>\n",
              "      <td>0</td>\n",
              "      <td>0</td>\n",
              "      <td>1</td>\n",
              "      <td>0</td>\n",
              "      <td>0</td>\n",
              "      <td>0</td>\n",
              "      <td>0</td>\n",
              "      <td>1</td>\n",
              "      <td>0</td>\n",
              "    </tr>\n",
              "    <tr>\n",
              "      <th>44847</th>\n",
              "      <td>0</td>\n",
              "      <td>0</td>\n",
              "      <td>0</td>\n",
              "      <td>0</td>\n",
              "      <td>0</td>\n",
              "      <td>0</td>\n",
              "      <td>0</td>\n",
              "      <td>0</td>\n",
              "      <td>0</td>\n",
              "      <td>0</td>\n",
              "      <td>...</td>\n",
              "      <td>0</td>\n",
              "      <td>1</td>\n",
              "      <td>0</td>\n",
              "      <td>0</td>\n",
              "      <td>0</td>\n",
              "      <td>0</td>\n",
              "      <td>0</td>\n",
              "      <td>0</td>\n",
              "      <td>1</td>\n",
              "      <td>0</td>\n",
              "    </tr>\n",
              "    <tr>\n",
              "      <th>44848</th>\n",
              "      <td>0</td>\n",
              "      <td>0</td>\n",
              "      <td>0</td>\n",
              "      <td>0</td>\n",
              "      <td>0</td>\n",
              "      <td>0</td>\n",
              "      <td>0</td>\n",
              "      <td>0</td>\n",
              "      <td>0</td>\n",
              "      <td>0</td>\n",
              "      <td>...</td>\n",
              "      <td>0</td>\n",
              "      <td>0</td>\n",
              "      <td>0</td>\n",
              "      <td>1</td>\n",
              "      <td>0</td>\n",
              "      <td>0</td>\n",
              "      <td>0</td>\n",
              "      <td>0</td>\n",
              "      <td>1</td>\n",
              "      <td>0</td>\n",
              "    </tr>\n",
              "    <tr>\n",
              "      <th>44849</th>\n",
              "      <td>0</td>\n",
              "      <td>0</td>\n",
              "      <td>0</td>\n",
              "      <td>0</td>\n",
              "      <td>0</td>\n",
              "      <td>0</td>\n",
              "      <td>0</td>\n",
              "      <td>0</td>\n",
              "      <td>0</td>\n",
              "      <td>0</td>\n",
              "      <td>...</td>\n",
              "      <td>0</td>\n",
              "      <td>1</td>\n",
              "      <td>0</td>\n",
              "      <td>0</td>\n",
              "      <td>0</td>\n",
              "      <td>0</td>\n",
              "      <td>0</td>\n",
              "      <td>0</td>\n",
              "      <td>1</td>\n",
              "      <td>0</td>\n",
              "    </tr>\n",
              "  </tbody>\n",
              "</table>\n",
              "<p>5273 rows × 97 columns</p>\n",
              "</div>\n",
              "      <button class=\"colab-df-convert\" onclick=\"convertToInteractive('df-e43c8108-159f-43dc-80cd-d908c3e12d0e')\"\n",
              "              title=\"Convert this dataframe to an interactive table.\"\n",
              "              style=\"display:none;\">\n",
              "        \n",
              "  <svg xmlns=\"http://www.w3.org/2000/svg\" height=\"24px\"viewBox=\"0 0 24 24\"\n",
              "       width=\"24px\">\n",
              "    <path d=\"M0 0h24v24H0V0z\" fill=\"none\"/>\n",
              "    <path d=\"M18.56 5.44l.94 2.06.94-2.06 2.06-.94-2.06-.94-.94-2.06-.94 2.06-2.06.94zm-11 1L8.5 8.5l.94-2.06 2.06-.94-2.06-.94L8.5 2.5l-.94 2.06-2.06.94zm10 10l.94 2.06.94-2.06 2.06-.94-2.06-.94-.94-2.06-.94 2.06-2.06.94z\"/><path d=\"M17.41 7.96l-1.37-1.37c-.4-.4-.92-.59-1.43-.59-.52 0-1.04.2-1.43.59L10.3 9.45l-7.72 7.72c-.78.78-.78 2.05 0 2.83L4 21.41c.39.39.9.59 1.41.59.51 0 1.02-.2 1.41-.59l7.78-7.78 2.81-2.81c.8-.78.8-2.07 0-2.86zM5.41 20L4 18.59l7.72-7.72 1.47 1.35L5.41 20z\"/>\n",
              "  </svg>\n",
              "      </button>\n",
              "      \n",
              "  <style>\n",
              "    .colab-df-container {\n",
              "      display:flex;\n",
              "      flex-wrap:wrap;\n",
              "      gap: 12px;\n",
              "    }\n",
              "\n",
              "    .colab-df-convert {\n",
              "      background-color: #E8F0FE;\n",
              "      border: none;\n",
              "      border-radius: 50%;\n",
              "      cursor: pointer;\n",
              "      display: none;\n",
              "      fill: #1967D2;\n",
              "      height: 32px;\n",
              "      padding: 0 0 0 0;\n",
              "      width: 32px;\n",
              "    }\n",
              "\n",
              "    .colab-df-convert:hover {\n",
              "      background-color: #E2EBFA;\n",
              "      box-shadow: 0px 1px 2px rgba(60, 64, 67, 0.3), 0px 1px 3px 1px rgba(60, 64, 67, 0.15);\n",
              "      fill: #174EA6;\n",
              "    }\n",
              "\n",
              "    [theme=dark] .colab-df-convert {\n",
              "      background-color: #3B4455;\n",
              "      fill: #D2E3FC;\n",
              "    }\n",
              "\n",
              "    [theme=dark] .colab-df-convert:hover {\n",
              "      background-color: #434B5C;\n",
              "      box-shadow: 0px 1px 3px 1px rgba(0, 0, 0, 0.15);\n",
              "      filter: drop-shadow(0px 1px 2px rgba(0, 0, 0, 0.3));\n",
              "      fill: #FFFFFF;\n",
              "    }\n",
              "  </style>\n",
              "\n",
              "      <script>\n",
              "        const buttonEl =\n",
              "          document.querySelector('#df-e43c8108-159f-43dc-80cd-d908c3e12d0e button.colab-df-convert');\n",
              "        buttonEl.style.display =\n",
              "          google.colab.kernel.accessAllowed ? 'block' : 'none';\n",
              "\n",
              "        async function convertToInteractive(key) {\n",
              "          const element = document.querySelector('#df-e43c8108-159f-43dc-80cd-d908c3e12d0e');\n",
              "          const dataTable =\n",
              "            await google.colab.kernel.invokeFunction('convertToInteractive',\n",
              "                                                     [key], {});\n",
              "          if (!dataTable) return;\n",
              "\n",
              "          const docLinkHtml = 'Like what you see? Visit the ' +\n",
              "            '<a target=\"_blank\" href=https://colab.research.google.com/notebooks/data_table.ipynb>data table notebook</a>'\n",
              "            + ' to learn more about interactive tables.';\n",
              "          element.innerHTML = '';\n",
              "          dataTable['output_type'] = 'display_data';\n",
              "          await google.colab.output.renderOutput(dataTable, element);\n",
              "          const docLink = document.createElement('div');\n",
              "          docLink.innerHTML = docLinkHtml;\n",
              "          element.appendChild(docLink);\n",
              "        }\n",
              "      </script>\n",
              "    </div>\n",
              "  </div>\n",
              "  "
            ]
          },
          "metadata": {},
          "execution_count": 10
        }
      ]
    },
    {
      "cell_type": "code",
      "source": [
        "# On récupère les variables explicatives\n",
        "feats = var_num.join(var_cat_ind)"
      ],
      "metadata": {
        "id": "ixNKwRw_pXTj"
      },
      "execution_count": null,
      "outputs": []
    },
    {
      "cell_type": "markdown",
      "source": [
        "## **MACHINE LEARNING - Classification multiple**`\n",
        "## Déterminer la classe du véhicule selon les normes européennes"
      ],
      "metadata": {
        "id": "3aqN8egLXWHA"
      }
    },
    {
      "cell_type": "markdown",
      "source": [
        "### Import des librairies utiles"
      ],
      "metadata": {
        "id": "84KTnvTd6yNW"
      }
    },
    {
      "cell_type": "code",
      "source": [
        "# Les différents types de modèles de Machine Learning\n",
        "from sklearn.svm import SVC\n",
        "from sklearn.ensemble import RandomForestClassifier, VotingClassifier\n",
        "from sklearn.neighbors import KNeighborsClassifier\n",
        "\n",
        "# Les fonctions de paramétrage de la modélisation\n",
        "from sklearn.model_selection import train_test_split, KFold, cross_validate\n",
        "from sklearn.model_selection import GridSearchCV\n",
        "\n",
        "# Les fonctions de preprocessing\n",
        "from sklearn.preprocessing import StandardScaler\n",
        "from sklearn.preprocessing import LabelEncoder,OneHotEncoder\n",
        "\n",
        "# Les algos de rééchantillonnage (Dataset déséquilibré)\n",
        "from imblearn.over_sampling import RandomOverSampler, SMOTE\n",
        "from imblearn.under_sampling import RandomUnderSampler,  ClusterCentroids\n",
        "\n",
        "# Les métriques\n",
        "from imblearn.metrics import classification_report_imbalanced, geometric_mean_score\n",
        "from sklearn.metrics import f1_score\n",
        "from sklearn.metrics import accuracy_score\n",
        "\n",
        "# Les fonctions de sauvegarde et chargement de modèles\n",
        "from joblib import dump, load\n",
        "\n",
        "#la visualisation\n",
        "%matplotlib inline\n",
        "import matplotlib.pyplot as plt\n",
        "import seaborn as sns"
      ],
      "metadata": {
        "id": "2HFZNoT_XVIr"
      },
      "execution_count": null,
      "outputs": []
    },
    {
      "cell_type": "markdown",
      "source": [
        "### **Cas 1 : Modélisation sans les variables qualitatives**"
      ],
      "metadata": {
        "id": "ug_oc5WWtO4Q"
      }
    },
    {
      "cell_type": "code",
      "source": [
        "# On ne conserve que les variables quantitatives pour effectuer la modélisation\n",
        "feats_quant = feats[var_num.columns]"
      ],
      "metadata": {
        "id": "BEnvTZyR9Wpx"
      },
      "execution_count": null,
      "outputs": []
    },
    {
      "cell_type": "code",
      "source": [
        "feats_quant.head()"
      ],
      "metadata": {
        "colab": {
          "base_uri": "https://localhost:8080/",
          "height": 206
        },
        "id": "Mjb7BgY96WwV",
        "outputId": "7e125b28-d620-400f-f4d6-140f5fa17524"
      },
      "execution_count": null,
      "outputs": [
        {
          "output_type": "execute_result",
          "data": {
            "text/plain": [
              "   puiss_max  conso_urb     hcnox  masse_ordma_min  rapport\n",
              "0      147.0       11.3  0.225175             1505        6\n",
              "1      125.0        6.6  0.190000             1565        6\n",
              "2      100.0        6.6  0.175000             1565        6\n",
              "4      125.0        6.9  0.193000             1565        6\n",
              "6      147.0       11.5  0.225175             1555        6"
            ],
            "text/html": [
              "\n",
              "  <div id=\"df-55c55a38-0d0c-48bc-8828-42c575ff1b1a\">\n",
              "    <div class=\"colab-df-container\">\n",
              "      <div>\n",
              "<style scoped>\n",
              "    .dataframe tbody tr th:only-of-type {\n",
              "        vertical-align: middle;\n",
              "    }\n",
              "\n",
              "    .dataframe tbody tr th {\n",
              "        vertical-align: top;\n",
              "    }\n",
              "\n",
              "    .dataframe thead th {\n",
              "        text-align: right;\n",
              "    }\n",
              "</style>\n",
              "<table border=\"1\" class=\"dataframe\">\n",
              "  <thead>\n",
              "    <tr style=\"text-align: right;\">\n",
              "      <th></th>\n",
              "      <th>puiss_max</th>\n",
              "      <th>conso_urb</th>\n",
              "      <th>hcnox</th>\n",
              "      <th>masse_ordma_min</th>\n",
              "      <th>rapport</th>\n",
              "    </tr>\n",
              "  </thead>\n",
              "  <tbody>\n",
              "    <tr>\n",
              "      <th>0</th>\n",
              "      <td>147.0</td>\n",
              "      <td>11.3</td>\n",
              "      <td>0.225175</td>\n",
              "      <td>1505</td>\n",
              "      <td>6</td>\n",
              "    </tr>\n",
              "    <tr>\n",
              "      <th>1</th>\n",
              "      <td>125.0</td>\n",
              "      <td>6.6</td>\n",
              "      <td>0.190000</td>\n",
              "      <td>1565</td>\n",
              "      <td>6</td>\n",
              "    </tr>\n",
              "    <tr>\n",
              "      <th>2</th>\n",
              "      <td>100.0</td>\n",
              "      <td>6.6</td>\n",
              "      <td>0.175000</td>\n",
              "      <td>1565</td>\n",
              "      <td>6</td>\n",
              "    </tr>\n",
              "    <tr>\n",
              "      <th>4</th>\n",
              "      <td>125.0</td>\n",
              "      <td>6.9</td>\n",
              "      <td>0.193000</td>\n",
              "      <td>1565</td>\n",
              "      <td>6</td>\n",
              "    </tr>\n",
              "    <tr>\n",
              "      <th>6</th>\n",
              "      <td>147.0</td>\n",
              "      <td>11.5</td>\n",
              "      <td>0.225175</td>\n",
              "      <td>1555</td>\n",
              "      <td>6</td>\n",
              "    </tr>\n",
              "  </tbody>\n",
              "</table>\n",
              "</div>\n",
              "      <button class=\"colab-df-convert\" onclick=\"convertToInteractive('df-55c55a38-0d0c-48bc-8828-42c575ff1b1a')\"\n",
              "              title=\"Convert this dataframe to an interactive table.\"\n",
              "              style=\"display:none;\">\n",
              "        \n",
              "  <svg xmlns=\"http://www.w3.org/2000/svg\" height=\"24px\"viewBox=\"0 0 24 24\"\n",
              "       width=\"24px\">\n",
              "    <path d=\"M0 0h24v24H0V0z\" fill=\"none\"/>\n",
              "    <path d=\"M18.56 5.44l.94 2.06.94-2.06 2.06-.94-2.06-.94-.94-2.06-.94 2.06-2.06.94zm-11 1L8.5 8.5l.94-2.06 2.06-.94-2.06-.94L8.5 2.5l-.94 2.06-2.06.94zm10 10l.94 2.06.94-2.06 2.06-.94-2.06-.94-.94-2.06-.94 2.06-2.06.94z\"/><path d=\"M17.41 7.96l-1.37-1.37c-.4-.4-.92-.59-1.43-.59-.52 0-1.04.2-1.43.59L10.3 9.45l-7.72 7.72c-.78.78-.78 2.05 0 2.83L4 21.41c.39.39.9.59 1.41.59.51 0 1.02-.2 1.41-.59l7.78-7.78 2.81-2.81c.8-.78.8-2.07 0-2.86zM5.41 20L4 18.59l7.72-7.72 1.47 1.35L5.41 20z\"/>\n",
              "  </svg>\n",
              "      </button>\n",
              "      \n",
              "  <style>\n",
              "    .colab-df-container {\n",
              "      display:flex;\n",
              "      flex-wrap:wrap;\n",
              "      gap: 12px;\n",
              "    }\n",
              "\n",
              "    .colab-df-convert {\n",
              "      background-color: #E8F0FE;\n",
              "      border: none;\n",
              "      border-radius: 50%;\n",
              "      cursor: pointer;\n",
              "      display: none;\n",
              "      fill: #1967D2;\n",
              "      height: 32px;\n",
              "      padding: 0 0 0 0;\n",
              "      width: 32px;\n",
              "    }\n",
              "\n",
              "    .colab-df-convert:hover {\n",
              "      background-color: #E2EBFA;\n",
              "      box-shadow: 0px 1px 2px rgba(60, 64, 67, 0.3), 0px 1px 3px 1px rgba(60, 64, 67, 0.15);\n",
              "      fill: #174EA6;\n",
              "    }\n",
              "\n",
              "    [theme=dark] .colab-df-convert {\n",
              "      background-color: #3B4455;\n",
              "      fill: #D2E3FC;\n",
              "    }\n",
              "\n",
              "    [theme=dark] .colab-df-convert:hover {\n",
              "      background-color: #434B5C;\n",
              "      box-shadow: 0px 1px 3px 1px rgba(0, 0, 0, 0.15);\n",
              "      filter: drop-shadow(0px 1px 2px rgba(0, 0, 0, 0.3));\n",
              "      fill: #FFFFFF;\n",
              "    }\n",
              "  </style>\n",
              "\n",
              "      <script>\n",
              "        const buttonEl =\n",
              "          document.querySelector('#df-55c55a38-0d0c-48bc-8828-42c575ff1b1a button.colab-df-convert');\n",
              "        buttonEl.style.display =\n",
              "          google.colab.kernel.accessAllowed ? 'block' : 'none';\n",
              "\n",
              "        async function convertToInteractive(key) {\n",
              "          const element = document.querySelector('#df-55c55a38-0d0c-48bc-8828-42c575ff1b1a');\n",
              "          const dataTable =\n",
              "            await google.colab.kernel.invokeFunction('convertToInteractive',\n",
              "                                                     [key], {});\n",
              "          if (!dataTable) return;\n",
              "\n",
              "          const docLinkHtml = 'Like what you see? Visit the ' +\n",
              "            '<a target=\"_blank\" href=https://colab.research.google.com/notebooks/data_table.ipynb>data table notebook</a>'\n",
              "            + ' to learn more about interactive tables.';\n",
              "          element.innerHTML = '';\n",
              "          dataTable['output_type'] = 'display_data';\n",
              "          await google.colab.output.renderOutput(dataTable, element);\n",
              "          const docLink = document.createElement('div');\n",
              "          docLink.innerHTML = docLinkHtml;\n",
              "          element.appendChild(docLink);\n",
              "        }\n",
              "      </script>\n",
              "    </div>\n",
              "  </div>\n",
              "  "
            ]
          },
          "metadata": {},
          "execution_count": 14
        }
      ]
    },
    {
      "cell_type": "code",
      "source": [
        "# Séparation en données d'entraînement et de test\n",
        "X_train, X_test, y_train, y_test = train_test_split(feats_quant, target, test_size = 0.25) # Question : Faut-il rajouter un paramètre random_state?"
      ],
      "metadata": {
        "id": "0odlD8Cm9YwJ"
      },
      "execution_count": null,
      "outputs": []
    },
    {
      "cell_type": "code",
      "source": [
        "# Les variables numériques doivent être standardisées\n",
        "from sklearn.preprocessing import StandardScaler\n",
        "scaler = StandardScaler()\n",
        "X_train = scaler.fit_transform(X_train)\n",
        "X_test = scaler.transform(X_test)"
      ],
      "metadata": {
        "id": "WCNA_bCFmX5G"
      },
      "execution_count": null,
      "outputs": []
    },
    {
      "cell_type": "markdown",
      "source": [
        "###### Classifieur SVC (sans rééchantillonnage)"
      ],
      "metadata": {
        "id": "PFmn9KHnbhpP"
      }
    },
    {
      "cell_type": "code",
      "source": [
        "# Instanciation du classifieur\n",
        "clf_svc2 = SVC(gamma = 'scale')        # Question : Comment initialiser les hyperparamètres ?\n",
        "\n",
        "clf_svc2.fit(X_train, y_train)         # Entraînement du classifieur\n",
        "\n",
        "y_pred_svc2 = clf_svc2.predict(X_test) # Prédictions du classifieur\n",
        "\n",
        "# Matrice de confusion\n",
        "pd.crosstab(y_test, y_pred_svc2, rownames = ['Classes réelles'], colnames = ['Classes prédites SVC'])"
      ],
      "metadata": {
        "id": "HMHR2ca1bkEJ",
        "colab": {
          "base_uri": "https://localhost:8080/",
          "height": 300
        },
        "outputId": "7ae060fb-3d73-4071-b45a-dbdc3a0b6e6d"
      },
      "execution_count": null,
      "outputs": [
        {
          "output_type": "execute_result",
          "data": {
            "text/plain": [
              "Classes prédites SVC   A    B    C    D    E    F   G\n",
              "Classes réelles                                      \n",
              "A                     54   16    0    0    0    0   0\n",
              "B                      7  135   26    2    0    0   0\n",
              "C                      1   17  217   23    0    0   0\n",
              "D                      0    0   26  235   11    1   0\n",
              "E                      0    0    0   41  249    7   0\n",
              "F                      0    0    0    0   17  158   3\n",
              "G                      0    0    0    0    0    4  69"
            ],
            "text/html": [
              "\n",
              "  <div id=\"df-5d682ca6-36e4-4cc7-b2fa-9a6a4b8becb4\">\n",
              "    <div class=\"colab-df-container\">\n",
              "      <div>\n",
              "<style scoped>\n",
              "    .dataframe tbody tr th:only-of-type {\n",
              "        vertical-align: middle;\n",
              "    }\n",
              "\n",
              "    .dataframe tbody tr th {\n",
              "        vertical-align: top;\n",
              "    }\n",
              "\n",
              "    .dataframe thead th {\n",
              "        text-align: right;\n",
              "    }\n",
              "</style>\n",
              "<table border=\"1\" class=\"dataframe\">\n",
              "  <thead>\n",
              "    <tr style=\"text-align: right;\">\n",
              "      <th>Classes prédites SVC</th>\n",
              "      <th>A</th>\n",
              "      <th>B</th>\n",
              "      <th>C</th>\n",
              "      <th>D</th>\n",
              "      <th>E</th>\n",
              "      <th>F</th>\n",
              "      <th>G</th>\n",
              "    </tr>\n",
              "    <tr>\n",
              "      <th>Classes réelles</th>\n",
              "      <th></th>\n",
              "      <th></th>\n",
              "      <th></th>\n",
              "      <th></th>\n",
              "      <th></th>\n",
              "      <th></th>\n",
              "      <th></th>\n",
              "    </tr>\n",
              "  </thead>\n",
              "  <tbody>\n",
              "    <tr>\n",
              "      <th>A</th>\n",
              "      <td>54</td>\n",
              "      <td>16</td>\n",
              "      <td>0</td>\n",
              "      <td>0</td>\n",
              "      <td>0</td>\n",
              "      <td>0</td>\n",
              "      <td>0</td>\n",
              "    </tr>\n",
              "    <tr>\n",
              "      <th>B</th>\n",
              "      <td>7</td>\n",
              "      <td>135</td>\n",
              "      <td>26</td>\n",
              "      <td>2</td>\n",
              "      <td>0</td>\n",
              "      <td>0</td>\n",
              "      <td>0</td>\n",
              "    </tr>\n",
              "    <tr>\n",
              "      <th>C</th>\n",
              "      <td>1</td>\n",
              "      <td>17</td>\n",
              "      <td>217</td>\n",
              "      <td>23</td>\n",
              "      <td>0</td>\n",
              "      <td>0</td>\n",
              "      <td>0</td>\n",
              "    </tr>\n",
              "    <tr>\n",
              "      <th>D</th>\n",
              "      <td>0</td>\n",
              "      <td>0</td>\n",
              "      <td>26</td>\n",
              "      <td>235</td>\n",
              "      <td>11</td>\n",
              "      <td>1</td>\n",
              "      <td>0</td>\n",
              "    </tr>\n",
              "    <tr>\n",
              "      <th>E</th>\n",
              "      <td>0</td>\n",
              "      <td>0</td>\n",
              "      <td>0</td>\n",
              "      <td>41</td>\n",
              "      <td>249</td>\n",
              "      <td>7</td>\n",
              "      <td>0</td>\n",
              "    </tr>\n",
              "    <tr>\n",
              "      <th>F</th>\n",
              "      <td>0</td>\n",
              "      <td>0</td>\n",
              "      <td>0</td>\n",
              "      <td>0</td>\n",
              "      <td>17</td>\n",
              "      <td>158</td>\n",
              "      <td>3</td>\n",
              "    </tr>\n",
              "    <tr>\n",
              "      <th>G</th>\n",
              "      <td>0</td>\n",
              "      <td>0</td>\n",
              "      <td>0</td>\n",
              "      <td>0</td>\n",
              "      <td>0</td>\n",
              "      <td>4</td>\n",
              "      <td>69</td>\n",
              "    </tr>\n",
              "  </tbody>\n",
              "</table>\n",
              "</div>\n",
              "      <button class=\"colab-df-convert\" onclick=\"convertToInteractive('df-5d682ca6-36e4-4cc7-b2fa-9a6a4b8becb4')\"\n",
              "              title=\"Convert this dataframe to an interactive table.\"\n",
              "              style=\"display:none;\">\n",
              "        \n",
              "  <svg xmlns=\"http://www.w3.org/2000/svg\" height=\"24px\"viewBox=\"0 0 24 24\"\n",
              "       width=\"24px\">\n",
              "    <path d=\"M0 0h24v24H0V0z\" fill=\"none\"/>\n",
              "    <path d=\"M18.56 5.44l.94 2.06.94-2.06 2.06-.94-2.06-.94-.94-2.06-.94 2.06-2.06.94zm-11 1L8.5 8.5l.94-2.06 2.06-.94-2.06-.94L8.5 2.5l-.94 2.06-2.06.94zm10 10l.94 2.06.94-2.06 2.06-.94-2.06-.94-.94-2.06-.94 2.06-2.06.94z\"/><path d=\"M17.41 7.96l-1.37-1.37c-.4-.4-.92-.59-1.43-.59-.52 0-1.04.2-1.43.59L10.3 9.45l-7.72 7.72c-.78.78-.78 2.05 0 2.83L4 21.41c.39.39.9.59 1.41.59.51 0 1.02-.2 1.41-.59l7.78-7.78 2.81-2.81c.8-.78.8-2.07 0-2.86zM5.41 20L4 18.59l7.72-7.72 1.47 1.35L5.41 20z\"/>\n",
              "  </svg>\n",
              "      </button>\n",
              "      \n",
              "  <style>\n",
              "    .colab-df-container {\n",
              "      display:flex;\n",
              "      flex-wrap:wrap;\n",
              "      gap: 12px;\n",
              "    }\n",
              "\n",
              "    .colab-df-convert {\n",
              "      background-color: #E8F0FE;\n",
              "      border: none;\n",
              "      border-radius: 50%;\n",
              "      cursor: pointer;\n",
              "      display: none;\n",
              "      fill: #1967D2;\n",
              "      height: 32px;\n",
              "      padding: 0 0 0 0;\n",
              "      width: 32px;\n",
              "    }\n",
              "\n",
              "    .colab-df-convert:hover {\n",
              "      background-color: #E2EBFA;\n",
              "      box-shadow: 0px 1px 2px rgba(60, 64, 67, 0.3), 0px 1px 3px 1px rgba(60, 64, 67, 0.15);\n",
              "      fill: #174EA6;\n",
              "    }\n",
              "\n",
              "    [theme=dark] .colab-df-convert {\n",
              "      background-color: #3B4455;\n",
              "      fill: #D2E3FC;\n",
              "    }\n",
              "\n",
              "    [theme=dark] .colab-df-convert:hover {\n",
              "      background-color: #434B5C;\n",
              "      box-shadow: 0px 1px 3px 1px rgba(0, 0, 0, 0.15);\n",
              "      filter: drop-shadow(0px 1px 2px rgba(0, 0, 0, 0.3));\n",
              "      fill: #FFFFFF;\n",
              "    }\n",
              "  </style>\n",
              "\n",
              "      <script>\n",
              "        const buttonEl =\n",
              "          document.querySelector('#df-5d682ca6-36e4-4cc7-b2fa-9a6a4b8becb4 button.colab-df-convert');\n",
              "        buttonEl.style.display =\n",
              "          google.colab.kernel.accessAllowed ? 'block' : 'none';\n",
              "\n",
              "        async function convertToInteractive(key) {\n",
              "          const element = document.querySelector('#df-5d682ca6-36e4-4cc7-b2fa-9a6a4b8becb4');\n",
              "          const dataTable =\n",
              "            await google.colab.kernel.invokeFunction('convertToInteractive',\n",
              "                                                     [key], {});\n",
              "          if (!dataTable) return;\n",
              "\n",
              "          const docLinkHtml = 'Like what you see? Visit the ' +\n",
              "            '<a target=\"_blank\" href=https://colab.research.google.com/notebooks/data_table.ipynb>data table notebook</a>'\n",
              "            + ' to learn more about interactive tables.';\n",
              "          element.innerHTML = '';\n",
              "          dataTable['output_type'] = 'display_data';\n",
              "          await google.colab.output.renderOutput(dataTable, element);\n",
              "          const docLink = document.createElement('div');\n",
              "          docLink.innerHTML = docLinkHtml;\n",
              "          element.appendChild(docLink);\n",
              "        }\n",
              "      </script>\n",
              "    </div>\n",
              "  </div>\n",
              "  "
            ]
          },
          "metadata": {},
          "execution_count": 17
        }
      ]
    },
    {
      "cell_type": "code",
      "source": [
        "# Accuracy de clf_svc2\n",
        "acc_svc = accuracy_score(y_test, y_pred_svc2)\n",
        "\n",
        "# Affichage des métriques\n",
        "print(\"L'accuracy de clf_svc2 est de\", acc_svc)\n",
        "\n",
        "# Enregistrement du modèle\n",
        "dump(clf_svc2, 'clf_svc2.joblib')"
      ],
      "metadata": {
        "id": "HUgQ9qr8eLpj",
        "colab": {
          "base_uri": "https://localhost:8080/"
        },
        "outputId": "6295443e-9140-4c7f-9a09-972e8b9d761f"
      },
      "execution_count": null,
      "outputs": [
        {
          "output_type": "stream",
          "name": "stdout",
          "text": [
            "L'accuracy de clf_svc2 est de 0.8468536770280516\n"
          ]
        },
        {
          "output_type": "execute_result",
          "data": {
            "text/plain": [
              "['clf_svc2.joblib']"
            ]
          },
          "metadata": {},
          "execution_count": 18
        }
      ]
    },
    {
      "cell_type": "markdown",
      "source": [
        "Choix des hyperparamètres *(**Camille**)*"
      ],
      "metadata": {
        "id": "m0scC4_4_g42"
      }
    },
    {
      "cell_type": "code",
      "source": [
        "# Création d'un dictionnaire de parametres contenant les valeurs possibles prises pour les paramètres \n",
        "#C:doit être strictement positif\n",
        "#kernel a 5 possibilités décrites, mais quand on utilise 'precomputed', cela ne fonctionne pas\n",
        "# gamma:'scale' 'auto' ou des nombres décimaux\n",
        "parametres= {\n",
        "        'C':[1,50,100,200],\n",
        "    'kernel': ['linear', 'poly', 'rbf', 'sigmoid'],\n",
        "    'gamma':[0.1, 0.5,1]\n",
        "}\n",
        "\n",
        "#on applique la fonction gridsearch au modèle SVC\n",
        "grid_svc=GridSearchCV(clf_svc2,parametres)\n",
        "\n",
        "#on entraîne grid_svc sur l'ensemble d'entraînement\n",
        "grille=grid_svc.fit(X_train, y_train)\n",
        "\n",
        "# On affiche les meilleurs paramètres de la grille \n",
        "print('les meilleurs paramètres pour le SVC sont ',grille.best_params_)"
      ],
      "metadata": {
        "id": "_pW8Qwdn_kfJ",
        "colab": {
          "base_uri": "https://localhost:8080/"
        },
        "outputId": "1bf13a40-8f22-428d-981b-9aeff6a7b03d"
      },
      "execution_count": null,
      "outputs": [
        {
          "output_type": "stream",
          "name": "stdout",
          "text": [
            "les meilleurs paramètres pour le SVC sont  {'C': 50, 'gamma': 1, 'kernel': 'rbf'}\n"
          ]
        }
      ]
    },
    {
      "cell_type": "code",
      "source": [
        "#on peut afficher toutes les combinaisons de paramètres\n",
        "print(pd.DataFrame.from_dict(grille.cv_results_).loc[:,['params', 'mean_test_score']]) "
      ],
      "metadata": {
        "colab": {
          "base_uri": "https://localhost:8080/"
        },
        "id": "G0Et2uNsEK7n",
        "outputId": "3d68f6b2-934d-4f81-8380-319109ef9337"
      },
      "execution_count": null,
      "outputs": [
        {
          "output_type": "stream",
          "name": "stdout",
          "text": [
            "                                           params  mean_test_score\n",
            "0      {'C': 1, 'gamma': 0.1, 'kernel': 'linear'}         0.818663\n",
            "1        {'C': 1, 'gamma': 0.1, 'kernel': 'poly'}         0.600909\n",
            "2         {'C': 1, 'gamma': 0.1, 'kernel': 'rbf'}         0.822203\n",
            "3     {'C': 1, 'gamma': 0.1, 'kernel': 'sigmoid'}         0.602428\n",
            "4      {'C': 1, 'gamma': 0.5, 'kernel': 'linear'}         0.818663\n",
            "5        {'C': 1, 'gamma': 0.5, 'kernel': 'poly'}         0.834598\n",
            "6         {'C': 1, 'gamma': 0.5, 'kernel': 'rbf'}         0.853062\n",
            "7     {'C': 1, 'gamma': 0.5, 'kernel': 'sigmoid'}         0.400347\n",
            "8        {'C': 1, 'gamma': 1, 'kernel': 'linear'}         0.818663\n",
            "9          {'C': 1, 'gamma': 1, 'kernel': 'poly'}         0.851542\n",
            "10          {'C': 1, 'gamma': 1, 'kernel': 'rbf'}         0.849267\n",
            "11      {'C': 1, 'gamma': 1, 'kernel': 'sigmoid'}         0.299700\n",
            "12    {'C': 50, 'gamma': 0.1, 'kernel': 'linear'}         0.819675\n",
            "13      {'C': 50, 'gamma': 0.1, 'kernel': 'poly'}         0.830298\n",
            "14       {'C': 50, 'gamma': 0.1, 'kernel': 'rbf'}         0.872032\n",
            "15   {'C': 50, 'gamma': 0.1, 'kernel': 'sigmoid'}         0.527320\n",
            "16    {'C': 50, 'gamma': 0.5, 'kernel': 'linear'}         0.819675\n",
            "17      {'C': 50, 'gamma': 0.5, 'kernel': 'poly'}         0.858626\n",
            "18       {'C': 50, 'gamma': 0.5, 'kernel': 'rbf'}         0.880629\n",
            "19   {'C': 50, 'gamma': 0.5, 'kernel': 'sigmoid'}         0.384414\n",
            "20      {'C': 50, 'gamma': 1, 'kernel': 'linear'}         0.819675\n",
            "21        {'C': 50, 'gamma': 1, 'kernel': 'poly'}         0.861155\n",
            "22         {'C': 50, 'gamma': 1, 'kernel': 'rbf'}         0.890745\n",
            "23     {'C': 50, 'gamma': 1, 'kernel': 'sigmoid'}         0.288065\n",
            "24   {'C': 100, 'gamma': 0.1, 'kernel': 'linear'}         0.819929\n",
            "25     {'C': 100, 'gamma': 0.1, 'kernel': 'poly'}         0.833587\n",
            "26      {'C': 100, 'gamma': 0.1, 'kernel': 'rbf'}         0.874814\n",
            "27  {'C': 100, 'gamma': 0.1, 'kernel': 'sigmoid'}         0.530104\n",
            "28   {'C': 100, 'gamma': 0.5, 'kernel': 'linear'}         0.819929\n",
            "29     {'C': 100, 'gamma': 0.5, 'kernel': 'poly'}         0.860650\n",
            "30      {'C': 100, 'gamma': 0.5, 'kernel': 'rbf'}         0.888216\n",
            "31  {'C': 100, 'gamma': 0.5, 'kernel': 'sigmoid'}         0.382644\n",
            "32     {'C': 100, 'gamma': 1, 'kernel': 'linear'}         0.819929\n",
            "33       {'C': 100, 'gamma': 1, 'kernel': 'poly'}         0.862421\n",
            "34        {'C': 100, 'gamma': 1, 'kernel': 'rbf'}         0.889480\n",
            "35    {'C': 100, 'gamma': 1, 'kernel': 'sigmoid'}         0.290593\n",
            "36   {'C': 200, 'gamma': 0.1, 'kernel': 'linear'}         0.819676\n",
            "37     {'C': 200, 'gamma': 0.1, 'kernel': 'poly'}         0.841174\n",
            "38      {'C': 200, 'gamma': 0.1, 'kernel': 'rbf'}         0.878354\n",
            "39  {'C': 200, 'gamma': 0.1, 'kernel': 'sigmoid'}         0.529851\n",
            "40   {'C': 200, 'gamma': 0.5, 'kernel': 'linear'}         0.819676\n",
            "41     {'C': 200, 'gamma': 0.5, 'kernel': 'poly'}         0.860650\n",
            "42      {'C': 200, 'gamma': 0.5, 'kernel': 'rbf'}         0.885687\n",
            "43  {'C': 200, 'gamma': 0.5, 'kernel': 'sigmoid'}         0.373035\n",
            "44     {'C': 200, 'gamma': 1, 'kernel': 'linear'}         0.819676\n",
            "45       {'C': 200, 'gamma': 1, 'kernel': 'poly'}         0.860902\n",
            "46        {'C': 200, 'gamma': 1, 'kernel': 'rbf'}         0.887204\n",
            "47    {'C': 200, 'gamma': 1, 'kernel': 'sigmoid'}         0.289582\n"
          ]
        }
      ]
    },
    {
      "cell_type": "markdown",
      "source": [
        "Il faut:\n",
        "-  un C élevé \n",
        "- pas de vraie règle pour le gamma\n",
        "- le sigmoid ne semble pas très bien fonctionner"
      ],
      "metadata": {
        "id": "nzAlvBDAEeBg"
      }
    },
    {
      "cell_type": "code",
      "source": [
        "#on refait les prédictions de classe avec les paramètres optimisés\n",
        "y_pred_svc_grid =grid_svc.predict(X_test) # Prédictions du classifieur\n",
        "\n",
        "# Matrice de confusion\n",
        "pd.crosstab(y_test, y_pred_svc_grid, rownames = ['Classes réelles'], colnames = ['Classes prédites SVC'])"
      ],
      "metadata": {
        "colab": {
          "base_uri": "https://localhost:8080/",
          "height": 300
        },
        "id": "VrhTNUeBE45R",
        "outputId": "1fc44522-202b-4edd-bb43-880c3f19d491"
      },
      "execution_count": null,
      "outputs": [
        {
          "output_type": "execute_result",
          "data": {
            "text/plain": [
              "Classes prédites SVC   A    B    C    D    E    F   G\n",
              "Classes réelles                                      \n",
              "A                     66    4    0    0    0    0   0\n",
              "B                      4  149   15    1    1    0   0\n",
              "C                      0   10  227   21    0    0   0\n",
              "D                      0    0   16  241   15    0   1\n",
              "E                      0    0    0   19  270    8   0\n",
              "F                      0    0    0    0    7  169   2\n",
              "G                      0    0    0    0    0    5  68"
            ],
            "text/html": [
              "\n",
              "  <div id=\"df-1570b5e9-6246-4e2a-bc51-cedda5f70a6d\">\n",
              "    <div class=\"colab-df-container\">\n",
              "      <div>\n",
              "<style scoped>\n",
              "    .dataframe tbody tr th:only-of-type {\n",
              "        vertical-align: middle;\n",
              "    }\n",
              "\n",
              "    .dataframe tbody tr th {\n",
              "        vertical-align: top;\n",
              "    }\n",
              "\n",
              "    .dataframe thead th {\n",
              "        text-align: right;\n",
              "    }\n",
              "</style>\n",
              "<table border=\"1\" class=\"dataframe\">\n",
              "  <thead>\n",
              "    <tr style=\"text-align: right;\">\n",
              "      <th>Classes prédites SVC</th>\n",
              "      <th>A</th>\n",
              "      <th>B</th>\n",
              "      <th>C</th>\n",
              "      <th>D</th>\n",
              "      <th>E</th>\n",
              "      <th>F</th>\n",
              "      <th>G</th>\n",
              "    </tr>\n",
              "    <tr>\n",
              "      <th>Classes réelles</th>\n",
              "      <th></th>\n",
              "      <th></th>\n",
              "      <th></th>\n",
              "      <th></th>\n",
              "      <th></th>\n",
              "      <th></th>\n",
              "      <th></th>\n",
              "    </tr>\n",
              "  </thead>\n",
              "  <tbody>\n",
              "    <tr>\n",
              "      <th>A</th>\n",
              "      <td>66</td>\n",
              "      <td>4</td>\n",
              "      <td>0</td>\n",
              "      <td>0</td>\n",
              "      <td>0</td>\n",
              "      <td>0</td>\n",
              "      <td>0</td>\n",
              "    </tr>\n",
              "    <tr>\n",
              "      <th>B</th>\n",
              "      <td>4</td>\n",
              "      <td>149</td>\n",
              "      <td>15</td>\n",
              "      <td>1</td>\n",
              "      <td>1</td>\n",
              "      <td>0</td>\n",
              "      <td>0</td>\n",
              "    </tr>\n",
              "    <tr>\n",
              "      <th>C</th>\n",
              "      <td>0</td>\n",
              "      <td>10</td>\n",
              "      <td>227</td>\n",
              "      <td>21</td>\n",
              "      <td>0</td>\n",
              "      <td>0</td>\n",
              "      <td>0</td>\n",
              "    </tr>\n",
              "    <tr>\n",
              "      <th>D</th>\n",
              "      <td>0</td>\n",
              "      <td>0</td>\n",
              "      <td>16</td>\n",
              "      <td>241</td>\n",
              "      <td>15</td>\n",
              "      <td>0</td>\n",
              "      <td>1</td>\n",
              "    </tr>\n",
              "    <tr>\n",
              "      <th>E</th>\n",
              "      <td>0</td>\n",
              "      <td>0</td>\n",
              "      <td>0</td>\n",
              "      <td>19</td>\n",
              "      <td>270</td>\n",
              "      <td>8</td>\n",
              "      <td>0</td>\n",
              "    </tr>\n",
              "    <tr>\n",
              "      <th>F</th>\n",
              "      <td>0</td>\n",
              "      <td>0</td>\n",
              "      <td>0</td>\n",
              "      <td>0</td>\n",
              "      <td>7</td>\n",
              "      <td>169</td>\n",
              "      <td>2</td>\n",
              "    </tr>\n",
              "    <tr>\n",
              "      <th>G</th>\n",
              "      <td>0</td>\n",
              "      <td>0</td>\n",
              "      <td>0</td>\n",
              "      <td>0</td>\n",
              "      <td>0</td>\n",
              "      <td>5</td>\n",
              "      <td>68</td>\n",
              "    </tr>\n",
              "  </tbody>\n",
              "</table>\n",
              "</div>\n",
              "      <button class=\"colab-df-convert\" onclick=\"convertToInteractive('df-1570b5e9-6246-4e2a-bc51-cedda5f70a6d')\"\n",
              "              title=\"Convert this dataframe to an interactive table.\"\n",
              "              style=\"display:none;\">\n",
              "        \n",
              "  <svg xmlns=\"http://www.w3.org/2000/svg\" height=\"24px\"viewBox=\"0 0 24 24\"\n",
              "       width=\"24px\">\n",
              "    <path d=\"M0 0h24v24H0V0z\" fill=\"none\"/>\n",
              "    <path d=\"M18.56 5.44l.94 2.06.94-2.06 2.06-.94-2.06-.94-.94-2.06-.94 2.06-2.06.94zm-11 1L8.5 8.5l.94-2.06 2.06-.94-2.06-.94L8.5 2.5l-.94 2.06-2.06.94zm10 10l.94 2.06.94-2.06 2.06-.94-2.06-.94-.94-2.06-.94 2.06-2.06.94z\"/><path d=\"M17.41 7.96l-1.37-1.37c-.4-.4-.92-.59-1.43-.59-.52 0-1.04.2-1.43.59L10.3 9.45l-7.72 7.72c-.78.78-.78 2.05 0 2.83L4 21.41c.39.39.9.59 1.41.59.51 0 1.02-.2 1.41-.59l7.78-7.78 2.81-2.81c.8-.78.8-2.07 0-2.86zM5.41 20L4 18.59l7.72-7.72 1.47 1.35L5.41 20z\"/>\n",
              "  </svg>\n",
              "      </button>\n",
              "      \n",
              "  <style>\n",
              "    .colab-df-container {\n",
              "      display:flex;\n",
              "      flex-wrap:wrap;\n",
              "      gap: 12px;\n",
              "    }\n",
              "\n",
              "    .colab-df-convert {\n",
              "      background-color: #E8F0FE;\n",
              "      border: none;\n",
              "      border-radius: 50%;\n",
              "      cursor: pointer;\n",
              "      display: none;\n",
              "      fill: #1967D2;\n",
              "      height: 32px;\n",
              "      padding: 0 0 0 0;\n",
              "      width: 32px;\n",
              "    }\n",
              "\n",
              "    .colab-df-convert:hover {\n",
              "      background-color: #E2EBFA;\n",
              "      box-shadow: 0px 1px 2px rgba(60, 64, 67, 0.3), 0px 1px 3px 1px rgba(60, 64, 67, 0.15);\n",
              "      fill: #174EA6;\n",
              "    }\n",
              "\n",
              "    [theme=dark] .colab-df-convert {\n",
              "      background-color: #3B4455;\n",
              "      fill: #D2E3FC;\n",
              "    }\n",
              "\n",
              "    [theme=dark] .colab-df-convert:hover {\n",
              "      background-color: #434B5C;\n",
              "      box-shadow: 0px 1px 3px 1px rgba(0, 0, 0, 0.15);\n",
              "      filter: drop-shadow(0px 1px 2px rgba(0, 0, 0, 0.3));\n",
              "      fill: #FFFFFF;\n",
              "    }\n",
              "  </style>\n",
              "\n",
              "      <script>\n",
              "        const buttonEl =\n",
              "          document.querySelector('#df-1570b5e9-6246-4e2a-bc51-cedda5f70a6d button.colab-df-convert');\n",
              "        buttonEl.style.display =\n",
              "          google.colab.kernel.accessAllowed ? 'block' : 'none';\n",
              "\n",
              "        async function convertToInteractive(key) {\n",
              "          const element = document.querySelector('#df-1570b5e9-6246-4e2a-bc51-cedda5f70a6d');\n",
              "          const dataTable =\n",
              "            await google.colab.kernel.invokeFunction('convertToInteractive',\n",
              "                                                     [key], {});\n",
              "          if (!dataTable) return;\n",
              "\n",
              "          const docLinkHtml = 'Like what you see? Visit the ' +\n",
              "            '<a target=\"_blank\" href=https://colab.research.google.com/notebooks/data_table.ipynb>data table notebook</a>'\n",
              "            + ' to learn more about interactive tables.';\n",
              "          element.innerHTML = '';\n",
              "          dataTable['output_type'] = 'display_data';\n",
              "          await google.colab.output.renderOutput(dataTable, element);\n",
              "          const docLink = document.createElement('div');\n",
              "          docLink.innerHTML = docLinkHtml;\n",
              "          element.appendChild(docLink);\n",
              "        }\n",
              "      </script>\n",
              "    </div>\n",
              "  </div>\n",
              "  "
            ]
          },
          "metadata": {},
          "execution_count": 21
        }
      ]
    },
    {
      "cell_type": "code",
      "source": [
        "# Accuracy de clf_svc2 optimisé\n",
        "acc_svc_grid = accuracy_score(y_test, y_pred_svc_grid)\n",
        "\n",
        "# Affichage des métriques\n",
        "print(\"L'accuracy de clf_svc2 est de\", acc_svc_grid)\n",
        "\n",
        "# Enregistrement du modèle\n",
        "dump(grid_svc, 'clf_svc_grid.joblib')"
      ],
      "metadata": {
        "colab": {
          "base_uri": "https://localhost:8080/"
        },
        "id": "upg-WMhPD9_X",
        "outputId": "8159b1d0-51e1-4774-a6d1-831994f1c318"
      },
      "execution_count": null,
      "outputs": [
        {
          "output_type": "stream",
          "name": "stdout",
          "text": [
            "L'accuracy de clf_svc2 est de 0.9021986353297953\n"
          ]
        },
        {
          "output_type": "execute_result",
          "data": {
            "text/plain": [
              "['clf_svc_grid.joblib']"
            ]
          },
          "metadata": {},
          "execution_count": 22
        }
      ]
    },
    {
      "cell_type": "markdown",
      "source": [
        "###### Classifieur KNN (sans rééchantillonnage)"
      ],
      "metadata": {
        "id": "rHeuQ-aKcIyi"
      }
    },
    {
      "cell_type": "code",
      "source": [
        "# Instanciation du classifieur\n",
        "clf_knn2 = KNeighborsClassifier()       # A définir : sélection des hyperparamètres\n",
        "\n",
        "clf_knn2.fit(X_train, y_train)          # Entraînement du classifieur\n",
        "\n",
        "y_pred_knn2 = clf_knn2.predict(X_test)  # Prédictions du classifieur\n",
        "\n",
        "# Matrice de confusion\n",
        "pd.crosstab(y_test, y_pred_knn2, rownames = ['Classes réelles'], colnames = ['Classes prédites KNN'])\n"
      ],
      "metadata": {
        "id": "fyu7GFrYcLYb",
        "colab": {
          "base_uri": "https://localhost:8080/",
          "height": 300
        },
        "outputId": "c805a2d3-ccbc-4968-a5ad-5200080e373d"
      },
      "execution_count": null,
      "outputs": [
        {
          "output_type": "execute_result",
          "data": {
            "text/plain": [
              "Classes prédites KNN   A    B    C    D    E    F   G\n",
              "Classes réelles                                      \n",
              "A                     55   15    0    0    0    0   0\n",
              "B                      6  138   24    1    1    0   0\n",
              "C                      0   19  212   27    0    0   0\n",
              "D                      0    2   27  232   12    0   0\n",
              "E                      0    0    0   30  255   12   0\n",
              "F                      0    0    0    0   13  162   3\n",
              "G                      0    0    0    0    0    6  67"
            ],
            "text/html": [
              "\n",
              "  <div id=\"df-53e8b3db-8b9d-4952-9d7c-719447255f80\">\n",
              "    <div class=\"colab-df-container\">\n",
              "      <div>\n",
              "<style scoped>\n",
              "    .dataframe tbody tr th:only-of-type {\n",
              "        vertical-align: middle;\n",
              "    }\n",
              "\n",
              "    .dataframe tbody tr th {\n",
              "        vertical-align: top;\n",
              "    }\n",
              "\n",
              "    .dataframe thead th {\n",
              "        text-align: right;\n",
              "    }\n",
              "</style>\n",
              "<table border=\"1\" class=\"dataframe\">\n",
              "  <thead>\n",
              "    <tr style=\"text-align: right;\">\n",
              "      <th>Classes prédites KNN</th>\n",
              "      <th>A</th>\n",
              "      <th>B</th>\n",
              "      <th>C</th>\n",
              "      <th>D</th>\n",
              "      <th>E</th>\n",
              "      <th>F</th>\n",
              "      <th>G</th>\n",
              "    </tr>\n",
              "    <tr>\n",
              "      <th>Classes réelles</th>\n",
              "      <th></th>\n",
              "      <th></th>\n",
              "      <th></th>\n",
              "      <th></th>\n",
              "      <th></th>\n",
              "      <th></th>\n",
              "      <th></th>\n",
              "    </tr>\n",
              "  </thead>\n",
              "  <tbody>\n",
              "    <tr>\n",
              "      <th>A</th>\n",
              "      <td>55</td>\n",
              "      <td>15</td>\n",
              "      <td>0</td>\n",
              "      <td>0</td>\n",
              "      <td>0</td>\n",
              "      <td>0</td>\n",
              "      <td>0</td>\n",
              "    </tr>\n",
              "    <tr>\n",
              "      <th>B</th>\n",
              "      <td>6</td>\n",
              "      <td>138</td>\n",
              "      <td>24</td>\n",
              "      <td>1</td>\n",
              "      <td>1</td>\n",
              "      <td>0</td>\n",
              "      <td>0</td>\n",
              "    </tr>\n",
              "    <tr>\n",
              "      <th>C</th>\n",
              "      <td>0</td>\n",
              "      <td>19</td>\n",
              "      <td>212</td>\n",
              "      <td>27</td>\n",
              "      <td>0</td>\n",
              "      <td>0</td>\n",
              "      <td>0</td>\n",
              "    </tr>\n",
              "    <tr>\n",
              "      <th>D</th>\n",
              "      <td>0</td>\n",
              "      <td>2</td>\n",
              "      <td>27</td>\n",
              "      <td>232</td>\n",
              "      <td>12</td>\n",
              "      <td>0</td>\n",
              "      <td>0</td>\n",
              "    </tr>\n",
              "    <tr>\n",
              "      <th>E</th>\n",
              "      <td>0</td>\n",
              "      <td>0</td>\n",
              "      <td>0</td>\n",
              "      <td>30</td>\n",
              "      <td>255</td>\n",
              "      <td>12</td>\n",
              "      <td>0</td>\n",
              "    </tr>\n",
              "    <tr>\n",
              "      <th>F</th>\n",
              "      <td>0</td>\n",
              "      <td>0</td>\n",
              "      <td>0</td>\n",
              "      <td>0</td>\n",
              "      <td>13</td>\n",
              "      <td>162</td>\n",
              "      <td>3</td>\n",
              "    </tr>\n",
              "    <tr>\n",
              "      <th>G</th>\n",
              "      <td>0</td>\n",
              "      <td>0</td>\n",
              "      <td>0</td>\n",
              "      <td>0</td>\n",
              "      <td>0</td>\n",
              "      <td>6</td>\n",
              "      <td>67</td>\n",
              "    </tr>\n",
              "  </tbody>\n",
              "</table>\n",
              "</div>\n",
              "      <button class=\"colab-df-convert\" onclick=\"convertToInteractive('df-53e8b3db-8b9d-4952-9d7c-719447255f80')\"\n",
              "              title=\"Convert this dataframe to an interactive table.\"\n",
              "              style=\"display:none;\">\n",
              "        \n",
              "  <svg xmlns=\"http://www.w3.org/2000/svg\" height=\"24px\"viewBox=\"0 0 24 24\"\n",
              "       width=\"24px\">\n",
              "    <path d=\"M0 0h24v24H0V0z\" fill=\"none\"/>\n",
              "    <path d=\"M18.56 5.44l.94 2.06.94-2.06 2.06-.94-2.06-.94-.94-2.06-.94 2.06-2.06.94zm-11 1L8.5 8.5l.94-2.06 2.06-.94-2.06-.94L8.5 2.5l-.94 2.06-2.06.94zm10 10l.94 2.06.94-2.06 2.06-.94-2.06-.94-.94-2.06-.94 2.06-2.06.94z\"/><path d=\"M17.41 7.96l-1.37-1.37c-.4-.4-.92-.59-1.43-.59-.52 0-1.04.2-1.43.59L10.3 9.45l-7.72 7.72c-.78.78-.78 2.05 0 2.83L4 21.41c.39.39.9.59 1.41.59.51 0 1.02-.2 1.41-.59l7.78-7.78 2.81-2.81c.8-.78.8-2.07 0-2.86zM5.41 20L4 18.59l7.72-7.72 1.47 1.35L5.41 20z\"/>\n",
              "  </svg>\n",
              "      </button>\n",
              "      \n",
              "  <style>\n",
              "    .colab-df-container {\n",
              "      display:flex;\n",
              "      flex-wrap:wrap;\n",
              "      gap: 12px;\n",
              "    }\n",
              "\n",
              "    .colab-df-convert {\n",
              "      background-color: #E8F0FE;\n",
              "      border: none;\n",
              "      border-radius: 50%;\n",
              "      cursor: pointer;\n",
              "      display: none;\n",
              "      fill: #1967D2;\n",
              "      height: 32px;\n",
              "      padding: 0 0 0 0;\n",
              "      width: 32px;\n",
              "    }\n",
              "\n",
              "    .colab-df-convert:hover {\n",
              "      background-color: #E2EBFA;\n",
              "      box-shadow: 0px 1px 2px rgba(60, 64, 67, 0.3), 0px 1px 3px 1px rgba(60, 64, 67, 0.15);\n",
              "      fill: #174EA6;\n",
              "    }\n",
              "\n",
              "    [theme=dark] .colab-df-convert {\n",
              "      background-color: #3B4455;\n",
              "      fill: #D2E3FC;\n",
              "    }\n",
              "\n",
              "    [theme=dark] .colab-df-convert:hover {\n",
              "      background-color: #434B5C;\n",
              "      box-shadow: 0px 1px 3px 1px rgba(0, 0, 0, 0.15);\n",
              "      filter: drop-shadow(0px 1px 2px rgba(0, 0, 0, 0.3));\n",
              "      fill: #FFFFFF;\n",
              "    }\n",
              "  </style>\n",
              "\n",
              "      <script>\n",
              "        const buttonEl =\n",
              "          document.querySelector('#df-53e8b3db-8b9d-4952-9d7c-719447255f80 button.colab-df-convert');\n",
              "        buttonEl.style.display =\n",
              "          google.colab.kernel.accessAllowed ? 'block' : 'none';\n",
              "\n",
              "        async function convertToInteractive(key) {\n",
              "          const element = document.querySelector('#df-53e8b3db-8b9d-4952-9d7c-719447255f80');\n",
              "          const dataTable =\n",
              "            await google.colab.kernel.invokeFunction('convertToInteractive',\n",
              "                                                     [key], {});\n",
              "          if (!dataTable) return;\n",
              "\n",
              "          const docLinkHtml = 'Like what you see? Visit the ' +\n",
              "            '<a target=\"_blank\" href=https://colab.research.google.com/notebooks/data_table.ipynb>data table notebook</a>'\n",
              "            + ' to learn more about interactive tables.';\n",
              "          element.innerHTML = '';\n",
              "          dataTable['output_type'] = 'display_data';\n",
              "          await google.colab.output.renderOutput(dataTable, element);\n",
              "          const docLink = document.createElement('div');\n",
              "          docLink.innerHTML = docLinkHtml;\n",
              "          element.appendChild(docLink);\n",
              "        }\n",
              "      </script>\n",
              "    </div>\n",
              "  </div>\n",
              "  "
            ]
          },
          "metadata": {},
          "execution_count": 23
        }
      ]
    },
    {
      "cell_type": "code",
      "source": [
        "# Accuracy de clf_knn2\n",
        "acc_knn = accuracy_score(y_test, y_pred_knn2)\n",
        "\n",
        "# Affichage des métriques\n",
        "print(\"L'accuracy de clf_knn2 est de\", acc_knn)\n",
        "\n",
        "# Enregistrement du modèle\n",
        "dump(clf_knn2, 'clf_knn2.joblib')"
      ],
      "metadata": {
        "id": "8yea-XogeQPY",
        "colab": {
          "base_uri": "https://localhost:8080/"
        },
        "outputId": "5428dd52-e9ac-4a38-cbfe-3ff5086a8ef8"
      },
      "execution_count": null,
      "outputs": [
        {
          "output_type": "stream",
          "name": "stdout",
          "text": [
            "L'accuracy de clf_knn2 est de 0.8498862774829417\n"
          ]
        },
        {
          "output_type": "execute_result",
          "data": {
            "text/plain": [
              "['clf_knn2.joblib']"
            ]
          },
          "metadata": {},
          "execution_count": 24
        }
      ]
    },
    {
      "cell_type": "markdown",
      "source": [
        "Choix des hyperparamètres *(**Camille**)*"
      ],
      "metadata": {
        "id": "Zd8rr6VkI8Aw"
      }
    },
    {
      "cell_type": "markdown",
      "source": [
        "Quels sont les hyperparamètres sur lesquels on peut jouer? comment les calibrer?\n",
        "On regarde :\n",
        "- n_neighbors\n",
        "- leaf_size\n",
        "- p\n",
        "- metric\n",
        "afin de déterminer sur quelle etendue on peut faire jouer les hyper paramètres"
      ],
      "metadata": {
        "id": "xhNhxStQRRQR"
      }
    },
    {
      "cell_type": "markdown",
      "source": [
        "1- On commence par n_neighnors (*Rajouter des définitions des hyperparamètres)"
      ],
      "metadata": {
        "id": "LdqugWh3RWih"
      }
    },
    {
      "cell_type": "code",
      "source": [
        "#on détermine les paramètres\n",
        "parameters = {'n_neighbors': list(range(1,30))}\n",
        "\n",
        "#on applique la fonction gridsearch au modèle knn\n",
        "grid_knn=GridSearchCV(clf_knn2,parameters)\n",
        "\n",
        "#on entraîne grid_knn sur l'ensemble d'entraînement\n",
        "grille_knn =grid_knn.fit(X_train, y_train)\n",
        "\n",
        "#on peut afficher toutes les combinaisons de paramètres\n",
        "res=grille_knn.cv_results_\n",
        "test_score = res['mean_test_score']\n",
        "plt.plot(range(1,30),test_score)\n",
        "plt.title('Accuracy selon le nombre de plus proches voisins');"
      ],
      "metadata": {
        "colab": {
          "base_uri": "https://localhost:8080/",
          "height": 281
        },
        "id": "VsE0rjrPOCJK",
        "outputId": "0a018329-64cf-4a31-d2f0-e72941f1a1f0"
      },
      "execution_count": null,
      "outputs": [
        {
          "output_type": "display_data",
          "data": {
            "text/plain": [
              "<Figure size 432x288 with 1 Axes>"
            ],
            "image/png": "[encoded data removed]"
          },
          "metadata": {
            "needs_background": "light"
          }
        }
      ]
    },
    {
      "cell_type": "markdown",
      "source": [
        "2 - Ensuite leaf_size"
      ],
      "metadata": {
        "id": "W6pf1qgDR4B7"
      }
    },
    {
      "cell_type": "code",
      "source": [
        "#on détermine les paramètres\n",
        "parameters = {'leaf_size': list(range(1,50))}\n",
        "\n",
        "#on applique la fonction gridsearch au modèle knn\n",
        "grid_knn=GridSearchCV(clf_knn2,parameters)\n",
        "\n",
        "#on entraîne grid_svc sur l'ensemble d'entraînement\n",
        "grille_knn=grid_knn.fit(X_train, y_train)\n",
        "\n",
        "#on peut afficher toutes les combinaisons de paramètres\n",
        "res=grille_knn.cv_results_\n",
        "test_score = res['mean_test_score']\n",
        "plt.plot(range(1,50),test_score)\n",
        "plt.title('Accuracy selon leaf_size');"
      ],
      "metadata": {
        "colab": {
          "base_uri": "https://localhost:8080/",
          "height": 281
        },
        "id": "sUoU4kyMR3Pb",
        "outputId": "f839b12b-2120-445e-90fc-3230c1c2d2f1"
      },
      "execution_count": null,
      "outputs": [
        {
          "output_type": "display_data",
          "data": {
            "text/plain": [
              "<Figure size 432x288 with 1 Axes>"
            ],
            "image/png": "[encoded data removed]"
          },
          "metadata": {
            "needs_background": "light"
          }
        }
      ]
    },
    {
      "cell_type": "markdown",
      "source": [
        "très peu d'impact.\n",
        "\n",
        "3- enfin le p"
      ],
      "metadata": {
        "id": "e6677MY9UtIq"
      }
    },
    {
      "cell_type": "code",
      "source": [
        "#on détermine les paramètres\n",
        "parameters = {'p': [1,2]}\n",
        "\n",
        "#on applique la fonction gridsearch au modèle knn\n",
        "grid_knn=GridSearchCV(clf_knn2,parameters)\n",
        "\n",
        "#on entraîne grid_svc sur l'ensemble d'entraînement\n",
        "grille_knn=grid_knn.fit(X_train, y_train)\n",
        "\n",
        "#on peut afficher toutes les combinaisons de paramètres\n",
        "res=grille_knn.cv_results_\n",
        "test_score = res['mean_test_score']\n",
        "plt.plot(range(1,3),test_score)\n",
        "plt.title('Accuracy selon p');"
      ],
      "metadata": {
        "colab": {
          "base_uri": "https://localhost:8080/",
          "height": 281
        },
        "id": "OWQU8PMyTTO6",
        "outputId": "f7d2de64-653e-4f62-e640-10240da59324"
      },
      "execution_count": null,
      "outputs": [
        {
          "output_type": "display_data",
          "data": {
            "text/plain": [
              "<Figure size 432x288 with 1 Axes>"
            ],
            "image/png": "[encoded data removed]"
          },
          "metadata": {
            "needs_background": "light"
          }
        }
      ]
    },
    {
      "cell_type": "markdown",
      "source": [
        "Maintenant qu'on a une idée de l''étendue des hyperparamètres, on peut faire le gridsearch sur tous les hyperparamètres"
      ],
      "metadata": {
        "id": "_53QalXvVNMk"
      }
    },
    {
      "cell_type": "code",
      "source": [
        "# Création d'un dictionnaire de parametres contenant les valeurs possibles prises pour les paramètres \n",
        "#C:doit être strictement positif\n",
        "#kernel a 5 possibilités décrites, mais quand on utilise 'precomputed', cela ne fonctionne pas\n",
        "# gamma:'scale' 'auto' ou des nombres décimaux\n",
        "parametres_knn= {\n",
        "    'leaf_size':list(range(1,5)),\n",
        "    'n_neighbors': list(range(1,10)),\n",
        "    'p':[1,2],\n",
        "    'metric': ['minkowski','manhattan','chebyshev']\n",
        "}\n",
        "\n",
        "#on applique la fonction gridsearch au modèle knn\n",
        "grid_knn=GridSearchCV(clf_knn2,parametres_knn)\n",
        "\n",
        "#on entraîne grid_knn sur l'ensemble d'entraînement\n",
        "grille_knn=grid_knn.fit(X_train, y_train)"
      ],
      "metadata": {
        "id": "NbDGQAebVDzi"
      },
      "execution_count": null,
      "outputs": []
    },
    {
      "cell_type": "code",
      "source": [
        "# On affiche les meilleurs paramètres de la grille \n",
        "print('les meilleurs paramètres pour le KNN sont ',grille_knn.best_params_)"
      ],
      "metadata": {
        "colab": {
          "base_uri": "https://localhost:8080/"
        },
        "id": "I4d1kLBiRyXx",
        "outputId": "3eb08d53-8f13-4d53-b19e-a8b5c774456f"
      },
      "execution_count": null,
      "outputs": [
        {
          "output_type": "stream",
          "name": "stdout",
          "text": [
            "les meilleurs paramètres pour le KNN sont  {'leaf_size': 4, 'metric': 'minkowski', 'n_neighbors': 1, 'p': 1}\n"
          ]
        }
      ]
    },
    {
      "cell_type": "code",
      "source": [
        "#on refait les prédictions de classe avec les paramètres optimisés\n",
        "y_pred_knn_grid =grid_knn.predict(X_test) # Prédictions du classifieur\n",
        "\n",
        "# Matrice de confusion\n",
        "pd.crosstab(y_test, y_pred_knn_grid, rownames = ['Classes réelles'], colnames = ['Classes prédites KNN'])"
      ],
      "metadata": {
        "colab": {
          "base_uri": "https://localhost:8080/",
          "height": 300
        },
        "id": "5MDs9g6KW6oK",
        "outputId": "34fb9db5-c05e-4132-ad46-13c236d5818e"
      },
      "execution_count": null,
      "outputs": [
        {
          "output_type": "execute_result",
          "data": {
            "text/plain": [
              "Classes prédites KNN   A    B    C    D    E    F   G\n",
              "Classes réelles                                      \n",
              "A                     65    5    0    0    0    0   0\n",
              "B                      4  142   22    0    2    0   0\n",
              "C                      0   15  224   19    0    0   0\n",
              "D                      0    3   22  233   15    0   0\n",
              "E                      0    0    1   16  269   11   0\n",
              "F                      0    0    0    0   12  164   2\n",
              "G                      0    0    0    0    0    2  71"
            ],
            "text/html": [
              "\n",
              "  <div id=\"df-f869880e-8a20-45a5-b5f6-4aa150ee31ae\">\n",
              "    <div class=\"colab-df-container\">\n",
              "      <div>\n",
              "<style scoped>\n",
              "    .dataframe tbody tr th:only-of-type {\n",
              "        vertical-align: middle;\n",
              "    }\n",
              "\n",
              "    .dataframe tbody tr th {\n",
              "        vertical-align: top;\n",
              "    }\n",
              "\n",
              "    .dataframe thead th {\n",
              "        text-align: right;\n",
              "    }\n",
              "</style>\n",
              "<table border=\"1\" class=\"dataframe\">\n",
              "  <thead>\n",
              "    <tr style=\"text-align: right;\">\n",
              "      <th>Classes prédites KNN</th>\n",
              "      <th>A</th>\n",
              "      <th>B</th>\n",
              "      <th>C</th>\n",
              "      <th>D</th>\n",
              "      <th>E</th>\n",
              "      <th>F</th>\n",
              "      <th>G</th>\n",
              "    </tr>\n",
              "    <tr>\n",
              "      <th>Classes réelles</th>\n",
              "      <th></th>\n",
              "      <th></th>\n",
              "      <th></th>\n",
              "      <th></th>\n",
              "      <th></th>\n",
              "      <th></th>\n",
              "      <th></th>\n",
              "    </tr>\n",
              "  </thead>\n",
              "  <tbody>\n",
              "    <tr>\n",
              "      <th>A</th>\n",
              "      <td>65</td>\n",
              "      <td>5</td>\n",
              "      <td>0</td>\n",
              "      <td>0</td>\n",
              "      <td>0</td>\n",
              "      <td>0</td>\n",
              "      <td>0</td>\n",
              "    </tr>\n",
              "    <tr>\n",
              "      <th>B</th>\n",
              "      <td>4</td>\n",
              "      <td>142</td>\n",
              "      <td>22</td>\n",
              "      <td>0</td>\n",
              "      <td>2</td>\n",
              "      <td>0</td>\n",
              "      <td>0</td>\n",
              "    </tr>\n",
              "    <tr>\n",
              "      <th>C</th>\n",
              "      <td>0</td>\n",
              "      <td>15</td>\n",
              "      <td>224</td>\n",
              "      <td>19</td>\n",
              "      <td>0</td>\n",
              "      <td>0</td>\n",
              "      <td>0</td>\n",
              "    </tr>\n",
              "    <tr>\n",
              "      <th>D</th>\n",
              "      <td>0</td>\n",
              "      <td>3</td>\n",
              "      <td>22</td>\n",
              "      <td>233</td>\n",
              "      <td>15</td>\n",
              "      <td>0</td>\n",
              "      <td>0</td>\n",
              "    </tr>\n",
              "    <tr>\n",
              "      <th>E</th>\n",
              "      <td>0</td>\n",
              "      <td>0</td>\n",
              "      <td>1</td>\n",
              "      <td>16</td>\n",
              "      <td>269</td>\n",
              "      <td>11</td>\n",
              "      <td>0</td>\n",
              "    </tr>\n",
              "    <tr>\n",
              "      <th>F</th>\n",
              "      <td>0</td>\n",
              "      <td>0</td>\n",
              "      <td>0</td>\n",
              "      <td>0</td>\n",
              "      <td>12</td>\n",
              "      <td>164</td>\n",
              "      <td>2</td>\n",
              "    </tr>\n",
              "    <tr>\n",
              "      <th>G</th>\n",
              "      <td>0</td>\n",
              "      <td>0</td>\n",
              "      <td>0</td>\n",
              "      <td>0</td>\n",
              "      <td>0</td>\n",
              "      <td>2</td>\n",
              "      <td>71</td>\n",
              "    </tr>\n",
              "  </tbody>\n",
              "</table>\n",
              "</div>\n",
              "      <button class=\"colab-df-convert\" onclick=\"convertToInteractive('df-f869880e-8a20-45a5-b5f6-4aa150ee31ae')\"\n",
              "              title=\"Convert this dataframe to an interactive table.\"\n",
              "              style=\"display:none;\">\n",
              "        \n",
              "  <svg xmlns=\"http://www.w3.org/2000/svg\" height=\"24px\"viewBox=\"0 0 24 24\"\n",
              "       width=\"24px\">\n",
              "    <path d=\"M0 0h24v24H0V0z\" fill=\"none\"/>\n",
              "    <path d=\"M18.56 5.44l.94 2.06.94-2.06 2.06-.94-2.06-.94-.94-2.06-.94 2.06-2.06.94zm-11 1L8.5 8.5l.94-2.06 2.06-.94-2.06-.94L8.5 2.5l-.94 2.06-2.06.94zm10 10l.94 2.06.94-2.06 2.06-.94-2.06-.94-.94-2.06-.94 2.06-2.06.94z\"/><path d=\"M17.41 7.96l-1.37-1.37c-.4-.4-.92-.59-1.43-.59-.52 0-1.04.2-1.43.59L10.3 9.45l-7.72 7.72c-.78.78-.78 2.05 0 2.83L4 21.41c.39.39.9.59 1.41.59.51 0 1.02-.2 1.41-.59l7.78-7.78 2.81-2.81c.8-.78.8-2.07 0-2.86zM5.41 20L4 18.59l7.72-7.72 1.47 1.35L5.41 20z\"/>\n",
              "  </svg>\n",
              "      </button>\n",
              "      \n",
              "  <style>\n",
              "    .colab-df-container {\n",
              "      display:flex;\n",
              "      flex-wrap:wrap;\n",
              "      gap: 12px;\n",
              "    }\n",
              "\n",
              "    .colab-df-convert {\n",
              "      background-color: #E8F0FE;\n",
              "      border: none;\n",
              "      border-radius: 50%;\n",
              "      cursor: pointer;\n",
              "      display: none;\n",
              "      fill: #1967D2;\n",
              "      height: 32px;\n",
              "      padding: 0 0 0 0;\n",
              "      width: 32px;\n",
              "    }\n",
              "\n",
              "    .colab-df-convert:hover {\n",
              "      background-color: #E2EBFA;\n",
              "      box-shadow: 0px 1px 2px rgba(60, 64, 67, 0.3), 0px 1px 3px 1px rgba(60, 64, 67, 0.15);\n",
              "      fill: #174EA6;\n",
              "    }\n",
              "\n",
              "    [theme=dark] .colab-df-convert {\n",
              "      background-color: #3B4455;\n",
              "      fill: #D2E3FC;\n",
              "    }\n",
              "\n",
              "    [theme=dark] .colab-df-convert:hover {\n",
              "      background-color: #434B5C;\n",
              "      box-shadow: 0px 1px 3px 1px rgba(0, 0, 0, 0.15);\n",
              "      filter: drop-shadow(0px 1px 2px rgba(0, 0, 0, 0.3));\n",
              "      fill: #FFFFFF;\n",
              "    }\n",
              "  </style>\n",
              "\n",
              "      <script>\n",
              "        const buttonEl =\n",
              "          document.querySelector('#df-f869880e-8a20-45a5-b5f6-4aa150ee31ae button.colab-df-convert');\n",
              "        buttonEl.style.display =\n",
              "          google.colab.kernel.accessAllowed ? 'block' : 'none';\n",
              "\n",
              "        async function convertToInteractive(key) {\n",
              "          const element = document.querySelector('#df-f869880e-8a20-45a5-b5f6-4aa150ee31ae');\n",
              "          const dataTable =\n",
              "            await google.colab.kernel.invokeFunction('convertToInteractive',\n",
              "                                                     [key], {});\n",
              "          if (!dataTable) return;\n",
              "\n",
              "          const docLinkHtml = 'Like what you see? Visit the ' +\n",
              "            '<a target=\"_blank\" href=https://colab.research.google.com/notebooks/data_table.ipynb>data table notebook</a>'\n",
              "            + ' to learn more about interactive tables.';\n",
              "          element.innerHTML = '';\n",
              "          dataTable['output_type'] = 'display_data';\n",
              "          await google.colab.output.renderOutput(dataTable, element);\n",
              "          const docLink = document.createElement('div');\n",
              "          docLink.innerHTML = docLinkHtml;\n",
              "          element.appendChild(docLink);\n",
              "        }\n",
              "      </script>\n",
              "    </div>\n",
              "  </div>\n",
              "  "
            ]
          },
          "metadata": {},
          "execution_count": 30
        }
      ]
    },
    {
      "cell_type": "code",
      "source": [
        "# Accuracy de clf_knn2 optimisé\n",
        "acc_knn_grid = accuracy_score(y_test, y_pred_knn_grid)\n",
        "\n",
        "# Affichage des métriques\n",
        "print(\"L'accuracy de clf_knn2 est de\", acc_knn_grid)\n",
        "\n",
        "# Enregistrement du modèle\n",
        "dump(grid_knn, 'clf_knn_grid.joblib')"
      ],
      "metadata": {
        "colab": {
          "base_uri": "https://localhost:8080/"
        },
        "id": "ZxlD-DMeXAjb",
        "outputId": "28b43055-94d6-4c7a-9e72-1d85e89be3d6"
      },
      "execution_count": null,
      "outputs": [
        {
          "output_type": "stream",
          "name": "stdout",
          "text": [
            "L'accuracy de clf_knn2 est de 0.8855193328279\n"
          ]
        },
        {
          "output_type": "execute_result",
          "data": {
            "text/plain": [
              "['clf_knn_grid.joblib']"
            ]
          },
          "metadata": {},
          "execution_count": 31
        }
      ]
    },
    {
      "cell_type": "markdown",
      "source": [
        "###### Classifieur Random Forest (sans rééchantillonnage)"
      ],
      "metadata": {
        "id": "XOp4fOITcu8k"
      }
    },
    {
      "cell_type": "code",
      "source": [
        "# Instanciation du classifieur\n",
        "clf_rf2 = RandomForestClassifier()     # A définir : sélection des hyperparamètres\n",
        "\n",
        "clf_rf2.fit(X_train, y_train)          # Entraînement du classifieur\n",
        "\n",
        "y_pred_rf2 = clf_rf2.predict(X_test)   # Prédictions du classifieur\n",
        "\n",
        "# Matrice de confusion\n",
        "pd.crosstab(y_test, y_pred_rf2, rownames = ['Classes réelles'], colnames = ['Classes prédites RF'])"
      ],
      "metadata": {
        "id": "BriWQXtecy3s",
        "colab": {
          "base_uri": "https://localhost:8080/",
          "height": 300
        },
        "outputId": "aa47e484-74eb-4e01-9881-53991b6ffc40"
      },
      "execution_count": null,
      "outputs": [
        {
          "output_type": "execute_result",
          "data": {
            "text/plain": [
              "Classes prédites RF   A    B    C    D    E    F   G\n",
              "Classes réelles                                     \n",
              "A                    67    3    0    0    0    0   0\n",
              "B                     4  154   10    0    2    0   0\n",
              "C                     0    9  232   17    0    0   0\n",
              "D                     0    0   14  246   13    0   0\n",
              "E                     0    0    0   13  277    7   0\n",
              "F                     0    0    0    0    8  168   2\n",
              "G                     0    0    0    0    0    2  71"
            ],
            "text/html": [
              "\n",
              "  <div id=\"df-7213f005-4eba-446a-85aa-d4039bf780ac\">\n",
              "    <div class=\"colab-df-container\">\n",
              "      <div>\n",
              "<style scoped>\n",
              "    .dataframe tbody tr th:only-of-type {\n",
              "        vertical-align: middle;\n",
              "    }\n",
              "\n",
              "    .dataframe tbody tr th {\n",
              "        vertical-align: top;\n",
              "    }\n",
              "\n",
              "    .dataframe thead th {\n",
              "        text-align: right;\n",
              "    }\n",
              "</style>\n",
              "<table border=\"1\" class=\"dataframe\">\n",
              "  <thead>\n",
              "    <tr style=\"text-align: right;\">\n",
              "      <th>Classes prédites RF</th>\n",
              "      <th>A</th>\n",
              "      <th>B</th>\n",
              "      <th>C</th>\n",
              "      <th>D</th>\n",
              "      <th>E</th>\n",
              "      <th>F</th>\n",
              "      <th>G</th>\n",
              "    </tr>\n",
              "    <tr>\n",
              "      <th>Classes réelles</th>\n",
              "      <th></th>\n",
              "      <th></th>\n",
              "      <th></th>\n",
              "      <th></th>\n",
              "      <th></th>\n",
              "      <th></th>\n",
              "      <th></th>\n",
              "    </tr>\n",
              "  </thead>\n",
              "  <tbody>\n",
              "    <tr>\n",
              "      <th>A</th>\n",
              "      <td>67</td>\n",
              "      <td>3</td>\n",
              "      <td>0</td>\n",
              "      <td>0</td>\n",
              "      <td>0</td>\n",
              "      <td>0</td>\n",
              "      <td>0</td>\n",
              "    </tr>\n",
              "    <tr>\n",
              "      <th>B</th>\n",
              "      <td>4</td>\n",
              "      <td>154</td>\n",
              "      <td>10</td>\n",
              "      <td>0</td>\n",
              "      <td>2</td>\n",
              "      <td>0</td>\n",
              "      <td>0</td>\n",
              "    </tr>\n",
              "    <tr>\n",
              "      <th>C</th>\n",
              "      <td>0</td>\n",
              "      <td>9</td>\n",
              "      <td>232</td>\n",
              "      <td>17</td>\n",
              "      <td>0</td>\n",
              "      <td>0</td>\n",
              "      <td>0</td>\n",
              "    </tr>\n",
              "    <tr>\n",
              "      <th>D</th>\n",
              "      <td>0</td>\n",
              "      <td>0</td>\n",
              "      <td>14</td>\n",
              "      <td>246</td>\n",
              "      <td>13</td>\n",
              "      <td>0</td>\n",
              "      <td>0</td>\n",
              "    </tr>\n",
              "    <tr>\n",
              "      <th>E</th>\n",
              "      <td>0</td>\n",
              "      <td>0</td>\n",
              "      <td>0</td>\n",
              "      <td>13</td>\n",
              "      <td>277</td>\n",
              "      <td>7</td>\n",
              "      <td>0</td>\n",
              "    </tr>\n",
              "    <tr>\n",
              "      <th>F</th>\n",
              "      <td>0</td>\n",
              "      <td>0</td>\n",
              "      <td>0</td>\n",
              "      <td>0</td>\n",
              "      <td>8</td>\n",
              "      <td>168</td>\n",
              "      <td>2</td>\n",
              "    </tr>\n",
              "    <tr>\n",
              "      <th>G</th>\n",
              "      <td>0</td>\n",
              "      <td>0</td>\n",
              "      <td>0</td>\n",
              "      <td>0</td>\n",
              "      <td>0</td>\n",
              "      <td>2</td>\n",
              "      <td>71</td>\n",
              "    </tr>\n",
              "  </tbody>\n",
              "</table>\n",
              "</div>\n",
              "      <button class=\"colab-df-convert\" onclick=\"convertToInteractive('df-7213f005-4eba-446a-85aa-d4039bf780ac')\"\n",
              "              title=\"Convert this dataframe to an interactive table.\"\n",
              "              style=\"display:none;\">\n",
              "        \n",
              "  <svg xmlns=\"http://www.w3.org/2000/svg\" height=\"24px\"viewBox=\"0 0 24 24\"\n",
              "       width=\"24px\">\n",
              "    <path d=\"M0 0h24v24H0V0z\" fill=\"none\"/>\n",
              "    <path d=\"M18.56 5.44l.94 2.06.94-2.06 2.06-.94-2.06-.94-.94-2.06-.94 2.06-2.06.94zm-11 1L8.5 8.5l.94-2.06 2.06-.94-2.06-.94L8.5 2.5l-.94 2.06-2.06.94zm10 10l.94 2.06.94-2.06 2.06-.94-2.06-.94-.94-2.06-.94 2.06-2.06.94z\"/><path d=\"M17.41 7.96l-1.37-1.37c-.4-.4-.92-.59-1.43-.59-.52 0-1.04.2-1.43.59L10.3 9.45l-7.72 7.72c-.78.78-.78 2.05 0 2.83L4 21.41c.39.39.9.59 1.41.59.51 0 1.02-.2 1.41-.59l7.78-7.78 2.81-2.81c.8-.78.8-2.07 0-2.86zM5.41 20L4 18.59l7.72-7.72 1.47 1.35L5.41 20z\"/>\n",
              "  </svg>\n",
              "      </button>\n",
              "      \n",
              "  <style>\n",
              "    .colab-df-container {\n",
              "      display:flex;\n",
              "      flex-wrap:wrap;\n",
              "      gap: 12px;\n",
              "    }\n",
              "\n",
              "    .colab-df-convert {\n",
              "      background-color: #E8F0FE;\n",
              "      border: none;\n",
              "      border-radius: 50%;\n",
              "      cursor: pointer;\n",
              "      display: none;\n",
              "      fill: #1967D2;\n",
              "      height: 32px;\n",
              "      padding: 0 0 0 0;\n",
              "      width: 32px;\n",
              "    }\n",
              "\n",
              "    .colab-df-convert:hover {\n",
              "      background-color: #E2EBFA;\n",
              "      box-shadow: 0px 1px 2px rgba(60, 64, 67, 0.3), 0px 1px 3px 1px rgba(60, 64, 67, 0.15);\n",
              "      fill: #174EA6;\n",
              "    }\n",
              "\n",
              "    [theme=dark] .colab-df-convert {\n",
              "      background-color: #3B4455;\n",
              "      fill: #D2E3FC;\n",
              "    }\n",
              "\n",
              "    [theme=dark] .colab-df-convert:hover {\n",
              "      background-color: #434B5C;\n",
              "      box-shadow: 0px 1px 3px 1px rgba(0, 0, 0, 0.15);\n",
              "      filter: drop-shadow(0px 1px 2px rgba(0, 0, 0, 0.3));\n",
              "      fill: #FFFFFF;\n",
              "    }\n",
              "  </style>\n",
              "\n",
              "      <script>\n",
              "        const buttonEl =\n",
              "          document.querySelector('#df-7213f005-4eba-446a-85aa-d4039bf780ac button.colab-df-convert');\n",
              "        buttonEl.style.display =\n",
              "          google.colab.kernel.accessAllowed ? 'block' : 'none';\n",
              "\n",
              "        async function convertToInteractive(key) {\n",
              "          const element = document.querySelector('#df-7213f005-4eba-446a-85aa-d4039bf780ac');\n",
              "          const dataTable =\n",
              "            await google.colab.kernel.invokeFunction('convertToInteractive',\n",
              "                                                     [key], {});\n",
              "          if (!dataTable) return;\n",
              "\n",
              "          const docLinkHtml = 'Like what you see? Visit the ' +\n",
              "            '<a target=\"_blank\" href=https://colab.research.google.com/notebooks/data_table.ipynb>data table notebook</a>'\n",
              "            + ' to learn more about interactive tables.';\n",
              "          element.innerHTML = '';\n",
              "          dataTable['output_type'] = 'display_data';\n",
              "          await google.colab.output.renderOutput(dataTable, element);\n",
              "          const docLink = document.createElement('div');\n",
              "          docLink.innerHTML = docLinkHtml;\n",
              "          element.appendChild(docLink);\n",
              "        }\n",
              "      </script>\n",
              "    </div>\n",
              "  </div>\n",
              "  "
            ]
          },
          "metadata": {},
          "execution_count": 32
        }
      ]
    },
    {
      "cell_type": "code",
      "source": [
        "# Accuracy de clf_rf2\n",
        "acc_rf = accuracy_score(y_test, y_pred_rf2)\n",
        "\n",
        "# Affichage des métriques\n",
        "print(\"L'accuracy de clf_rf2 est de\", acc_rf)\n",
        "\n",
        "# Enregistrement du modèle\n",
        "dump(clf_rf2, 'clf_rf2.joblib')"
      ],
      "metadata": {
        "id": "AqbJ2vD4eSBX",
        "colab": {
          "base_uri": "https://localhost:8080/"
        },
        "outputId": "7b736b5a-fa4e-4788-92ff-fa327e555468"
      },
      "execution_count": null,
      "outputs": [
        {
          "output_type": "stream",
          "name": "stdout",
          "text": [
            "L'accuracy de clf_rf2 est de 0.9211523881728583\n"
          ]
        },
        {
          "output_type": "execute_result",
          "data": {
            "text/plain": [
              "['clf_rf2.joblib']"
            ]
          },
          "metadata": {},
          "execution_count": 33
        }
      ]
    },
    {
      "cell_type": "markdown",
      "source": [
        "Choix des hyperparamètres *(**Camille**)*"
      ],
      "metadata": {
        "id": "YvJNZDsCYN0E"
      }
    },
    {
      "cell_type": "markdown",
      "source": [
        "Les hyperparamètres sur lesquels on peut jouer sont:\n",
        "- n_estimators (entier égal au nombre d'arbres, 100 par défaut)\n",
        "- criterion : {“gini”, “entropy”, “log_loss”}, default=”gini”\n",
        "- max_depth : int, default=None\n",
        "- n_jobs : int, default=None\n",
        "\n",
        "et bien d'autres!\n"
      ],
      "metadata": {
        "id": "6jjGww1rYPWq"
      }
    },
    {
      "cell_type": "code",
      "source": [
        "# Création d'un dictionnaire de parametres contenant les valeurs possibles prises pour les paramètres \n",
        "#C:doit être strictement positif\n",
        "#kernel a 5 possibilités décrites, mais quand on utilise 'precomputed', cela ne fonctionne pas\n",
        "# gamma:'scale' 'auto' ou des nombres décimaux\n",
        "parametres_rf= {\n",
        "    'n_estimators':[200,300,400,500,600,700],\n",
        "    'criterion': ['gini', 'entropy'],\n",
        "    'max_features': ['auto', 'sqrt', 'log2'],\n",
        "    #'random_state': [i for i in range(0, 101)]\n",
        "   \n",
        "}\n",
        "\n",
        "#on applique la fonction gridsearch au modèle rf\n",
        "grid_rf=GridSearchCV(clf_rf2,param_grid=parametres_rf,cv=5)\n",
        "\n",
        "#on entraîne grid_rf sur l'ensemble d'entraînement\n",
        "grille_rf=grid_rf.fit(X_train, y_train)"
      ],
      "metadata": {
        "id": "9dGDZFuAZxdT"
      },
      "execution_count": null,
      "outputs": []
    },
    {
      "cell_type": "code",
      "source": [
        "# On affiche les meilleurs paramètres de la grille \n",
        "print('les meilleurs paramètres pour le RF sont ',grille_rf.best_params_)"
      ],
      "metadata": {
        "colab": {
          "base_uri": "https://localhost:8080/"
        },
        "id": "vTY2Y74RZ_wz",
        "outputId": "3baeb82c-70bf-43c5-f796-78ab50ef638d"
      },
      "execution_count": null,
      "outputs": [
        {
          "output_type": "stream",
          "name": "stdout",
          "text": [
            "les meilleurs paramètres pour le RF sont  {'criterion': 'gini', 'max_features': 'sqrt', 'n_estimators': 200}\n"
          ]
        }
      ]
    },
    {
      "cell_type": "markdown",
      "source": [
        "Section à revoir car il semble qu'il y ait un doublon"
      ],
      "metadata": {
        "id": "ch4E2qOzOmoc"
      }
    },
    {
      "cell_type": "code",
      "source": [
        "#on applique la fonction gridsearch au modèle rf\n",
        "# grid_rf=GridSearchCV(clf_rf2,parametres_rf)\n",
        "\n",
        "#on entraîne grid_rf sur l'ensemble d'entraînement\n",
        "# grille_rf=grid_rf.fit(X_train, y_train)"
      ],
      "metadata": {
        "id": "xUxZ3v8MaFIL"
      },
      "execution_count": null,
      "outputs": []
    },
    {
      "cell_type": "code",
      "source": [
        "#on refait les prédictions de classe avec les paramètres optimisés\n",
        "y_pred_rf_grid =grille_rf.predict(X_test) # Prédictions du classifieur\n",
        "\n",
        "# Matrice de confusion\n",
        "pd.crosstab(y_test, y_pred_rf_grid, rownames = ['Classes réelles'], colnames = ['Classes prédites RF'])"
      ],
      "metadata": {
        "id": "lhyzEnpubZTE",
        "colab": {
          "base_uri": "https://localhost:8080/",
          "height": 300
        },
        "outputId": "2b4c08bd-7c75-4364-cf79-77dd9faeacd0"
      },
      "execution_count": null,
      "outputs": [
        {
          "output_type": "execute_result",
          "data": {
            "text/plain": [
              "Classes prédites RF   A    B    C    D    E    F   G\n",
              "Classes réelles                                     \n",
              "A                    67    3    0    0    0    0   0\n",
              "B                     4  153   11    0    2    0   0\n",
              "C                     0    8  236   14    0    0   0\n",
              "D                     0    0   14  247   12    0   0\n",
              "E                     0    0    1   12  275    9   0\n",
              "F                     0    0    0    0    8  168   2\n",
              "G                     0    0    0    0    0    2  71"
            ],
            "text/html": [
              "\n",
              "  <div id=\"df-a259a05a-3a16-48ba-87bf-fce654535cc0\">\n",
              "    <div class=\"colab-df-container\">\n",
              "      <div>\n",
              "<style scoped>\n",
              "    .dataframe tbody tr th:only-of-type {\n",
              "        vertical-align: middle;\n",
              "    }\n",
              "\n",
              "    .dataframe tbody tr th {\n",
              "        vertical-align: top;\n",
              "    }\n",
              "\n",
              "    .dataframe thead th {\n",
              "        text-align: right;\n",
              "    }\n",
              "</style>\n",
              "<table border=\"1\" class=\"dataframe\">\n",
              "  <thead>\n",
              "    <tr style=\"text-align: right;\">\n",
              "      <th>Classes prédites RF</th>\n",
              "      <th>A</th>\n",
              "      <th>B</th>\n",
              "      <th>C</th>\n",
              "      <th>D</th>\n",
              "      <th>E</th>\n",
              "      <th>F</th>\n",
              "      <th>G</th>\n",
              "    </tr>\n",
              "    <tr>\n",
              "      <th>Classes réelles</th>\n",
              "      <th></th>\n",
              "      <th></th>\n",
              "      <th></th>\n",
              "      <th></th>\n",
              "      <th></th>\n",
              "      <th></th>\n",
              "      <th></th>\n",
              "    </tr>\n",
              "  </thead>\n",
              "  <tbody>\n",
              "    <tr>\n",
              "      <th>A</th>\n",
              "      <td>67</td>\n",
              "      <td>3</td>\n",
              "      <td>0</td>\n",
              "      <td>0</td>\n",
              "      <td>0</td>\n",
              "      <td>0</td>\n",
              "      <td>0</td>\n",
              "    </tr>\n",
              "    <tr>\n",
              "      <th>B</th>\n",
              "      <td>4</td>\n",
              "      <td>153</td>\n",
              "      <td>11</td>\n",
              "      <td>0</td>\n",
              "      <td>2</td>\n",
              "      <td>0</td>\n",
              "      <td>0</td>\n",
              "    </tr>\n",
              "    <tr>\n",
              "      <th>C</th>\n",
              "      <td>0</td>\n",
              "      <td>8</td>\n",
              "      <td>236</td>\n",
              "      <td>14</td>\n",
              "      <td>0</td>\n",
              "      <td>0</td>\n",
              "      <td>0</td>\n",
              "    </tr>\n",
              "    <tr>\n",
              "      <th>D</th>\n",
              "      <td>0</td>\n",
              "      <td>0</td>\n",
              "      <td>14</td>\n",
              "      <td>247</td>\n",
              "      <td>12</td>\n",
              "      <td>0</td>\n",
              "      <td>0</td>\n",
              "    </tr>\n",
              "    <tr>\n",
              "      <th>E</th>\n",
              "      <td>0</td>\n",
              "      <td>0</td>\n",
              "      <td>1</td>\n",
              "      <td>12</td>\n",
              "      <td>275</td>\n",
              "      <td>9</td>\n",
              "      <td>0</td>\n",
              "    </tr>\n",
              "    <tr>\n",
              "      <th>F</th>\n",
              "      <td>0</td>\n",
              "      <td>0</td>\n",
              "      <td>0</td>\n",
              "      <td>0</td>\n",
              "      <td>8</td>\n",
              "      <td>168</td>\n",
              "      <td>2</td>\n",
              "    </tr>\n",
              "    <tr>\n",
              "      <th>G</th>\n",
              "      <td>0</td>\n",
              "      <td>0</td>\n",
              "      <td>0</td>\n",
              "      <td>0</td>\n",
              "      <td>0</td>\n",
              "      <td>2</td>\n",
              "      <td>71</td>\n",
              "    </tr>\n",
              "  </tbody>\n",
              "</table>\n",
              "</div>\n",
              "      <button class=\"colab-df-convert\" onclick=\"convertToInteractive('df-a259a05a-3a16-48ba-87bf-fce654535cc0')\"\n",
              "              title=\"Convert this dataframe to an interactive table.\"\n",
              "              style=\"display:none;\">\n",
              "        \n",
              "  <svg xmlns=\"http://www.w3.org/2000/svg\" height=\"24px\"viewBox=\"0 0 24 24\"\n",
              "       width=\"24px\">\n",
              "    <path d=\"M0 0h24v24H0V0z\" fill=\"none\"/>\n",
              "    <path d=\"M18.56 5.44l.94 2.06.94-2.06 2.06-.94-2.06-.94-.94-2.06-.94 2.06-2.06.94zm-11 1L8.5 8.5l.94-2.06 2.06-.94-2.06-.94L8.5 2.5l-.94 2.06-2.06.94zm10 10l.94 2.06.94-2.06 2.06-.94-2.06-.94-.94-2.06-.94 2.06-2.06.94z\"/><path d=\"M17.41 7.96l-1.37-1.37c-.4-.4-.92-.59-1.43-.59-.52 0-1.04.2-1.43.59L10.3 9.45l-7.72 7.72c-.78.78-.78 2.05 0 2.83L4 21.41c.39.39.9.59 1.41.59.51 0 1.02-.2 1.41-.59l7.78-7.78 2.81-2.81c.8-.78.8-2.07 0-2.86zM5.41 20L4 18.59l7.72-7.72 1.47 1.35L5.41 20z\"/>\n",
              "  </svg>\n",
              "      </button>\n",
              "      \n",
              "  <style>\n",
              "    .colab-df-container {\n",
              "      display:flex;\n",
              "      flex-wrap:wrap;\n",
              "      gap: 12px;\n",
              "    }\n",
              "\n",
              "    .colab-df-convert {\n",
              "      background-color: #E8F0FE;\n",
              "      border: none;\n",
              "      border-radius: 50%;\n",
              "      cursor: pointer;\n",
              "      display: none;\n",
              "      fill: #1967D2;\n",
              "      height: 32px;\n",
              "      padding: 0 0 0 0;\n",
              "      width: 32px;\n",
              "    }\n",
              "\n",
              "    .colab-df-convert:hover {\n",
              "      background-color: #E2EBFA;\n",
              "      box-shadow: 0px 1px 2px rgba(60, 64, 67, 0.3), 0px 1px 3px 1px rgba(60, 64, 67, 0.15);\n",
              "      fill: #174EA6;\n",
              "    }\n",
              "\n",
              "    [theme=dark] .colab-df-convert {\n",
              "      background-color: #3B4455;\n",
              "      fill: #D2E3FC;\n",
              "    }\n",
              "\n",
              "    [theme=dark] .colab-df-convert:hover {\n",
              "      background-color: #434B5C;\n",
              "      box-shadow: 0px 1px 3px 1px rgba(0, 0, 0, 0.15);\n",
              "      filter: drop-shadow(0px 1px 2px rgba(0, 0, 0, 0.3));\n",
              "      fill: #FFFFFF;\n",
              "    }\n",
              "  </style>\n",
              "\n",
              "      <script>\n",
              "        const buttonEl =\n",
              "          document.querySelector('#df-a259a05a-3a16-48ba-87bf-fce654535cc0 button.colab-df-convert');\n",
              "        buttonEl.style.display =\n",
              "          google.colab.kernel.accessAllowed ? 'block' : 'none';\n",
              "\n",
              "        async function convertToInteractive(key) {\n",
              "          const element = document.querySelector('#df-a259a05a-3a16-48ba-87bf-fce654535cc0');\n",
              "          const dataTable =\n",
              "            await google.colab.kernel.invokeFunction('convertToInteractive',\n",
              "                                                     [key], {});\n",
              "          if (!dataTable) return;\n",
              "\n",
              "          const docLinkHtml = 'Like what you see? Visit the ' +\n",
              "            '<a target=\"_blank\" href=https://colab.research.google.com/notebooks/data_table.ipynb>data table notebook</a>'\n",
              "            + ' to learn more about interactive tables.';\n",
              "          element.innerHTML = '';\n",
              "          dataTable['output_type'] = 'display_data';\n",
              "          await google.colab.output.renderOutput(dataTable, element);\n",
              "          const docLink = document.createElement('div');\n",
              "          docLink.innerHTML = docLinkHtml;\n",
              "          element.appendChild(docLink);\n",
              "        }\n",
              "      </script>\n",
              "    </div>\n",
              "  </div>\n",
              "  "
            ]
          },
          "metadata": {},
          "execution_count": 37
        }
      ]
    },
    {
      "cell_type": "code",
      "source": [
        "# Accuracy de clf_rf2 optimisé\n",
        "acc_rf_grid = accuracy_score(y_test, y_pred_rf_grid)\n",
        "\n",
        "# Affichage des métriques\n",
        "print(\"L'accuracy de clf_rf2 est de\", acc_rf_grid)\n",
        "\n",
        "# Enregistrement du modèle\n",
        "dump(grid_rf, 'clf_rf_grid.joblib')"
      ],
      "metadata": {
        "id": "GFGEvZU4bb8U",
        "colab": {
          "base_uri": "https://localhost:8080/"
        },
        "outputId": "0e920298-9dbd-48a1-940b-63d3f2f99189"
      },
      "execution_count": null,
      "outputs": [
        {
          "output_type": "stream",
          "name": "stdout",
          "text": [
            "L'accuracy de clf_rf2 est de 0.9226686884003032\n"
          ]
        },
        {
          "output_type": "execute_result",
          "data": {
            "text/plain": [
              "['clf_rf_grid.joblib']"
            ]
          },
          "metadata": {},
          "execution_count": 38
        }
      ]
    },
    {
      "cell_type": "code",
      "source": [
        "# On note que sans rééchantillonnage, on a des résultats très intéressants\n",
        "# Cela peut s'expliquer par le fait qu'on a beaucoup plus d'échantillons\n",
        "# Les classes les plus polluantes sont très bien classées, ce qui est le plus intéressant\n",
        "# On note que la classe G n'est contrainte que par sa limite inférieure\n",
        "# Le classifieur RF a la meilleure accuracy.\n",
        "# Vu les scores hyper-élevés, il peut y avoir de l'overfitting"
      ],
      "metadata": {
        "id": "YrE1KDK3GxJJ"
      },
      "execution_count": null,
      "outputs": []
    },
    {
      "cell_type": "markdown",
      "source": [
        "Poids des variables explicatives (Camille)"
      ],
      "metadata": {
        "id": "V5D-OiTg8lK5"
      }
    },
    {
      "cell_type": "code",
      "source": [
        "#on veut identifier quelles variables pèsent le plus dans la classification\n",
        "feature_scores = pd.Series(clf_rf2.feature_importances_, index=feats_quant.columns).sort_values(ascending=False)\n",
        "\n",
        "sns.barplot(x=feature_scores, y=feature_scores.index)\n",
        "plt.xlabel('Feature Importance Score')\n",
        "plt.ylabel('Features')\n",
        "plt.title(\"Visualisation des features les plus importants\")\n",
        "plt.show();"
      ],
      "metadata": {
        "colab": {
          "base_uri": "https://localhost:8080/",
          "height": 295
        },
        "id": "cjgp1XmO8eFz",
        "outputId": "0cc327a6-4bc2-48ec-fc6a-09c48ad490ee"
      },
      "execution_count": null,
      "outputs": [
        {
          "output_type": "display_data",
          "data": {
            "text/plain": [
              "<Figure size 432x288 with 1 Axes>"
            ],
            "image/png": "[encoded data removed]"
          },
          "metadata": {
            "needs_background": "light"
          }
        }
      ]
    },
    {
      "cell_type": "markdown",
      "source": [
        "###### Voting Classifier (sans rééchantillonnage)"
      ],
      "metadata": {
        "id": "PDilpFMD1P0K"
      }
    },
    {
      "cell_type": "code",
      "source": [
        "# Instanciation du classifieur\n",
        "clf_vc2 = VotingClassifier([('rf', clf_rf2), ('svc', clf_svc2), ('knn', clf_knn2)], voting = 'hard')\n",
        "\n",
        "# Création du cross-validator\n",
        "cv3 = KFold(n_splits = 3) # Question : comment choisir les autres paramètres du CV? Comment définir le nombre optimal de splits?\n",
        "\n",
        "# Validation croisée et évaluation des classifieurs\n",
        "for clf, label in zip([clf_rf2, clf_svc2, clf_knn2, clf_vc2], ['Random Forest', 'SVC', 'KNN', 'Voting Classifier']):\n",
        "    scores = cross_validate(clf, feats_quant, target, cv=cv3, scoring=['accuracy','f1_weighted'])\n",
        "    print(\"[%s]: \\n Accuracy: %0.2f (+/- %0.2f)\" % (label, scores['test_accuracy'].mean(), scores['test_accuracy'].std()),\n",
        "          \"F1 score: %0.2f (+/- %0.2f)\" % (scores['test_f1_weighted'].mean(), scores['test_f1_weighted'].std()))"
      ],
      "metadata": {
        "id": "Q36YKsjV1OxE",
        "colab": {
          "base_uri": "https://localhost:8080/"
        },
        "outputId": "1df13672-95b4-4e6e-d5ba-ea25158d7f29"
      },
      "execution_count": null,
      "outputs": [
        {
          "output_type": "stream",
          "name": "stdout",
          "text": [
            "[Random Forest]: \n",
            " Accuracy: 0.84 (+/- 0.03) F1 score: 0.84 (+/- 0.03)\n",
            "[SVC]: \n",
            " Accuracy: 0.33 (+/- 0.02) F1 score: 0.29 (+/- 0.05)\n",
            "[KNN]: \n",
            " Accuracy: 0.42 (+/- 0.04) F1 score: 0.43 (+/- 0.04)\n",
            "[Voting Classifier]: \n",
            " Accuracy: 0.57 (+/- 0.05) F1 score: 0.56 (+/- 0.06)\n"
          ]
        }
      ]
    },
    {
      "cell_type": "code",
      "source": [
        "# Suite au Voting Classifier, on onstate que le modèle RF clf_rf2 est celui qui donne de bien meilleurs résultats"
      ],
      "metadata": {
        "id": "zJePOTDLPp_4"
      },
      "execution_count": null,
      "outputs": []
    },
    {
      "cell_type": "code",
      "source": [
        "# Enregistrement du modèle\n",
        "dump(clf_vc2, 'clf_vc2.joblib')"
      ],
      "metadata": {
        "id": "SHXicGmPHn26",
        "colab": {
          "base_uri": "https://localhost:8080/"
        },
        "outputId": "956386ad-0636-4388-ebd6-38b6410cbac7"
      },
      "execution_count": null,
      "outputs": [
        {
          "output_type": "execute_result",
          "data": {
            "text/plain": [
              "['clf_vc2.joblib']"
            ]
          },
          "metadata": {},
          "execution_count": 43
        }
      ]
    },
    {
      "cell_type": "markdown",
      "source": [
        "#### Classification multiple pour Dataset déséquilibré"
      ],
      "metadata": {
        "id": "hJHRWznejJsw"
      }
    },
    {
      "cell_type": "code",
      "source": [
        "# Distribution de la variable cible\n",
        "target.value_counts(normalize = True)\n",
        "# On a une distribution légèrement déséquilibrée"
      ],
      "metadata": {
        "id": "k-Rsltw8wQIq",
        "colab": {
          "base_uri": "https://localhost:8080/"
        },
        "outputId": "3f25155d-0edf-4f03-9af6-bd3078414e13"
      },
      "execution_count": null,
      "outputs": [
        {
          "output_type": "execute_result",
          "data": {
            "text/plain": [
              "E    0.227764\n",
              "D    0.202731\n",
              "C    0.194576\n",
              "F    0.150958\n",
              "B    0.123459\n",
              "G    0.058031\n",
              "A    0.042481\n",
              "Name: cat_poll, dtype: float64"
            ]
          },
          "metadata": {},
          "execution_count": 44
        }
      ]
    },
    {
      "cell_type": "markdown",
      "source": [
        "##### Oversampling avec RandomOverSampler"
      ],
      "metadata": {
        "id": "XG37JgrgxRcy"
      }
    },
    {
      "cell_type": "code",
      "source": [
        "(X_ro, y_ro) = RandomOverSampler().fit_resample(X_train, y_train)\n",
        "\n",
        "# On vérifie qu'on a bien rééquilibré la cible\n",
        "print(y_ro.value_counts())"
      ],
      "metadata": {
        "id": "qO8HJo8vxO5-",
        "colab": {
          "base_uri": "https://localhost:8080/"
        },
        "outputId": "48517f82-f0ea-41d5-cd48-db18506cf405"
      },
      "execution_count": null,
      "outputs": [
        {
          "output_type": "stream",
          "name": "stdout",
          "text": [
            "E    904\n",
            "A    904\n",
            "D    904\n",
            "B    904\n",
            "C    904\n",
            "F    904\n",
            "G    904\n",
            "Name: cat_poll, dtype: int64\n"
          ]
        }
      ]
    },
    {
      "cell_type": "markdown",
      "source": [
        "###### Classifieur SVC"
      ],
      "metadata": {
        "id": "chzh0dk3_UNO"
      }
    },
    {
      "cell_type": "code",
      "source": [
        "# Instanciation du classifieur\n",
        "clf_svc = SVC(gamma = 'scale')\n",
        "\n",
        "clf_svc.fit(X_ro, y_ro)          # Entraînement du classifieur\n",
        "\n",
        "y_pred_svc = clf_svc.predict(X_test) # Prédictions du classifieur\n",
        "\n",
        "# Matrice de confusion\n",
        "pd.crosstab(y_test, y_pred_svc, rownames = ['Classes réelles'], colnames = ['Classes prédites SVC'])"
      ],
      "metadata": {
        "id": "GJjT6NpC_MYx",
        "colab": {
          "base_uri": "https://localhost:8080/"
        },
        "outputId": "378065dd-d8f9-4155-9e60-98d4281defe0"
      },
      "execution_count": null,
      "outputs": [
        {
          "output_type": "execute_result",
          "data": {
            "text/plain": [
              "Classes prédites SVC   A    B    C    D    E    F   G\n",
              "Classes réelles                                      \n",
              "A                     66    4    0    0    0    0   0\n",
              "B                     14  141   13    2    0    0   0\n",
              "C                      0   29  203   26    0    0   0\n",
              "D                      0    0   28  235    9    1   0\n",
              "E                      0    0    0   43  241   13   0\n",
              "F                      0    0    0    0    7  167   4\n",
              "G                      0    0    0    0    0    1  72"
            ],
            "text/html": [
              "\n",
              "  <div id=\"df-a896f70e-49fc-481e-b5a5-1e9f87002c4d\">\n",
              "    <div class=\"colab-df-container\">\n",
              "      <div>\n",
              "<style scoped>\n",
              "    .dataframe tbody tr th:only-of-type {\n",
              "        vertical-align: middle;\n",
              "    }\n",
              "\n",
              "    .dataframe tbody tr th {\n",
              "        vertical-align: top;\n",
              "    }\n",
              "\n",
              "    .dataframe thead th {\n",
              "        text-align: right;\n",
              "    }\n",
              "</style>\n",
              "<table border=\"1\" class=\"dataframe\">\n",
              "  <thead>\n",
              "    <tr style=\"text-align: right;\">\n",
              "      <th>Classes prédites SVC</th>\n",
              "      <th>A</th>\n",
              "      <th>B</th>\n",
              "      <th>C</th>\n",
              "      <th>D</th>\n",
              "      <th>E</th>\n",
              "      <th>F</th>\n",
              "      <th>G</th>\n",
              "    </tr>\n",
              "    <tr>\n",
              "      <th>Classes réelles</th>\n",
              "      <th></th>\n",
              "      <th></th>\n",
              "      <th></th>\n",
              "      <th></th>\n",
              "      <th></th>\n",
              "      <th></th>\n",
              "      <th></th>\n",
              "    </tr>\n",
              "  </thead>\n",
              "  <tbody>\n",
              "    <tr>\n",
              "      <th>A</th>\n",
              "      <td>66</td>\n",
              "      <td>4</td>\n",
              "      <td>0</td>\n",
              "      <td>0</td>\n",
              "      <td>0</td>\n",
              "      <td>0</td>\n",
              "      <td>0</td>\n",
              "    </tr>\n",
              "    <tr>\n",
              "      <th>B</th>\n",
              "      <td>14</td>\n",
              "      <td>141</td>\n",
              "      <td>13</td>\n",
              "      <td>2</td>\n",
              "      <td>0</td>\n",
              "      <td>0</td>\n",
              "      <td>0</td>\n",
              "    </tr>\n",
              "    <tr>\n",
              "      <th>C</th>\n",
              "      <td>0</td>\n",
              "      <td>29</td>\n",
              "      <td>203</td>\n",
              "      <td>26</td>\n",
              "      <td>0</td>\n",
              "      <td>0</td>\n",
              "      <td>0</td>\n",
              "    </tr>\n",
              "    <tr>\n",
              "      <th>D</th>\n",
              "      <td>0</td>\n",
              "      <td>0</td>\n",
              "      <td>28</td>\n",
              "      <td>235</td>\n",
              "      <td>9</td>\n",
              "      <td>1</td>\n",
              "      <td>0</td>\n",
              "    </tr>\n",
              "    <tr>\n",
              "      <th>E</th>\n",
              "      <td>0</td>\n",
              "      <td>0</td>\n",
              "      <td>0</td>\n",
              "      <td>43</td>\n",
              "      <td>241</td>\n",
              "      <td>13</td>\n",
              "      <td>0</td>\n",
              "    </tr>\n",
              "    <tr>\n",
              "      <th>F</th>\n",
              "      <td>0</td>\n",
              "      <td>0</td>\n",
              "      <td>0</td>\n",
              "      <td>0</td>\n",
              "      <td>7</td>\n",
              "      <td>167</td>\n",
              "      <td>4</td>\n",
              "    </tr>\n",
              "    <tr>\n",
              "      <th>G</th>\n",
              "      <td>0</td>\n",
              "      <td>0</td>\n",
              "      <td>0</td>\n",
              "      <td>0</td>\n",
              "      <td>0</td>\n",
              "      <td>1</td>\n",
              "      <td>72</td>\n",
              "    </tr>\n",
              "  </tbody>\n",
              "</table>\n",
              "</div>\n",
              "      <button class=\"colab-df-convert\" onclick=\"convertToInteractive('df-a896f70e-49fc-481e-b5a5-1e9f87002c4d')\"\n",
              "              title=\"Convert this dataframe to an interactive table.\"\n",
              "              style=\"display:none;\">\n",
              "        \n",
              "  <svg xmlns=\"http://www.w3.org/2000/svg\" height=\"24px\"viewBox=\"0 0 24 24\"\n",
              "       width=\"24px\">\n",
              "    <path d=\"M0 0h24v24H0V0z\" fill=\"none\"/>\n",
              "    <path d=\"M18.56 5.44l.94 2.06.94-2.06 2.06-.94-2.06-.94-.94-2.06-.94 2.06-2.06.94zm-11 1L8.5 8.5l.94-2.06 2.06-.94-2.06-.94L8.5 2.5l-.94 2.06-2.06.94zm10 10l.94 2.06.94-2.06 2.06-.94-2.06-.94-.94-2.06-.94 2.06-2.06.94z\"/><path d=\"M17.41 7.96l-1.37-1.37c-.4-.4-.92-.59-1.43-.59-.52 0-1.04.2-1.43.59L10.3 9.45l-7.72 7.72c-.78.78-.78 2.05 0 2.83L4 21.41c.39.39.9.59 1.41.59.51 0 1.02-.2 1.41-.59l7.78-7.78 2.81-2.81c.8-.78.8-2.07 0-2.86zM5.41 20L4 18.59l7.72-7.72 1.47 1.35L5.41 20z\"/>\n",
              "  </svg>\n",
              "      </button>\n",
              "      \n",
              "  <style>\n",
              "    .colab-df-container {\n",
              "      display:flex;\n",
              "      flex-wrap:wrap;\n",
              "      gap: 12px;\n",
              "    }\n",
              "\n",
              "    .colab-df-convert {\n",
              "      background-color: #E8F0FE;\n",
              "      border: none;\n",
              "      border-radius: 50%;\n",
              "      cursor: pointer;\n",
              "      display: none;\n",
              "      fill: #1967D2;\n",
              "      height: 32px;\n",
              "      padding: 0 0 0 0;\n",
              "      width: 32px;\n",
              "    }\n",
              "\n",
              "    .colab-df-convert:hover {\n",
              "      background-color: #E2EBFA;\n",
              "      box-shadow: 0px 1px 2px rgba(60, 64, 67, 0.3), 0px 1px 3px 1px rgba(60, 64, 67, 0.15);\n",
              "      fill: #174EA6;\n",
              "    }\n",
              "\n",
              "    [theme=dark] .colab-df-convert {\n",
              "      background-color: #3B4455;\n",
              "      fill: #D2E3FC;\n",
              "    }\n",
              "\n",
              "    [theme=dark] .colab-df-convert:hover {\n",
              "      background-color: #434B5C;\n",
              "      box-shadow: 0px 1px 3px 1px rgba(0, 0, 0, 0.15);\n",
              "      filter: drop-shadow(0px 1px 2px rgba(0, 0, 0, 0.3));\n",
              "      fill: #FFFFFF;\n",
              "    }\n",
              "  </style>\n",
              "\n",
              "      <script>\n",
              "        const buttonEl =\n",
              "          document.querySelector('#df-a896f70e-49fc-481e-b5a5-1e9f87002c4d button.colab-df-convert');\n",
              "        buttonEl.style.display =\n",
              "          google.colab.kernel.accessAllowed ? 'block' : 'none';\n",
              "\n",
              "        async function convertToInteractive(key) {\n",
              "          const element = document.querySelector('#df-a896f70e-49fc-481e-b5a5-1e9f87002c4d');\n",
              "          const dataTable =\n",
              "            await google.colab.kernel.invokeFunction('convertToInteractive',\n",
              "                                                     [key], {});\n",
              "          if (!dataTable) return;\n",
              "\n",
              "          const docLinkHtml = 'Like what you see? Visit the ' +\n",
              "            '<a target=\"_blank\" href=https://colab.research.google.com/notebooks/data_table.ipynb>data table notebook</a>'\n",
              "            + ' to learn more about interactive tables.';\n",
              "          element.innerHTML = '';\n",
              "          dataTable['output_type'] = 'display_data';\n",
              "          await google.colab.output.renderOutput(dataTable, element);\n",
              "          const docLink = document.createElement('div');\n",
              "          docLink.innerHTML = docLinkHtml;\n",
              "          element.appendChild(docLink);\n",
              "        }\n",
              "      </script>\n",
              "    </div>\n",
              "  </div>\n",
              "  "
            ]
          },
          "metadata": {},
          "execution_count": 46
        }
      ]
    },
    {
      "cell_type": "code",
      "source": [
        "# La matrice de confusion semble donner des résultats intéressants\n",
        "# On affiche les métriques dans le rapport\n",
        "print(classification_report_imbalanced(y_test, y_pred_svc))"
      ],
      "metadata": {
        "id": "35Uzh_EYAtD6",
        "colab": {
          "base_uri": "https://localhost:8080/"
        },
        "outputId": "2c71e4d4-82e3-46f2-ec2a-1f18379b68a5"
      },
      "execution_count": null,
      "outputs": [
        {
          "output_type": "stream",
          "name": "stdout",
          "text": [
            "                   pre       rec       spe        f1       geo       iba       sup\n",
            "\n",
            "          A       0.82      0.94      0.99      0.88      0.97      0.93        70\n",
            "          B       0.81      0.83      0.97      0.82      0.90      0.79       170\n",
            "          C       0.83      0.79      0.96      0.81      0.87      0.74       258\n",
            "          D       0.77      0.86      0.93      0.81      0.90      0.80       273\n",
            "          E       0.94      0.81      0.98      0.87      0.89      0.78       297\n",
            "          F       0.92      0.94      0.99      0.93      0.96      0.92       178\n",
            "          G       0.95      0.99      1.00      0.97      0.99      0.98        73\n",
            "\n",
            "avg / total       0.86      0.85      0.97      0.85      0.91      0.82      1319\n",
            "\n"
          ]
        }
      ]
    },
    {
      "cell_type": "code",
      "source": [
        "# Les scores sont plutôt bons avec le classifieur SVC, le modèle à des valeurs de f1-score et geometric mean élevées\n",
        "# Les voitures de la classe D sont les moins bien classées"
      ],
      "metadata": {
        "id": "TxrfuDRD1xET"
      },
      "execution_count": null,
      "outputs": []
    },
    {
      "cell_type": "markdown",
      "source": [
        "###### Classifieur KNN"
      ],
      "metadata": {
        "id": "nMIye91Ty-MV"
      }
    },
    {
      "cell_type": "code",
      "source": [
        "# Instanciation du classifieur\n",
        "clf_knn = KNeighborsClassifier()\n",
        "\n",
        "clf_knn.fit(X_ro, y_ro)          # Entraînement du classifieur\n",
        "\n",
        "y_pred_knn = clf_knn.predict(X_test) # Prédictions du classifieur\n",
        "\n",
        "# Matrice de confusion\n",
        "pd.crosstab(y_test, y_pred_knn, rownames = ['Classes réelles'], colnames = ['Classes prédites KNN'])\n"
      ],
      "metadata": {
        "id": "USKEvgr6zBAk",
        "colab": {
          "base_uri": "https://localhost:8080/"
        },
        "outputId": "a1928c0e-2cfb-4f01-f40b-35c9440f2af5"
      },
      "execution_count": null,
      "outputs": [
        {
          "output_type": "execute_result",
          "data": {
            "text/plain": [
              "Classes prédites KNN   A    B    C    D    E    F   G\n",
              "Classes réelles                                      \n",
              "A                     68    2    0    0    0    0   0\n",
              "B                     10  137   21    1    1    0   0\n",
              "C                      0   28  204   26    0    0   0\n",
              "D                      0    4   26  231   12    0   0\n",
              "E                      0    0    0   32  248   17   0\n",
              "F                      0    0    0    0   10  162   6\n",
              "G                      0    0    0    0    0    5  68"
            ],
            "text/html": [
              "\n",
              "  <div id=\"df-559b078e-ace4-4b33-8d19-18dfa2e6cee8\">\n",
              "    <div class=\"colab-df-container\">\n",
              "      <div>\n",
              "<style scoped>\n",
              "    .dataframe tbody tr th:only-of-type {\n",
              "        vertical-align: middle;\n",
              "    }\n",
              "\n",
              "    .dataframe tbody tr th {\n",
              "        vertical-align: top;\n",
              "    }\n",
              "\n",
              "    .dataframe thead th {\n",
              "        text-align: right;\n",
              "    }\n",
              "</style>\n",
              "<table border=\"1\" class=\"dataframe\">\n",
              "  <thead>\n",
              "    <tr style=\"text-align: right;\">\n",
              "      <th>Classes prédites KNN</th>\n",
              "      <th>A</th>\n",
              "      <th>B</th>\n",
              "      <th>C</th>\n",
              "      <th>D</th>\n",
              "      <th>E</th>\n",
              "      <th>F</th>\n",
              "      <th>G</th>\n",
              "    </tr>\n",
              "    <tr>\n",
              "      <th>Classes réelles</th>\n",
              "      <th></th>\n",
              "      <th></th>\n",
              "      <th></th>\n",
              "      <th></th>\n",
              "      <th></th>\n",
              "      <th></th>\n",
              "      <th></th>\n",
              "    </tr>\n",
              "  </thead>\n",
              "  <tbody>\n",
              "    <tr>\n",
              "      <th>A</th>\n",
              "      <td>68</td>\n",
              "      <td>2</td>\n",
              "      <td>0</td>\n",
              "      <td>0</td>\n",
              "      <td>0</td>\n",
              "      <td>0</td>\n",
              "      <td>0</td>\n",
              "    </tr>\n",
              "    <tr>\n",
              "      <th>B</th>\n",
              "      <td>10</td>\n",
              "      <td>137</td>\n",
              "      <td>21</td>\n",
              "      <td>1</td>\n",
              "      <td>1</td>\n",
              "      <td>0</td>\n",
              "      <td>0</td>\n",
              "    </tr>\n",
              "    <tr>\n",
              "      <th>C</th>\n",
              "      <td>0</td>\n",
              "      <td>28</td>\n",
              "      <td>204</td>\n",
              "      <td>26</td>\n",
              "      <td>0</td>\n",
              "      <td>0</td>\n",
              "      <td>0</td>\n",
              "    </tr>\n",
              "    <tr>\n",
              "      <th>D</th>\n",
              "      <td>0</td>\n",
              "      <td>4</td>\n",
              "      <td>26</td>\n",
              "      <td>231</td>\n",
              "      <td>12</td>\n",
              "      <td>0</td>\n",
              "      <td>0</td>\n",
              "    </tr>\n",
              "    <tr>\n",
              "      <th>E</th>\n",
              "      <td>0</td>\n",
              "      <td>0</td>\n",
              "      <td>0</td>\n",
              "      <td>32</td>\n",
              "      <td>248</td>\n",
              "      <td>17</td>\n",
              "      <td>0</td>\n",
              "    </tr>\n",
              "    <tr>\n",
              "      <th>F</th>\n",
              "      <td>0</td>\n",
              "      <td>0</td>\n",
              "      <td>0</td>\n",
              "      <td>0</td>\n",
              "      <td>10</td>\n",
              "      <td>162</td>\n",
              "      <td>6</td>\n",
              "    </tr>\n",
              "    <tr>\n",
              "      <th>G</th>\n",
              "      <td>0</td>\n",
              "      <td>0</td>\n",
              "      <td>0</td>\n",
              "      <td>0</td>\n",
              "      <td>0</td>\n",
              "      <td>5</td>\n",
              "      <td>68</td>\n",
              "    </tr>\n",
              "  </tbody>\n",
              "</table>\n",
              "</div>\n",
              "      <button class=\"colab-df-convert\" onclick=\"convertToInteractive('df-559b078e-ace4-4b33-8d19-18dfa2e6cee8')\"\n",
              "              title=\"Convert this dataframe to an interactive table.\"\n",
              "              style=\"display:none;\">\n",
              "        \n",
              "  <svg xmlns=\"http://www.w3.org/2000/svg\" height=\"24px\"viewBox=\"0 0 24 24\"\n",
              "       width=\"24px\">\n",
              "    <path d=\"M0 0h24v24H0V0z\" fill=\"none\"/>\n",
              "    <path d=\"M18.56 5.44l.94 2.06.94-2.06 2.06-.94-2.06-.94-.94-2.06-.94 2.06-2.06.94zm-11 1L8.5 8.5l.94-2.06 2.06-.94-2.06-.94L8.5 2.5l-.94 2.06-2.06.94zm10 10l.94 2.06.94-2.06 2.06-.94-2.06-.94-.94-2.06-.94 2.06-2.06.94z\"/><path d=\"M17.41 7.96l-1.37-1.37c-.4-.4-.92-.59-1.43-.59-.52 0-1.04.2-1.43.59L10.3 9.45l-7.72 7.72c-.78.78-.78 2.05 0 2.83L4 21.41c.39.39.9.59 1.41.59.51 0 1.02-.2 1.41-.59l7.78-7.78 2.81-2.81c.8-.78.8-2.07 0-2.86zM5.41 20L4 18.59l7.72-7.72 1.47 1.35L5.41 20z\"/>\n",
              "  </svg>\n",
              "      </button>\n",
              "      \n",
              "  <style>\n",
              "    .colab-df-container {\n",
              "      display:flex;\n",
              "      flex-wrap:wrap;\n",
              "      gap: 12px;\n",
              "    }\n",
              "\n",
              "    .colab-df-convert {\n",
              "      background-color: #E8F0FE;\n",
              "      border: none;\n",
              "      border-radius: 50%;\n",
              "      cursor: pointer;\n",
              "      display: none;\n",
              "      fill: #1967D2;\n",
              "      height: 32px;\n",
              "      padding: 0 0 0 0;\n",
              "      width: 32px;\n",
              "    }\n",
              "\n",
              "    .colab-df-convert:hover {\n",
              "      background-color: #E2EBFA;\n",
              "      box-shadow: 0px 1px 2px rgba(60, 64, 67, 0.3), 0px 1px 3px 1px rgba(60, 64, 67, 0.15);\n",
              "      fill: #174EA6;\n",
              "    }\n",
              "\n",
              "    [theme=dark] .colab-df-convert {\n",
              "      background-color: #3B4455;\n",
              "      fill: #D2E3FC;\n",
              "    }\n",
              "\n",
              "    [theme=dark] .colab-df-convert:hover {\n",
              "      background-color: #434B5C;\n",
              "      box-shadow: 0px 1px 3px 1px rgba(0, 0, 0, 0.15);\n",
              "      filter: drop-shadow(0px 1px 2px rgba(0, 0, 0, 0.3));\n",
              "      fill: #FFFFFF;\n",
              "    }\n",
              "  </style>\n",
              "\n",
              "      <script>\n",
              "        const buttonEl =\n",
              "          document.querySelector('#df-559b078e-ace4-4b33-8d19-18dfa2e6cee8 button.colab-df-convert');\n",
              "        buttonEl.style.display =\n",
              "          google.colab.kernel.accessAllowed ? 'block' : 'none';\n",
              "\n",
              "        async function convertToInteractive(key) {\n",
              "          const element = document.querySelector('#df-559b078e-ace4-4b33-8d19-18dfa2e6cee8');\n",
              "          const dataTable =\n",
              "            await google.colab.kernel.invokeFunction('convertToInteractive',\n",
              "                                                     [key], {});\n",
              "          if (!dataTable) return;\n",
              "\n",
              "          const docLinkHtml = 'Like what you see? Visit the ' +\n",
              "            '<a target=\"_blank\" href=https://colab.research.google.com/notebooks/data_table.ipynb>data table notebook</a>'\n",
              "            + ' to learn more about interactive tables.';\n",
              "          element.innerHTML = '';\n",
              "          dataTable['output_type'] = 'display_data';\n",
              "          await google.colab.output.renderOutput(dataTable, element);\n",
              "          const docLink = document.createElement('div');\n",
              "          docLink.innerHTML = docLinkHtml;\n",
              "          element.appendChild(docLink);\n",
              "        }\n",
              "      </script>\n",
              "    </div>\n",
              "  </div>\n",
              "  "
            ]
          },
          "metadata": {},
          "execution_count": 49
        }
      ]
    },
    {
      "cell_type": "code",
      "source": [
        "# La matrice de confusion donne de bons résultats\n",
        "# On affiche les métriques dans le rapport\n",
        "print(classification_report_imbalanced(y_test, y_pred_knn))"
      ],
      "metadata": {
        "id": "pWZ-WnBE1-75",
        "colab": {
          "base_uri": "https://localhost:8080/"
        },
        "outputId": "c8ad1081-049c-47d6-d97b-1995edc7557f"
      },
      "execution_count": null,
      "outputs": [
        {
          "output_type": "stream",
          "name": "stdout",
          "text": [
            "                   pre       rec       spe        f1       geo       iba       sup\n",
            "\n",
            "          A       0.87      0.97      0.99      0.92      0.98      0.96        70\n",
            "          B       0.80      0.81      0.97      0.80      0.88      0.77       170\n",
            "          C       0.81      0.79      0.96      0.80      0.87      0.74       258\n",
            "          D       0.80      0.85      0.94      0.82      0.89      0.79       273\n",
            "          E       0.92      0.84      0.98      0.87      0.90      0.80       297\n",
            "          F       0.88      0.91      0.98      0.90      0.94      0.89       178\n",
            "          G       0.92      0.93      1.00      0.93      0.96      0.92        73\n",
            "\n",
            "avg / total       0.85      0.85      0.97      0.85      0.91      0.81      1319\n",
            "\n"
          ]
        }
      ]
    },
    {
      "cell_type": "code",
      "source": [
        "# Les scores obtenus sont élevés\n",
        "# Même les voitures de la classe D sont bien classées\n",
        "# Meilleurs résultats qu'avec le SVC\n",
        "# Tester s'il n'y a pas un phénomène d'overfitting"
      ],
      "metadata": {
        "id": "kr6XO5n-2Nz7"
      },
      "execution_count": null,
      "outputs": []
    },
    {
      "cell_type": "markdown",
      "source": [
        "###### Classifieur Random Forest"
      ],
      "metadata": {
        "id": "hcfmV4gFO7QH"
      }
    },
    {
      "cell_type": "code",
      "source": [
        "# Instanciation du classifieur\n",
        "clf_rf = RandomForestClassifier()\n",
        "\n",
        "clf_rf.fit(X_ro, y_ro)          # Entraînement du classifieur\n",
        "\n",
        "y_pred_rf = clf_rf.predict(X_test) # Prédictions du classifieur\n",
        "\n",
        "# Matrice de confusion\n",
        "pd.crosstab(y_test, y_pred_rf, rownames = ['Classes réelles'], colnames = ['Classes prédites RF'])"
      ],
      "metadata": {
        "id": "_OXKIkfCO-sG",
        "colab": {
          "base_uri": "https://localhost:8080/"
        },
        "outputId": "d4284c34-bc6d-4c99-9246-1a82620d514f"
      },
      "execution_count": null,
      "outputs": [
        {
          "output_type": "execute_result",
          "data": {
            "text/plain": [
              "Classes prédites RF   A    B    C    D    E    F   G\n",
              "Classes réelles                                     \n",
              "A                    68    2    0    0    0    0   0\n",
              "B                     4  155    9    0    2    0   0\n",
              "C                     0   10  236   12    0    0   0\n",
              "D                     0    0   13  246   14    0   0\n",
              "E                     0    0    0   13  276    8   0\n",
              "F                     0    0    0    0    8  168   2\n",
              "G                     0    0    0    0    0    2  71"
            ],
            "text/html": [
              "\n",
              "  <div id=\"df-014f2854-6fcd-46e8-a71c-08e8777751f8\">\n",
              "    <div class=\"colab-df-container\">\n",
              "      <div>\n",
              "<style scoped>\n",
              "    .dataframe tbody tr th:only-of-type {\n",
              "        vertical-align: middle;\n",
              "    }\n",
              "\n",
              "    .dataframe tbody tr th {\n",
              "        vertical-align: top;\n",
              "    }\n",
              "\n",
              "    .dataframe thead th {\n",
              "        text-align: right;\n",
              "    }\n",
              "</style>\n",
              "<table border=\"1\" class=\"dataframe\">\n",
              "  <thead>\n",
              "    <tr style=\"text-align: right;\">\n",
              "      <th>Classes prédites RF</th>\n",
              "      <th>A</th>\n",
              "      <th>B</th>\n",
              "      <th>C</th>\n",
              "      <th>D</th>\n",
              "      <th>E</th>\n",
              "      <th>F</th>\n",
              "      <th>G</th>\n",
              "    </tr>\n",
              "    <tr>\n",
              "      <th>Classes réelles</th>\n",
              "      <th></th>\n",
              "      <th></th>\n",
              "      <th></th>\n",
              "      <th></th>\n",
              "      <th></th>\n",
              "      <th></th>\n",
              "      <th></th>\n",
              "    </tr>\n",
              "  </thead>\n",
              "  <tbody>\n",
              "    <tr>\n",
              "      <th>A</th>\n",
              "      <td>68</td>\n",
              "      <td>2</td>\n",
              "      <td>0</td>\n",
              "      <td>0</td>\n",
              "      <td>0</td>\n",
              "      <td>0</td>\n",
              "      <td>0</td>\n",
              "    </tr>\n",
              "    <tr>\n",
              "      <th>B</th>\n",
              "      <td>4</td>\n",
              "      <td>155</td>\n",
              "      <td>9</td>\n",
              "      <td>0</td>\n",
              "      <td>2</td>\n",
              "      <td>0</td>\n",
              "      <td>0</td>\n",
              "    </tr>\n",
              "    <tr>\n",
              "      <th>C</th>\n",
              "      <td>0</td>\n",
              "      <td>10</td>\n",
              "      <td>236</td>\n",
              "      <td>12</td>\n",
              "      <td>0</td>\n",
              "      <td>0</td>\n",
              "      <td>0</td>\n",
              "    </tr>\n",
              "    <tr>\n",
              "      <th>D</th>\n",
              "      <td>0</td>\n",
              "      <td>0</td>\n",
              "      <td>13</td>\n",
              "      <td>246</td>\n",
              "      <td>14</td>\n",
              "      <td>0</td>\n",
              "      <td>0</td>\n",
              "    </tr>\n",
              "    <tr>\n",
              "      <th>E</th>\n",
              "      <td>0</td>\n",
              "      <td>0</td>\n",
              "      <td>0</td>\n",
              "      <td>13</td>\n",
              "      <td>276</td>\n",
              "      <td>8</td>\n",
              "      <td>0</td>\n",
              "    </tr>\n",
              "    <tr>\n",
              "      <th>F</th>\n",
              "      <td>0</td>\n",
              "      <td>0</td>\n",
              "      <td>0</td>\n",
              "      <td>0</td>\n",
              "      <td>8</td>\n",
              "      <td>168</td>\n",
              "      <td>2</td>\n",
              "    </tr>\n",
              "    <tr>\n",
              "      <th>G</th>\n",
              "      <td>0</td>\n",
              "      <td>0</td>\n",
              "      <td>0</td>\n",
              "      <td>0</td>\n",
              "      <td>0</td>\n",
              "      <td>2</td>\n",
              "      <td>71</td>\n",
              "    </tr>\n",
              "  </tbody>\n",
              "</table>\n",
              "</div>\n",
              "      <button class=\"colab-df-convert\" onclick=\"convertToInteractive('df-014f2854-6fcd-46e8-a71c-08e8777751f8')\"\n",
              "              title=\"Convert this dataframe to an interactive table.\"\n",
              "              style=\"display:none;\">\n",
              "        \n",
              "  <svg xmlns=\"http://www.w3.org/2000/svg\" height=\"24px\"viewBox=\"0 0 24 24\"\n",
              "       width=\"24px\">\n",
              "    <path d=\"M0 0h24v24H0V0z\" fill=\"none\"/>\n",
              "    <path d=\"M18.56 5.44l.94 2.06.94-2.06 2.06-.94-2.06-.94-.94-2.06-.94 2.06-2.06.94zm-11 1L8.5 8.5l.94-2.06 2.06-.94-2.06-.94L8.5 2.5l-.94 2.06-2.06.94zm10 10l.94 2.06.94-2.06 2.06-.94-2.06-.94-.94-2.06-.94 2.06-2.06.94z\"/><path d=\"M17.41 7.96l-1.37-1.37c-.4-.4-.92-.59-1.43-.59-.52 0-1.04.2-1.43.59L10.3 9.45l-7.72 7.72c-.78.78-.78 2.05 0 2.83L4 21.41c.39.39.9.59 1.41.59.51 0 1.02-.2 1.41-.59l7.78-7.78 2.81-2.81c.8-.78.8-2.07 0-2.86zM5.41 20L4 18.59l7.72-7.72 1.47 1.35L5.41 20z\"/>\n",
              "  </svg>\n",
              "      </button>\n",
              "      \n",
              "  <style>\n",
              "    .colab-df-container {\n",
              "      display:flex;\n",
              "      flex-wrap:wrap;\n",
              "      gap: 12px;\n",
              "    }\n",
              "\n",
              "    .colab-df-convert {\n",
              "      background-color: #E8F0FE;\n",
              "      border: none;\n",
              "      border-radius: 50%;\n",
              "      cursor: pointer;\n",
              "      display: none;\n",
              "      fill: #1967D2;\n",
              "      height: 32px;\n",
              "      padding: 0 0 0 0;\n",
              "      width: 32px;\n",
              "    }\n",
              "\n",
              "    .colab-df-convert:hover {\n",
              "      background-color: #E2EBFA;\n",
              "      box-shadow: 0px 1px 2px rgba(60, 64, 67, 0.3), 0px 1px 3px 1px rgba(60, 64, 67, 0.15);\n",
              "      fill: #174EA6;\n",
              "    }\n",
              "\n",
              "    [theme=dark] .colab-df-convert {\n",
              "      background-color: #3B4455;\n",
              "      fill: #D2E3FC;\n",
              "    }\n",
              "\n",
              "    [theme=dark] .colab-df-convert:hover {\n",
              "      background-color: #434B5C;\n",
              "      box-shadow: 0px 1px 3px 1px rgba(0, 0, 0, 0.15);\n",
              "      filter: drop-shadow(0px 1px 2px rgba(0, 0, 0, 0.3));\n",
              "      fill: #FFFFFF;\n",
              "    }\n",
              "  </style>\n",
              "\n",
              "      <script>\n",
              "        const buttonEl =\n",
              "          document.querySelector('#df-014f2854-6fcd-46e8-a71c-08e8777751f8 button.colab-df-convert');\n",
              "        buttonEl.style.display =\n",
              "          google.colab.kernel.accessAllowed ? 'block' : 'none';\n",
              "\n",
              "        async function convertToInteractive(key) {\n",
              "          const element = document.querySelector('#df-014f2854-6fcd-46e8-a71c-08e8777751f8');\n",
              "          const dataTable =\n",
              "            await google.colab.kernel.invokeFunction('convertToInteractive',\n",
              "                                                     [key], {});\n",
              "          if (!dataTable) return;\n",
              "\n",
              "          const docLinkHtml = 'Like what you see? Visit the ' +\n",
              "            '<a target=\"_blank\" href=https://colab.research.google.com/notebooks/data_table.ipynb>data table notebook</a>'\n",
              "            + ' to learn more about interactive tables.';\n",
              "          element.innerHTML = '';\n",
              "          dataTable['output_type'] = 'display_data';\n",
              "          await google.colab.output.renderOutput(dataTable, element);\n",
              "          const docLink = document.createElement('div');\n",
              "          docLink.innerHTML = docLinkHtml;\n",
              "          element.appendChild(docLink);\n",
              "        }\n",
              "      </script>\n",
              "    </div>\n",
              "  </div>\n",
              "  "
            ]
          },
          "metadata": {},
          "execution_count": 52
        }
      ]
    },
    {
      "cell_type": "code",
      "source": [
        "# La matrice de confusion semble donner des résultats probants\n",
        "# On affiche les métriques dans le rapport\n",
        "print(classification_report_imbalanced(y_test, y_pred_rf))"
      ],
      "metadata": {
        "id": "e2mfjEgb2YCe",
        "colab": {
          "base_uri": "https://localhost:8080/"
        },
        "outputId": "ea0b3301-791d-4fe8-fd7a-70247e14a7ef"
      },
      "execution_count": null,
      "outputs": [
        {
          "output_type": "stream",
          "name": "stdout",
          "text": [
            "                   pre       rec       spe        f1       geo       iba       sup\n",
            "\n",
            "          A       0.94      0.97      1.00      0.96      0.98      0.97        70\n",
            "          B       0.93      0.91      0.99      0.92      0.95      0.90       170\n",
            "          C       0.91      0.91      0.98      0.91      0.95      0.89       258\n",
            "          D       0.91      0.90      0.98      0.90      0.94      0.87       273\n",
            "          E       0.92      0.93      0.98      0.92      0.95      0.90       297\n",
            "          F       0.94      0.94      0.99      0.94      0.97      0.93       178\n",
            "          G       0.97      0.97      1.00      0.97      0.99      0.97        73\n",
            "\n",
            "avg / total       0.92      0.92      0.98      0.92      0.95      0.90      1319\n",
            "\n"
          ]
        }
      ]
    },
    {
      "cell_type": "code",
      "source": [
        "# Ici aussi les scores sont très élevés\n",
        "# Les voitures de classe D sont bien déterminées\n",
        "# Meilleurs scores qu'avec le SVC et KNN\n",
        "# Checker aussi s'il n'y a pas d'overfitting\n",
        "# Il faudrait intégrer des données de validation pour tester la performance réelle du modèle"
      ],
      "metadata": {
        "id": "sIcTe5Xs2cyr"
      },
      "execution_count": null,
      "outputs": []
    },
    {
      "cell_type": "markdown",
      "source": [
        "###### Voting Classifier"
      ],
      "metadata": {
        "id": "BtXKN5PjOy5C"
      }
    },
    {
      "cell_type": "code",
      "source": [
        "# Instanciation du classifieur\n",
        "clf_vc = VotingClassifier([('rf', clf_rf), ('svc', clf_svc), ('knn', clf_knn)], voting = 'hard')\n",
        "\n",
        "# Création du cross-validator\n",
        "cv3 = KFold(n_splits = 3) # Question : comment choisir les autres paramètres du CV? Comment définir le nombre optimal de splits?\n",
        "\n",
        "# Validation croisée et évaluation des classifieurs\n",
        "for clf, label in zip([clf_rf, clf_svc, clf_knn, clf_vc], ['Random Forest', 'SVC', 'KNN', 'Voting Classifier']):\n",
        "    scores = cross_validate(clf, feats_quant, target, cv=cv3, scoring=['accuracy','f1_weighted'])\n",
        "    print(\"[%s]: \\n Accuracy: %0.2f (+/- %0.2f)\" % (label, scores['test_accuracy'].mean(), scores['test_accuracy'].std()),\n",
        "          \"F1 score: %0.2f (+/- %0.2f)\" % (scores['test_f1_weighted'].mean(), scores['test_f1_weighted'].std()))"
      ],
      "metadata": {
        "id": "-QAPCfjsO4Rp",
        "colab": {
          "base_uri": "https://localhost:8080/"
        },
        "outputId": "ebeb4b89-7abe-40d2-b3f6-72f1101f82fa"
      },
      "execution_count": null,
      "outputs": [
        {
          "output_type": "stream",
          "name": "stdout",
          "text": [
            "[Random Forest]: \n",
            " Accuracy: 0.84 (+/- 0.03) F1 score: 0.84 (+/- 0.03)\n",
            "[SVC]: \n",
            " Accuracy: 0.33 (+/- 0.02) F1 score: 0.29 (+/- 0.05)\n",
            "[KNN]: \n",
            " Accuracy: 0.42 (+/- 0.04) F1 score: 0.43 (+/- 0.04)\n",
            "[Voting Classifier]: \n",
            " Accuracy: 0.57 (+/- 0.05) F1 score: 0.56 (+/- 0.06)\n"
          ]
        }
      ]
    },
    {
      "cell_type": "code",
      "source": [
        "# Enregistrement du modèle\n",
        "dump(clf_vc, 'clf_vc.joblib')"
      ],
      "metadata": {
        "id": "XSqpA-amH27h",
        "colab": {
          "base_uri": "https://localhost:8080/"
        },
        "outputId": "855b1a29-b7b5-4c2f-80f8-2fcb84a087c1"
      },
      "execution_count": null,
      "outputs": [
        {
          "output_type": "execute_result",
          "data": {
            "text/plain": [
              "['clf_vc.joblib']"
            ]
          },
          "metadata": {},
          "execution_count": 56
        }
      ]
    },
    {
      "cell_type": "code",
      "source": [
        "# En regardant les chiffres de l'oversampling, on peut se demander s'il n'y a pas un biais qui est induit de cette façon\n",
        "# Le nombre d'échantillons des classes avec peu d'effectifs est trop surévalué\n",
        "# Question : Est-il nécessaire de conserver les classes peu représentées?"
      ],
      "metadata": {
        "id": "ag5lhn3wJK8r"
      },
      "execution_count": null,
      "outputs": []
    },
    {
      "cell_type": "markdown",
      "source": [
        "##### Undersampling avec RandomUnderSampler"
      ],
      "metadata": {
        "id": "WmdWwf45Jl5h"
      }
    },
    {
      "cell_type": "code",
      "source": [
        "X_ru, y_ru = RandomUnderSampler().fit_resample(X_train, y_train)\n",
        "\n",
        "# On vérifie qu'on a bien rééquilibré la cible\n",
        "print(y_ru.value_counts())"
      ],
      "metadata": {
        "id": "kYs2KC_6J5Ra",
        "colab": {
          "base_uri": "https://localhost:8080/"
        },
        "outputId": "28d4a1cb-f19c-4b2d-f713-dfd2fedf3325"
      },
      "execution_count": null,
      "outputs": [
        {
          "output_type": "stream",
          "name": "stdout",
          "text": [
            "A    154\n",
            "B    154\n",
            "C    154\n",
            "D    154\n",
            "E    154\n",
            "F    154\n",
            "G    154\n",
            "Name: cat_poll, dtype: int64\n"
          ]
        }
      ]
    },
    {
      "cell_type": "markdown",
      "source": [
        "###### Classifieur SVC"
      ],
      "metadata": {
        "id": "Y1xtXqP4KSpz"
      }
    },
    {
      "cell_type": "code",
      "source": [
        "clf_SVC_ru = SVC(gamma = 'scale')\n",
        "\n",
        "clf_SVC_ru.fit(X_ru, y_ru)\n",
        "\n",
        "y_pred_ru = clf_SVC_ru.predict(X_test)\n",
        "\n",
        "pd.crosstab(y_test, y_pred_ru, rownames = ['Classes réelles'], colnames = ['Classes prédites'])"
      ],
      "metadata": {
        "id": "2OZqLjT3KL9h",
        "colab": {
          "base_uri": "https://localhost:8080/"
        },
        "outputId": "0fc08ffa-4c40-492a-bfe6-0dd34fc5b272"
      },
      "execution_count": null,
      "outputs": [
        {
          "output_type": "execute_result",
          "data": {
            "text/plain": [
              "Classes prédites   A    B    C    D    E    F   G\n",
              "Classes réelles                                  \n",
              "A                 66    4    0    0    0    0   0\n",
              "B                 25  128   15    2    0    0   0\n",
              "C                  2   35  194   27    0    0   0\n",
              "D                  0    3   49  197   21    3   0\n",
              "E                  0    0    0   54  222   21   0\n",
              "F                  0    0    0    0   12  159   7\n",
              "G                  0    0    0    0    0    4  69"
            ],
            "text/html": [
              "\n",
              "  <div id=\"df-6bdd0194-79c0-4f32-8a06-405c5b02564d\">\n",
              "    <div class=\"colab-df-container\">\n",
              "      <div>\n",
              "<style scoped>\n",
              "    .dataframe tbody tr th:only-of-type {\n",
              "        vertical-align: middle;\n",
              "    }\n",
              "\n",
              "    .dataframe tbody tr th {\n",
              "        vertical-align: top;\n",
              "    }\n",
              "\n",
              "    .dataframe thead th {\n",
              "        text-align: right;\n",
              "    }\n",
              "</style>\n",
              "<table border=\"1\" class=\"dataframe\">\n",
              "  <thead>\n",
              "    <tr style=\"text-align: right;\">\n",
              "      <th>Classes prédites</th>\n",
              "      <th>A</th>\n",
              "      <th>B</th>\n",
              "      <th>C</th>\n",
              "      <th>D</th>\n",
              "      <th>E</th>\n",
              "      <th>F</th>\n",
              "      <th>G</th>\n",
              "    </tr>\n",
              "    <tr>\n",
              "      <th>Classes réelles</th>\n",
              "      <th></th>\n",
              "      <th></th>\n",
              "      <th></th>\n",
              "      <th></th>\n",
              "      <th></th>\n",
              "      <th></th>\n",
              "      <th></th>\n",
              "    </tr>\n",
              "  </thead>\n",
              "  <tbody>\n",
              "    <tr>\n",
              "      <th>A</th>\n",
              "      <td>66</td>\n",
              "      <td>4</td>\n",
              "      <td>0</td>\n",
              "      <td>0</td>\n",
              "      <td>0</td>\n",
              "      <td>0</td>\n",
              "      <td>0</td>\n",
              "    </tr>\n",
              "    <tr>\n",
              "      <th>B</th>\n",
              "      <td>25</td>\n",
              "      <td>128</td>\n",
              "      <td>15</td>\n",
              "      <td>2</td>\n",
              "      <td>0</td>\n",
              "      <td>0</td>\n",
              "      <td>0</td>\n",
              "    </tr>\n",
              "    <tr>\n",
              "      <th>C</th>\n",
              "      <td>2</td>\n",
              "      <td>35</td>\n",
              "      <td>194</td>\n",
              "      <td>27</td>\n",
              "      <td>0</td>\n",
              "      <td>0</td>\n",
              "      <td>0</td>\n",
              "    </tr>\n",
              "    <tr>\n",
              "      <th>D</th>\n",
              "      <td>0</td>\n",
              "      <td>3</td>\n",
              "      <td>49</td>\n",
              "      <td>197</td>\n",
              "      <td>21</td>\n",
              "      <td>3</td>\n",
              "      <td>0</td>\n",
              "    </tr>\n",
              "    <tr>\n",
              "      <th>E</th>\n",
              "      <td>0</td>\n",
              "      <td>0</td>\n",
              "      <td>0</td>\n",
              "      <td>54</td>\n",
              "      <td>222</td>\n",
              "      <td>21</td>\n",
              "      <td>0</td>\n",
              "    </tr>\n",
              "    <tr>\n",
              "      <th>F</th>\n",
              "      <td>0</td>\n",
              "      <td>0</td>\n",
              "      <td>0</td>\n",
              "      <td>0</td>\n",
              "      <td>12</td>\n",
              "      <td>159</td>\n",
              "      <td>7</td>\n",
              "    </tr>\n",
              "    <tr>\n",
              "      <th>G</th>\n",
              "      <td>0</td>\n",
              "      <td>0</td>\n",
              "      <td>0</td>\n",
              "      <td>0</td>\n",
              "      <td>0</td>\n",
              "      <td>4</td>\n",
              "      <td>69</td>\n",
              "    </tr>\n",
              "  </tbody>\n",
              "</table>\n",
              "</div>\n",
              "      <button class=\"colab-df-convert\" onclick=\"convertToInteractive('df-6bdd0194-79c0-4f32-8a06-405c5b02564d')\"\n",
              "              title=\"Convert this dataframe to an interactive table.\"\n",
              "              style=\"display:none;\">\n",
              "        \n",
              "  <svg xmlns=\"http://www.w3.org/2000/svg\" height=\"24px\"viewBox=\"0 0 24 24\"\n",
              "       width=\"24px\">\n",
              "    <path d=\"M0 0h24v24H0V0z\" fill=\"none\"/>\n",
              "    <path d=\"M18.56 5.44l.94 2.06.94-2.06 2.06-.94-2.06-.94-.94-2.06-.94 2.06-2.06.94zm-11 1L8.5 8.5l.94-2.06 2.06-.94-2.06-.94L8.5 2.5l-.94 2.06-2.06.94zm10 10l.94 2.06.94-2.06 2.06-.94-2.06-.94-.94-2.06-.94 2.06-2.06.94z\"/><path d=\"M17.41 7.96l-1.37-1.37c-.4-.4-.92-.59-1.43-.59-.52 0-1.04.2-1.43.59L10.3 9.45l-7.72 7.72c-.78.78-.78 2.05 0 2.83L4 21.41c.39.39.9.59 1.41.59.51 0 1.02-.2 1.41-.59l7.78-7.78 2.81-2.81c.8-.78.8-2.07 0-2.86zM5.41 20L4 18.59l7.72-7.72 1.47 1.35L5.41 20z\"/>\n",
              "  </svg>\n",
              "      </button>\n",
              "      \n",
              "  <style>\n",
              "    .colab-df-container {\n",
              "      display:flex;\n",
              "      flex-wrap:wrap;\n",
              "      gap: 12px;\n",
              "    }\n",
              "\n",
              "    .colab-df-convert {\n",
              "      background-color: #E8F0FE;\n",
              "      border: none;\n",
              "      border-radius: 50%;\n",
              "      cursor: pointer;\n",
              "      display: none;\n",
              "      fill: #1967D2;\n",
              "      height: 32px;\n",
              "      padding: 0 0 0 0;\n",
              "      width: 32px;\n",
              "    }\n",
              "\n",
              "    .colab-df-convert:hover {\n",
              "      background-color: #E2EBFA;\n",
              "      box-shadow: 0px 1px 2px rgba(60, 64, 67, 0.3), 0px 1px 3px 1px rgba(60, 64, 67, 0.15);\n",
              "      fill: #174EA6;\n",
              "    }\n",
              "\n",
              "    [theme=dark] .colab-df-convert {\n",
              "      background-color: #3B4455;\n",
              "      fill: #D2E3FC;\n",
              "    }\n",
              "\n",
              "    [theme=dark] .colab-df-convert:hover {\n",
              "      background-color: #434B5C;\n",
              "      box-shadow: 0px 1px 3px 1px rgba(0, 0, 0, 0.15);\n",
              "      filter: drop-shadow(0px 1px 2px rgba(0, 0, 0, 0.3));\n",
              "      fill: #FFFFFF;\n",
              "    }\n",
              "  </style>\n",
              "\n",
              "      <script>\n",
              "        const buttonEl =\n",
              "          document.querySelector('#df-6bdd0194-79c0-4f32-8a06-405c5b02564d button.colab-df-convert');\n",
              "        buttonEl.style.display =\n",
              "          google.colab.kernel.accessAllowed ? 'block' : 'none';\n",
              "\n",
              "        async function convertToInteractive(key) {\n",
              "          const element = document.querySelector('#df-6bdd0194-79c0-4f32-8a06-405c5b02564d');\n",
              "          const dataTable =\n",
              "            await google.colab.kernel.invokeFunction('convertToInteractive',\n",
              "                                                     [key], {});\n",
              "          if (!dataTable) return;\n",
              "\n",
              "          const docLinkHtml = 'Like what you see? Visit the ' +\n",
              "            '<a target=\"_blank\" href=https://colab.research.google.com/notebooks/data_table.ipynb>data table notebook</a>'\n",
              "            + ' to learn more about interactive tables.';\n",
              "          element.innerHTML = '';\n",
              "          dataTable['output_type'] = 'display_data';\n",
              "          await google.colab.output.renderOutput(dataTable, element);\n",
              "          const docLink = document.createElement('div');\n",
              "          docLink.innerHTML = docLinkHtml;\n",
              "          element.appendChild(docLink);\n",
              "        }\n",
              "      </script>\n",
              "    </div>\n",
              "  </div>\n",
              "  "
            ]
          },
          "metadata": {},
          "execution_count": 59
        }
      ]
    },
    {
      "cell_type": "code",
      "source": [
        "print(classification_report_imbalanced(y_test, y_pred_ru))"
      ],
      "metadata": {
        "id": "MOHb5lYxLRZa",
        "colab": {
          "base_uri": "https://localhost:8080/"
        },
        "outputId": "08065d97-29d0-4ce4-bea8-1b257b32ff82"
      },
      "execution_count": null,
      "outputs": [
        {
          "output_type": "stream",
          "name": "stdout",
          "text": [
            "                   pre       rec       spe        f1       geo       iba       sup\n",
            "\n",
            "          A       0.71      0.94      0.98      0.81      0.96      0.92        70\n",
            "          B       0.75      0.75      0.96      0.75      0.85      0.71       170\n",
            "          C       0.75      0.75      0.94      0.75      0.84      0.69       258\n",
            "          D       0.70      0.72      0.92      0.71      0.82      0.65       273\n",
            "          E       0.87      0.75      0.97      0.80      0.85      0.71       297\n",
            "          F       0.85      0.89      0.98      0.87      0.93      0.86       178\n",
            "          G       0.91      0.95      0.99      0.93      0.97      0.94        73\n",
            "\n",
            "avg / total       0.79      0.78      0.96      0.78      0.86      0.74      1319\n",
            "\n"
          ]
        }
      ]
    },
    {
      "cell_type": "code",
      "source": [
        "# On a remarqué que les temps de traitement étaient plus longs avec les techniques d'Oversampling mais avec des scores plus élevés\n",
        "# Le nombre d'échantillons obtenus avec l'undersampling nous semble trop faible pour la modélisation\n",
        "# On pourra tester la robustesse des modèles sur les datasets des autres années (2012, 2014)"
      ],
      "metadata": {
        "id": "7X-ZLXVCJtt1"
      },
      "execution_count": null,
      "outputs": []
    },
    {
      "cell_type": "markdown",
      "source": [
        "### **Cas 2 : Modélisation avec les variables qualitatives**"
      ],
      "metadata": {
        "id": "AIsaA0l4NsNj"
      }
    },
    {
      "cell_type": "code",
      "source": [
        "# De prime abord, toutes les variables qualitatives ne seraient pas utiles dans la modélisation\n",
        "# Les variables qui nous semblent avoir un sens seraient : le type de boîte, le carburant\n",
        "# Documentation nécessaire pour avoir le recul 'métier'\n",
        "# A noter que l'année du dataset correspond à l'année du \"Wolkswagengate\" donc les chiffres ne sont pas forcément représentatifs des données réelles"
      ],
      "metadata": {
        "id": "xtVX-wF_S0F0"
      },
      "execution_count": null,
      "outputs": []
    },
    {
      "cell_type": "code",
      "source": [
        "# Séparation en données d'entraînement et de test\n",
        "X_train, X_test, y_train, y_test = train_test_split(feats, target, test_size = 0.25) # Question : Faut-il rajouter un paramètre random_state?"
      ],
      "metadata": {
        "id": "icqd3wF1-jJO"
      },
      "execution_count": null,
      "outputs": []
    },
    {
      "cell_type": "code",
      "source": [
        "# Les variables numériques doivent être standardisées\n",
        "from sklearn.preprocessing import StandardScaler\n",
        "scaler = StandardScaler()\n",
        "X_train = scaler.fit_transform(X_train)\n",
        "X_test = scaler.transform(X_test)"
      ],
      "metadata": {
        "id": "O7YHl27Zz_rE"
      },
      "execution_count": null,
      "outputs": []
    },
    {
      "cell_type": "markdown",
      "source": [
        "###### Classifieur SVC (avec variables qualitatives)"
      ],
      "metadata": {
        "id": "riXM6CCa0PXc"
      }
    },
    {
      "cell_type": "code",
      "source": [
        "# Instanciation du classifieur\n",
        "clf_svc3 = SVC(gamma = 'scale')        # Question : Comment initialiser les hyperparamètres ?\n",
        "\n",
        "clf_svc3.fit(X_train, y_train)         # Entraînement du classifieur\n",
        "\n",
        "y_pred_svc3 = clf_svc3.predict(X_test) # Prédictions du classifieur\n",
        "\n",
        "# Matrice de confusion\n",
        "pd.crosstab(y_test, y_pred_svc3, rownames = ['Classes réelles'], colnames = ['Classes prédites SVC'])"
      ],
      "metadata": {
        "id": "jHEe0VEp0HKl",
        "colab": {
          "base_uri": "https://localhost:8080/",
          "height": 300
        },
        "outputId": "34296673-8924-4c2e-83db-735ae6645e4c"
      },
      "execution_count": null,
      "outputs": [
        {
          "output_type": "execute_result",
          "data": {
            "text/plain": [
              "Classes prédites SVC   A   B    C    D    E    F   G\n",
              "Classes réelles                                     \n",
              "A                     10  37    2    0    0    0   0\n",
              "B                      3  90   68    3    1    0   0\n",
              "C                      2  29  176   37    3    0   0\n",
              "D                      2   6   53  214   17    0   0\n",
              "E                      0   1    6   47  224   18   0\n",
              "F                      0   0    1    0   34  149   5\n",
              "G                      0   0    0    0    0   13  68"
            ],
            "text/html": [
              "\n",
              "  <div id=\"df-be0b2a78-1ec4-43f6-a1d2-de845b41a6b0\">\n",
              "    <div class=\"colab-df-container\">\n",
              "      <div>\n",
              "<style scoped>\n",
              "    .dataframe tbody tr th:only-of-type {\n",
              "        vertical-align: middle;\n",
              "    }\n",
              "\n",
              "    .dataframe tbody tr th {\n",
              "        vertical-align: top;\n",
              "    }\n",
              "\n",
              "    .dataframe thead th {\n",
              "        text-align: right;\n",
              "    }\n",
              "</style>\n",
              "<table border=\"1\" class=\"dataframe\">\n",
              "  <thead>\n",
              "    <tr style=\"text-align: right;\">\n",
              "      <th>Classes prédites SVC</th>\n",
              "      <th>A</th>\n",
              "      <th>B</th>\n",
              "      <th>C</th>\n",
              "      <th>D</th>\n",
              "      <th>E</th>\n",
              "      <th>F</th>\n",
              "      <th>G</th>\n",
              "    </tr>\n",
              "    <tr>\n",
              "      <th>Classes réelles</th>\n",
              "      <th></th>\n",
              "      <th></th>\n",
              "      <th></th>\n",
              "      <th></th>\n",
              "      <th></th>\n",
              "      <th></th>\n",
              "      <th></th>\n",
              "    </tr>\n",
              "  </thead>\n",
              "  <tbody>\n",
              "    <tr>\n",
              "      <th>A</th>\n",
              "      <td>10</td>\n",
              "      <td>37</td>\n",
              "      <td>2</td>\n",
              "      <td>0</td>\n",
              "      <td>0</td>\n",
              "      <td>0</td>\n",
              "      <td>0</td>\n",
              "    </tr>\n",
              "    <tr>\n",
              "      <th>B</th>\n",
              "      <td>3</td>\n",
              "      <td>90</td>\n",
              "      <td>68</td>\n",
              "      <td>3</td>\n",
              "      <td>1</td>\n",
              "      <td>0</td>\n",
              "      <td>0</td>\n",
              "    </tr>\n",
              "    <tr>\n",
              "      <th>C</th>\n",
              "      <td>2</td>\n",
              "      <td>29</td>\n",
              "      <td>176</td>\n",
              "      <td>37</td>\n",
              "      <td>3</td>\n",
              "      <td>0</td>\n",
              "      <td>0</td>\n",
              "    </tr>\n",
              "    <tr>\n",
              "      <th>D</th>\n",
              "      <td>2</td>\n",
              "      <td>6</td>\n",
              "      <td>53</td>\n",
              "      <td>214</td>\n",
              "      <td>17</td>\n",
              "      <td>0</td>\n",
              "      <td>0</td>\n",
              "    </tr>\n",
              "    <tr>\n",
              "      <th>E</th>\n",
              "      <td>0</td>\n",
              "      <td>1</td>\n",
              "      <td>6</td>\n",
              "      <td>47</td>\n",
              "      <td>224</td>\n",
              "      <td>18</td>\n",
              "      <td>0</td>\n",
              "    </tr>\n",
              "    <tr>\n",
              "      <th>F</th>\n",
              "      <td>0</td>\n",
              "      <td>0</td>\n",
              "      <td>1</td>\n",
              "      <td>0</td>\n",
              "      <td>34</td>\n",
              "      <td>149</td>\n",
              "      <td>5</td>\n",
              "    </tr>\n",
              "    <tr>\n",
              "      <th>G</th>\n",
              "      <td>0</td>\n",
              "      <td>0</td>\n",
              "      <td>0</td>\n",
              "      <td>0</td>\n",
              "      <td>0</td>\n",
              "      <td>13</td>\n",
              "      <td>68</td>\n",
              "    </tr>\n",
              "  </tbody>\n",
              "</table>\n",
              "</div>\n",
              "      <button class=\"colab-df-convert\" onclick=\"convertToInteractive('df-be0b2a78-1ec4-43f6-a1d2-de845b41a6b0')\"\n",
              "              title=\"Convert this dataframe to an interactive table.\"\n",
              "              style=\"display:none;\">\n",
              "        \n",
              "  <svg xmlns=\"http://www.w3.org/2000/svg\" height=\"24px\"viewBox=\"0 0 24 24\"\n",
              "       width=\"24px\">\n",
              "    <path d=\"M0 0h24v24H0V0z\" fill=\"none\"/>\n",
              "    <path d=\"M18.56 5.44l.94 2.06.94-2.06 2.06-.94-2.06-.94-.94-2.06-.94 2.06-2.06.94zm-11 1L8.5 8.5l.94-2.06 2.06-.94-2.06-.94L8.5 2.5l-.94 2.06-2.06.94zm10 10l.94 2.06.94-2.06 2.06-.94-2.06-.94-.94-2.06-.94 2.06-2.06.94z\"/><path d=\"M17.41 7.96l-1.37-1.37c-.4-.4-.92-.59-1.43-.59-.52 0-1.04.2-1.43.59L10.3 9.45l-7.72 7.72c-.78.78-.78 2.05 0 2.83L4 21.41c.39.39.9.59 1.41.59.51 0 1.02-.2 1.41-.59l7.78-7.78 2.81-2.81c.8-.78.8-2.07 0-2.86zM5.41 20L4 18.59l7.72-7.72 1.47 1.35L5.41 20z\"/>\n",
              "  </svg>\n",
              "      </button>\n",
              "      \n",
              "  <style>\n",
              "    .colab-df-container {\n",
              "      display:flex;\n",
              "      flex-wrap:wrap;\n",
              "      gap: 12px;\n",
              "    }\n",
              "\n",
              "    .colab-df-convert {\n",
              "      background-color: #E8F0FE;\n",
              "      border: none;\n",
              "      border-radius: 50%;\n",
              "      cursor: pointer;\n",
              "      display: none;\n",
              "      fill: #1967D2;\n",
              "      height: 32px;\n",
              "      padding: 0 0 0 0;\n",
              "      width: 32px;\n",
              "    }\n",
              "\n",
              "    .colab-df-convert:hover {\n",
              "      background-color: #E2EBFA;\n",
              "      box-shadow: 0px 1px 2px rgba(60, 64, 67, 0.3), 0px 1px 3px 1px rgba(60, 64, 67, 0.15);\n",
              "      fill: #174EA6;\n",
              "    }\n",
              "\n",
              "    [theme=dark] .colab-df-convert {\n",
              "      background-color: #3B4455;\n",
              "      fill: #D2E3FC;\n",
              "    }\n",
              "\n",
              "    [theme=dark] .colab-df-convert:hover {\n",
              "      background-color: #434B5C;\n",
              "      box-shadow: 0px 1px 3px 1px rgba(0, 0, 0, 0.15);\n",
              "      filter: drop-shadow(0px 1px 2px rgba(0, 0, 0, 0.3));\n",
              "      fill: #FFFFFF;\n",
              "    }\n",
              "  </style>\n",
              "\n",
              "      <script>\n",
              "        const buttonEl =\n",
              "          document.querySelector('#df-be0b2a78-1ec4-43f6-a1d2-de845b41a6b0 button.colab-df-convert');\n",
              "        buttonEl.style.display =\n",
              "          google.colab.kernel.accessAllowed ? 'block' : 'none';\n",
              "\n",
              "        async function convertToInteractive(key) {\n",
              "          const element = document.querySelector('#df-be0b2a78-1ec4-43f6-a1d2-de845b41a6b0');\n",
              "          const dataTable =\n",
              "            await google.colab.kernel.invokeFunction('convertToInteractive',\n",
              "                                                     [key], {});\n",
              "          if (!dataTable) return;\n",
              "\n",
              "          const docLinkHtml = 'Like what you see? Visit the ' +\n",
              "            '<a target=\"_blank\" href=https://colab.research.google.com/notebooks/data_table.ipynb>data table notebook</a>'\n",
              "            + ' to learn more about interactive tables.';\n",
              "          element.innerHTML = '';\n",
              "          dataTable['output_type'] = 'display_data';\n",
              "          await google.colab.output.renderOutput(dataTable, element);\n",
              "          const docLink = document.createElement('div');\n",
              "          docLink.innerHTML = docLinkHtml;\n",
              "          element.appendChild(docLink);\n",
              "        }\n",
              "      </script>\n",
              "    </div>\n",
              "  </div>\n",
              "  "
            ]
          },
          "metadata": {},
          "execution_count": 65
        }
      ]
    },
    {
      "cell_type": "code",
      "source": [
        "# Accuracy de clf_svc3\n",
        "acc_svc = accuracy_score(y_test, y_pred_svc3)\n",
        "\n",
        "# Affichage des métriques\n",
        "print(\"L'accuracy de clf_svc3 est de\", acc_svc)\n",
        "\n",
        "# Enregistrement du modèle\n",
        "dump(clf_svc3, 'clf_svc3.joblib')"
      ],
      "metadata": {
        "id": "ZfSJHCmz7_Ai",
        "colab": {
          "base_uri": "https://localhost:8080/"
        },
        "outputId": "08fade19-947b-4684-e9f8-aad8af930599"
      },
      "execution_count": null,
      "outputs": [
        {
          "output_type": "stream",
          "name": "stdout",
          "text": [
            "L'accuracy de clf_svc3 est de 0.7058377558756633\n"
          ]
        },
        {
          "output_type": "execute_result",
          "data": {
            "text/plain": [
              "['clf_svc3.joblib']"
            ]
          },
          "metadata": {},
          "execution_count": 66
        }
      ]
    },
    {
      "cell_type": "code",
      "source": [
        "# On constate que l'accuracy du classifieur SVC a diminué"
      ],
      "metadata": {
        "id": "wtG6xADN8OjI"
      },
      "execution_count": null,
      "outputs": []
    },
    {
      "cell_type": "markdown",
      "source": [
        "Optimisation des hyperparamètres (Camille)"
      ],
      "metadata": {
        "id": "C6IN_H--RBYV"
      }
    },
    {
      "cell_type": "code",
      "source": [
        "# Création d'un dictionnaire de parametres contenant les valeurs possibles prises pour les paramètres \n",
        "#C:doit être strictement positif\n",
        "#kernel a 5 possibilités décrites, mais quand on utilise 'precomputed', cela ne fonctionne pas\n",
        "# gamma:'scale' 'auto' ou des nombres décimaux\n",
        "parametres= {\n",
        "        'C':[1,50,100,200],\n",
        "    'kernel': ['linear', 'poly', 'rbf', 'sigmoid'],\n",
        "    'gamma':[0.05,0.07,0.1,0.2,0.5,1]\n",
        "}\n",
        "\n",
        "#on applique la fonction gridsearch au modèle SVC\n",
        "grid_svc3=GridSearchCV(clf_svc3,parametres)\n",
        "\n",
        "#on entraîne grid_svc sur l'ensemble d'entraînement\n",
        "grille=grid_svc3.fit(X_train, y_train)\n",
        "\n",
        "# On affiche les meilleurs paramètres de la grille \n",
        "print('les meilleurs paramètres pour le SVC sont ',grille.best_params_)"
      ],
      "metadata": {
        "colab": {
          "base_uri": "https://localhost:8080/",
          "height": 380
        },
        "id": "sewrBX0LQ_Gq",
        "outputId": "8efe344e-621e-4870-8f71-1259e1d585fa"
      },
      "execution_count": null,
      "outputs": [
        {
          "output_type": "error",
          "ename": "KeyboardInterrupt",
          "evalue": "ignored",
          "traceback": [
            "\u001b[0;31m---------------------------------------------------------------------------\u001b[0m",
            "\u001b[0;31mKeyboardInterrupt\u001b[0m                         Traceback (most recent call last)",
            "\u001b[0;32m<ipython-input-68-f202f78025c4>\u001b[0m in \u001b[0;36m<module>\u001b[0;34m\u001b[0m\n\u001b[1;32m     13\u001b[0m \u001b[0;34m\u001b[0m\u001b[0m\n\u001b[1;32m     14\u001b[0m \u001b[0;31m#on entraîne grid_svc sur l'ensemble d'entraînement\u001b[0m\u001b[0;34m\u001b[0m\u001b[0;34m\u001b[0m\u001b[0;34m\u001b[0m\u001b[0m\n\u001b[0;32m---> 15\u001b[0;31m \u001b[0mgrille\u001b[0m\u001b[0;34m=\u001b[0m\u001b[0mgrid_svc3\u001b[0m\u001b[0;34m.\u001b[0m\u001b[0mfit\u001b[0m\u001b[0;34m(\u001b[0m\u001b[0mX_train\u001b[0m\u001b[0;34m,\u001b[0m \u001b[0my_train\u001b[0m\u001b[0;34m)\u001b[0m\u001b[0;34m\u001b[0m\u001b[0;34m\u001b[0m\u001b[0m\n\u001b[0m\u001b[1;32m     16\u001b[0m \u001b[0;34m\u001b[0m\u001b[0m\n\u001b[1;32m     17\u001b[0m \u001b[0;31m# On affiche les meilleurs paramètres de la grille\u001b[0m\u001b[0;34m\u001b[0m\u001b[0;34m\u001b[0m\u001b[0;34m\u001b[0m\u001b[0m\n",
            "\u001b[0;32m/usr/local/lib/python3.7/dist-packages/sklearn/model_selection/_search.py\u001b[0m in \u001b[0;36mfit\u001b[0;34m(self, X, y, groups, **fit_params)\u001b[0m\n\u001b[1;32m    889\u001b[0m                 \u001b[0;32mreturn\u001b[0m \u001b[0mresults\u001b[0m\u001b[0;34m\u001b[0m\u001b[0;34m\u001b[0m\u001b[0m\n\u001b[1;32m    890\u001b[0m \u001b[0;34m\u001b[0m\u001b[0m\n\u001b[0;32m--> 891\u001b[0;31m             \u001b[0mself\u001b[0m\u001b[0;34m.\u001b[0m\u001b[0m_run_search\u001b[0m\u001b[0;34m(\u001b[0m\u001b[0mevaluate_candidates\u001b[0m\u001b[0;34m)\u001b[0m\u001b[0;34m\u001b[0m\u001b[0;34m\u001b[0m\u001b[0m\n\u001b[0m\u001b[1;32m    892\u001b[0m \u001b[0;34m\u001b[0m\u001b[0m\n\u001b[1;32m    893\u001b[0m             \u001b[0;31m# multimetric is determined here because in the case of a callable\u001b[0m\u001b[0;34m\u001b[0m\u001b[0;34m\u001b[0m\u001b[0;34m\u001b[0m\u001b[0m\n",
            "\u001b[0;32m/usr/local/lib/python3.7/dist-packages/sklearn/model_selection/_search.py\u001b[0m in \u001b[0;36m_run_search\u001b[0;34m(self, evaluate_candidates)\u001b[0m\n\u001b[1;32m   1390\u001b[0m     \u001b[0;32mdef\u001b[0m \u001b[0m_run_search\u001b[0m\u001b[0;34m(\u001b[0m\u001b[0mself\u001b[0m\u001b[0;34m,\u001b[0m \u001b[0mevaluate_candidates\u001b[0m\u001b[0;34m)\u001b[0m\u001b[0;34m:\u001b[0m\u001b[0;34m\u001b[0m\u001b[0;34m\u001b[0m\u001b[0m\n\u001b[1;32m   1391\u001b[0m         \u001b[0;34m\"\"\"Search all candidates in param_grid\"\"\"\u001b[0m\u001b[0;34m\u001b[0m\u001b[0;34m\u001b[0m\u001b[0m\n\u001b[0;32m-> 1392\u001b[0;31m         \u001b[0mevaluate_candidates\u001b[0m\u001b[0;34m(\u001b[0m\u001b[0mParameterGrid\u001b[0m\u001b[0;34m(\u001b[0m\u001b[0mself\u001b[0m\u001b[0;34m.\u001b[0m\u001b[0mparam_grid\u001b[0m\u001b[0;34m)\u001b[0m\u001b[0;34m)\u001b[0m\u001b[0;34m\u001b[0m\u001b[0;34m\u001b[0m\u001b[0m\n\u001b[0m\u001b[1;32m   1393\u001b[0m \u001b[0;34m\u001b[0m\u001b[0m\n\u001b[1;32m   1394\u001b[0m \u001b[0;34m\u001b[0m\u001b[0m\n",
            "\u001b[0;32m/usr/local/lib/python3.7/dist-packages/sklearn/model_selection/_search.py\u001b[0m in \u001b[0;36mevaluate_candidates\u001b[0;34m(candidate_params, cv, more_results)\u001b[0m\n\u001b[1;32m    849\u001b[0m                     )\n\u001b[1;32m    850\u001b[0m                     for (cand_idx, parameters), (split_idx, (train, test)) in product(\n\u001b[0;32m--> 851\u001b[0;31m                         \u001b[0menumerate\u001b[0m\u001b[0;34m(\u001b[0m\u001b[0mcandidate_params\u001b[0m\u001b[0;34m)\u001b[0m\u001b[0;34m,\u001b[0m \u001b[0menumerate\u001b[0m\u001b[0;34m(\u001b[0m\u001b[0mcv\u001b[0m\u001b[0;34m.\u001b[0m\u001b[0msplit\u001b[0m\u001b[0;34m(\u001b[0m\u001b[0mX\u001b[0m\u001b[0;34m,\u001b[0m \u001b[0my\u001b[0m\u001b[0;34m,\u001b[0m \u001b[0mgroups\u001b[0m\u001b[0;34m)\u001b[0m\u001b[0;34m)\u001b[0m\u001b[0;34m\u001b[0m\u001b[0;34m\u001b[0m\u001b[0m\n\u001b[0m\u001b[1;32m    852\u001b[0m                     )\n\u001b[1;32m    853\u001b[0m                 )\n",
            "\u001b[0;32m/usr/local/lib/python3.7/dist-packages/joblib/parallel.py\u001b[0m in \u001b[0;36m__call__\u001b[0;34m(self, iterable)\u001b[0m\n\u001b[1;32m   1044\u001b[0m                 \u001b[0mself\u001b[0m\u001b[0;34m.\u001b[0m\u001b[0m_iterating\u001b[0m \u001b[0;34m=\u001b[0m \u001b[0mself\u001b[0m\u001b[0;34m.\u001b[0m\u001b[0m_original_iterator\u001b[0m \u001b[0;32mis\u001b[0m \u001b[0;32mnot\u001b[0m \u001b[0;32mNone\u001b[0m\u001b[0;34m\u001b[0m\u001b[0;34m\u001b[0m\u001b[0m\n\u001b[1;32m   1045\u001b[0m \u001b[0;34m\u001b[0m\u001b[0m\n\u001b[0;32m-> 1046\u001b[0;31m             \u001b[0;32mwhile\u001b[0m \u001b[0mself\u001b[0m\u001b[0;34m.\u001b[0m\u001b[0mdispatch_one_batch\u001b[0m\u001b[0;34m(\u001b[0m\u001b[0miterator\u001b[0m\u001b[0;34m)\u001b[0m\u001b[0;34m:\u001b[0m\u001b[0;34m\u001b[0m\u001b[0;34m\u001b[0m\u001b[0m\n\u001b[0m\u001b[1;32m   1047\u001b[0m                 \u001b[0;32mpass\u001b[0m\u001b[0;34m\u001b[0m\u001b[0;34m\u001b[0m\u001b[0m\n\u001b[1;32m   1048\u001b[0m \u001b[0;34m\u001b[0m\u001b[0m\n",
            "\u001b[0;32m/usr/local/lib/python3.7/dist-packages/joblib/parallel.py\u001b[0m in \u001b[0;36mdispatch_one_batch\u001b[0;34m(self, iterator)\u001b[0m\n\u001b[1;32m    859\u001b[0m                 \u001b[0;32mreturn\u001b[0m \u001b[0;32mFalse\u001b[0m\u001b[0;34m\u001b[0m\u001b[0;34m\u001b[0m\u001b[0m\n\u001b[1;32m    860\u001b[0m             \u001b[0;32melse\u001b[0m\u001b[0;34m:\u001b[0m\u001b[0;34m\u001b[0m\u001b[0;34m\u001b[0m\u001b[0m\n\u001b[0;32m--> 861\u001b[0;31m                 \u001b[0mself\u001b[0m\u001b[0;34m.\u001b[0m\u001b[0m_dispatch\u001b[0m\u001b[0;34m(\u001b[0m\u001b[0mtasks\u001b[0m\u001b[0;34m)\u001b[0m\u001b[0;34m\u001b[0m\u001b[0;34m\u001b[0m\u001b[0m\n\u001b[0m\u001b[1;32m    862\u001b[0m                 \u001b[0;32mreturn\u001b[0m \u001b[0;32mTrue\u001b[0m\u001b[0;34m\u001b[0m\u001b[0;34m\u001b[0m\u001b[0m\n\u001b[1;32m    863\u001b[0m \u001b[0;34m\u001b[0m\u001b[0m\n",
            "\u001b[0;32m/usr/local/lib/python3.7/dist-packages/joblib/parallel.py\u001b[0m in \u001b[0;36m_dispatch\u001b[0;34m(self, batch)\u001b[0m\n\u001b[1;32m    777\u001b[0m         \u001b[0;32mwith\u001b[0m \u001b[0mself\u001b[0m\u001b[0;34m.\u001b[0m\u001b[0m_lock\u001b[0m\u001b[0;34m:\u001b[0m\u001b[0;34m\u001b[0m\u001b[0;34m\u001b[0m\u001b[0m\n\u001b[1;32m    778\u001b[0m             \u001b[0mjob_idx\u001b[0m \u001b[0;34m=\u001b[0m \u001b[0mlen\u001b[0m\u001b[0;34m(\u001b[0m\u001b[0mself\u001b[0m\u001b[0;34m.\u001b[0m\u001b[0m_jobs\u001b[0m\u001b[0;34m)\u001b[0m\u001b[0;34m\u001b[0m\u001b[0;34m\u001b[0m\u001b[0m\n\u001b[0;32m--> 779\u001b[0;31m             \u001b[0mjob\u001b[0m \u001b[0;34m=\u001b[0m \u001b[0mself\u001b[0m\u001b[0;34m.\u001b[0m\u001b[0m_backend\u001b[0m\u001b[0;34m.\u001b[0m\u001b[0mapply_async\u001b[0m\u001b[0;34m(\u001b[0m\u001b[0mbatch\u001b[0m\u001b[0;34m,\u001b[0m \u001b[0mcallback\u001b[0m\u001b[0;34m=\u001b[0m\u001b[0mcb\u001b[0m\u001b[0;34m)\u001b[0m\u001b[0;34m\u001b[0m\u001b[0;34m\u001b[0m\u001b[0m\n\u001b[0m\u001b[1;32m    780\u001b[0m             \u001b[0;31m# A job can complete so quickly than its callback is\u001b[0m\u001b[0;34m\u001b[0m\u001b[0;34m\u001b[0m\u001b[0;34m\u001b[0m\u001b[0m\n\u001b[1;32m    781\u001b[0m             \u001b[0;31m# called before we get here, causing self._jobs to\u001b[0m\u001b[0;34m\u001b[0m\u001b[0;34m\u001b[0m\u001b[0;34m\u001b[0m\u001b[0m\n",
            "\u001b[0;32m/usr/local/lib/python3.7/dist-packages/joblib/_parallel_backends.py\u001b[0m in \u001b[0;36mapply_async\u001b[0;34m(self, func, callback)\u001b[0m\n\u001b[1;32m    206\u001b[0m     \u001b[0;32mdef\u001b[0m \u001b[0mapply_async\u001b[0m\u001b[0;34m(\u001b[0m\u001b[0mself\u001b[0m\u001b[0;34m,\u001b[0m \u001b[0mfunc\u001b[0m\u001b[0;34m,\u001b[0m \u001b[0mcallback\u001b[0m\u001b[0;34m=\u001b[0m\u001b[0;32mNone\u001b[0m\u001b[0;34m)\u001b[0m\u001b[0;34m:\u001b[0m\u001b[0;34m\u001b[0m\u001b[0;34m\u001b[0m\u001b[0m\n\u001b[1;32m    207\u001b[0m         \u001b[0;34m\"\"\"Schedule a func to be run\"\"\"\u001b[0m\u001b[0;34m\u001b[0m\u001b[0;34m\u001b[0m\u001b[0m\n\u001b[0;32m--> 208\u001b[0;31m         \u001b[0mresult\u001b[0m \u001b[0;34m=\u001b[0m \u001b[0mImmediateResult\u001b[0m\u001b[0;34m(\u001b[0m\u001b[0mfunc\u001b[0m\u001b[0;34m)\u001b[0m\u001b[0;34m\u001b[0m\u001b[0;34m\u001b[0m\u001b[0m\n\u001b[0m\u001b[1;32m    209\u001b[0m         \u001b[0;32mif\u001b[0m \u001b[0mcallback\u001b[0m\u001b[0;34m:\u001b[0m\u001b[0;34m\u001b[0m\u001b[0;34m\u001b[0m\u001b[0m\n\u001b[1;32m    210\u001b[0m             \u001b[0mcallback\u001b[0m\u001b[0;34m(\u001b[0m\u001b[0mresult\u001b[0m\u001b[0;34m)\u001b[0m\u001b[0;34m\u001b[0m\u001b[0;34m\u001b[0m\u001b[0m\n",
            "\u001b[0;32m/usr/local/lib/python3.7/dist-packages/joblib/_parallel_backends.py\u001b[0m in \u001b[0;36m__init__\u001b[0;34m(self, batch)\u001b[0m\n\u001b[1;32m    570\u001b[0m         \u001b[0;31m# Don't delay the application, to avoid keeping the input\u001b[0m\u001b[0;34m\u001b[0m\u001b[0;34m\u001b[0m\u001b[0;34m\u001b[0m\u001b[0m\n\u001b[1;32m    571\u001b[0m         \u001b[0;31m# arguments in memory\u001b[0m\u001b[0;34m\u001b[0m\u001b[0;34m\u001b[0m\u001b[0;34m\u001b[0m\u001b[0m\n\u001b[0;32m--> 572\u001b[0;31m         \u001b[0mself\u001b[0m\u001b[0;34m.\u001b[0m\u001b[0mresults\u001b[0m \u001b[0;34m=\u001b[0m \u001b[0mbatch\u001b[0m\u001b[0;34m(\u001b[0m\u001b[0;34m)\u001b[0m\u001b[0;34m\u001b[0m\u001b[0;34m\u001b[0m\u001b[0m\n\u001b[0m\u001b[1;32m    573\u001b[0m \u001b[0;34m\u001b[0m\u001b[0m\n\u001b[1;32m    574\u001b[0m     \u001b[0;32mdef\u001b[0m \u001b[0mget\u001b[0m\u001b[0;34m(\u001b[0m\u001b[0mself\u001b[0m\u001b[0;34m)\u001b[0m\u001b[0;34m:\u001b[0m\u001b[0;34m\u001b[0m\u001b[0;34m\u001b[0m\u001b[0m\n",
            "\u001b[0;32m/usr/local/lib/python3.7/dist-packages/joblib/parallel.py\u001b[0m in \u001b[0;36m__call__\u001b[0;34m(self)\u001b[0m\n\u001b[1;32m    261\u001b[0m         \u001b[0;32mwith\u001b[0m \u001b[0mparallel_backend\u001b[0m\u001b[0;34m(\u001b[0m\u001b[0mself\u001b[0m\u001b[0;34m.\u001b[0m\u001b[0m_backend\u001b[0m\u001b[0;34m,\u001b[0m \u001b[0mn_jobs\u001b[0m\u001b[0;34m=\u001b[0m\u001b[0mself\u001b[0m\u001b[0;34m.\u001b[0m\u001b[0m_n_jobs\u001b[0m\u001b[0;34m)\u001b[0m\u001b[0;34m:\u001b[0m\u001b[0;34m\u001b[0m\u001b[0;34m\u001b[0m\u001b[0m\n\u001b[1;32m    262\u001b[0m             return [func(*args, **kwargs)\n\u001b[0;32m--> 263\u001b[0;31m                     for func, args, kwargs in self.items]\n\u001b[0m\u001b[1;32m    264\u001b[0m \u001b[0;34m\u001b[0m\u001b[0m\n\u001b[1;32m    265\u001b[0m     \u001b[0;32mdef\u001b[0m \u001b[0m__reduce__\u001b[0m\u001b[0;34m(\u001b[0m\u001b[0mself\u001b[0m\u001b[0;34m)\u001b[0m\u001b[0;34m:\u001b[0m\u001b[0;34m\u001b[0m\u001b[0;34m\u001b[0m\u001b[0m\n",
            "\u001b[0;32m/usr/local/lib/python3.7/dist-packages/joblib/parallel.py\u001b[0m in \u001b[0;36m<listcomp>\u001b[0;34m(.0)\u001b[0m\n\u001b[1;32m    261\u001b[0m         \u001b[0;32mwith\u001b[0m \u001b[0mparallel_backend\u001b[0m\u001b[0;34m(\u001b[0m\u001b[0mself\u001b[0m\u001b[0;34m.\u001b[0m\u001b[0m_backend\u001b[0m\u001b[0;34m,\u001b[0m \u001b[0mn_jobs\u001b[0m\u001b[0;34m=\u001b[0m\u001b[0mself\u001b[0m\u001b[0;34m.\u001b[0m\u001b[0m_n_jobs\u001b[0m\u001b[0;34m)\u001b[0m\u001b[0;34m:\u001b[0m\u001b[0;34m\u001b[0m\u001b[0;34m\u001b[0m\u001b[0m\n\u001b[1;32m    262\u001b[0m             return [func(*args, **kwargs)\n\u001b[0;32m--> 263\u001b[0;31m                     for func, args, kwargs in self.items]\n\u001b[0m\u001b[1;32m    264\u001b[0m \u001b[0;34m\u001b[0m\u001b[0m\n\u001b[1;32m    265\u001b[0m     \u001b[0;32mdef\u001b[0m \u001b[0m__reduce__\u001b[0m\u001b[0;34m(\u001b[0m\u001b[0mself\u001b[0m\u001b[0;34m)\u001b[0m\u001b[0;34m:\u001b[0m\u001b[0;34m\u001b[0m\u001b[0;34m\u001b[0m\u001b[0m\n",
            "\u001b[0;32m/usr/local/lib/python3.7/dist-packages/sklearn/utils/fixes.py\u001b[0m in \u001b[0;36m__call__\u001b[0;34m(self, *args, **kwargs)\u001b[0m\n\u001b[1;32m    214\u001b[0m     \u001b[0;32mdef\u001b[0m \u001b[0m__call__\u001b[0m\u001b[0;34m(\u001b[0m\u001b[0mself\u001b[0m\u001b[0;34m,\u001b[0m \u001b[0;34m*\u001b[0m\u001b[0margs\u001b[0m\u001b[0;34m,\u001b[0m \u001b[0;34m**\u001b[0m\u001b[0mkwargs\u001b[0m\u001b[0;34m)\u001b[0m\u001b[0;34m:\u001b[0m\u001b[0;34m\u001b[0m\u001b[0;34m\u001b[0m\u001b[0m\n\u001b[1;32m    215\u001b[0m         \u001b[0;32mwith\u001b[0m \u001b[0mconfig_context\u001b[0m\u001b[0;34m(\u001b[0m\u001b[0;34m**\u001b[0m\u001b[0mself\u001b[0m\u001b[0;34m.\u001b[0m\u001b[0mconfig\u001b[0m\u001b[0;34m)\u001b[0m\u001b[0;34m:\u001b[0m\u001b[0;34m\u001b[0m\u001b[0;34m\u001b[0m\u001b[0m\n\u001b[0;32m--> 216\u001b[0;31m             \u001b[0;32mreturn\u001b[0m \u001b[0mself\u001b[0m\u001b[0;34m.\u001b[0m\u001b[0mfunction\u001b[0m\u001b[0;34m(\u001b[0m\u001b[0;34m*\u001b[0m\u001b[0margs\u001b[0m\u001b[0;34m,\u001b[0m \u001b[0;34m**\u001b[0m\u001b[0mkwargs\u001b[0m\u001b[0;34m)\u001b[0m\u001b[0;34m\u001b[0m\u001b[0;34m\u001b[0m\u001b[0m\n\u001b[0m\u001b[1;32m    217\u001b[0m \u001b[0;34m\u001b[0m\u001b[0m\n\u001b[1;32m    218\u001b[0m \u001b[0;34m\u001b[0m\u001b[0m\n",
            "\u001b[0;32m/usr/local/lib/python3.7/dist-packages/sklearn/model_selection/_validation.py\u001b[0m in \u001b[0;36m_fit_and_score\u001b[0;34m(estimator, X, y, scorer, train, test, verbose, parameters, fit_params, return_train_score, return_parameters, return_n_test_samples, return_times, return_estimator, split_progress, candidate_progress, error_score)\u001b[0m\n\u001b[1;32m    678\u001b[0m             \u001b[0mestimator\u001b[0m\u001b[0;34m.\u001b[0m\u001b[0mfit\u001b[0m\u001b[0;34m(\u001b[0m\u001b[0mX_train\u001b[0m\u001b[0;34m,\u001b[0m \u001b[0;34m**\u001b[0m\u001b[0mfit_params\u001b[0m\u001b[0;34m)\u001b[0m\u001b[0;34m\u001b[0m\u001b[0;34m\u001b[0m\u001b[0m\n\u001b[1;32m    679\u001b[0m         \u001b[0;32melse\u001b[0m\u001b[0;34m:\u001b[0m\u001b[0;34m\u001b[0m\u001b[0;34m\u001b[0m\u001b[0m\n\u001b[0;32m--> 680\u001b[0;31m             \u001b[0mestimator\u001b[0m\u001b[0;34m.\u001b[0m\u001b[0mfit\u001b[0m\u001b[0;34m(\u001b[0m\u001b[0mX_train\u001b[0m\u001b[0;34m,\u001b[0m \u001b[0my_train\u001b[0m\u001b[0;34m,\u001b[0m \u001b[0;34m**\u001b[0m\u001b[0mfit_params\u001b[0m\u001b[0;34m)\u001b[0m\u001b[0;34m\u001b[0m\u001b[0;34m\u001b[0m\u001b[0m\n\u001b[0m\u001b[1;32m    681\u001b[0m \u001b[0;34m\u001b[0m\u001b[0m\n\u001b[1;32m    682\u001b[0m     \u001b[0;32mexcept\u001b[0m \u001b[0mException\u001b[0m\u001b[0;34m:\u001b[0m\u001b[0;34m\u001b[0m\u001b[0;34m\u001b[0m\u001b[0m\n",
            "\u001b[0;32m/usr/local/lib/python3.7/dist-packages/sklearn/svm/_base.py\u001b[0m in \u001b[0;36mfit\u001b[0;34m(self, X, y, sample_weight)\u001b[0m\n\u001b[1;32m    253\u001b[0m \u001b[0;34m\u001b[0m\u001b[0m\n\u001b[1;32m    254\u001b[0m         \u001b[0mseed\u001b[0m \u001b[0;34m=\u001b[0m \u001b[0mrnd\u001b[0m\u001b[0;34m.\u001b[0m\u001b[0mrandint\u001b[0m\u001b[0;34m(\u001b[0m\u001b[0mnp\u001b[0m\u001b[0;34m.\u001b[0m\u001b[0miinfo\u001b[0m\u001b[0;34m(\u001b[0m\u001b[0;34m\"i\"\u001b[0m\u001b[0;34m)\u001b[0m\u001b[0;34m.\u001b[0m\u001b[0mmax\u001b[0m\u001b[0;34m)\u001b[0m\u001b[0;34m\u001b[0m\u001b[0;34m\u001b[0m\u001b[0m\n\u001b[0;32m--> 255\u001b[0;31m         \u001b[0mfit\u001b[0m\u001b[0;34m(\u001b[0m\u001b[0mX\u001b[0m\u001b[0;34m,\u001b[0m \u001b[0my\u001b[0m\u001b[0;34m,\u001b[0m \u001b[0msample_weight\u001b[0m\u001b[0;34m,\u001b[0m \u001b[0msolver_type\u001b[0m\u001b[0;34m,\u001b[0m \u001b[0mkernel\u001b[0m\u001b[0;34m,\u001b[0m \u001b[0mrandom_seed\u001b[0m\u001b[0;34m=\u001b[0m\u001b[0mseed\u001b[0m\u001b[0;34m)\u001b[0m\u001b[0;34m\u001b[0m\u001b[0;34m\u001b[0m\u001b[0m\n\u001b[0m\u001b[1;32m    256\u001b[0m         \u001b[0;31m# see comment on the other call to np.iinfo in this file\u001b[0m\u001b[0;34m\u001b[0m\u001b[0;34m\u001b[0m\u001b[0;34m\u001b[0m\u001b[0m\n\u001b[1;32m    257\u001b[0m \u001b[0;34m\u001b[0m\u001b[0m\n",
            "\u001b[0;32m/usr/local/lib/python3.7/dist-packages/sklearn/svm/_base.py\u001b[0m in \u001b[0;36m_dense_fit\u001b[0;34m(self, X, y, sample_weight, solver_type, kernel, random_seed)\u001b[0m\n\u001b[1;32m    331\u001b[0m             \u001b[0mepsilon\u001b[0m\u001b[0;34m=\u001b[0m\u001b[0mself\u001b[0m\u001b[0;34m.\u001b[0m\u001b[0mepsilon\u001b[0m\u001b[0;34m,\u001b[0m\u001b[0;34m\u001b[0m\u001b[0;34m\u001b[0m\u001b[0m\n\u001b[1;32m    332\u001b[0m             \u001b[0mmax_iter\u001b[0m\u001b[0;34m=\u001b[0m\u001b[0mself\u001b[0m\u001b[0;34m.\u001b[0m\u001b[0mmax_iter\u001b[0m\u001b[0;34m,\u001b[0m\u001b[0;34m\u001b[0m\u001b[0;34m\u001b[0m\u001b[0m\n\u001b[0;32m--> 333\u001b[0;31m             \u001b[0mrandom_seed\u001b[0m\u001b[0;34m=\u001b[0m\u001b[0mrandom_seed\u001b[0m\u001b[0;34m,\u001b[0m\u001b[0;34m\u001b[0m\u001b[0;34m\u001b[0m\u001b[0m\n\u001b[0m\u001b[1;32m    334\u001b[0m         )\n\u001b[1;32m    335\u001b[0m \u001b[0;34m\u001b[0m\u001b[0m\n",
            "\u001b[0;31mKeyboardInterrupt\u001b[0m: "
          ]
        }
      ]
    },
    {
      "cell_type": "code",
      "source": [
        "#on refait les prédictions de classe avec les paramètres optimisés\n",
        "y_pred_svc3_grid =grid_svc3.predict(X_test) # Prédictions du classifieur\n",
        "\n",
        "# Matrice de confusion\n",
        "pd.crosstab(y_test, y_pred_svc3_grid, rownames = ['Classes réelles'], colnames = ['Classes prédites SVC'])"
      ],
      "metadata": {
        "id": "FMESlTIURZP6"
      },
      "execution_count": null,
      "outputs": []
    },
    {
      "cell_type": "code",
      "source": [
        "# Accuracy de clf_svc3 optimisé\n",
        "acc_svc3_grid = accuracy_score(y_test, y_pred_svc3_grid)\n",
        "\n",
        "# Affichage des métriques\n",
        "print(\"L'accuracy de clf_svc3_grid est de\", acc_svc3_grid)\n"
      ],
      "metadata": {
        "id": "47-84g5rRdPC"
      },
      "execution_count": null,
      "outputs": []
    },
    {
      "cell_type": "markdown",
      "source": [
        "###### Classifieur KNN (avec variables qualitatives)"
      ],
      "metadata": {
        "id": "7HQub62V0Vdb"
      }
    },
    {
      "cell_type": "code",
      "source": [
        "# Instanciation du classifieur\n",
        "clf_knn3 = KNeighborsClassifier()       # A définir : sélection des hyperparamètres\n",
        "\n",
        "clf_knn3.fit(X_train, y_train)          # Entraînement du classifieur\n",
        "\n",
        "y_pred_knn3 = clf_knn3.predict(X_test)  # Prédictions du classifieur\n",
        "\n",
        "# Matrice de confusion\n",
        "pd.crosstab(y_test, y_pred_knn3, rownames = ['Classes réelles'], colnames = ['Classes prédites KNN'])\n"
      ],
      "metadata": {
        "id": "5_7QOSuF0XFN",
        "colab": {
          "base_uri": "https://localhost:8080/",
          "height": 300
        },
        "outputId": "d60e08a9-ceb9-4ef7-af71-61e19e2ebc6c"
      },
      "execution_count": null,
      "outputs": [
        {
          "output_type": "execute_result",
          "data": {
            "text/plain": [
              "Classes prédites KNN   A   B    C    D    E    F   G\n",
              "Classes réelles                                     \n",
              "A                     23  19    7    0    0    0   0\n",
              "B                     20  76   54    9    6    0   0\n",
              "C                      5  44  154   38    6    0   0\n",
              "D                      1  22   78  163   28    0   0\n",
              "E                      2   8   21   40  210   15   0\n",
              "F                      1   0    0    7   31  148   2\n",
              "G                      0   0    0    0    9   27  45"
            ],
            "text/html": [
              "\n",
              "  <div id=\"df-cc94fbb2-7dd9-4baa-83fa-20523bbeb612\">\n",
              "    <div class=\"colab-df-container\">\n",
              "      <div>\n",
              "<style scoped>\n",
              "    .dataframe tbody tr th:only-of-type {\n",
              "        vertical-align: middle;\n",
              "    }\n",
              "\n",
              "    .dataframe tbody tr th {\n",
              "        vertical-align: top;\n",
              "    }\n",
              "\n",
              "    .dataframe thead th {\n",
              "        text-align: right;\n",
              "    }\n",
              "</style>\n",
              "<table border=\"1\" class=\"dataframe\">\n",
              "  <thead>\n",
              "    <tr style=\"text-align: right;\">\n",
              "      <th>Classes prédites KNN</th>\n",
              "      <th>A</th>\n",
              "      <th>B</th>\n",
              "      <th>C</th>\n",
              "      <th>D</th>\n",
              "      <th>E</th>\n",
              "      <th>F</th>\n",
              "      <th>G</th>\n",
              "    </tr>\n",
              "    <tr>\n",
              "      <th>Classes réelles</th>\n",
              "      <th></th>\n",
              "      <th></th>\n",
              "      <th></th>\n",
              "      <th></th>\n",
              "      <th></th>\n",
              "      <th></th>\n",
              "      <th></th>\n",
              "    </tr>\n",
              "  </thead>\n",
              "  <tbody>\n",
              "    <tr>\n",
              "      <th>A</th>\n",
              "      <td>23</td>\n",
              "      <td>19</td>\n",
              "      <td>7</td>\n",
              "      <td>0</td>\n",
              "      <td>0</td>\n",
              "      <td>0</td>\n",
              "      <td>0</td>\n",
              "    </tr>\n",
              "    <tr>\n",
              "      <th>B</th>\n",
              "      <td>20</td>\n",
              "      <td>76</td>\n",
              "      <td>54</td>\n",
              "      <td>9</td>\n",
              "      <td>6</td>\n",
              "      <td>0</td>\n",
              "      <td>0</td>\n",
              "    </tr>\n",
              "    <tr>\n",
              "      <th>C</th>\n",
              "      <td>5</td>\n",
              "      <td>44</td>\n",
              "      <td>154</td>\n",
              "      <td>38</td>\n",
              "      <td>6</td>\n",
              "      <td>0</td>\n",
              "      <td>0</td>\n",
              "    </tr>\n",
              "    <tr>\n",
              "      <th>D</th>\n",
              "      <td>1</td>\n",
              "      <td>22</td>\n",
              "      <td>78</td>\n",
              "      <td>163</td>\n",
              "      <td>28</td>\n",
              "      <td>0</td>\n",
              "      <td>0</td>\n",
              "    </tr>\n",
              "    <tr>\n",
              "      <th>E</th>\n",
              "      <td>2</td>\n",
              "      <td>8</td>\n",
              "      <td>21</td>\n",
              "      <td>40</td>\n",
              "      <td>210</td>\n",
              "      <td>15</td>\n",
              "      <td>0</td>\n",
              "    </tr>\n",
              "    <tr>\n",
              "      <th>F</th>\n",
              "      <td>1</td>\n",
              "      <td>0</td>\n",
              "      <td>0</td>\n",
              "      <td>7</td>\n",
              "      <td>31</td>\n",
              "      <td>148</td>\n",
              "      <td>2</td>\n",
              "    </tr>\n",
              "    <tr>\n",
              "      <th>G</th>\n",
              "      <td>0</td>\n",
              "      <td>0</td>\n",
              "      <td>0</td>\n",
              "      <td>0</td>\n",
              "      <td>9</td>\n",
              "      <td>27</td>\n",
              "      <td>45</td>\n",
              "    </tr>\n",
              "  </tbody>\n",
              "</table>\n",
              "</div>\n",
              "      <button class=\"colab-df-convert\" onclick=\"convertToInteractive('df-cc94fbb2-7dd9-4baa-83fa-20523bbeb612')\"\n",
              "              title=\"Convert this dataframe to an interactive table.\"\n",
              "              style=\"display:none;\">\n",
              "        \n",
              "  <svg xmlns=\"http://www.w3.org/2000/svg\" height=\"24px\"viewBox=\"0 0 24 24\"\n",
              "       width=\"24px\">\n",
              "    <path d=\"M0 0h24v24H0V0z\" fill=\"none\"/>\n",
              "    <path d=\"M18.56 5.44l.94 2.06.94-2.06 2.06-.94-2.06-.94-.94-2.06-.94 2.06-2.06.94zm-11 1L8.5 8.5l.94-2.06 2.06-.94-2.06-.94L8.5 2.5l-.94 2.06-2.06.94zm10 10l.94 2.06.94-2.06 2.06-.94-2.06-.94-.94-2.06-.94 2.06-2.06.94z\"/><path d=\"M17.41 7.96l-1.37-1.37c-.4-.4-.92-.59-1.43-.59-.52 0-1.04.2-1.43.59L10.3 9.45l-7.72 7.72c-.78.78-.78 2.05 0 2.83L4 21.41c.39.39.9.59 1.41.59.51 0 1.02-.2 1.41-.59l7.78-7.78 2.81-2.81c.8-.78.8-2.07 0-2.86zM5.41 20L4 18.59l7.72-7.72 1.47 1.35L5.41 20z\"/>\n",
              "  </svg>\n",
              "      </button>\n",
              "      \n",
              "  <style>\n",
              "    .colab-df-container {\n",
              "      display:flex;\n",
              "      flex-wrap:wrap;\n",
              "      gap: 12px;\n",
              "    }\n",
              "\n",
              "    .colab-df-convert {\n",
              "      background-color: #E8F0FE;\n",
              "      border: none;\n",
              "      border-radius: 50%;\n",
              "      cursor: pointer;\n",
              "      display: none;\n",
              "      fill: #1967D2;\n",
              "      height: 32px;\n",
              "      padding: 0 0 0 0;\n",
              "      width: 32px;\n",
              "    }\n",
              "\n",
              "    .colab-df-convert:hover {\n",
              "      background-color: #E2EBFA;\n",
              "      box-shadow: 0px 1px 2px rgba(60, 64, 67, 0.3), 0px 1px 3px 1px rgba(60, 64, 67, 0.15);\n",
              "      fill: #174EA6;\n",
              "    }\n",
              "\n",
              "    [theme=dark] .colab-df-convert {\n",
              "      background-color: #3B4455;\n",
              "      fill: #D2E3FC;\n",
              "    }\n",
              "\n",
              "    [theme=dark] .colab-df-convert:hover {\n",
              "      background-color: #434B5C;\n",
              "      box-shadow: 0px 1px 3px 1px rgba(0, 0, 0, 0.15);\n",
              "      filter: drop-shadow(0px 1px 2px rgba(0, 0, 0, 0.3));\n",
              "      fill: #FFFFFF;\n",
              "    }\n",
              "  </style>\n",
              "\n",
              "      <script>\n",
              "        const buttonEl =\n",
              "          document.querySelector('#df-cc94fbb2-7dd9-4baa-83fa-20523bbeb612 button.colab-df-convert');\n",
              "        buttonEl.style.display =\n",
              "          google.colab.kernel.accessAllowed ? 'block' : 'none';\n",
              "\n",
              "        async function convertToInteractive(key) {\n",
              "          const element = document.querySelector('#df-cc94fbb2-7dd9-4baa-83fa-20523bbeb612');\n",
              "          const dataTable =\n",
              "            await google.colab.kernel.invokeFunction('convertToInteractive',\n",
              "                                                     [key], {});\n",
              "          if (!dataTable) return;\n",
              "\n",
              "          const docLinkHtml = 'Like what you see? Visit the ' +\n",
              "            '<a target=\"_blank\" href=https://colab.research.google.com/notebooks/data_table.ipynb>data table notebook</a>'\n",
              "            + ' to learn more about interactive tables.';\n",
              "          element.innerHTML = '';\n",
              "          dataTable['output_type'] = 'display_data';\n",
              "          await google.colab.output.renderOutput(dataTable, element);\n",
              "          const docLink = document.createElement('div');\n",
              "          docLink.innerHTML = docLinkHtml;\n",
              "          element.appendChild(docLink);\n",
              "        }\n",
              "      </script>\n",
              "    </div>\n",
              "  </div>\n",
              "  "
            ]
          },
          "metadata": {},
          "execution_count": 69
        }
      ]
    },
    {
      "cell_type": "code",
      "source": [
        "# Accuracy de clf_knn3\n",
        "acc_knn = accuracy_score(y_test, y_pred_knn3)\n",
        "\n",
        "# Affichage des métriques\n",
        "print(\"L'accuracy de clf_knn3 est de\", acc_knn)\n",
        "\n",
        "# Enregistrement du modèle\n",
        "dump(clf_knn3, 'clf_knn3.joblib')"
      ],
      "metadata": {
        "id": "cs4R_3Z48d6O",
        "colab": {
          "base_uri": "https://localhost:8080/"
        },
        "outputId": "6b28379a-cbdf-476e-a406-4f4c7dd6f9ba"
      },
      "execution_count": null,
      "outputs": [
        {
          "output_type": "stream",
          "name": "stdout",
          "text": [
            "L'accuracy de clf_knn3 est de 0.6209249431387415\n"
          ]
        },
        {
          "output_type": "execute_result",
          "data": {
            "text/plain": [
              "['clf_knn3.joblib']"
            ]
          },
          "metadata": {},
          "execution_count": 70
        }
      ]
    },
    {
      "cell_type": "markdown",
      "source": [
        "Optimisation des hyperparamètres (Camille)"
      ],
      "metadata": {
        "id": "M7GnBWqbUMgL"
      }
    },
    {
      "cell_type": "code",
      "source": [
        "# Création d'un dictionnaire de parametres contenant les valeurs possibles prises pour les paramètres \n",
        "#C:doit être strictement positif\n",
        "#kernel a 5 possibilités décrites, mais quand on utilise 'precomputed', cela ne fonctionne pas\n",
        "# gamma:'scale' 'auto' ou des nombres décimaux\n",
        "parametres_knn= {\n",
        "    'leaf_size':list(range(1,5)),\n",
        "    'n_neighbors': list(range(1,10)),\n",
        "    'p':[1,2],\n",
        "    'metric': ['minkowski','manhattan','chebyshev']\n",
        "}\n",
        "\n",
        "#on applique la fonction gridsearch au modèle knn\n",
        "grid_knn3=GridSearchCV(clf_knn3,parametres_knn)\n",
        "\n",
        "#on entraîne grid_knn sur l'ensemble d'entraînement\n",
        "grille_knn3=grid_knn3.fit(X_train, y_train)\n",
        "\n",
        "# On affiche les meilleurs paramètres de la grille \n",
        "print('les meilleurs paramètres pour le KNN sont ',grille_knn3.best_params_)"
      ],
      "metadata": {
        "colab": {
          "base_uri": "https://localhost:8080/"
        },
        "id": "pdZ4RJDBUPui",
        "outputId": "c8742e52-c6cd-462f-c6df-1d8e8918bb0b"
      },
      "execution_count": null,
      "outputs": [
        {
          "output_type": "stream",
          "name": "stdout",
          "text": [
            "les meilleurs paramètres pour le KNN sont  {'leaf_size': 1, 'metric': 'minkowski', 'n_neighbors': 1, 'p': 1}\n"
          ]
        }
      ]
    },
    {
      "cell_type": "code",
      "source": [
        "#on refait les prédictions de classe avec les paramètres optimisés\n",
        "y_pred_knn3_grid =grid_knn3.predict(X_test) # Prédictions du classifieur\n",
        "\n",
        "# Matrice de confusion\n",
        "pd.crosstab(y_test, y_pred_knn3_grid, rownames = ['Classes réelles'], colnames = ['Classes prédites KNN'])"
      ],
      "metadata": {
        "id": "61QosFFUUT_M"
      },
      "execution_count": null,
      "outputs": []
    },
    {
      "cell_type": "code",
      "source": [
        "# Accuracy de clf_knn3 optimisé\n",
        "acc_knn3_grid = accuracy_score(y_test, y_pred_knn3_grid)\n",
        "\n",
        "# Affichage des métriques\n",
        "print(\"L'accuracy de clf_knn2 est de\", acc_knn3_grid)\n",
        "\n",
        "# Enregistrement du modèle\n",
        "#dump(grid_knn, 'clf_knn_grid.joblib')"
      ],
      "metadata": {
        "id": "UVdEGzUdUj9G"
      },
      "execution_count": null,
      "outputs": []
    },
    {
      "cell_type": "markdown",
      "source": [
        "###### Classifieur Random Forest(avec variables qualitatives)"
      ],
      "metadata": {
        "id": "uGfUpC610YCz"
      }
    },
    {
      "cell_type": "code",
      "source": [
        "# Instanciation du classifieur\n",
        "clf_rf3 = RandomForestClassifier()     # A définir : sélection des hyperparamètres\n",
        "\n",
        "clf_rf3.fit(X_train, y_train)          # Entraînement du classifieur\n",
        "\n",
        "y_pred_rf3 = clf_rf3.predict(X_test)   # Prédictions du classifieur\n",
        "\n",
        "# Matrice de confusion\n",
        "pd.crosstab(y_test, y_pred_rf3, rownames = ['Classes réelles'], colnames = ['Classes prédites RF'])"
      ],
      "metadata": {
        "id": "n1CwT-g20Z2j"
      },
      "execution_count": null,
      "outputs": []
    },
    {
      "cell_type": "code",
      "source": [
        "# Accuracy de clf_rf3\n",
        "acc_rf = accuracy_score(y_test, y_pred_rf3)\n",
        "\n",
        "# Affichage des métriques\n",
        "print(\"L'accuracy de clf_rf3 est de\", acc_rf)\n",
        "\n",
        "# Enregistrement du modèle\n",
        "dump(clf_rf3, 'clf_rf3.joblib')"
      ],
      "metadata": {
        "id": "w4rfa6ff9bcb"
      },
      "execution_count": null,
      "outputs": []
    },
    {
      "cell_type": "markdown",
      "source": [
        "### **Cas 3 : Modélisation avec les variables qualitatives avec LabelEncoder (Camille)**"
      ],
      "metadata": {
        "id": "-aZ0DJyZHiK6"
      }
    },
    {
      "cell_type": "markdown",
      "source": [
        "On essaye ici de coder les variables qualitatives avec LabelEncoder, donc pas \n",
        "\n",
        "---\n",
        "\n",
        "en 0-1 mais en une seule variable à plusieurs valeurs"
      ],
      "metadata": {
        "id": "YTfeD0PHH0Ra"
      }
    },
    {
      "cell_type": "code",
      "source": [
        "# Les variables catégorielles sont transformées en labels numériques\n",
        "labelencoder = LabelEncoder()\n",
        "var_cat_enc=var_cat.apply(labelencoder.fit_transform)"
      ],
      "metadata": {
        "id": "S47HLeXAHpo5"
      },
      "execution_count": null,
      "outputs": []
    },
    {
      "cell_type": "code",
      "source": [
        "# On récupère les variables explicatives = variables quantitatives et qualitatives encodées\n",
        "feats2 = var_num.join(var_cat_enc)"
      ],
      "metadata": {
        "id": "cq4O_nuYMblr"
      },
      "execution_count": null,
      "outputs": []
    },
    {
      "cell_type": "code",
      "source": [
        "# Séparation en données d'entraînement et de test\n",
        "X_train, X_test, y_train, y_test = train_test_split(feats2, target, test_size = 0.25) \n",
        "\n",
        "# Les variables quantitatives doivent être standardisées\n",
        "from sklearn.preprocessing import StandardScaler\n",
        "scaler = StandardScaler()\n",
        "X_train[var_num.columns]=scaler.fit_transform(X_train[var_num.columns])\n",
        "X_test[var_num.columns] = scaler.transform(X_test[var_num.columns])"
      ],
      "metadata": {
        "id": "fTUmKu41M5MD"
      },
      "execution_count": null,
      "outputs": []
    },
    {
      "cell_type": "code",
      "source": [
        "X_train"
      ],
      "metadata": {
        "id": "kEpAXqcRPwOB"
      },
      "execution_count": null,
      "outputs": []
    },
    {
      "cell_type": "code",
      "source": [
        "# Instanciation du classifieur\n",
        "clf_svc4 = SVC(gamma = 'scale')        \n",
        "\n",
        "clf_svc4.fit(X_train, y_train)         # Entraînement du classifieur\n",
        "\n",
        "y_pred_svc4 = clf_svc4.predict(X_test) # Prédictions du classifieur\n",
        "\n",
        "# Matrice de confusion\n",
        "pd.crosstab(y_test, y_pred_svc4, rownames = ['Classes réelles'], colnames = ['Classes prédites SVC'])"
      ],
      "metadata": {
        "id": "-Pf8CoGjNG-M"
      },
      "execution_count": null,
      "outputs": []
    },
    {
      "cell_type": "code",
      "source": [
        "# Accuracy de clf_svc4\n",
        "acc_svc = accuracy_score(y_test, y_pred_svc4)\n",
        "\n",
        "# Affichage des métriques\n",
        "print(\"L'accuracy de clf_svc4 est de\", acc_svc)\n"
      ],
      "metadata": {
        "id": "6XHS9WzrNe5n"
      },
      "execution_count": null,
      "outputs": []
    },
    {
      "cell_type": "code",
      "source": [
        "# On constate que l'accuracy du classifieur SVC a encore diminué par rapport au get_dummies. qu'en est-il avec l'optimisation des hyperparamètres?"
      ],
      "metadata": {
        "id": "Squp1NeYQoTS"
      },
      "execution_count": null,
      "outputs": []
    },
    {
      "cell_type": "markdown",
      "source": [
        "Optimisation des hyperparamètres"
      ],
      "metadata": {
        "id": "NMfzDp7MVEbC"
      }
    },
    {
      "cell_type": "code",
      "source": [
        "# Création d'un dictionnaire de parametres contenant les valeurs possibles prises pour les paramètres \n",
        "#C:doit être strictement positif\n",
        "#kernel a 5 possibilités décrites, mais quand on utilise 'precomputed', cela ne fonctionne pas\n",
        "# gamma:'scale' 'auto' ou des nombres décimaux\n",
        "parametres= {\n",
        "        'C':[1,50,100,200],\n",
        "    'kernel': ['linear', 'poly', 'rbf', 'sigmoid'],\n",
        "    'gamma':[0.05,0.07,0.1,0.2,0.5,1]\n",
        "}\n",
        "\n",
        "#on applique la fonction gridsearch au modèle SVC\n",
        "grid_svc4=GridSearchCV(clf_svc4,parametres)\n",
        "\n",
        "#on entraîne grid_svc sur l'ensemble d'entraînement\n",
        "grille=grid_svc4.fit(X_train, y_train)\n",
        "\n",
        "# On affiche les meilleurs paramètres de la grille \n",
        "print('les meilleurs paramètres pour le SVC sont ',grille.best_params_)"
      ],
      "metadata": {
        "id": "AM9ckkcxVELz"
      },
      "execution_count": null,
      "outputs": []
    },
    {
      "cell_type": "code",
      "source": [
        "#on refait les prédictions de classe avec les paramètres optimisés\n",
        "y_pred_svc4_grid =grid_svc4.predict(X_test) # Prédictions du classifieur\n",
        "\n",
        "# Matrice de confusion\n",
        "pd.crosstab(y_test, y_pred_svc4_grid, rownames = ['Classes réelles'], colnames = ['Classes prédites SVC'])"
      ],
      "metadata": {
        "id": "WKFysLURVCCA"
      },
      "execution_count": null,
      "outputs": []
    },
    {
      "cell_type": "code",
      "source": [
        "# Accuracy de clf_svc4 optimisé\n",
        "acc_svc4_grid = accuracy_score(y_test, y_pred_svc4_grid)\n",
        "\n",
        "# Affichage des métriques\n",
        "print(\"L'accuracy de clf_svc3_grid est de\", acc_svc4_grid)\n"
      ],
      "metadata": {
        "id": "5c3huINfVCgJ"
      },
      "execution_count": null,
      "outputs": []
    },
    {
      "cell_type": "code",
      "source": [],
      "metadata": {
        "id": "aX0njJdWVCzH"
      },
      "execution_count": null,
      "outputs": []
    },
    {
      "cell_type": "markdown",
      "source": [
        "### **Validation des modèles**"
      ],
      "metadata": {
        "id": "nW4R6aPAXMTZ"
      }
    },
    {
      "cell_type": "code",
      "source": [
        "# Chargement des données 2014\n",
        "df_2014 = pd.read_csv('/content/drive/MyDrive/data2014_2.csv')\n",
        "\n",
        "df_2014.head()"
      ],
      "metadata": {
        "id": "o3GIriX6XOJg"
      },
      "execution_count": null,
      "outputs": []
    },
    {
      "cell_type": "code",
      "source": [
        "df_2014.duplicated().sum()"
      ],
      "metadata": {
        "id": "39LwHeGh8_VY"
      },
      "execution_count": null,
      "outputs": []
    },
    {
      "cell_type": "code",
      "source": [
        "# On conserve les variables numériques d'intérêt\n",
        "data = df_2014[['puiss_max', 'conso_urb', 'hcnox', 'masse_ordma_min', 'rapport']]\n",
        "\n",
        "# On isole la cible\n",
        "target = df_2014['Classe']\n",
        "data.head()"
      ],
      "metadata": {
        "id": "Xhsp6yeVrxTJ"
      },
      "execution_count": null,
      "outputs": []
    },
    {
      "cell_type": "code",
      "source": [
        "target.head()"
      ],
      "metadata": {
        "id": "hjcESL9i7Tw-"
      },
      "execution_count": null,
      "outputs": []
    },
    {
      "cell_type": "code",
      "source": [
        "# Standardisation des données\n",
        "scaler = StandardScaler()\n",
        "data_scal = scaler.fit_transform(data)"
      ],
      "metadata": {
        "id": "M0lyKZpAsHuJ"
      },
      "execution_count": null,
      "outputs": []
    },
    {
      "cell_type": "markdown",
      "source": [
        "#### **Modèle RF**"
      ],
      "metadata": {
        "id": "gbaYc_UPuvPn"
      }
    },
    {
      "cell_type": "code",
      "source": [
        "# Test du modèle RF\n",
        "y_pred_2014 = clf_rf2.predict(data_scal)\n",
        "\n",
        "# Matrice de confusion\n",
        "pd.crosstab(target, y_pred_2014, rownames = ['Classes réelles'], colnames = ['Classes prédites RF'])"
      ],
      "metadata": {
        "id": "wtJMNrN1th1k"
      },
      "execution_count": null,
      "outputs": []
    },
    {
      "cell_type": "code",
      "source": [
        "# Métriques sur les données 2014\n",
        "# Accuracy de clf_rf2\n",
        "acc_rf_2014 = accuracy_score(target, y_pred_2014)\n",
        "\n",
        "# Affichage des métriques\n",
        "print(\"L'accuracy de clf_rf2 est de\", acc_rf_2014)"
      ],
      "metadata": {
        "id": "Nq-8FMvlsbad"
      },
      "execution_count": null,
      "outputs": []
    },
    {
      "cell_type": "markdown",
      "source": [
        "#### **Modèle SVC**"
      ],
      "metadata": {
        "id": "v32gZbYku16E"
      }
    },
    {
      "cell_type": "code",
      "source": [
        "# Test du modèle SVC\n",
        "\n",
        "y_pred_2014 = clf_svc2.predict(data_scal)\n",
        "\n",
        "# Matrice de confusion\n",
        "pd.crosstab(target, y_pred_2014, rownames = ['Classes réelles'], colnames = ['Classes prédites SVC'])"
      ],
      "metadata": {
        "id": "Yh3Sb_N4uQET"
      },
      "execution_count": null,
      "outputs": []
    },
    {
      "cell_type": "code",
      "source": [
        "# Métriques sur les données 2014\n",
        "# Accuracy de clf_svc2\n",
        "acc_svc_2014 = accuracy_score(target, y_pred_2014)\n",
        "\n",
        "# Affichage des métriques\n",
        "print(\"L'accuracy de clf_svc2 est de\", acc_svc_2014)"
      ],
      "metadata": {
        "id": "xdMNzPDzw_So"
      },
      "execution_count": null,
      "outputs": []
    },
    {
      "cell_type": "markdown",
      "source": [
        "#### **Modèle KNN**"
      ],
      "metadata": {
        "id": "H9jzaKaGwmeX"
      }
    },
    {
      "cell_type": "code",
      "source": [
        "# Test du modèle KNN\n",
        "clf_knn2.fit(X_train, y_train)\n",
        "y_pred_2014 = clf_knn2.predict(X_test)\n",
        "\n",
        "# Matrice de confusion\n",
        "pd.crosstab(y_test, y_pred_2014, rownames = ['Classes réelles'], colnames = ['Classes prédites KNN'])"
      ],
      "metadata": {
        "id": "CFCcX6F9vcCd"
      },
      "execution_count": null,
      "outputs": []
    },
    {
      "cell_type": "code",
      "source": [
        "# Métriques sur les données 2014\n",
        "# Accuracy de clf_rf2\n",
        "acc_knn_2014 = accuracy_score(y_test, y_pred_2014)\n",
        "\n",
        "# Affichage des métriques\n",
        "print(\"L'accuracy de grid_knn est de\", acc_knn_2014)"
      ],
      "metadata": {
        "id": "ZeTrcwO1xL9N"
      },
      "execution_count": null,
      "outputs": []
    },
    {
      "cell_type": "code",
      "source": [],
      "metadata": {
        "id": "sFXW2X8RzNj-"
      },
      "execution_count": null,
      "outputs": []
    }
  ]
}