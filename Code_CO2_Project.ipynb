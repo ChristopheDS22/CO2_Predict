{
 "cells": [
  {
   "cell_type": "markdown",
   "id": "WQ-6RcRAWjWZ",
   "metadata": {
    "id": "WQ-6RcRAWjWZ"
   },
   "source": [
    "# Projet : Emission de CO2 par les véhicules commercialisés\n",
    "\n",
    "Gilles Ngamenye, Christophe Seuret, Camille Millon\n",
    "\n",
    "***"
   ]
  },
  {
   "cell_type": "markdown",
   "id": "WRBNBqGMiyEP",
   "metadata": {
    "id": "WRBNBqGMiyEP"
   },
   "source": [
    "## **Présentation du projet**"
   ]
  },
  {
   "cell_type": "markdown",
   "id": "PMhnlMu9gQmt",
   "metadata": {
    "id": "PMhnlMu9gQmt"
   },
   "source": [
    "### **I. Description**: \n",
    ">1. Identifier les véhicules qui émettent le plus de CO2 est important pour identifier les caractéristiques techniques qui jouent un rôle dans la pollution. \n",
    ">2. Prédire à l’avance cette pollution permet de prévenir dans le cas de l’apparition de nouveaux types de véhicules (nouvelles séries de voitures par exemple)"
   ]
  },
  {
   "cell_type": "markdown",
   "id": "o4GdTimJgcJI",
   "metadata": {
    "id": "o4GdTimJgcJI"
   },
   "source": [
    "### **II. Conditions de validation du projet:**\n",
    ">\n",
    ">Chargement et exploration exhaustif des données\n",
    ">\n",
    ">Analyse statistique et visualisations.\n",
    ">\n",
    ">Machine learning : \n",
    ">*   Prédiction du CO2\n",
    ">*   Interprétabilité du modèle (SHAP)\n",
    ">*   Demo Streamlit"
   ]
  },
  {
   "cell_type": "markdown",
   "id": "O0RshvA6gksJ",
   "metadata": {
    "id": "O0RshvA6gksJ"
   },
   "source": [
    "### **III. Dataset:**\n",
    ">\n",
    ">Fichier data2013.csv: Emissions de CO2 et polluants des véhicules commercialisées en France\n",
    ">\n",
    ">Pourquoi?: difficultés techniques à travailler sur le dataset européen"
   ]
  },
  {
   "cell_type": "markdown",
   "id": "eb0c5230",
   "metadata": {},
   "source": [
    "### **Plan**\n",
    "\n",
    "**`1ère partie : Exploration des données`**\n",
    "   \n",
    "1. Recueil du dataset\n",
    "    \n",
    "2. Observation des variables et premiers traitements\n",
    "     <br>&emsp;*2.1 Variables quantitatives*\n",
    "    <br>&emsp;*2.2 Variables qualitatives*\n",
    "    \n",
    "    \n",
    "3. Traitement des valeurs manquantes\n",
    "\n",
    "    \n",
    "4. Revue statistique, visualisation\n",
    "    <br>&emsp;*4.1 Représentation graphique de la variable CO2*\n",
    "    <br>&emsp;*4.2 Variables quantitatives*\n",
    "    <br>&emsp;*4.3 Variables qualitatives*\n",
    "        \n",
    "        \n",
    "5. Sélection des variables utiles\n",
    "\n",
    "**`2e partie : Modélisation`**\n",
    "\n",
    "1. Regression\n",
    "\n",
    "2. Classification"
   ]
  },
  {
   "cell_type": "markdown",
   "id": "bZuItUrZi4C2",
   "metadata": {
    "id": "bZuItUrZi4C2"
   },
   "source": [
    "***\n",
    "\n",
    "# **1ère partie : Exploration des données**\n",
    "\n",
    "***"
   ]
  },
  {
   "cell_type": "markdown",
   "id": "E_rAj_9QsDr7",
   "metadata": {
    "id": "E_rAj_9QsDr7"
   },
   "source": [
    "## 1. Recueil du dataset"
   ]
  },
  {
   "cell_type": "markdown",
   "id": "62PavfR-YXLx",
   "metadata": {
    "id": "62PavfR-YXLx"
   },
   "source": [
    "Approche des normes euros d'emissions de pollutants pour les véhicules (source : https://www.ecologie.gouv.fr/normes-euros-demissions-polluants-vehicules-lourds-vehicules-propres)\n",
    "\n"
   ]
  },
  {
   "cell_type": "code",
   "execution_count": 52,
   "id": "43263531",
   "metadata": {
    "colab": {
     "base_uri": "https://localhost:8080/",
     "height": 339
    },
    "id": "43263531",
    "outputId": "a35eee4f-43b3-4780-b043-efacf7f5703e"
   },
   "outputs": [],
   "source": [
    "#Chargement des librairies utiles au projet\n",
    "import pandas as pd\n",
    "import numpy as np\n",
    "import matplotlib.pyplot as plt\n",
    "%matplotlib inline\n",
    "import seaborn as sns\n",
    "sns.set_theme() # pour modifier le thème"
   ]
  },
  {
   "cell_type": "code",
   "execution_count": 53,
   "id": "151aa7b7",
   "metadata": {
    "colab": {
     "base_uri": "https://localhost:8080/",
     "height": 525
    },
    "id": "151aa7b7",
    "outputId": "31c67098-b0a1-4b9b-e9f1-878b718191ff"
   },
   "outputs": [
    {
     "data": {
      "text/html": [
       "<div>\n",
       "<style scoped>\n",
       "    .dataframe tbody tr th:only-of-type {\n",
       "        vertical-align: middle;\n",
       "    }\n",
       "\n",
       "    .dataframe tbody tr th {\n",
       "        vertical-align: top;\n",
       "    }\n",
       "\n",
       "    .dataframe thead th {\n",
       "        text-align: right;\n",
       "    }\n",
       "</style>\n",
       "<table border=\"1\" class=\"dataframe\">\n",
       "  <thead>\n",
       "    <tr style=\"text-align: right;\">\n",
       "      <th></th>\n",
       "      <th>Marque</th>\n",
       "      <th>Modèle dossier</th>\n",
       "      <th>Modèle UTAC</th>\n",
       "      <th>Désignation commerciale</th>\n",
       "      <th>CNIT</th>\n",
       "      <th>Type Variante Version (TVV)</th>\n",
       "      <th>Carburant</th>\n",
       "      <th>Hybride</th>\n",
       "      <th>Puissance administrative</th>\n",
       "      <th>Puissance maximale (kW)</th>\n",
       "      <th>...</th>\n",
       "      <th>HC (g/km)</th>\n",
       "      <th>NOX (g/km)</th>\n",
       "      <th>HC+NOX (g/km)</th>\n",
       "      <th>Particules (g/km)</th>\n",
       "      <th>masse vide euro min (kg)</th>\n",
       "      <th>masse vide euro max (kg)</th>\n",
       "      <th>Champ V9</th>\n",
       "      <th>Date de mise à jour</th>\n",
       "      <th>Carrosserie</th>\n",
       "      <th>gamme</th>\n",
       "    </tr>\n",
       "  </thead>\n",
       "  <tbody>\n",
       "    <tr>\n",
       "      <th>0</th>\n",
       "      <td>ALFA-ROMEO</td>\n",
       "      <td>159</td>\n",
       "      <td>159</td>\n",
       "      <td>159 1750 Tbi (200ch)</td>\n",
       "      <td>M10ALFVP000G340</td>\n",
       "      <td>939AXN1B52C</td>\n",
       "      <td>ES</td>\n",
       "      <td>non</td>\n",
       "      <td>12</td>\n",
       "      <td>147.0</td>\n",
       "      <td>...</td>\n",
       "      <td>0.052</td>\n",
       "      <td>0.032</td>\n",
       "      <td>NaN</td>\n",
       "      <td>0.002</td>\n",
       "      <td>1505</td>\n",
       "      <td>1505</td>\n",
       "      <td>715/2007*692/2008EURO5</td>\n",
       "      <td>juin-13</td>\n",
       "      <td>BREAK</td>\n",
       "      <td>MOY-SUPER</td>\n",
       "    </tr>\n",
       "    <tr>\n",
       "      <th>1</th>\n",
       "      <td>ALFA-ROMEO</td>\n",
       "      <td>159</td>\n",
       "      <td>159</td>\n",
       "      <td>159 2.0 JTDm (170ch) ECO</td>\n",
       "      <td>M10ALFVP000U221</td>\n",
       "      <td>939AXP1B54C</td>\n",
       "      <td>GO</td>\n",
       "      <td>non</td>\n",
       "      <td>9</td>\n",
       "      <td>125.0</td>\n",
       "      <td>...</td>\n",
       "      <td>NaN</td>\n",
       "      <td>0.169</td>\n",
       "      <td>0.190</td>\n",
       "      <td>0.003</td>\n",
       "      <td>1565</td>\n",
       "      <td>1565</td>\n",
       "      <td>715/2007*692/2008EURO5</td>\n",
       "      <td>juin-13</td>\n",
       "      <td>BERLINE</td>\n",
       "      <td>MOY-SUPER</td>\n",
       "    </tr>\n",
       "    <tr>\n",
       "      <th>2</th>\n",
       "      <td>ALFA-ROMEO</td>\n",
       "      <td>159</td>\n",
       "      <td>159</td>\n",
       "      <td>159 2.0 JTDm (136ch)</td>\n",
       "      <td>M10ALFVP000E302</td>\n",
       "      <td>939AXR1B64</td>\n",
       "      <td>GO</td>\n",
       "      <td>non</td>\n",
       "      <td>7</td>\n",
       "      <td>100.0</td>\n",
       "      <td>...</td>\n",
       "      <td>NaN</td>\n",
       "      <td>0.149</td>\n",
       "      <td>0.175</td>\n",
       "      <td>0.001</td>\n",
       "      <td>1565</td>\n",
       "      <td>1565</td>\n",
       "      <td>715/2007*692/2008EURO5</td>\n",
       "      <td>juin-13</td>\n",
       "      <td>BERLINE</td>\n",
       "      <td>MOY-SUPER</td>\n",
       "    </tr>\n",
       "    <tr>\n",
       "      <th>3</th>\n",
       "      <td>ALFA-ROMEO</td>\n",
       "      <td>159</td>\n",
       "      <td>159</td>\n",
       "      <td>159 2.0 JTDm (136ch)</td>\n",
       "      <td>M10ALFVP000F303</td>\n",
       "      <td>939AXR1B64B</td>\n",
       "      <td>GO</td>\n",
       "      <td>non</td>\n",
       "      <td>7</td>\n",
       "      <td>100.0</td>\n",
       "      <td>...</td>\n",
       "      <td>NaN</td>\n",
       "      <td>0.149</td>\n",
       "      <td>0.175</td>\n",
       "      <td>0.001</td>\n",
       "      <td>1565</td>\n",
       "      <td>1565</td>\n",
       "      <td>715/2007*692/2008EURO5</td>\n",
       "      <td>juin-13</td>\n",
       "      <td>BERLINE</td>\n",
       "      <td>MOY-SUPER</td>\n",
       "    </tr>\n",
       "    <tr>\n",
       "      <th>4</th>\n",
       "      <td>ALFA-ROMEO</td>\n",
       "      <td>159</td>\n",
       "      <td>159</td>\n",
       "      <td>159 2.0 JTDm (170ch)</td>\n",
       "      <td>M10ALFVP000G304</td>\n",
       "      <td>939AXS1B66</td>\n",
       "      <td>GO</td>\n",
       "      <td>non</td>\n",
       "      <td>9</td>\n",
       "      <td>125.0</td>\n",
       "      <td>...</td>\n",
       "      <td>NaN</td>\n",
       "      <td>0.164</td>\n",
       "      <td>0.193</td>\n",
       "      <td>0.001</td>\n",
       "      <td>1565</td>\n",
       "      <td>1565</td>\n",
       "      <td>715/2007*692/2008EURO5</td>\n",
       "      <td>juin-13</td>\n",
       "      <td>BERLINE</td>\n",
       "      <td>MOY-SUPER</td>\n",
       "    </tr>\n",
       "  </tbody>\n",
       "</table>\n",
       "<p>5 rows × 26 columns</p>\n",
       "</div>"
      ],
      "text/plain": [
       "       Marque Modèle dossier Modèle UTAC   Désignation commerciale  \\\n",
       "0  ALFA-ROMEO            159         159      159 1750 Tbi (200ch)   \n",
       "1  ALFA-ROMEO            159         159  159 2.0 JTDm (170ch) ECO   \n",
       "2  ALFA-ROMEO            159         159      159 2.0 JTDm (136ch)   \n",
       "3  ALFA-ROMEO            159         159      159 2.0 JTDm (136ch)   \n",
       "4  ALFA-ROMEO            159         159      159 2.0 JTDm (170ch)   \n",
       "\n",
       "              CNIT Type Variante Version (TVV) Carburant Hybride  \\\n",
       "0  M10ALFVP000G340                 939AXN1B52C        ES     non   \n",
       "1  M10ALFVP000U221                 939AXP1B54C        GO     non   \n",
       "2  M10ALFVP000E302                  939AXR1B64        GO     non   \n",
       "3  M10ALFVP000F303                 939AXR1B64B        GO     non   \n",
       "4  M10ALFVP000G304                  939AXS1B66        GO     non   \n",
       "\n",
       "   Puissance administrative  Puissance maximale (kW)  ... HC (g/km)  \\\n",
       "0                        12                    147.0  ...     0.052   \n",
       "1                         9                    125.0  ...       NaN   \n",
       "2                         7                    100.0  ...       NaN   \n",
       "3                         7                    100.0  ...       NaN   \n",
       "4                         9                    125.0  ...       NaN   \n",
       "\n",
       "   NOX (g/km)  HC+NOX (g/km)  Particules (g/km)  masse vide euro min (kg)  \\\n",
       "0       0.032            NaN              0.002                      1505   \n",
       "1       0.169          0.190              0.003                      1565   \n",
       "2       0.149          0.175              0.001                      1565   \n",
       "3       0.149          0.175              0.001                      1565   \n",
       "4       0.164          0.193              0.001                      1565   \n",
       "\n",
       "   masse vide euro max (kg)                Champ V9  Date de mise à jour  \\\n",
       "0                      1505  715/2007*692/2008EURO5              juin-13   \n",
       "1                      1565  715/2007*692/2008EURO5              juin-13   \n",
       "2                      1565  715/2007*692/2008EURO5              juin-13   \n",
       "3                      1565  715/2007*692/2008EURO5              juin-13   \n",
       "4                      1565  715/2007*692/2008EURO5              juin-13   \n",
       "\n",
       "   Carrosserie      gamme  \n",
       "0        BREAK  MOY-SUPER  \n",
       "1      BERLINE  MOY-SUPER  \n",
       "2      BERLINE  MOY-SUPER  \n",
       "3      BERLINE  MOY-SUPER  \n",
       "4      BERLINE  MOY-SUPER  \n",
       "\n",
       "[5 rows x 26 columns]"
      ]
     },
     "execution_count": 53,
     "metadata": {},
     "output_type": "execute_result"
    }
   ],
   "source": [
    "# Emissions de polluants, CO2 et caractéristiques des véhicules\n",
    "# commercialisés en France en 2013\n",
    "#df_2013 = pd.read_csv('/content/drive/MyDrive/data2013.csv' , sep = ';', encoding='unicode_escape')\n",
    "df_2013=pd.read_csv('C:/Users/gilles.ngamenye/Desktop/DS/data_2013.csv',encoding='latin-1',sep=';')\n",
    "\n",
    "df_2013.head()"
   ]
  },
  {
   "cell_type": "markdown",
   "id": "1xlwYVoDmh1U",
   "metadata": {
    "id": "1xlwYVoDmh1U"
   },
   "source": [
    "## 2. Observation des variables et premiers traitements"
   ]
  },
  {
   "cell_type": "code",
   "execution_count": 54,
   "id": "3037c96a",
   "metadata": {},
   "outputs": [],
   "source": [
    "#on renomme les variables pour plus de facilité d'utilisation\n",
    "variables = {'Modèle dossier' : 'modele_dossier',\n",
    "             'Modèle UTAC':'modele_UTAC',\n",
    "             'Désignation commerciale':'design_comm',\n",
    "             'Type Variante Version (TVV)':'TVV',\n",
    "             'Puissance administrative':'puissance_adm',\n",
    "             'Puissance maximale (kW)' : 'puiss_max',\n",
    "             'Boîte de vitesse':'boite0',\n",
    "             'Consommation urbaine (l/100km)':'conso_urb',\n",
    "             'Consommation extra-urbaine (l/100km)':'conso_extra_urb',\n",
    "             'Consommation mixte (l/100km)':'conso_mixte',\n",
    "             'CO2 (g/km)':'CO2',\n",
    "             'CO type I (g/km)':'CO2_type_1',\n",
    "             'HC (g/km)':'HC',\n",
    "             'NOX (g/km)':'NOX',\n",
    "             'HC+NOX (g/km)':'hcnox',\n",
    "             'Particules (g/km)':'particules',\n",
    "             'masse vide euro min (kg)': 'masse_ordma_min',\n",
    "             'masse vide euro max (kg)': 'masse_ordma_max',\n",
    "             'Champ V9':'champ_V9',\n",
    "             'Date de mise à jour':'date_maj'\n",
    "            }\n",
    "\n",
    "\n",
    "df_2013 = df_2013.rename(variables, axis = 1)"
   ]
  },
  {
   "cell_type": "code",
   "execution_count": 55,
   "id": "4a2400ce",
   "metadata": {},
   "outputs": [
    {
     "name": "stdout",
     "output_type": "stream",
     "text": [
      "Il y a  619 doublons dans le dataset avant traitement\n",
      "Maintenant, il y a  0 doublons dans le dataset\n"
     ]
    }
   ],
   "source": [
    "# On checke les doublons\n",
    "print('Il y a ', df_2013.duplicated().sum(), 'doublons dans le dataset avant traitement')\n",
    "\n",
    "# et on les supprime\n",
    "df_2013 = df_2013.drop_duplicates()\n",
    "print('Maintenant, il y a ', df_2013.duplicated().sum(), 'doublons dans le dataset')"
   ]
  },
  {
   "cell_type": "markdown",
   "id": "fa72de77",
   "metadata": {},
   "source": [
    "On regarde maintenant la table au global, et les variables une par une pour comprendre leur signification"
   ]
  },
  {
   "cell_type": "code",
   "execution_count": 56,
   "id": "4911b8da",
   "metadata": {},
   "outputs": [
    {
     "name": "stdout",
     "output_type": "stream",
     "text": [
      "<class 'pandas.core.frame.DataFrame'>\n",
      "Int64Index: 44231 entries, 0 to 44849\n",
      "Data columns (total 26 columns):\n",
      " #   Column           Non-Null Count  Dtype  \n",
      "---  ------           --------------  -----  \n",
      " 0   Marque           44231 non-null  object \n",
      " 1   modele_dossier   44231 non-null  object \n",
      " 2   modele_UTAC      44231 non-null  object \n",
      " 3   design_comm      44231 non-null  object \n",
      " 4   CNIT             44231 non-null  object \n",
      " 5   TVV              44231 non-null  object \n",
      " 6   Carburant        44231 non-null  object \n",
      " 7   Hybride          44231 non-null  object \n",
      " 8   puissance_adm    44231 non-null  int64  \n",
      " 9   puiss_max        44231 non-null  float64\n",
      " 10  boite0           44231 non-null  object \n",
      " 11  conso_urb        44189 non-null  float64\n",
      " 12  conso_extra_urb  44189 non-null  float64\n",
      " 13  conso_mixte      44192 non-null  float64\n",
      " 14  CO2              44192 non-null  float64\n",
      " 15  CO2_type_1       44096 non-null  float64\n",
      " 16  HC               10050 non-null  float64\n",
      " 17  NOX              44096 non-null  float64\n",
      " 18  hcnox            34093 non-null  float64\n",
      " 19  particules       41561 non-null  float64\n",
      " 20  masse_ordma_min  44231 non-null  int64  \n",
      " 21  masse_ordma_max  44231 non-null  int64  \n",
      " 22  champ_V9         44164 non-null  object \n",
      " 23  date_maj         44231 non-null  object \n",
      " 24  Carrosserie      44231 non-null  object \n",
      " 25  gamme            44231 non-null  object \n",
      "dtypes: float64(10), int64(3), object(13)\n",
      "memory usage: 9.1+ MB\n"
     ]
    }
   ],
   "source": [
    "df_2013.info()"
   ]
  },
  {
   "cell_type": "markdown",
   "id": "b7b89630",
   "metadata": {},
   "source": [
    "On voit déjà qu'il y a des valeurs manquantes. Il faut comprendre le sens des variables dans un premier temps pour traiter ces manquants ensuite"
   ]
  },
  {
   "cell_type": "markdown",
   "id": "334ca57c",
   "metadata": {},
   "source": [
    "### *2.1 Variables quantitatives*\n",
    "Il y a 13 variables quantitatives :\n",
    "- puissance adm : puissance administrative en kW\n",
    "- puiss_max : puissance maximale en kW\n",
    "- conso_urb : consommation urbaine de carburant (en l/100km),\n",
    "- conso_extra_urb : consommation extra urbaine de carburant (en l/100km),\n",
    "- conso_mixte : consommation mixte de carburant (en l/100km),\n",
    "- CO2 : l'émission de CO2 (en g/km), (ça sera la variable à expliquer)\n",
    "- CO2_type_1 : le résultat d’essai de CO type I\n",
    "- HC : les résultats d’essai HC\n",
    "- NOX : les résultats d’essai NOx\n",
    "- hcnox : les résultats d’essai HC+NOX\n",
    "- particules : le résultat d’essai de particules \n",
    "- masse_ordma_min : la masse en ordre de marche mini\n",
    "- masse_ordma_max : la masse en ordre de marche maxi"
   ]
  },
  {
   "cell_type": "code",
   "execution_count": 57,
   "id": "c3086195",
   "metadata": {
    "scrolled": false
   },
   "outputs": [
    {
     "data": {
      "text/html": [
       "<div>\n",
       "<style scoped>\n",
       "    .dataframe tbody tr th:only-of-type {\n",
       "        vertical-align: middle;\n",
       "    }\n",
       "\n",
       "    .dataframe tbody tr th {\n",
       "        vertical-align: top;\n",
       "    }\n",
       "\n",
       "    .dataframe thead th {\n",
       "        text-align: right;\n",
       "    }\n",
       "</style>\n",
       "<table border=\"1\" class=\"dataframe\">\n",
       "  <thead>\n",
       "    <tr style=\"text-align: right;\">\n",
       "      <th></th>\n",
       "      <th>puissance_adm</th>\n",
       "      <th>puiss_max</th>\n",
       "      <th>conso_urb</th>\n",
       "      <th>conso_extra_urb</th>\n",
       "      <th>conso_mixte</th>\n",
       "      <th>CO2</th>\n",
       "      <th>CO2_type_1</th>\n",
       "      <th>HC</th>\n",
       "      <th>NOX</th>\n",
       "      <th>hcnox</th>\n",
       "      <th>particules</th>\n",
       "      <th>masse_ordma_min</th>\n",
       "      <th>masse_ordma_max</th>\n",
       "    </tr>\n",
       "  </thead>\n",
       "  <tbody>\n",
       "    <tr>\n",
       "      <th>count</th>\n",
       "      <td>44231.000000</td>\n",
       "      <td>44231.000000</td>\n",
       "      <td>44189.000000</td>\n",
       "      <td>44189.000000</td>\n",
       "      <td>44192.000000</td>\n",
       "      <td>44192.000000</td>\n",
       "      <td>44096.000000</td>\n",
       "      <td>10050.000000</td>\n",
       "      <td>44096.000000</td>\n",
       "      <td>34093.000000</td>\n",
       "      <td>41561.000000</td>\n",
       "      <td>44231.000000</td>\n",
       "      <td>44231.000000</td>\n",
       "    </tr>\n",
       "    <tr>\n",
       "      <th>mean</th>\n",
       "      <td>11.067803</td>\n",
       "      <td>125.231815</td>\n",
       "      <td>9.697617</td>\n",
       "      <td>6.567715</td>\n",
       "      <td>7.713074</td>\n",
       "      <td>199.352032</td>\n",
       "      <td>0.151736</td>\n",
       "      <td>0.030216</td>\n",
       "      <td>0.314705</td>\n",
       "      <td>0.225175</td>\n",
       "      <td>0.000963</td>\n",
       "      <td>2076.426353</td>\n",
       "      <td>2174.939906</td>\n",
       "    </tr>\n",
       "    <tr>\n",
       "      <th>std</th>\n",
       "      <td>5.568019</td>\n",
       "      <td>49.242734</td>\n",
       "      <td>2.321492</td>\n",
       "      <td>1.168886</td>\n",
       "      <td>1.563748</td>\n",
       "      <td>38.369114</td>\n",
       "      <td>0.137573</td>\n",
       "      <td>0.018544</td>\n",
       "      <td>0.464597</td>\n",
       "      <td>0.041107</td>\n",
       "      <td>0.006480</td>\n",
       "      <td>335.292306</td>\n",
       "      <td>402.759649</td>\n",
       "    </tr>\n",
       "    <tr>\n",
       "      <th>min</th>\n",
       "      <td>1.000000</td>\n",
       "      <td>10.000000</td>\n",
       "      <td>0.000000</td>\n",
       "      <td>2.800000</td>\n",
       "      <td>1.200000</td>\n",
       "      <td>27.000000</td>\n",
       "      <td>0.005000</td>\n",
       "      <td>0.008000</td>\n",
       "      <td>0.001000</td>\n",
       "      <td>0.038000</td>\n",
       "      <td>0.000000</td>\n",
       "      <td>825.000000</td>\n",
       "      <td>825.000000</td>\n",
       "    </tr>\n",
       "    <tr>\n",
       "      <th>25%</th>\n",
       "      <td>9.000000</td>\n",
       "      <td>100.000000</td>\n",
       "      <td>8.800000</td>\n",
       "      <td>6.400000</td>\n",
       "      <td>7.200000</td>\n",
       "      <td>189.000000</td>\n",
       "      <td>0.046000</td>\n",
       "      <td>0.008000</td>\n",
       "      <td>0.162000</td>\n",
       "      <td>0.201000</td>\n",
       "      <td>0.000000</td>\n",
       "      <td>1976.000000</td>\n",
       "      <td>2075.000000</td>\n",
       "    </tr>\n",
       "    <tr>\n",
       "      <th>50%</th>\n",
       "      <td>10.000000</td>\n",
       "      <td>120.000000</td>\n",
       "      <td>9.800000</td>\n",
       "      <td>6.700000</td>\n",
       "      <td>7.700000</td>\n",
       "      <td>203.000000</td>\n",
       "      <td>0.093000</td>\n",
       "      <td>0.031000</td>\n",
       "      <td>0.197000</td>\n",
       "      <td>0.220000</td>\n",
       "      <td>0.001000</td>\n",
       "      <td>2076.000000</td>\n",
       "      <td>2185.000000</td>\n",
       "    </tr>\n",
       "    <tr>\n",
       "      <th>75%</th>\n",
       "      <td>11.000000</td>\n",
       "      <td>125.000000</td>\n",
       "      <td>10.700000</td>\n",
       "      <td>7.100000</td>\n",
       "      <td>8.400000</td>\n",
       "      <td>221.000000</td>\n",
       "      <td>0.213000</td>\n",
       "      <td>0.044000</td>\n",
       "      <td>0.228000</td>\n",
       "      <td>0.248000</td>\n",
       "      <td>0.001000</td>\n",
       "      <td>2255.000000</td>\n",
       "      <td>2355.000000</td>\n",
       "    </tr>\n",
       "    <tr>\n",
       "      <th>max</th>\n",
       "      <td>81.000000</td>\n",
       "      <td>559.300000</td>\n",
       "      <td>41.100000</td>\n",
       "      <td>14.900000</td>\n",
       "      <td>24.500000</td>\n",
       "      <td>572.000000</td>\n",
       "      <td>0.968000</td>\n",
       "      <td>0.143000</td>\n",
       "      <td>1.846000</td>\n",
       "      <td>0.306000</td>\n",
       "      <td>0.610000</td>\n",
       "      <td>3115.000000</td>\n",
       "      <td>3115.000000</td>\n",
       "    </tr>\n",
       "  </tbody>\n",
       "</table>\n",
       "</div>"
      ],
      "text/plain": [
       "       puissance_adm     puiss_max     conso_urb  conso_extra_urb  \\\n",
       "count   44231.000000  44231.000000  44189.000000     44189.000000   \n",
       "mean       11.067803    125.231815      9.697617         6.567715   \n",
       "std         5.568019     49.242734      2.321492         1.168886   \n",
       "min         1.000000     10.000000      0.000000         2.800000   \n",
       "25%         9.000000    100.000000      8.800000         6.400000   \n",
       "50%        10.000000    120.000000      9.800000         6.700000   \n",
       "75%        11.000000    125.000000     10.700000         7.100000   \n",
       "max        81.000000    559.300000     41.100000        14.900000   \n",
       "\n",
       "        conso_mixte           CO2    CO2_type_1            HC           NOX  \\\n",
       "count  44192.000000  44192.000000  44096.000000  10050.000000  44096.000000   \n",
       "mean       7.713074    199.352032      0.151736      0.030216      0.314705   \n",
       "std        1.563748     38.369114      0.137573      0.018544      0.464597   \n",
       "min        1.200000     27.000000      0.005000      0.008000      0.001000   \n",
       "25%        7.200000    189.000000      0.046000      0.008000      0.162000   \n",
       "50%        7.700000    203.000000      0.093000      0.031000      0.197000   \n",
       "75%        8.400000    221.000000      0.213000      0.044000      0.228000   \n",
       "max       24.500000    572.000000      0.968000      0.143000      1.846000   \n",
       "\n",
       "              hcnox    particules  masse_ordma_min  masse_ordma_max  \n",
       "count  34093.000000  41561.000000     44231.000000     44231.000000  \n",
       "mean       0.225175      0.000963      2076.426353      2174.939906  \n",
       "std        0.041107      0.006480       335.292306       402.759649  \n",
       "min        0.038000      0.000000       825.000000       825.000000  \n",
       "25%        0.201000      0.000000      1976.000000      2075.000000  \n",
       "50%        0.220000      0.001000      2076.000000      2185.000000  \n",
       "75%        0.248000      0.001000      2255.000000      2355.000000  \n",
       "max        0.306000      0.610000      3115.000000      3115.000000  "
      ]
     },
     "execution_count": 57,
     "metadata": {},
     "output_type": "execute_result"
    }
   ],
   "source": [
    "# Récapitulatif statistique des variables quantitatives\n",
    "df_2013.describe()"
   ]
  },
  {
   "cell_type": "markdown",
   "id": "e49886a5",
   "metadata": {},
   "source": [
    "Beaucoup de valeurs manquantes pour les variables HC et hcnox. Les ordres de grandeurs sont très larges : il sera nécessaire de procéder à une standardisation des valeurs."
   ]
  },
  {
   "cell_type": "markdown",
   "id": "b9ebab42",
   "metadata": {},
   "source": [
    "### *2.2 Variables qualitatives*\n",
    "Il y a 12 variables qualitatives :\n",
    "- Marque : marque du véhicule\n",
    "- modele_dossier : modèle\n",
    "- modèle_UTAC : modèle UTAC (nécessité de comprendre la différence avec modèle dossier)\n",
    "- designation : designation commerciale\n",
    "- CNIT : Code National d'identification du type\n",
    "- TVV : Type Variante Version ou type Mines\n",
    "- Carburant : type de carburant\n",
    "- Hybride : information permettant d'identifier les véhicules hybrides\n",
    "- boite0: type de boîte de vitesse et le nombre de rapports\n",
    "- champ_V9 : champ V9 du vertificat d'immatriculation qui contient la norme euro\n",
    "- Carrosserie : Carrosserie\n",
    "- gamme : gamme"
   ]
  },
  {
   "cell_type": "markdown",
   "id": "f54756b8",
   "metadata": {},
   "source": [
    "#### *Variable 'Marque'*"
   ]
  },
  {
   "cell_type": "code",
   "execution_count": 58,
   "id": "0e06cdaf",
   "metadata": {},
   "outputs": [
    {
     "data": {
      "text/plain": [
       "MERCEDES-BENZ                38282\n",
       "VOLKSWAGEN                     900\n",
       "BMW                            525\n",
       "OPEL                           520\n",
       "FIAT                           415\n",
       "SKODA                          364\n",
       "FORD                           296\n",
       "AUDI                           242\n",
       "CITROEN                        207\n",
       "LEXUS                          175\n",
       "MERCEDES AMG                   174\n",
       "NISSAN                         173\n",
       "PEUGEOT                        160\n",
       "RENAULT                        155\n",
       "TOYOTA                         111\n",
       "VOLVO                          106\n",
       "SEAT                           105\n",
       "ALFA-ROMEO                     103\n",
       "PORSCHE                         89\n",
       "MINI                            79\n",
       "KIA                             78\n",
       "ASTON MARTIN                    78\n",
       "JEEP                            74\n",
       "CHEVROLET                       63\n",
       "JAGUAR LAND ROVER LIMITED       55\n",
       "SMART                           52\n",
       "HYUNDAI                         52\n",
       "HONDA                           51\n",
       "MAZDA                           46\n",
       "CADILLAC                        44\n",
       "JAGUAR                          43\n",
       "DANGEL                          40\n",
       "MITSUBISHI                      39\n",
       "LANCIA                          37\n",
       "SUZUKI                          31\n",
       "DACIA                           30\n",
       "SUBARU                          27\n",
       "LOTUS                           26\n",
       "INFINITI                        26\n",
       "BENTLEY                         22\n",
       "MIA                             21\n",
       "FERRARI                         21\n",
       "RENAULT TECH                    20\n",
       "LAMBORGHINI                     16\n",
       "ROLLS-ROYCE                     16\n",
       "MAYBACH                         13\n",
       "LADA                             9\n",
       "SSANGYONG                        9\n",
       "MASERATI                         8\n",
       "TESLA                            2\n",
       "QUATTRO                          1\n",
       "Name: Marque, dtype: int64"
      ]
     },
     "execution_count": 58,
     "metadata": {},
     "output_type": "execute_result"
    }
   ],
   "source": [
    "# Répartition des voitures par marques\n",
    "df_2013.Marque.value_counts()"
   ]
  },
  {
   "cell_type": "markdown",
   "id": "48a36183",
   "metadata": {},
   "source": [
    "On constate une sur-représentation de la marque MERCEDES-BENZ dans le dataset"
   ]
  },
  {
   "cell_type": "markdown",
   "id": "d55ce31b",
   "metadata": {},
   "source": [
    "#### *Variables 'Modèle dossier' et 'Modèle UTAC'*"
   ]
  },
  {
   "cell_type": "code",
   "execution_count": 59,
   "id": "56e4aea7",
   "metadata": {},
   "outputs": [
    {
     "data": {
      "text/html": [
       "<div>\n",
       "<style scoped>\n",
       "    .dataframe tbody tr th:only-of-type {\n",
       "        vertical-align: middle;\n",
       "    }\n",
       "\n",
       "    .dataframe tbody tr th {\n",
       "        vertical-align: top;\n",
       "    }\n",
       "\n",
       "    .dataframe thead th {\n",
       "        text-align: right;\n",
       "    }\n",
       "</style>\n",
       "<table border=\"1\" class=\"dataframe\">\n",
       "  <thead>\n",
       "    <tr style=\"text-align: right;\">\n",
       "      <th>modele_UTAC</th>\n",
       "      <th>114</th>\n",
       "      <th>116</th>\n",
       "      <th>118</th>\n",
       "      <th>120</th>\n",
       "      <th>123</th>\n",
       "      <th>125</th>\n",
       "      <th>130</th>\n",
       "      <th>135</th>\n",
       "      <th>2</th>\n",
       "      <th>3</th>\n",
       "      <th>...</th>\n",
       "      <th>X3</th>\n",
       "      <th>X5</th>\n",
       "      <th>X6</th>\n",
       "      <th>XF</th>\n",
       "      <th>XK</th>\n",
       "      <th>XV</th>\n",
       "      <th>YARIS</th>\n",
       "      <th>Z4</th>\n",
       "      <th>ZAFIRA</th>\n",
       "      <th>ZAGATO</th>\n",
       "    </tr>\n",
       "    <tr>\n",
       "      <th>modele_dossier</th>\n",
       "      <th></th>\n",
       "      <th></th>\n",
       "      <th></th>\n",
       "      <th></th>\n",
       "      <th></th>\n",
       "      <th></th>\n",
       "      <th></th>\n",
       "      <th></th>\n",
       "      <th></th>\n",
       "      <th></th>\n",
       "      <th></th>\n",
       "      <th></th>\n",
       "      <th></th>\n",
       "      <th></th>\n",
       "      <th></th>\n",
       "      <th></th>\n",
       "      <th></th>\n",
       "      <th></th>\n",
       "      <th></th>\n",
       "      <th></th>\n",
       "      <th></th>\n",
       "    </tr>\n",
       "  </thead>\n",
       "  <tbody>\n",
       "    <tr>\n",
       "      <th>2171</th>\n",
       "      <td>0</td>\n",
       "      <td>0</td>\n",
       "      <td>0</td>\n",
       "      <td>0</td>\n",
       "      <td>0</td>\n",
       "      <td>0</td>\n",
       "      <td>0</td>\n",
       "      <td>0</td>\n",
       "      <td>0</td>\n",
       "      <td>0</td>\n",
       "      <td>...</td>\n",
       "      <td>0</td>\n",
       "      <td>0</td>\n",
       "      <td>0</td>\n",
       "      <td>0</td>\n",
       "      <td>0</td>\n",
       "      <td>0</td>\n",
       "      <td>0</td>\n",
       "      <td>0</td>\n",
       "      <td>0</td>\n",
       "      <td>0</td>\n",
       "    </tr>\n",
       "    <tr>\n",
       "      <th>2172</th>\n",
       "      <td>0</td>\n",
       "      <td>0</td>\n",
       "      <td>0</td>\n",
       "      <td>0</td>\n",
       "      <td>0</td>\n",
       "      <td>0</td>\n",
       "      <td>0</td>\n",
       "      <td>0</td>\n",
       "      <td>0</td>\n",
       "      <td>0</td>\n",
       "      <td>...</td>\n",
       "      <td>0</td>\n",
       "      <td>0</td>\n",
       "      <td>0</td>\n",
       "      <td>0</td>\n",
       "      <td>0</td>\n",
       "      <td>0</td>\n",
       "      <td>0</td>\n",
       "      <td>0</td>\n",
       "      <td>0</td>\n",
       "      <td>0</td>\n",
       "    </tr>\n",
       "    <tr>\n",
       "      <th>370Z ROADSTER</th>\n",
       "      <td>0</td>\n",
       "      <td>0</td>\n",
       "      <td>0</td>\n",
       "      <td>0</td>\n",
       "      <td>0</td>\n",
       "      <td>0</td>\n",
       "      <td>0</td>\n",
       "      <td>0</td>\n",
       "      <td>0</td>\n",
       "      <td>0</td>\n",
       "      <td>...</td>\n",
       "      <td>0</td>\n",
       "      <td>0</td>\n",
       "      <td>0</td>\n",
       "      <td>0</td>\n",
       "      <td>0</td>\n",
       "      <td>0</td>\n",
       "      <td>0</td>\n",
       "      <td>0</td>\n",
       "      <td>0</td>\n",
       "      <td>0</td>\n",
       "    </tr>\n",
       "    <tr>\n",
       "      <th>86</th>\n",
       "      <td>0</td>\n",
       "      <td>0</td>\n",
       "      <td>0</td>\n",
       "      <td>0</td>\n",
       "      <td>0</td>\n",
       "      <td>0</td>\n",
       "      <td>0</td>\n",
       "      <td>0</td>\n",
       "      <td>0</td>\n",
       "      <td>0</td>\n",
       "      <td>...</td>\n",
       "      <td>0</td>\n",
       "      <td>0</td>\n",
       "      <td>0</td>\n",
       "      <td>0</td>\n",
       "      <td>0</td>\n",
       "      <td>0</td>\n",
       "      <td>0</td>\n",
       "      <td>0</td>\n",
       "      <td>0</td>\n",
       "      <td>0</td>\n",
       "    </tr>\n",
       "    <tr>\n",
       "      <th>911 TURBO</th>\n",
       "      <td>0</td>\n",
       "      <td>0</td>\n",
       "      <td>0</td>\n",
       "      <td>0</td>\n",
       "      <td>0</td>\n",
       "      <td>0</td>\n",
       "      <td>0</td>\n",
       "      <td>0</td>\n",
       "      <td>0</td>\n",
       "      <td>0</td>\n",
       "      <td>...</td>\n",
       "      <td>0</td>\n",
       "      <td>0</td>\n",
       "      <td>0</td>\n",
       "      <td>0</td>\n",
       "      <td>0</td>\n",
       "      <td>0</td>\n",
       "      <td>0</td>\n",
       "      <td>0</td>\n",
       "      <td>0</td>\n",
       "      <td>0</td>\n",
       "    </tr>\n",
       "    <tr>\n",
       "      <th>...</th>\n",
       "      <td>...</td>\n",
       "      <td>...</td>\n",
       "      <td>...</td>\n",
       "      <td>...</td>\n",
       "      <td>...</td>\n",
       "      <td>...</td>\n",
       "      <td>...</td>\n",
       "      <td>...</td>\n",
       "      <td>...</td>\n",
       "      <td>...</td>\n",
       "      <td>...</td>\n",
       "      <td>...</td>\n",
       "      <td>...</td>\n",
       "      <td>...</td>\n",
       "      <td>...</td>\n",
       "      <td>...</td>\n",
       "      <td>...</td>\n",
       "      <td>...</td>\n",
       "      <td>...</td>\n",
       "      <td>...</td>\n",
       "      <td>...</td>\n",
       "    </tr>\n",
       "    <tr>\n",
       "      <th>XKR COUPE</th>\n",
       "      <td>0</td>\n",
       "      <td>0</td>\n",
       "      <td>0</td>\n",
       "      <td>0</td>\n",
       "      <td>0</td>\n",
       "      <td>0</td>\n",
       "      <td>0</td>\n",
       "      <td>0</td>\n",
       "      <td>0</td>\n",
       "      <td>0</td>\n",
       "      <td>...</td>\n",
       "      <td>0</td>\n",
       "      <td>0</td>\n",
       "      <td>0</td>\n",
       "      <td>0</td>\n",
       "      <td>2</td>\n",
       "      <td>0</td>\n",
       "      <td>0</td>\n",
       "      <td>0</td>\n",
       "      <td>0</td>\n",
       "      <td>0</td>\n",
       "    </tr>\n",
       "    <tr>\n",
       "      <th>XKR-S CONVERTIBLE</th>\n",
       "      <td>0</td>\n",
       "      <td>0</td>\n",
       "      <td>0</td>\n",
       "      <td>0</td>\n",
       "      <td>0</td>\n",
       "      <td>0</td>\n",
       "      <td>0</td>\n",
       "      <td>0</td>\n",
       "      <td>0</td>\n",
       "      <td>0</td>\n",
       "      <td>...</td>\n",
       "      <td>0</td>\n",
       "      <td>0</td>\n",
       "      <td>0</td>\n",
       "      <td>0</td>\n",
       "      <td>1</td>\n",
       "      <td>0</td>\n",
       "      <td>0</td>\n",
       "      <td>0</td>\n",
       "      <td>0</td>\n",
       "      <td>0</td>\n",
       "    </tr>\n",
       "    <tr>\n",
       "      <th>XKR-S COUPE</th>\n",
       "      <td>0</td>\n",
       "      <td>0</td>\n",
       "      <td>0</td>\n",
       "      <td>0</td>\n",
       "      <td>0</td>\n",
       "      <td>0</td>\n",
       "      <td>0</td>\n",
       "      <td>0</td>\n",
       "      <td>0</td>\n",
       "      <td>0</td>\n",
       "      <td>...</td>\n",
       "      <td>0</td>\n",
       "      <td>0</td>\n",
       "      <td>0</td>\n",
       "      <td>0</td>\n",
       "      <td>1</td>\n",
       "      <td>0</td>\n",
       "      <td>0</td>\n",
       "      <td>0</td>\n",
       "      <td>0</td>\n",
       "      <td>0</td>\n",
       "    </tr>\n",
       "    <tr>\n",
       "      <th>YARIS HYBRID</th>\n",
       "      <td>0</td>\n",
       "      <td>0</td>\n",
       "      <td>0</td>\n",
       "      <td>0</td>\n",
       "      <td>0</td>\n",
       "      <td>0</td>\n",
       "      <td>0</td>\n",
       "      <td>0</td>\n",
       "      <td>0</td>\n",
       "      <td>0</td>\n",
       "      <td>...</td>\n",
       "      <td>0</td>\n",
       "      <td>0</td>\n",
       "      <td>0</td>\n",
       "      <td>0</td>\n",
       "      <td>0</td>\n",
       "      <td>0</td>\n",
       "      <td>2</td>\n",
       "      <td>0</td>\n",
       "      <td>0</td>\n",
       "      <td>0</td>\n",
       "    </tr>\n",
       "    <tr>\n",
       "      <th>ZAFIRA TOURER</th>\n",
       "      <td>0</td>\n",
       "      <td>0</td>\n",
       "      <td>0</td>\n",
       "      <td>0</td>\n",
       "      <td>0</td>\n",
       "      <td>0</td>\n",
       "      <td>0</td>\n",
       "      <td>0</td>\n",
       "      <td>0</td>\n",
       "      <td>0</td>\n",
       "      <td>...</td>\n",
       "      <td>0</td>\n",
       "      <td>0</td>\n",
       "      <td>0</td>\n",
       "      <td>0</td>\n",
       "      <td>0</td>\n",
       "      <td>0</td>\n",
       "      <td>0</td>\n",
       "      <td>0</td>\n",
       "      <td>61</td>\n",
       "      <td>0</td>\n",
       "    </tr>\n",
       "  </tbody>\n",
       "</table>\n",
       "<p>185 rows × 199 columns</p>\n",
       "</div>"
      ],
      "text/plain": [
       "modele_UTAC        114  116  118  120  123  125  130  135  2  3  ...  X3  X5  \\\n",
       "modele_dossier                                                   ...           \n",
       "2171                 0    0    0    0    0    0    0    0  0  0  ...   0   0   \n",
       "2172                 0    0    0    0    0    0    0    0  0  0  ...   0   0   \n",
       "370Z ROADSTER        0    0    0    0    0    0    0    0  0  0  ...   0   0   \n",
       "86                   0    0    0    0    0    0    0    0  0  0  ...   0   0   \n",
       "911 TURBO            0    0    0    0    0    0    0    0  0  0  ...   0   0   \n",
       "...                ...  ...  ...  ...  ...  ...  ...  ... .. ..  ...  ..  ..   \n",
       "XKR COUPE            0    0    0    0    0    0    0    0  0  0  ...   0   0   \n",
       "XKR-S CONVERTIBLE    0    0    0    0    0    0    0    0  0  0  ...   0   0   \n",
       "XKR-S COUPE          0    0    0    0    0    0    0    0  0  0  ...   0   0   \n",
       "YARIS HYBRID         0    0    0    0    0    0    0    0  0  0  ...   0   0   \n",
       "ZAFIRA TOURER        0    0    0    0    0    0    0    0  0  0  ...   0   0   \n",
       "\n",
       "modele_UTAC        X6  XF  XK  XV  YARIS  Z4  ZAFIRA  ZAGATO  \n",
       "modele_dossier                                                \n",
       "2171                0   0   0   0      0   0       0       0  \n",
       "2172                0   0   0   0      0   0       0       0  \n",
       "370Z ROADSTER       0   0   0   0      0   0       0       0  \n",
       "86                  0   0   0   0      0   0       0       0  \n",
       "911 TURBO           0   0   0   0      0   0       0       0  \n",
       "...                ..  ..  ..  ..    ...  ..     ...     ...  \n",
       "XKR COUPE           0   0   2   0      0   0       0       0  \n",
       "XKR-S CONVERTIBLE   0   0   1   0      0   0       0       0  \n",
       "XKR-S COUPE         0   0   1   0      0   0       0       0  \n",
       "YARIS HYBRID        0   0   0   0      2   0       0       0  \n",
       "ZAFIRA TOURER       0   0   0   0      0   0      61       0  \n",
       "\n",
       "[185 rows x 199 columns]"
      ]
     },
     "execution_count": 59,
     "metadata": {},
     "output_type": "execute_result"
    }
   ],
   "source": [
    "# Les variables modele_dossier et modele_UTAC semblent assez similaires : quelle est la différence?\n",
    "pd.crosstab(df_2013.modele_dossier,df_2013.modele_UTAC)\n",
    "\n",
    "test_mod=df_2013[-(df_2013.modele_dossier==df_2013.modele_UTAC)]\n",
    "pd.crosstab(test_mod.modele_dossier,test_mod.modele_UTAC)"
   ]
  },
  {
   "cell_type": "code",
   "execution_count": 60,
   "id": "32569145",
   "metadata": {},
   "outputs": [
    {
     "data": {
      "text/plain": [
       "Marque        modele_dossier        modele_UTAC\n",
       "ALFA-ROMEO    AR8C SPIDER           8C SPIDER       2\n",
       "ASTON MARTIN  DB9 VOLANTE           DB9             4\n",
       "              RAPIDE S              RAPIDE          2\n",
       "              V12 VANTAGE           VANTAGE         2\n",
       "              V12 VANTAGE ROADSTER  VANTAGE         2\n",
       "                                                   ..\n",
       "VOLKSWAGEN    CC                    PASSAT CC       8\n",
       "              GOLF PLUS             GOLF            8\n",
       "              MULTIVAN STARLINE     MULTIVAN        5\n",
       "VOLVO         V40 CROSS COUNTRY     V40            11\n",
       "              V60 HYBRID            V60             1\n",
       "Length: 277, dtype: int64"
      ]
     },
     "execution_count": 60,
     "metadata": {},
     "output_type": "execute_result"
    }
   ],
   "source": [
    "# Quelle variable de modèle choisir?\n",
    "test_mod.groupby(['Marque','modele_dossier','modele_UTAC']).size()"
   ]
  },
  {
   "cell_type": "markdown",
   "id": "a8e47cd8",
   "metadata": {},
   "source": [
    "Ces deux variables sont redondantes, et ne semblent pas apporter d'informations différentes l'une par rapport à l'autre : on garde arbitrairement modele_dossier"
   ]
  },
  {
   "cell_type": "markdown",
   "id": "77b249e3",
   "metadata": {},
   "source": [
    "#### *Variables 'designation commerciale', 'CNIT', et 'TVV'*"
   ]
  },
  {
   "cell_type": "code",
   "execution_count": 61,
   "id": "72e24912",
   "metadata": {},
   "outputs": [
    {
     "data": {
      "text/html": [
       "<div>\n",
       "<style scoped>\n",
       "    .dataframe tbody tr th:only-of-type {\n",
       "        vertical-align: middle;\n",
       "    }\n",
       "\n",
       "    .dataframe tbody tr th {\n",
       "        vertical-align: top;\n",
       "    }\n",
       "\n",
       "    .dataframe thead th {\n",
       "        text-align: right;\n",
       "    }\n",
       "</style>\n",
       "<table border=\"1\" class=\"dataframe\">\n",
       "  <thead>\n",
       "    <tr style=\"text-align: right;\">\n",
       "      <th></th>\n",
       "      <th>Marque</th>\n",
       "      <th>modele_dossier</th>\n",
       "      <th>design_comm</th>\n",
       "      <th>CNIT</th>\n",
       "      <th>TVV</th>\n",
       "    </tr>\n",
       "  </thead>\n",
       "  <tbody>\n",
       "    <tr>\n",
       "      <th>0</th>\n",
       "      <td>ALFA-ROMEO</td>\n",
       "      <td>159</td>\n",
       "      <td>159 1750 Tbi (200ch)</td>\n",
       "      <td>M10ALFVP000G340</td>\n",
       "      <td>939AXN1B52C</td>\n",
       "    </tr>\n",
       "    <tr>\n",
       "      <th>1</th>\n",
       "      <td>ALFA-ROMEO</td>\n",
       "      <td>159</td>\n",
       "      <td>159 2.0 JTDm (170ch) ECO</td>\n",
       "      <td>M10ALFVP000U221</td>\n",
       "      <td>939AXP1B54C</td>\n",
       "    </tr>\n",
       "    <tr>\n",
       "      <th>2</th>\n",
       "      <td>ALFA-ROMEO</td>\n",
       "      <td>159</td>\n",
       "      <td>159 2.0 JTDm (136ch)</td>\n",
       "      <td>M10ALFVP000E302</td>\n",
       "      <td>939AXR1B64</td>\n",
       "    </tr>\n",
       "    <tr>\n",
       "      <th>3</th>\n",
       "      <td>ALFA-ROMEO</td>\n",
       "      <td>159</td>\n",
       "      <td>159 2.0 JTDm (136ch)</td>\n",
       "      <td>M10ALFVP000F303</td>\n",
       "      <td>939AXR1B64B</td>\n",
       "    </tr>\n",
       "    <tr>\n",
       "      <th>4</th>\n",
       "      <td>ALFA-ROMEO</td>\n",
       "      <td>159</td>\n",
       "      <td>159 2.0 JTDm (170ch)</td>\n",
       "      <td>M10ALFVP000G304</td>\n",
       "      <td>939AXS1B66</td>\n",
       "    </tr>\n",
       "  </tbody>\n",
       "</table>\n",
       "</div>"
      ],
      "text/plain": [
       "       Marque modele_dossier               design_comm             CNIT  \\\n",
       "0  ALFA-ROMEO            159      159 1750 Tbi (200ch)  M10ALFVP000G340   \n",
       "1  ALFA-ROMEO            159  159 2.0 JTDm (170ch) ECO  M10ALFVP000U221   \n",
       "2  ALFA-ROMEO            159      159 2.0 JTDm (136ch)  M10ALFVP000E302   \n",
       "3  ALFA-ROMEO            159      159 2.0 JTDm (136ch)  M10ALFVP000F303   \n",
       "4  ALFA-ROMEO            159      159 2.0 JTDm (170ch)  M10ALFVP000G304   \n",
       "\n",
       "           TVV  \n",
       "0  939AXN1B52C  \n",
       "1  939AXP1B54C  \n",
       "2   939AXR1B64  \n",
       "3  939AXR1B64B  \n",
       "4   939AXS1B66  "
      ]
     },
     "execution_count": 61,
     "metadata": {},
     "output_type": "execute_result"
    }
   ],
   "source": [
    "# On cherche à comprendre le sens des variables. \n",
    "df_2013[['Marque','modele_dossier','design_comm','CNIT','TVV']].head()"
   ]
  },
  {
   "cell_type": "markdown",
   "id": "eed423c3",
   "metadata": {},
   "source": [
    "La désignation commerciale est une version plus fournie que le modèle dossier. Il n'apportera pas à priori d'information supplémentaire dans le dataset.\n",
    "Le CNIT quant à lui est un autre identificateur du véhicule qui peut être partiellement décodé\n",
    "Le TVV apporte également des informations sur le véhicule, mais nous ne savons pas décoder ni utiliser ces informations. La variable sera supprimée, faute de pouvoir l'interpréter."
   ]
  },
  {
   "cell_type": "code",
   "execution_count": 62,
   "id": "1580cd41",
   "metadata": {},
   "outputs": [
    {
     "data": {
      "text/html": [
       "<div>\n",
       "<style scoped>\n",
       "    .dataframe tbody tr th:only-of-type {\n",
       "        vertical-align: middle;\n",
       "    }\n",
       "\n",
       "    .dataframe tbody tr th {\n",
       "        vertical-align: top;\n",
       "    }\n",
       "\n",
       "    .dataframe thead th {\n",
       "        text-align: right;\n",
       "    }\n",
       "</style>\n",
       "<table border=\"1\" class=\"dataframe\">\n",
       "  <thead>\n",
       "    <tr style=\"text-align: right;\">\n",
       "      <th></th>\n",
       "      <th>cat</th>\n",
       "      <th>mq</th>\n",
       "      <th>genre</th>\n",
       "    </tr>\n",
       "  </thead>\n",
       "  <tbody>\n",
       "    <tr>\n",
       "      <th>0</th>\n",
       "      <td>M10</td>\n",
       "      <td>ALF</td>\n",
       "      <td>VP</td>\n",
       "    </tr>\n",
       "    <tr>\n",
       "      <th>1</th>\n",
       "      <td>M10</td>\n",
       "      <td>ALF</td>\n",
       "      <td>VP</td>\n",
       "    </tr>\n",
       "    <tr>\n",
       "      <th>2</th>\n",
       "      <td>M10</td>\n",
       "      <td>ALF</td>\n",
       "      <td>VP</td>\n",
       "    </tr>\n",
       "    <tr>\n",
       "      <th>3</th>\n",
       "      <td>M10</td>\n",
       "      <td>ALF</td>\n",
       "      <td>VP</td>\n",
       "    </tr>\n",
       "    <tr>\n",
       "      <th>4</th>\n",
       "      <td>M10</td>\n",
       "      <td>ALF</td>\n",
       "      <td>VP</td>\n",
       "    </tr>\n",
       "    <tr>\n",
       "      <th>5</th>\n",
       "      <td>M10</td>\n",
       "      <td>ALF</td>\n",
       "      <td>VP</td>\n",
       "    </tr>\n",
       "    <tr>\n",
       "      <th>6</th>\n",
       "      <td>M10</td>\n",
       "      <td>ALF</td>\n",
       "      <td>VP</td>\n",
       "    </tr>\n",
       "    <tr>\n",
       "      <th>7</th>\n",
       "      <td>M10</td>\n",
       "      <td>ALF</td>\n",
       "      <td>VP</td>\n",
       "    </tr>\n",
       "    <tr>\n",
       "      <th>8</th>\n",
       "      <td>M10</td>\n",
       "      <td>ALF</td>\n",
       "      <td>VP</td>\n",
       "    </tr>\n",
       "    <tr>\n",
       "      <th>9</th>\n",
       "      <td>M10</td>\n",
       "      <td>ALF</td>\n",
       "      <td>VP</td>\n",
       "    </tr>\n",
       "  </tbody>\n",
       "</table>\n",
       "</div>"
      ],
      "text/plain": [
       "   cat   mq genre\n",
       "0  M10  ALF    VP\n",
       "1  M10  ALF    VP\n",
       "2  M10  ALF    VP\n",
       "3  M10  ALF    VP\n",
       "4  M10  ALF    VP\n",
       "5  M10  ALF    VP\n",
       "6  M10  ALF    VP\n",
       "7  M10  ALF    VP\n",
       "8  M10  ALF    VP\n",
       "9  M10  ALF    VP"
      ]
     },
     "execution_count": 62,
     "metadata": {},
     "output_type": "execute_result"
    }
   ],
   "source": [
    "# On créé des nouvelles variables qu'on enrichira des valeurs ci-desous\n",
    "df_2013.insert(5,'cat','T')\n",
    "df_2013.insert(6,'mq','T')\n",
    "df_2013.insert(7,'genre','T')\n",
    "\n",
    "#la variable CNIT génère beaucoup de doublons, à quoi correspond-t-elle?\n",
    "#les 3 premiers caractères représentent la catégorie\n",
    "df_2013.cat=df_2013.CNIT.str[:3]\n",
    "\n",
    "#les 3 suivants sont la marque\n",
    "df_2013.mq=df_2013.CNIT.str[3:6]\n",
    "\n",
    "#les 2 suivants le genre (VP dans la majeure partie des cas)\n",
    "df_2013.genre=df_2013.CNIT.str[6:8]\n",
    "\n",
    "df_2013[['cat','mq','genre']].head(10)"
   ]
  },
  {
   "cell_type": "markdown",
   "id": "66c8bdfc",
   "metadata": {},
   "source": [
    "Ces éléments n'apportent pas d'information supplémentaires (elles sont apportées par d'autres variables) mais pourraient permettre de compléter des données manquantes. On supprimera la variable CNIT qui ne servira pas dans le machine learning."
   ]
  },
  {
   "cell_type": "markdown",
   "id": "97bc5296",
   "metadata": {},
   "source": [
    "#### *Variable 'Carburant'*"
   ]
  },
  {
   "cell_type": "code",
   "execution_count": 63,
   "id": "dcd95698",
   "metadata": {},
   "outputs": [
    {
     "data": {
      "text/plain": [
       "GO       37680\n",
       "ES        6108\n",
       "EH         199\n",
       "GN          59\n",
       "GH          54\n",
       "EL          39\n",
       "ES/GN       23\n",
       "GN/ES       23\n",
       "ES/GP       17\n",
       "GP/ES       17\n",
       "FE           8\n",
       "EE           3\n",
       "GL           1\n",
       "Name: Carburant, dtype: int64"
      ]
     },
     "execution_count": 63,
     "metadata": {},
     "output_type": "execute_result"
    }
   ],
   "source": [
    "# Répartition des voitures par carburant\n",
    "df_2013.Carburant.value_counts()"
   ]
  },
  {
   "cell_type": "markdown",
   "id": "e29acfa2",
   "metadata": {},
   "source": [
    "Il y a une sur-représentation des carburants GO (Gasoil)\n",
    "Il y a des carburants qui se répètent sous des appellations différentes (ES/GN et GN/ES, ES/GP et GP/ES)\n",
    "\n",
    "ES = Essence\n",
    "\n",
    "GO = Gazoil\n",
    "\n",
    "EH = Essence Hybride Non Rechargeable\n",
    "\n",
    "EE = Essence Hybride Rechargeable\n",
    "\n",
    "EL = Electrique\n",
    "\n",
    "GH = Gazoil Hybride Non Rechargeable\n",
    "\n",
    "ES/GP = GP/ES = Essence GPL\n",
    "\n",
    "ES/GN = GN/ES = Essence Gaz Naturel\n",
    "\n",
    "FE = Superethanol-E85\n",
    "\n",
    "GN = Gaz Naturel (Vehicule)\n",
    "\n",
    "GL = Gazoil Hybride Rechargeable"
   ]
  },
  {
   "cell_type": "code",
   "execution_count": 64,
   "id": "4e1ebd26",
   "metadata": {},
   "outputs": [
    {
     "data": {
      "text/plain": [
       "GO       37680\n",
       "ES        6108\n",
       "EH         199\n",
       "GN          59\n",
       "GH          54\n",
       "ES/GN       46\n",
       "EL          39\n",
       "ES/GP       34\n",
       "FE           8\n",
       "EE           3\n",
       "GL           1\n",
       "Name: Carburant, dtype: int64"
      ]
     },
     "execution_count": 64,
     "metadata": {},
     "output_type": "execute_result"
    }
   ],
   "source": [
    "# Harmonisation des nomenclatures de carburants\n",
    "df_2013['Carburant'] = df_2013['Carburant'].replace(to_replace = ['GN/ES', 'GP/ES'], value = ['ES/GN', 'ES/GP'])\n",
    "\n",
    "# Nouvelle répartition par carburant\n",
    "df_2013['Carburant'].value_counts()"
   ]
  },
  {
   "cell_type": "markdown",
   "id": "4b65f01f",
   "metadata": {},
   "source": [
    "#### *Variable Hybride*"
   ]
  },
  {
   "cell_type": "code",
   "execution_count": 65,
   "id": "f9319be3",
   "metadata": {},
   "outputs": [
    {
     "data": {
      "text/plain": [
       "non    43974\n",
       "oui      257\n",
       "Name: Hybride, dtype: int64"
      ]
     },
     "execution_count": 65,
     "metadata": {},
     "output_type": "execute_result"
    }
   ],
   "source": [
    "# Répartition des véhicules hybrides\n",
    "df_2013.Hybride.value_counts()"
   ]
  },
  {
   "cell_type": "markdown",
   "id": "377d4f31",
   "metadata": {},
   "source": [
    "#### *Variable 'boite0'*"
   ]
  },
  {
   "cell_type": "markdown",
   "id": "c1d640e7",
   "metadata": {},
   "source": [
    "Il s'agit du type de boîte de vitesse et le nombre de rapports"
   ]
  },
  {
   "cell_type": "code",
   "execution_count": 66,
   "id": "251a2cc3",
   "metadata": {},
   "outputs": [
    {
     "data": {
      "text/html": [
       "<div>\n",
       "<style scoped>\n",
       "    .dataframe tbody tr th:only-of-type {\n",
       "        vertical-align: middle;\n",
       "    }\n",
       "\n",
       "    .dataframe tbody tr th {\n",
       "        vertical-align: top;\n",
       "    }\n",
       "\n",
       "    .dataframe thead th {\n",
       "        text-align: right;\n",
       "    }\n",
       "</style>\n",
       "<table border=\"1\" class=\"dataframe\">\n",
       "  <thead>\n",
       "    <tr style=\"text-align: right;\">\n",
       "      <th></th>\n",
       "      <th>Marque</th>\n",
       "      <th>modele_dossier</th>\n",
       "      <th>modele_UTAC</th>\n",
       "      <th>design_comm</th>\n",
       "      <th>CNIT</th>\n",
       "      <th>cat</th>\n",
       "      <th>mq</th>\n",
       "      <th>genre</th>\n",
       "      <th>TVV</th>\n",
       "      <th>Carburant</th>\n",
       "      <th>...</th>\n",
       "      <th>hcnox</th>\n",
       "      <th>particules</th>\n",
       "      <th>masse_ordma_min</th>\n",
       "      <th>masse_ordma_max</th>\n",
       "      <th>champ_V9</th>\n",
       "      <th>date_maj</th>\n",
       "      <th>Carrosserie</th>\n",
       "      <th>gamme</th>\n",
       "      <th>boite</th>\n",
       "      <th>rapport</th>\n",
       "    </tr>\n",
       "  </thead>\n",
       "  <tbody>\n",
       "    <tr>\n",
       "      <th>0</th>\n",
       "      <td>ALFA-ROMEO</td>\n",
       "      <td>159</td>\n",
       "      <td>159</td>\n",
       "      <td>159 1750 Tbi (200ch)</td>\n",
       "      <td>M10ALFVP000G340</td>\n",
       "      <td>M10</td>\n",
       "      <td>ALF</td>\n",
       "      <td>VP</td>\n",
       "      <td>939AXN1B52C</td>\n",
       "      <td>ES</td>\n",
       "      <td>...</td>\n",
       "      <td>NaN</td>\n",
       "      <td>0.002</td>\n",
       "      <td>1505</td>\n",
       "      <td>1505</td>\n",
       "      <td>715/2007*692/2008EURO5</td>\n",
       "      <td>juin-13</td>\n",
       "      <td>BREAK</td>\n",
       "      <td>MOY-SUPER</td>\n",
       "      <td>M</td>\n",
       "      <td>6</td>\n",
       "    </tr>\n",
       "    <tr>\n",
       "      <th>1</th>\n",
       "      <td>ALFA-ROMEO</td>\n",
       "      <td>159</td>\n",
       "      <td>159</td>\n",
       "      <td>159 2.0 JTDm (170ch) ECO</td>\n",
       "      <td>M10ALFVP000U221</td>\n",
       "      <td>M10</td>\n",
       "      <td>ALF</td>\n",
       "      <td>VP</td>\n",
       "      <td>939AXP1B54C</td>\n",
       "      <td>GO</td>\n",
       "      <td>...</td>\n",
       "      <td>0.190</td>\n",
       "      <td>0.003</td>\n",
       "      <td>1565</td>\n",
       "      <td>1565</td>\n",
       "      <td>715/2007*692/2008EURO5</td>\n",
       "      <td>juin-13</td>\n",
       "      <td>BERLINE</td>\n",
       "      <td>MOY-SUPER</td>\n",
       "      <td>M</td>\n",
       "      <td>6</td>\n",
       "    </tr>\n",
       "    <tr>\n",
       "      <th>2</th>\n",
       "      <td>ALFA-ROMEO</td>\n",
       "      <td>159</td>\n",
       "      <td>159</td>\n",
       "      <td>159 2.0 JTDm (136ch)</td>\n",
       "      <td>M10ALFVP000E302</td>\n",
       "      <td>M10</td>\n",
       "      <td>ALF</td>\n",
       "      <td>VP</td>\n",
       "      <td>939AXR1B64</td>\n",
       "      <td>GO</td>\n",
       "      <td>...</td>\n",
       "      <td>0.175</td>\n",
       "      <td>0.001</td>\n",
       "      <td>1565</td>\n",
       "      <td>1565</td>\n",
       "      <td>715/2007*692/2008EURO5</td>\n",
       "      <td>juin-13</td>\n",
       "      <td>BERLINE</td>\n",
       "      <td>MOY-SUPER</td>\n",
       "      <td>M</td>\n",
       "      <td>6</td>\n",
       "    </tr>\n",
       "    <tr>\n",
       "      <th>3</th>\n",
       "      <td>ALFA-ROMEO</td>\n",
       "      <td>159</td>\n",
       "      <td>159</td>\n",
       "      <td>159 2.0 JTDm (136ch)</td>\n",
       "      <td>M10ALFVP000F303</td>\n",
       "      <td>M10</td>\n",
       "      <td>ALF</td>\n",
       "      <td>VP</td>\n",
       "      <td>939AXR1B64B</td>\n",
       "      <td>GO</td>\n",
       "      <td>...</td>\n",
       "      <td>0.175</td>\n",
       "      <td>0.001</td>\n",
       "      <td>1565</td>\n",
       "      <td>1565</td>\n",
       "      <td>715/2007*692/2008EURO5</td>\n",
       "      <td>juin-13</td>\n",
       "      <td>BERLINE</td>\n",
       "      <td>MOY-SUPER</td>\n",
       "      <td>M</td>\n",
       "      <td>6</td>\n",
       "    </tr>\n",
       "    <tr>\n",
       "      <th>4</th>\n",
       "      <td>ALFA-ROMEO</td>\n",
       "      <td>159</td>\n",
       "      <td>159</td>\n",
       "      <td>159 2.0 JTDm (170ch)</td>\n",
       "      <td>M10ALFVP000G304</td>\n",
       "      <td>M10</td>\n",
       "      <td>ALF</td>\n",
       "      <td>VP</td>\n",
       "      <td>939AXS1B66</td>\n",
       "      <td>GO</td>\n",
       "      <td>...</td>\n",
       "      <td>0.193</td>\n",
       "      <td>0.001</td>\n",
       "      <td>1565</td>\n",
       "      <td>1565</td>\n",
       "      <td>715/2007*692/2008EURO5</td>\n",
       "      <td>juin-13</td>\n",
       "      <td>BERLINE</td>\n",
       "      <td>MOY-SUPER</td>\n",
       "      <td>M</td>\n",
       "      <td>6</td>\n",
       "    </tr>\n",
       "  </tbody>\n",
       "</table>\n",
       "<p>5 rows × 31 columns</p>\n",
       "</div>"
      ],
      "text/plain": [
       "       Marque modele_dossier modele_UTAC               design_comm  \\\n",
       "0  ALFA-ROMEO            159         159      159 1750 Tbi (200ch)   \n",
       "1  ALFA-ROMEO            159         159  159 2.0 JTDm (170ch) ECO   \n",
       "2  ALFA-ROMEO            159         159      159 2.0 JTDm (136ch)   \n",
       "3  ALFA-ROMEO            159         159      159 2.0 JTDm (136ch)   \n",
       "4  ALFA-ROMEO            159         159      159 2.0 JTDm (170ch)   \n",
       "\n",
       "              CNIT  cat   mq genre          TVV Carburant  ...  hcnox  \\\n",
       "0  M10ALFVP000G340  M10  ALF    VP  939AXN1B52C        ES  ...    NaN   \n",
       "1  M10ALFVP000U221  M10  ALF    VP  939AXP1B54C        GO  ...  0.190   \n",
       "2  M10ALFVP000E302  M10  ALF    VP   939AXR1B64        GO  ...  0.175   \n",
       "3  M10ALFVP000F303  M10  ALF    VP  939AXR1B64B        GO  ...  0.175   \n",
       "4  M10ALFVP000G304  M10  ALF    VP   939AXS1B66        GO  ...  0.193   \n",
       "\n",
       "   particules  masse_ordma_min masse_ordma_max                champ_V9  \\\n",
       "0       0.002             1505            1505  715/2007*692/2008EURO5   \n",
       "1       0.003             1565            1565  715/2007*692/2008EURO5   \n",
       "2       0.001             1565            1565  715/2007*692/2008EURO5   \n",
       "3       0.001             1565            1565  715/2007*692/2008EURO5   \n",
       "4       0.001             1565            1565  715/2007*692/2008EURO5   \n",
       "\n",
       "   date_maj  Carrosserie      gamme  boite  rapport  \n",
       "0   juin-13        BREAK  MOY-SUPER      M        6  \n",
       "1   juin-13      BERLINE  MOY-SUPER      M        6  \n",
       "2   juin-13      BERLINE  MOY-SUPER      M        6  \n",
       "3   juin-13      BERLINE  MOY-SUPER      M        6  \n",
       "4   juin-13      BERLINE  MOY-SUPER      M        6  \n",
       "\n",
       "[5 rows x 31 columns]"
      ]
     },
     "execution_count": 66,
     "metadata": {},
     "output_type": "execute_result"
    }
   ],
   "source": [
    "# Il faut éclater la variable boite0 en 2 : type de boîte d'un côté et nombre de rapports de l'autre\n",
    "# On créé des nouvelles variables qu'on enrichira des valeurs ci-desous\n",
    "\n",
    "df_2013[['boite', 'rapport']]=df_2013.boite0.str.split(expand=True)\n",
    "df_2013.head()"
   ]
  },
  {
   "cell_type": "code",
   "execution_count": 67,
   "id": "51b27856",
   "metadata": {},
   "outputs": [
    {
     "data": {
      "text/plain": [
       "A    23556\n",
       "M    20420\n",
       "V      180\n",
       "D       71\n",
       "N        3\n",
       "S        1\n",
       "Name: boite, dtype: int64"
      ]
     },
     "execution_count": 67,
     "metadata": {},
     "output_type": "execute_result"
    }
   ],
   "source": [
    "# Répartition des types de boîtes de vitesse\n",
    "df_2013.boite.value_counts()"
   ]
  },
  {
   "cell_type": "markdown",
   "id": "3440264c",
   "metadata": {},
   "source": [
    "Cette variable indique la nature de la boîte de vitesse.\n",
    "\n",
    "A : Automatique / \n",
    "M : Manuelle\n",
    "\n",
    "Toutes les valeurs ne sont pas interprétables"
   ]
  },
  {
   "cell_type": "code",
   "execution_count": 68,
   "id": "b84ff372",
   "metadata": {},
   "outputs": [],
   "source": [
    "# Regroupement des modalités en sous-nombres sous la valeur \"Autres\"\n",
    "df_2013['boite'].replace(to_replace = ['V', 'D', 'N', 'S'], value = 'Autres', inplace = True)\n",
    "# La modalité D semble être automatique\n",
    "# Il faudrait retirer les voitures électriques du lot"
   ]
  },
  {
   "cell_type": "code",
   "execution_count": 69,
   "id": "9cdb6aee",
   "metadata": {},
   "outputs": [
    {
     "data": {
      "text/plain": [
       "A         23556\n",
       "M         20420\n",
       "Autres      255\n",
       "Name: boite, dtype: int64"
      ]
     },
     "execution_count": 69,
     "metadata": {},
     "output_type": "execute_result"
    }
   ],
   "source": [
    "df_2013.boite.value_counts()"
   ]
  },
  {
   "cell_type": "code",
   "execution_count": 70,
   "id": "e4ebd85f",
   "metadata": {},
   "outputs": [
    {
     "data": {
      "text/plain": [
       "6    20260\n",
       "5    14832\n",
       "7     8461\n",
       "8      446\n",
       "0      191\n",
       "4       39\n",
       "1        2\n",
       "Name: rapport, dtype: int64"
      ]
     },
     "execution_count": 70,
     "metadata": {},
     "output_type": "execute_result"
    }
   ],
   "source": [
    "# Répartition des nombres de rapports de vitesse\n",
    "df_2013.rapport.value_counts()"
   ]
  },
  {
   "cell_type": "markdown",
   "id": "2953a69f",
   "metadata": {},
   "source": [
    "#### *Variable 'Champ V9'*"
   ]
  },
  {
   "cell_type": "markdown",
   "id": "e2b442d1",
   "metadata": {},
   "source": [
    "La variable Champ V9 correspond à un champ de la carte grise qui procure différentes informations comme la date de commercialisation, ou la norme euros"
   ]
  },
  {
   "cell_type": "code",
   "execution_count": 71,
   "id": "a910105b",
   "metadata": {},
   "outputs": [
    {
     "data": {
      "text/plain": [
       "715/2007*692/2008EURO5    26220\n",
       "715/2007*566/2011EURO5     8164\n",
       "715/2007*630/2012EURO5     3271\n",
       "2005/55*2008/74EURO5       1876\n",
       "2005/55*2008/74EEV         1830\n",
       "715/2007*630/2012EURO6     1148\n",
       "715/2007*459/2012EURO5     1089\n",
       "715/2007*459/2012EURO6      339\n",
       "715/2007*566/2011EURO6      136\n",
       "715/2007*692/2008EURO6       86\n",
       "715/2007*566/2011EURO         2\n",
       "715/2007*459/2012EUR          2\n",
       "715/2007*459/2012EURO         1\n",
       "Name: champ_V9, dtype: int64"
      ]
     },
     "execution_count": 71,
     "metadata": {},
     "output_type": "execute_result"
    }
   ],
   "source": [
    "df_2013.champ_V9.value_counts()"
   ]
  },
  {
   "cell_type": "code",
   "execution_count": 72,
   "id": "8c5bd1ba",
   "metadata": {},
   "outputs": [
    {
     "data": {
      "text/plain": [
       "0    EURO5\n",
       "1    EURO5\n",
       "2    EURO5\n",
       "3    EURO5\n",
       "4    EURO5\n",
       "Name: norme_EURO, dtype: object"
      ]
     },
     "execution_count": 72,
     "metadata": {},
     "output_type": "execute_result"
    }
   ],
   "source": [
    "# Exploitation de la variable Champ V9 : permet de ressortir la norme EURO\n",
    "df_2013['champ_V9'].replace(to_replace = [np.nan], value = [df_2013['champ_V9'].mode()], inplace = True) # Remplacement des valeurs manquantes par le mode\n",
    "df_2013['norme_EURO'] = df_2013['champ_V9'].apply(lambda x: x[-5:])\n",
    "df_2013['norme_EURO'].head()"
   ]
  },
  {
   "cell_type": "markdown",
   "id": "ab2b1d3e",
   "metadata": {},
   "source": [
    "#### *Variable 'Carrosserie'*"
   ]
  },
  {
   "cell_type": "code",
   "execution_count": 73,
   "id": "34568439",
   "metadata": {},
   "outputs": [
    {
     "data": {
      "text/plain": [
       "MINIBUS                32576\n",
       "BERLINE                 4762\n",
       "BREAK                   2229\n",
       "TS TERRAINS/CHEMINS     1176\n",
       "COUPE                   1104\n",
       "COMBISPACE               901\n",
       "CABRIOLET                611\n",
       "MONOSPACE COMPACT        610\n",
       "MINISPACE                147\n",
       "MONOSPACE                115\n",
       "Name: Carrosserie, dtype: int64"
      ]
     },
     "execution_count": 73,
     "metadata": {},
     "output_type": "execute_result"
    }
   ],
   "source": [
    "df_2013.Carrosserie.value_counts()"
   ]
  },
  {
   "cell_type": "markdown",
   "id": "55494b6c",
   "metadata": {},
   "source": [
    "#### *Variable 'Gamme du véhicule'*"
   ]
  },
  {
   "cell_type": "code",
   "execution_count": 74,
   "id": "92d078bf",
   "metadata": {},
   "outputs": [
    {
     "data": {
      "text/plain": [
       "MOY-INFER     20169\n",
       "MOY-SUPER     15040\n",
       "LUXE           5223\n",
       "SUPERIEURE     1956\n",
       "INFERIEURE     1622\n",
       "ECONOMIQUE      219\n",
       "MOY-INF           2\n",
       "Name: gamme, dtype: int64"
      ]
     },
     "execution_count": 74,
     "metadata": {},
     "output_type": "execute_result"
    }
   ],
   "source": [
    "# Répartition des différentes gammes de véhicules\n",
    "df_2013.gamme.value_counts()"
   ]
  },
  {
   "cell_type": "code",
   "execution_count": 75,
   "id": "3abcebd0",
   "metadata": {},
   "outputs": [
    {
     "data": {
      "text/plain": [
       "MOY-INFERIEURE    20171\n",
       "MOY-SUPERIEURE    15040\n",
       "LUXE               5223\n",
       "SUPERIEURE         1956\n",
       "INFERIEURE         1622\n",
       "ECONOMIQUE          219\n",
       "Name: gamme2, dtype: int64"
      ]
     },
     "execution_count": 75,
     "metadata": {},
     "output_type": "execute_result"
    }
   ],
   "source": [
    "# On modifie les labels qui ne ne sont pas corrects et on les harmonise\n",
    "def change_gamme(x):\n",
    "    if x in ['MOY-INFERIEURE','MOY-INFER','MOY-INF']:\n",
    "        return('MOY-INFERIEURE')\n",
    "    if x in ['MOY-SUPER']:\n",
    "        return('MOY-SUPERIEURE')\n",
    "    else : return(x)\n",
    "\n",
    "\n",
    "df_2013['gamme2']=df_2013.gamme.apply(change_gamme)\n",
    "\n",
    "df_2013.gamme2.value_counts()"
   ]
  },
  {
   "cell_type": "markdown",
   "id": "9569311c",
   "metadata": {},
   "source": [
    "## 3. Traitement des valeurs manquantes"
   ]
  },
  {
   "cell_type": "code",
   "execution_count": 76,
   "id": "3a9f7bbe",
   "metadata": {
    "colab": {
     "base_uri": "https://localhost:8080/",
     "height": 1000
    },
    "id": "3a9f7bbe",
    "outputId": "d0b47452-436f-403f-9381-5c8756eef7ff"
   },
   "outputs": [
    {
     "name": "stdout",
     "output_type": "stream",
     "text": [
      "Répartition des valeurs manquantes par variables\n"
     ]
    },
    {
     "data": {
      "text/plain": [
       "Marque                 0\n",
       "modele_dossier         0\n",
       "modele_UTAC            0\n",
       "design_comm            0\n",
       "CNIT                   0\n",
       "cat                    0\n",
       "mq                     0\n",
       "genre                  0\n",
       "TVV                    0\n",
       "Carburant              0\n",
       "Hybride                0\n",
       "puissance_adm          0\n",
       "puiss_max              0\n",
       "boite0                 0\n",
       "conso_urb             42\n",
       "conso_extra_urb       42\n",
       "conso_mixte           39\n",
       "CO2                   39\n",
       "CO2_type_1           135\n",
       "HC                 34181\n",
       "NOX                  135\n",
       "hcnox              10138\n",
       "particules          2670\n",
       "masse_ordma_min        0\n",
       "masse_ordma_max        0\n",
       "champ_V9               0\n",
       "date_maj               0\n",
       "Carrosserie            0\n",
       "gamme                  0\n",
       "boite                  0\n",
       "rapport                0\n",
       "norme_EURO             0\n",
       "gamme2                 0\n",
       "dtype: int64"
      ]
     },
     "metadata": {},
     "output_type": "display_data"
    }
   ],
   "source": [
    "# Détection des valeurs manquantes\n",
    "print('Répartition des valeurs manquantes par variables')\n",
    "display(df_2013.isna().sum())"
   ]
  },
  {
   "cell_type": "markdown",
   "id": "6bpYLbC_5ule",
   "metadata": {
    "id": "6bpYLbC_5ule"
   },
   "source": [
    "#### *Quelle stratégie pour les autres valeurs manquantes?*"
   ]
  },
  {
   "cell_type": "code",
   "execution_count": 77,
   "id": "NYI_VN8WyO8M",
   "metadata": {
    "colab": {
     "base_uri": "https://localhost:8080/"
    },
    "id": "NYI_VN8WyO8M",
    "outputId": "a888c3d7-079c-456c-dda3-91e8bb2c7fdc"
   },
   "outputs": [
    {
     "name": "stdout",
     "output_type": "stream",
     "text": [
      "39 valeurs manquantes CO2 dans le dataset\n",
      "Marque              0\n",
      "modele_dossier      0\n",
      "modele_UTAC         0\n",
      "design_comm         0\n",
      "CNIT                0\n",
      "cat                 0\n",
      "mq                  0\n",
      "genre               0\n",
      "TVV                 0\n",
      "Carburant           0\n",
      "Hybride             0\n",
      "puissance_adm       0\n",
      "puiss_max           0\n",
      "boite0              0\n",
      "conso_urb          39\n",
      "conso_extra_urb    39\n",
      "conso_mixte        39\n",
      "CO2                39\n",
      "CO2_type_1         39\n",
      "HC                 39\n",
      "NOX                39\n",
      "hcnox              39\n",
      "particules         39\n",
      "masse_ordma_min     0\n",
      "masse_ordma_max     0\n",
      "champ_V9            0\n",
      "date_maj            0\n",
      "Carrosserie         0\n",
      "gamme               0\n",
      "boite               0\n",
      "rapport             0\n",
      "norme_EURO          0\n",
      "gamme2              0\n",
      "dtype: int64 valeurs manquantes CO2 pour les véhicules électriques\n",
      "Les 39 valeurs manquantes de la colonne CO2 du dataset correspondent aux 39 véhicules électriques\n"
     ]
    }
   ],
   "source": [
    "# Détection des valeurs manquantes dans CO2:\n",
    "print(df_2013.CO2.isna().sum(),'valeurs manquantes CO2 dans le dataset')\n",
    "\n",
    "# Détection des valeurs manquantes des véhicules électriques:\n",
    "print(df_2013[df_2013.Carburant=='EL'].isna().sum(),'valeurs manquantes CO2 pour les véhicules électriques')\n",
    "print('Les 39 valeurs manquantes de la colonne CO2 du dataset correspondent aux 39 véhicules électriques')"
   ]
  },
  {
   "cell_type": "code",
   "execution_count": 78,
   "id": "xnlYYzGZydj8",
   "metadata": {
    "colab": {
     "base_uri": "https://localhost:8080/"
    },
    "id": "xnlYYzGZydj8",
    "outputId": "eb491c75-51cb-4c24-ff70-32092ff9a215"
   },
   "outputs": [
    {
     "data": {
      "text/plain": [
       "0"
      ]
     },
     "execution_count": 78,
     "metadata": {},
     "output_type": "execute_result"
    }
   ],
   "source": [
    "# Remplacement de ces valeurs manquantes des 'EL' par 0:\n",
    "df_2013['CO2'] = df_2013['CO2'].fillna(0)\n",
    "\n",
    "# Vérification du bon remplacement:\n",
    "df_2013['CO2'].isna().sum()"
   ]
  },
  {
   "cell_type": "code",
   "execution_count": 79,
   "id": "Y8KLMYKo_W76",
   "metadata": {
    "colab": {
     "base_uri": "https://localhost:8080/"
    },
    "id": "Y8KLMYKo_W76",
    "outputId": "4b16abe4-f2ac-4da6-ea1f-17df5cb65e68"
   },
   "outputs": [
    {
     "data": {
      "text/plain": [
       "Marque             0\n",
       "modele_dossier     0\n",
       "modele_UTAC        0\n",
       "design_comm        0\n",
       "CNIT               0\n",
       "cat                0\n",
       "mq                 0\n",
       "genre              0\n",
       "TVV                0\n",
       "Carburant          0\n",
       "Hybride            0\n",
       "puissance_adm      0\n",
       "puiss_max          0\n",
       "boite0             0\n",
       "conso_urb          0\n",
       "conso_extra_urb    0\n",
       "conso_mixte        0\n",
       "CO2                0\n",
       "CO2_type_1         0\n",
       "NOX                0\n",
       "hcnox              0\n",
       "particules         0\n",
       "masse_ordma_min    0\n",
       "masse_ordma_max    0\n",
       "champ_V9           0\n",
       "date_maj           0\n",
       "Carrosserie        0\n",
       "gamme              0\n",
       "boite              0\n",
       "rapport            0\n",
       "norme_EURO         0\n",
       "gamme2             0\n",
       "dtype: int64"
      ]
     },
     "execution_count": 79,
     "metadata": {},
     "output_type": "execute_result"
    }
   ],
   "source": [
    "# Les valeurs manquantes de consommation semblent coller avec celles des véhicules électriques\n",
    "df_2013['conso_urb'] = df_2013['conso_urb'].fillna(0)\n",
    "df_2013['conso_extra_urb'] = df_2013['conso_extra_urb'].fillna(0)\n",
    "df_2013['conso_mixte'] = df_2013['conso_mixte'].fillna(0)\n",
    "\n",
    "# Les valeurs manquantes des variables NOX, hcnox et particules sont remplacées par des moyennes\n",
    "df_2013['NOX'] = df_2013['NOX'].fillna(df_2013['NOX'].mean())\n",
    "df_2013['hcnox'] = df_2013['hcnox'].fillna(df_2013['hcnox'].mean())\n",
    "df_2013['particules'] = df_2013['particules'].fillna(df_2013['particules'].mean())\n",
    "df_2013['CO2_type_1'] = df_2013['CO2_type_1'].fillna(df_2013['CO2_type_1'].mean())\n",
    "\n",
    "# La variable HC a près de 77% de valeurs manquantes. Elle ne sera pas retenue.\n",
    "df_2013 = df_2013.drop(['HC'], axis = 1)\n",
    "\n",
    "# On vérifie le remplacement des valeurs manquantes des variables numériques\n",
    "df_2013.isna().sum()"
   ]
  },
  {
   "cell_type": "markdown",
   "id": "013e03f8",
   "metadata": {},
   "source": [
    "#### *Création d'une variable cat_CO2 pour la classification des véhicules*"
   ]
  },
  {
   "cell_type": "code",
   "execution_count": 80,
   "id": "27a97f2b",
   "metadata": {},
   "outputs": [
    {
     "data": {
      "text/plain": [
       "0        E\n",
       "1        C\n",
       "2        C\n",
       "3        C\n",
       "4        C\n",
       "        ..\n",
       "44845    E\n",
       "44846    C\n",
       "44847    D\n",
       "44848    C\n",
       "44849    F\n",
       "Name: Cat_CO2, Length: 44231, dtype: object"
      ]
     },
     "execution_count": 80,
     "metadata": {},
     "output_type": "execute_result"
    }
   ],
   "source": [
    "# Création d'une variable catégorielle 'Cat_CO2' selon la norme européenne de pollution des véhicules:\n",
    "\n",
    "# Création d'une liste:\n",
    "A = []\n",
    "\n",
    "# Création d'une boucle identifiant les catégories (A à G) selon l'émission de CO2:\n",
    "for i in df_2013['CO2']:\n",
    "    if i<=100:\n",
    "        A.append('A')\n",
    "    if 100<i<=120:\n",
    "        A.append('B')\n",
    "    if 120<i<=140:\n",
    "        A.append('C')\n",
    "    if 140<i<=160:\n",
    "        A.append('D')\n",
    "    if 160<i<=200:\n",
    "        A.append('E')\n",
    "    if 200<i<250:\n",
    "        A.append('F')\n",
    "    if i>=250:\n",
    "        A.append('G')\n",
    "\n",
    "# Création d'une colonne 'Cat_CO2' dans le DataFrame df_2013:\n",
    "df_2013['Cat_CO2'] = A \n",
    "\n",
    "df_2013['Cat_CO2']"
   ]
  },
  {
   "cell_type": "markdown",
   "id": "aHr8CnNHGszm",
   "metadata": {
    "id": "aHr8CnNHGszm"
   },
   "source": [
    "## 4. Revue statistique - Data visualisation"
   ]
  },
  {
   "cell_type": "markdown",
   "id": "ce9c0584",
   "metadata": {},
   "source": [
    "### *4.1 Représentation graphique de l'indicateur CO2*"
   ]
  },
  {
   "cell_type": "code",
   "execution_count": 81,
   "id": "e375f3e8",
   "metadata": {},
   "outputs": [
    {
     "name": "stderr",
     "output_type": "stream",
     "text": [
      "C:\\Users\\gilles.ngamenye\\Anaconda3\\lib\\site-packages\\seaborn\\_decorators.py:36: FutureWarning: Pass the following variable as a keyword arg: x. From version 0.12, the only valid positional argument will be `data`, and passing other arguments without an explicit keyword will result in an error or misinterpretation.\n",
      "  warnings.warn(\n"
     ]
    },
    {
     "data": {
      "image/png": "[encoded data removed]",
      "text/plain": [
       "<Figure size 1080x360 with 1 Axes>"
      ]
     },
     "metadata": {},
     "output_type": "display_data"
    }
   ],
   "source": [
    "# Répartition de la distribution CO2:\n",
    "plt.figure(figsize = (15, 5))\n",
    "sns.boxplot(df_2013['CO2'])\n",
    "plt.title('Répartition de la distribution CO2');"
   ]
  },
  {
   "cell_type": "markdown",
   "id": "c5340ed9",
   "metadata": {},
   "source": [
    "50% de la distribution est proche de 200 g/km. \n",
    "Peu de données pour des valeurs de CO2 inférieures à 189 g/km et supérieures à 221 g/km. \n",
    "La distribution est très étendue allant de 0 à 600 g/km"
   ]
  },
  {
   "cell_type": "code",
   "execution_count": 82,
   "id": "966228bd",
   "metadata": {},
   "outputs": [
    {
     "data": {
      "image/png": "[encoded data removed]",
      "text/plain": [
       "<Figure size 1440x360 with 2 Axes>"
      ]
     },
     "metadata": {},
     "output_type": "display_data"
    }
   ],
   "source": [
    "plt.figure(figsize = (20, 5))\n",
    "\n",
    "# Histogramme représentant la répartition de l'émission de CO2 des véhicules selon la norme européenne:\n",
    "# Pas encore réussi à utiliser les mêmes couleurs que la norme\n",
    "plt.subplot(121)\n",
    "plt.hist(df_2013['CO2'], bins = [79,100,120,140,160,200,250,300,600], rwidth = 0.9)\n",
    "plt.xlabel('CO2 (g/km)')\n",
    "plt.ylabel('Count')\n",
    "plt.title('Répartition de l émission de CO2 en fonction de la norme européenne');\n",
    "\n",
    "# Classification des véhicules selon le tableau des normes de pollution en Europe (catégorie A à G):\n",
    "\n",
    "plt.subplot(122)\n",
    "sns.countplot(data = df_2013, x = 'Cat_CO2', order = ('A','B', 'C','D', 'E','F','G'))\n",
    "plt.title('Classification des véhicules selon le tableau des normes de pollution en Europe (catégorie A à G)');\n",
    "\n"
   ]
  },
  {
   "cell_type": "markdown",
   "id": "neWz_Alch6CX",
   "metadata": {
    "id": "neWz_Alch6CX"
   },
   "source": [
    "### 4.2 *Analyse des variables quantitatives*"
   ]
  },
  {
   "cell_type": "markdown",
   "id": "54513a37",
   "metadata": {},
   "source": [
    "#### *Heatmap*"
   ]
  },
  {
   "cell_type": "code",
   "execution_count": 83,
   "id": "NegVnvVP9Gmo",
   "metadata": {
    "colab": {
     "base_uri": "https://localhost:8080/",
     "height": 807
    },
    "id": "NegVnvVP9Gmo",
    "outputId": "27cfaa32-9abc-425c-fa1a-996d1e7d554d"
   },
   "outputs": [
    {
     "data": {
      "image/png": "[encoded data removed]",
      "text/plain": [
       "<Figure size 720x720 with 2 Axes>"
      ]
     },
     "metadata": {},
     "output_type": "display_data"
    }
   ],
   "source": [
    "# Corrélation entre les variables : affichage de la heatmap\n",
    "fig, ax = plt.subplots(figsize = (10, 10))\n",
    "sns.heatmap(df_2013.corr(), annot = True, ax = ax, cmap = 'magma');"
   ]
  },
  {
   "cell_type": "markdown",
   "id": "9f62209f",
   "metadata": {},
   "source": [
    "La Heatmap montre que les masses en ordre de marche et la consommation des véhicules sont correlées avec les niveaux d'emission en CO2.\n",
    "\n",
    "On va tenter de visualiser cela."
   ]
  },
  {
   "cell_type": "markdown",
   "id": "cf558d07",
   "metadata": {},
   "source": [
    "#### *Lien entre les masses des véhicules et leurs niveaux d'émission de CO2*"
   ]
  },
  {
   "cell_type": "code",
   "execution_count": 84,
   "id": "1fe89129",
   "metadata": {},
   "outputs": [
    {
     "data": {
      "image/png": "[encoded data removed]",
      "text/plain": [
       "<Figure size 1080x360 with 2 Axes>"
      ]
     },
     "metadata": {},
     "output_type": "display_data"
    }
   ],
   "source": [
    "# Graphique montrant le lien entre les masses des véhicules et leurs niveaux d'émission de CO2\n",
    "plt.figure(figsize = (15, 5))\n",
    "\n",
    "plt.subplot(1, 2, 1)\n",
    "plt.scatter(df_2013['masse_ordma_min'], df_2013['CO2'])\n",
    "plt.ylabel('CO2 (g/km)')\n",
    "plt.xlabel('Masse vide euro min (kg)')\n",
    "plt.title('Emissions de CO2 selon les masses en ordre de marche des véhicules')\n",
    "\n",
    "plt.subplot(1, 2, 2)\n",
    "plt.scatter(df_2013['masse_ordma_max'], df_2013['CO2'], color= 'red')\n",
    "plt.ylabel('CO2 (g/km)')\n",
    "plt.xlabel('Masse vide euro max (kg)');"
   ]
  },
  {
   "cell_type": "markdown",
   "id": "df7c56d8",
   "metadata": {},
   "source": [
    "Les 2 graphiques sont très similaires. Donc on peut déjà voir qu'il y a une colinéarité entre ces 2 variables."
   ]
  },
  {
   "cell_type": "markdown",
   "id": "d7d7f3a4",
   "metadata": {},
   "source": [
    "#### *Lien entre la consommation des véhicules et leurs niveaux d'émission de CO2*"
   ]
  },
  {
   "cell_type": "code",
   "execution_count": 85,
   "id": "cC2F6EZMJ3aR",
   "metadata": {
    "colab": {
     "base_uri": "https://localhost:8080/",
     "height": 343
    },
    "id": "cC2F6EZMJ3aR",
    "outputId": "4b1d8a10-4e0f-4778-bd3f-05b836c4c288"
   },
   "outputs": [
    {
     "data": {
      "image/png": "[encoded data removed]",
      "text/plain": [
       "<Figure size 1080x360 with 3 Axes>"
      ]
     },
     "metadata": {},
     "output_type": "display_data"
    }
   ],
   "source": [
    "# Relation entre les consommations et les émissions en CO2\n",
    "plt.figure(figsize = (15, 5))\n",
    "plt.title('Relation entre les consommations et les émissions en CO2')\n",
    "plt.subplot(1, 3, 1)\n",
    "plt.scatter(df_2013['conso_urb'], df_2013['CO2'], label = 'Consommation urbaine', color = 'green')\n",
    "plt.xlabel('Consommation (l/100 km)')\n",
    "plt.ylabel('Emission de CO2 (g/km)')\n",
    "plt.legend()\n",
    "\n",
    "plt.subplot(1, 3, 2)\n",
    "plt.scatter(df_2013['conso_extra_urb'], df_2013['CO2'], label = 'Consommation extra-urbaine', color = 'red')\n",
    "plt.xlabel('Consommation (l/100 km)')\n",
    "plt.ylabel('Emission de CO2 (g/km)')\n",
    "plt.legend()\n",
    "\n",
    "plt.subplot(1, 3, 3)\n",
    "plt.scatter(df_2013['conso_mixte'], df_2013['CO2'], label = 'Consommation mixte')\n",
    "plt.xlabel('Consommation (l/100 km)')\n",
    "plt.ylabel('Emission de CO2 (g/km)')\n",
    "plt.legend();"
   ]
  },
  {
   "cell_type": "markdown",
   "id": "c0d42501",
   "metadata": {
    "id": "0IDmVVaOoCcX"
   },
   "source": [
    "Les graphes montrent une corrélation quasi-linéaire entre la consommation des véhicules et leurs niveaux d'émission en CO2."
   ]
  },
  {
   "cell_type": "markdown",
   "id": "RE7ZJ5voDKvm",
   "metadata": {
    "id": "RE7ZJ5voDKvm"
   },
   "source": [
    "### 4.3 *Analyse des variables qualitatives*"
   ]
  },
  {
   "cell_type": "markdown",
   "id": "OWczGysvH-sk",
   "metadata": {
    "id": "OWczGysvH-sk"
   },
   "source": [
    "Maintenant que la base est modifiée, on regarde les liens avec la variable à expliquer."
   ]
  },
  {
   "cell_type": "markdown",
   "id": "f8a22ff4",
   "metadata": {},
   "source": [
    "#### *Marque et modèles*"
   ]
  },
  {
   "cell_type": "code",
   "execution_count": 86,
   "id": "etqDKQwAXl31",
   "metadata": {
    "colab": {
     "base_uri": "https://localhost:8080/"
    },
    "id": "etqDKQwAXl31",
    "outputId": "b525da84-d72e-4444-f731-9da7b1764b08"
   },
   "outputs": [
    {
     "name": "stdout",
     "output_type": "stream",
     "text": [
      "Il y a 51 marques différentes\n"
     ]
    }
   ],
   "source": [
    "# Nombre de marques différentes\n",
    "print('Il y a', df_2013.Marque.value_counts().size, 'marques différentes')"
   ]
  },
  {
   "cell_type": "code",
   "execution_count": 87,
   "id": "1odx1yX9K0eJ",
   "metadata": {
    "colab": {
     "base_uri": "https://localhost:8080/",
     "height": 914
    },
    "id": "1odx1yX9K0eJ",
    "outputId": "207d831d-1d05-49e3-cafd-6feddf0c1350"
   },
   "outputs": [
    {
     "data": {
      "image/png": "[encoded data removed]",
      "text/plain": [
       "<Figure size 576x1080 with 1 Axes>"
      ]
     },
     "metadata": {},
     "output_type": "display_data"
    }
   ],
   "source": [
    "# Répartition des marques\n",
    "ax = plt.subplots(figsize=(8,15))\n",
    "plot=sns.countplot(y='Marque',data=df_2013, order = df_2013.Marque.value_counts().index)\n",
    "plot.set_ylabel(\"Marque\")\n",
    "plot.set_xlabel(\"Nombre d'itérations\")\n",
    "plot.set(title='Répartition par marque \\n (Mercedes = 38 450 )')\n",
    "plot.set(xlim=(0, 1000));"
   ]
  },
  {
   "cell_type": "markdown",
   "id": "_6lwztGbLfbs",
   "metadata": {
    "id": "_6lwztGbLfbs"
   },
   "source": [
    "Répartition par modèle sur Mercedes pour comprendre la sur-représentation de la marque"
   ]
  },
  {
   "cell_type": "code",
   "execution_count": 88,
   "id": "DggXt1_hXQMU",
   "metadata": {
    "colab": {
     "base_uri": "https://localhost:8080/"
    },
    "id": "DggXt1_hXQMU",
    "outputId": "1de84005-c599-4515-e974-9936e5f9b8ea"
   },
   "outputs": [
    {
     "data": {
      "text/plain": [
       "458"
      ]
     },
     "execution_count": 88,
     "metadata": {},
     "output_type": "execute_result"
    }
   ],
   "source": [
    "# Nombre de modèles différents\n",
    "df_2013.modele_dossier.value_counts().size"
   ]
  },
  {
   "cell_type": "code",
   "execution_count": 89,
   "id": "y219QO8mLZv3",
   "metadata": {
    "id": "y219QO8mLZv3"
   },
   "outputs": [],
   "source": [
    "def graph_mod(marque_vehicule):\n",
    "    table=df_2013[df_2013['Marque']==marque_vehicule]\n",
    "    ax = plt.subplots(figsize=(12,8))\n",
    "    plot=sns.countplot(y='modele_dossier',data=table,order = table.modele_dossier.value_counts().index)\n",
    "    plot.set_xlabel(\"Nombre d'itérations\")\n",
    "    plot.set(title=marque_vehicule);    "
   ]
  },
  {
   "cell_type": "code",
   "execution_count": 90,
   "id": "E6IchxZGLxu8",
   "metadata": {
    "colab": {
     "base_uri": "https://localhost:8080/",
     "height": 518
    },
    "id": "E6IchxZGLxu8",
    "outputId": "62100d4b-0e62-43e8-bc85-d40652ef8c54"
   },
   "outputs": [
    {
     "data": {
      "image/png": "[encoded data removed]",
      "text/plain": [
       "<Figure size 864x576 with 1 Axes>"
      ]
     },
     "metadata": {},
     "output_type": "display_data"
    }
   ],
   "source": [
    "graph_mod('MERCEDES-BENZ')"
   ]
  },
  {
   "cell_type": "code",
   "execution_count": 91,
   "id": "FVhW3rgSQk79",
   "metadata": {
    "colab": {
     "base_uri": "https://localhost:8080/",
     "height": 147
    },
    "id": "FVhW3rgSQk79",
    "outputId": "85c95a2c-3a37-4673-a756-39fc097a1d91"
   },
   "outputs": [
    {
     "data": {
      "text/html": [
       "<div>\n",
       "<style scoped>\n",
       "    .dataframe tbody tr th:only-of-type {\n",
       "        vertical-align: middle;\n",
       "    }\n",
       "\n",
       "    .dataframe tbody tr th {\n",
       "        vertical-align: top;\n",
       "    }\n",
       "\n",
       "    .dataframe thead th {\n",
       "        text-align: right;\n",
       "    }\n",
       "</style>\n",
       "<table border=\"1\" class=\"dataframe\">\n",
       "  <thead>\n",
       "    <tr style=\"text-align: right;\">\n",
       "      <th></th>\n",
       "      <th>df</th>\n",
       "      <th>sum_sq</th>\n",
       "      <th>mean_sq</th>\n",
       "      <th>F</th>\n",
       "      <th>PR(&gt;F)</th>\n",
       "    </tr>\n",
       "  </thead>\n",
       "  <tbody>\n",
       "    <tr>\n",
       "      <th>Marque</th>\n",
       "      <td>50.0</td>\n",
       "      <td>1.935608e+07</td>\n",
       "      <td>387121.640940</td>\n",
       "      <td>361.969283</td>\n",
       "      <td>0.0</td>\n",
       "    </tr>\n",
       "    <tr>\n",
       "      <th>Residual</th>\n",
       "      <td>44180.0</td>\n",
       "      <td>4.724996e+07</td>\n",
       "      <td>1069.487548</td>\n",
       "      <td>NaN</td>\n",
       "      <td>NaN</td>\n",
       "    </tr>\n",
       "  </tbody>\n",
       "</table>\n",
       "</div>"
      ],
      "text/plain": [
       "               df        sum_sq        mean_sq           F  PR(>F)\n",
       "Marque       50.0  1.935608e+07  387121.640940  361.969283     0.0\n",
       "Residual  44180.0  4.724996e+07    1069.487548         NaN     NaN"
      ]
     },
     "execution_count": 91,
     "metadata": {},
     "output_type": "execute_result"
    }
   ],
   "source": [
    "import statsmodels.api\n",
    "\n",
    "#ANOVA marques\n",
    "result = statsmodels.formula.api.ols('CO2 ~ Marque', data = df_2013).fit()\n",
    "table = statsmodels.api.stats.anova_lm(result)\n",
    "table\n",
    "#il existe un lien significatif entre la variable CO2 et la marque"
   ]
  },
  {
   "cell_type": "code",
   "execution_count": 92,
   "id": "41G9XzWQWudc",
   "metadata": {
    "colab": {
     "base_uri": "https://localhost:8080/",
     "height": 112
    },
    "id": "41G9XzWQWudc",
    "outputId": "74091fcc-7490-458a-d5eb-bf9f4c25c86c"
   },
   "outputs": [
    {
     "data": {
      "text/html": [
       "<div>\n",
       "<style scoped>\n",
       "    .dataframe tbody tr th:only-of-type {\n",
       "        vertical-align: middle;\n",
       "    }\n",
       "\n",
       "    .dataframe tbody tr th {\n",
       "        vertical-align: top;\n",
       "    }\n",
       "\n",
       "    .dataframe thead th {\n",
       "        text-align: right;\n",
       "    }\n",
       "</style>\n",
       "<table border=\"1\" class=\"dataframe\">\n",
       "  <thead>\n",
       "    <tr style=\"text-align: right;\">\n",
       "      <th></th>\n",
       "      <th>df</th>\n",
       "      <th>sum_sq</th>\n",
       "      <th>mean_sq</th>\n",
       "      <th>F</th>\n",
       "      <th>PR(&gt;F)</th>\n",
       "    </tr>\n",
       "  </thead>\n",
       "  <tbody>\n",
       "    <tr>\n",
       "      <th>modele_dossier</th>\n",
       "      <td>457.0</td>\n",
       "      <td>4.650650e+07</td>\n",
       "      <td>101764.780473</td>\n",
       "      <td>221.624492</td>\n",
       "      <td>0.0</td>\n",
       "    </tr>\n",
       "    <tr>\n",
       "      <th>Residual</th>\n",
       "      <td>43773.0</td>\n",
       "      <td>2.009954e+07</td>\n",
       "      <td>459.176598</td>\n",
       "      <td>NaN</td>\n",
       "      <td>NaN</td>\n",
       "    </tr>\n",
       "  </tbody>\n",
       "</table>\n",
       "</div>"
      ],
      "text/plain": [
       "                     df        sum_sq        mean_sq           F  PR(>F)\n",
       "modele_dossier    457.0  4.650650e+07  101764.780473  221.624492     0.0\n",
       "Residual        43773.0  2.009954e+07     459.176598         NaN     NaN"
      ]
     },
     "execution_count": 92,
     "metadata": {},
     "output_type": "execute_result"
    }
   ],
   "source": [
    "#ANOVA modèles\n",
    "result = statsmodels.formula.api.ols('CO2 ~ modele_dossier', data = df_2013).fit()\n",
    "table = statsmodels.api.stats.anova_lm(result)\n",
    "table\n",
    "#il existe un lien significatif entre la variable CO2 et la marque"
   ]
  },
  {
   "cell_type": "markdown",
   "id": "XEkDOKsrPMac",
   "metadata": {
    "id": "XEkDOKsrPMac"
   },
   "source": [
    "#### *Hybrides*"
   ]
  },
  {
   "cell_type": "code",
   "execution_count": 93,
   "id": "2HMzMwM6YY4D",
   "metadata": {
    "colab": {
     "base_uri": "https://localhost:8080/",
     "height": 356
    },
    "id": "2HMzMwM6YY4D",
    "outputId": "1ae9c33c-edd1-49b0-ce64-b195a63c1e5c"
   },
   "outputs": [
    {
     "name": "stderr",
     "output_type": "stream",
     "text": [
      "C:\\Users\\gilles.ngamenye\\Anaconda3\\lib\\site-packages\\seaborn\\_decorators.py:36: FutureWarning: Pass the following variable as a keyword arg: x. From version 0.12, the only valid positional argument will be `data`, and passing other arguments without an explicit keyword will result in an error or misinterpretation.\n",
      "  warnings.warn(\n"
     ]
    },
    {
     "data": {
      "image/png": "[encoded data removed]",
      "text/plain": [
       "<Figure size 432x288 with 2 Axes>"
      ]
     },
     "metadata": {},
     "output_type": "display_data"
    }
   ],
   "source": [
    "# Répartition des véhiculues hybrides et estimation du lien avec les émissions de CO2\n",
    "sns.set_style(\"ticks\")\n",
    "\n",
    "\n",
    "fig, ax = plt.subplots()\n",
    "\n",
    "sns.countplot(df_2013.Hybride,color='paleturquoise',ax=ax)\n",
    "ax.set(ylabel='Nombre')\n",
    "ax2 = ax.twinx()\n",
    "sns.boxplot(x='Hybride',y='CO2',data=df_2013,ax=ax2)\n",
    "ax.set(title='CO2 et véhicule hybride')\n",
    "ax2.set(ylabel='CO2 (g/km)')\n",
    "sns.set(rc={'figure.figsize':(4.5,4)})\n",
    "plt.show();"
   ]
  },
  {
   "cell_type": "code",
   "execution_count": 94,
   "id": "EZ_gBCB9Qhzu",
   "metadata": {
    "colab": {
     "base_uri": "https://localhost:8080/",
     "height": 112
    },
    "id": "EZ_gBCB9Qhzu",
    "outputId": "6e449700-4cd7-414b-e554-3c89d327f444"
   },
   "outputs": [
    {
     "data": {
      "text/html": [
       "<div>\n",
       "<style scoped>\n",
       "    .dataframe tbody tr th:only-of-type {\n",
       "        vertical-align: middle;\n",
       "    }\n",
       "\n",
       "    .dataframe tbody tr th {\n",
       "        vertical-align: top;\n",
       "    }\n",
       "\n",
       "    .dataframe thead th {\n",
       "        text-align: right;\n",
       "    }\n",
       "</style>\n",
       "<table border=\"1\" class=\"dataframe\">\n",
       "  <thead>\n",
       "    <tr style=\"text-align: right;\">\n",
       "      <th></th>\n",
       "      <th>df</th>\n",
       "      <th>sum_sq</th>\n",
       "      <th>mean_sq</th>\n",
       "      <th>F</th>\n",
       "      <th>PR(&gt;F)</th>\n",
       "    </tr>\n",
       "  </thead>\n",
       "  <tbody>\n",
       "    <tr>\n",
       "      <th>Hybride</th>\n",
       "      <td>1.0</td>\n",
       "      <td>7.989100e+05</td>\n",
       "      <td>798910.012333</td>\n",
       "      <td>536.947743</td>\n",
       "      <td>4.406986e-118</td>\n",
       "    </tr>\n",
       "    <tr>\n",
       "      <th>Residual</th>\n",
       "      <td>44229.0</td>\n",
       "      <td>6.580713e+07</td>\n",
       "      <td>1487.872932</td>\n",
       "      <td>NaN</td>\n",
       "      <td>NaN</td>\n",
       "    </tr>\n",
       "  </tbody>\n",
       "</table>\n",
       "</div>"
      ],
      "text/plain": [
       "               df        sum_sq        mean_sq           F         PR(>F)\n",
       "Hybride       1.0  7.989100e+05  798910.012333  536.947743  4.406986e-118\n",
       "Residual  44229.0  6.580713e+07    1487.872932         NaN            NaN"
      ]
     },
     "execution_count": 94,
     "metadata": {},
     "output_type": "execute_result"
    }
   ],
   "source": [
    "#ANOVA\n",
    "result = statsmodels.formula.api.ols('CO2 ~ Hybride', data = df_2013).fit()\n",
    "table = statsmodels.api.stats.anova_lm(result)\n",
    "table"
   ]
  },
  {
   "cell_type": "markdown",
   "id": "wKWu_7RFRLxd",
   "metadata": {
    "id": "wKWu_7RFRLxd"
   },
   "source": [
    "#### *Gamme de véhicule (supérieure, luxe, inférieure, économique)*"
   ]
  },
  {
   "cell_type": "code",
   "execution_count": 95,
   "id": "QPMMZqZQSE_n",
   "metadata": {
    "colab": {
     "base_uri": "https://localhost:8080/",
     "height": 453
    },
    "id": "QPMMZqZQSE_n",
    "outputId": "669f9dc9-ceb6-4e68-b637-5b5a90f10fbf"
   },
   "outputs": [
    {
     "data": {
      "image/png": "[encoded data removed]",
      "text/plain": [
       "<Figure size 1080x432 with 1 Axes>"
      ]
     },
     "metadata": {},
     "output_type": "display_data"
    }
   ],
   "source": [
    "# Répartition des types de gammes de véhicules selon les niveaux d'émission de CO2\n",
    "plot2=sns.catplot(y='gamme2',x='CO2',kind='box',data=df_2013, height=6, aspect=15/6);\n",
    "plot2.set(title='Gamme de la voiture')\n",
    "plot2.set(ylabel='Gamme de la voiture');"
   ]
  },
  {
   "cell_type": "code",
   "execution_count": 96,
   "id": "eINaauJgNTp4",
   "metadata": {
    "colab": {
     "base_uri": "https://localhost:8080/",
     "height": 112
    },
    "id": "eINaauJgNTp4",
    "outputId": "9141b494-988a-4603-a1d7-7fc0276a2786"
   },
   "outputs": [
    {
     "data": {
      "text/html": [
       "<div>\n",
       "<style scoped>\n",
       "    .dataframe tbody tr th:only-of-type {\n",
       "        vertical-align: middle;\n",
       "    }\n",
       "\n",
       "    .dataframe tbody tr th {\n",
       "        vertical-align: top;\n",
       "    }\n",
       "\n",
       "    .dataframe thead th {\n",
       "        text-align: right;\n",
       "    }\n",
       "</style>\n",
       "<table border=\"1\" class=\"dataframe\">\n",
       "  <thead>\n",
       "    <tr style=\"text-align: right;\">\n",
       "      <th></th>\n",
       "      <th>df</th>\n",
       "      <th>sum_sq</th>\n",
       "      <th>mean_sq</th>\n",
       "      <th>F</th>\n",
       "      <th>PR(&gt;F)</th>\n",
       "    </tr>\n",
       "  </thead>\n",
       "  <tbody>\n",
       "    <tr>\n",
       "      <th>gamme2</th>\n",
       "      <td>5.0</td>\n",
       "      <td>1.674288e+07</td>\n",
       "      <td>3.348575e+06</td>\n",
       "      <td>2969.942763</td>\n",
       "      <td>0.0</td>\n",
       "    </tr>\n",
       "    <tr>\n",
       "      <th>Residual</th>\n",
       "      <td>44225.0</td>\n",
       "      <td>4.986317e+07</td>\n",
       "      <td>1.127488e+03</td>\n",
       "      <td>NaN</td>\n",
       "      <td>NaN</td>\n",
       "    </tr>\n",
       "  </tbody>\n",
       "</table>\n",
       "</div>"
      ],
      "text/plain": [
       "               df        sum_sq       mean_sq            F  PR(>F)\n",
       "gamme2        5.0  1.674288e+07  3.348575e+06  2969.942763     0.0\n",
       "Residual  44225.0  4.986317e+07  1.127488e+03          NaN     NaN"
      ]
     },
     "execution_count": 96,
     "metadata": {},
     "output_type": "execute_result"
    }
   ],
   "source": [
    "#ANOVA\n",
    "result = statsmodels.formula.api.ols('CO2 ~ gamme2', data = df_2013).fit()\n",
    "table = statsmodels.api.stats.anova_lm(result)\n",
    "table"
   ]
  },
  {
   "cell_type": "markdown",
   "id": "3d1a8e7e",
   "metadata": {},
   "source": [
    "#### *Carburant*"
   ]
  },
  {
   "cell_type": "code",
   "execution_count": 97,
   "id": "8ad78894",
   "metadata": {},
   "outputs": [
    {
     "data": {
      "image/png": "[encoded data removed]",
      "text/plain": [
       "<Figure size 1080x576 with 1 Axes>"
      ]
     },
     "metadata": {},
     "output_type": "display_data"
    }
   ],
   "source": [
    "# Répartition entre les types de carburants selon leurs émissions de CO2\n",
    "plt.figure(figsize = (15,8))\n",
    "ax = sns.boxplot(y='Carburant',x='CO2',data=df_2013)\n",
    "ax.set(title='CO2 selon le type de carburant');\n",
    "#ax.set_xticklabels(ax.get_xticklabels(),rotation = 30);"
   ]
  },
  {
   "cell_type": "code",
   "execution_count": 98,
   "id": "6a4d56dd",
   "metadata": {},
   "outputs": [
    {
     "data": {
      "text/html": [
       "<div>\n",
       "<style scoped>\n",
       "    .dataframe tbody tr th:only-of-type {\n",
       "        vertical-align: middle;\n",
       "    }\n",
       "\n",
       "    .dataframe tbody tr th {\n",
       "        vertical-align: top;\n",
       "    }\n",
       "\n",
       "    .dataframe thead th {\n",
       "        text-align: right;\n",
       "    }\n",
       "</style>\n",
       "<table border=\"1\" class=\"dataframe\">\n",
       "  <thead>\n",
       "    <tr style=\"text-align: right;\">\n",
       "      <th></th>\n",
       "      <th>df</th>\n",
       "      <th>sum_sq</th>\n",
       "      <th>mean_sq</th>\n",
       "      <th>F</th>\n",
       "      <th>PR(&gt;F)</th>\n",
       "    </tr>\n",
       "  </thead>\n",
       "  <tbody>\n",
       "    <tr>\n",
       "      <th>Carburant</th>\n",
       "      <td>10.0</td>\n",
       "      <td>2.734602e+06</td>\n",
       "      <td>273460.231833</td>\n",
       "      <td>189.324235</td>\n",
       "      <td>0.0</td>\n",
       "    </tr>\n",
       "    <tr>\n",
       "      <th>Residual</th>\n",
       "      <td>44220.0</td>\n",
       "      <td>6.387144e+07</td>\n",
       "      <td>1444.401619</td>\n",
       "      <td>NaN</td>\n",
       "      <td>NaN</td>\n",
       "    </tr>\n",
       "  </tbody>\n",
       "</table>\n",
       "</div>"
      ],
      "text/plain": [
       "                df        sum_sq        mean_sq           F  PR(>F)\n",
       "Carburant     10.0  2.734602e+06  273460.231833  189.324235     0.0\n",
       "Residual   44220.0  6.387144e+07    1444.401619         NaN     NaN"
      ]
     },
     "execution_count": 98,
     "metadata": {},
     "output_type": "execute_result"
    }
   ],
   "source": [
    "#ANOVA\n",
    "result = statsmodels.formula.api.ols('CO2 ~ Carburant', data = df_2013).fit()\n",
    "table = statsmodels.api.stats.anova_lm(result)\n",
    "table"
   ]
  },
  {
   "cell_type": "markdown",
   "id": "p-0KGjmtaV0d",
   "metadata": {
    "id": "p-0KGjmtaV0d"
   },
   "source": [
    "#### *Carrosserie*"
   ]
  },
  {
   "cell_type": "code",
   "execution_count": 99,
   "id": "IlBN1ustacTM",
   "metadata": {
    "colab": {
     "base_uri": "https://localhost:8080/",
     "height": 301
    },
    "id": "IlBN1ustacTM",
    "outputId": "8e23e1bc-0d47-4c8d-808e-75ff727b9f31"
   },
   "outputs": [
    {
     "data": {
      "image/png": "[encoded data removed]",
      "text/plain": [
       "<Figure size 324x288 with 1 Axes>"
      ]
     },
     "metadata": {},
     "output_type": "display_data"
    }
   ],
   "source": [
    "# Répartition des types de carrosserie\n",
    "plt.ylabel('Carrosserie')\n",
    "plot_car2=sns.countplot(y=df_2013.Carrosserie)\n",
    "plot_car2.set_xlabel(\"Nombre d'occurrences\")\n",
    "plot_car2.set(title='Type de véhicule');"
   ]
  },
  {
   "cell_type": "code",
   "execution_count": 100,
   "id": "iIT6nmftayp6",
   "metadata": {
    "colab": {
     "base_uri": "https://localhost:8080/",
     "height": 518
    },
    "id": "iIT6nmftayp6",
    "outputId": "20224d04-e7fb-4f3d-c732-322e06eda7b0"
   },
   "outputs": [
    {
     "data": {
      "image/png": "[encoded data removed]",
      "text/plain": [
       "<Figure size 1080x576 with 1 Axes>"
      ]
     },
     "metadata": {},
     "output_type": "display_data"
    }
   ],
   "source": [
    "# Lien entre les types de carrosserie et les émissions de CO2\n",
    "plt.figure(figsize = (15,8))\n",
    "ax = sns.boxplot(y='Carrosserie',x='CO2',data=df_2013)\n",
    "ax.set(title='Type de véhicule');\n",
    "#ax.set_xticklabels(ax.get_xticklabels(),rotation = 30);"
   ]
  },
  {
   "cell_type": "code",
   "execution_count": 101,
   "id": "4ppvvnVfbAul",
   "metadata": {
    "colab": {
     "base_uri": "https://localhost:8080/",
     "height": 112
    },
    "id": "4ppvvnVfbAul",
    "outputId": "2935a680-32e9-4f07-f2ca-8327c3e9d1d2"
   },
   "outputs": [
    {
     "data": {
      "text/html": [
       "<div>\n",
       "<style scoped>\n",
       "    .dataframe tbody tr th:only-of-type {\n",
       "        vertical-align: middle;\n",
       "    }\n",
       "\n",
       "    .dataframe tbody tr th {\n",
       "        vertical-align: top;\n",
       "    }\n",
       "\n",
       "    .dataframe thead th {\n",
       "        text-align: right;\n",
       "    }\n",
       "</style>\n",
       "<table border=\"1\" class=\"dataframe\">\n",
       "  <thead>\n",
       "    <tr style=\"text-align: right;\">\n",
       "      <th></th>\n",
       "      <th>df</th>\n",
       "      <th>sum_sq</th>\n",
       "      <th>mean_sq</th>\n",
       "      <th>F</th>\n",
       "      <th>PR(&gt;F)</th>\n",
       "    </tr>\n",
       "  </thead>\n",
       "  <tbody>\n",
       "    <tr>\n",
       "      <th>Carrosserie</th>\n",
       "      <td>9.0</td>\n",
       "      <td>2.940006e+07</td>\n",
       "      <td>3.266674e+06</td>\n",
       "      <td>3882.590272</td>\n",
       "      <td>0.0</td>\n",
       "    </tr>\n",
       "    <tr>\n",
       "      <th>Residual</th>\n",
       "      <td>44221.0</td>\n",
       "      <td>3.720598e+07</td>\n",
       "      <td>8.413645e+02</td>\n",
       "      <td>NaN</td>\n",
       "      <td>NaN</td>\n",
       "    </tr>\n",
       "  </tbody>\n",
       "</table>\n",
       "</div>"
      ],
      "text/plain": [
       "                  df        sum_sq       mean_sq            F  PR(>F)\n",
       "Carrosserie      9.0  2.940006e+07  3.266674e+06  3882.590272     0.0\n",
       "Residual     44221.0  3.720598e+07  8.413645e+02          NaN     NaN"
      ]
     },
     "execution_count": 101,
     "metadata": {},
     "output_type": "execute_result"
    }
   ],
   "source": [
    "#ANOVA\n",
    "result = statsmodels.formula.api.ols('CO2 ~ Carrosserie', data = df_2013).fit()\n",
    "table = statsmodels.api.stats.anova_lm(result)\n",
    "table"
   ]
  },
  {
   "cell_type": "markdown",
   "id": "D9JryzQhbJLG",
   "metadata": {
    "id": "D9JryzQhbJLG"
   },
   "source": [
    "#### *Boîte*"
   ]
  },
  {
   "cell_type": "code",
   "execution_count": 102,
   "id": "Wf6q8YfORHV-",
   "metadata": {
    "colab": {
     "base_uri": "https://localhost:8080/",
     "height": 356
    },
    "id": "Wf6q8YfORHV-",
    "outputId": "9610eb86-4546-4444-a829-48ddd79bea1c"
   },
   "outputs": [
    {
     "name": "stderr",
     "output_type": "stream",
     "text": [
      "C:\\Users\\gilles.ngamenye\\Anaconda3\\lib\\site-packages\\seaborn\\_decorators.py:36: FutureWarning: Pass the following variable as a keyword arg: x. From version 0.12, the only valid positional argument will be `data`, and passing other arguments without an explicit keyword will result in an error or misinterpretation.\n",
      "  warnings.warn(\n"
     ]
    },
    {
     "data": {
      "image/png": "[encoded data removed]",
      "text/plain": [
       "<Figure size 324x288 with 2 Axes>"
      ]
     },
     "metadata": {},
     "output_type": "display_data"
    }
   ],
   "source": [
    "# Répartition des types de boîtes de vitesse selon les émissions de CO2\n",
    "\n",
    "sns.set_style(\"ticks\")\n",
    "\n",
    "fig, ax = plt.subplots()\n",
    "\n",
    "sns.countplot(df_2013.boite,ax=ax,palette='pastel')\n",
    "ax.set(ylabel='Nombre')\n",
    "ax2 = ax.twinx()\n",
    "sns.boxplot(x='boite',y='CO2',data=df_2013,ax=ax2)\n",
    "ax.set(title='CO2 et type de boite')\n",
    "ax2.set(ylabel='CO2 (g/km)')\n",
    "sns.set(rc={'figure.figsize':(4.5,4)})\n",
    "plt.show();"
   ]
  },
  {
   "cell_type": "code",
   "execution_count": 103,
   "id": "74d989ef",
   "metadata": {},
   "outputs": [
    {
     "data": {
      "text/html": [
       "<div>\n",
       "<style scoped>\n",
       "    .dataframe tbody tr th:only-of-type {\n",
       "        vertical-align: middle;\n",
       "    }\n",
       "\n",
       "    .dataframe tbody tr th {\n",
       "        vertical-align: top;\n",
       "    }\n",
       "\n",
       "    .dataframe thead th {\n",
       "        text-align: right;\n",
       "    }\n",
       "</style>\n",
       "<table border=\"1\" class=\"dataframe\">\n",
       "  <thead>\n",
       "    <tr style=\"text-align: right;\">\n",
       "      <th></th>\n",
       "      <th>df</th>\n",
       "      <th>sum_sq</th>\n",
       "      <th>mean_sq</th>\n",
       "      <th>F</th>\n",
       "      <th>PR(&gt;F)</th>\n",
       "    </tr>\n",
       "  </thead>\n",
       "  <tbody>\n",
       "    <tr>\n",
       "      <th>boite</th>\n",
       "      <td>2.0</td>\n",
       "      <td>7.948920e+06</td>\n",
       "      <td>3.974460e+06</td>\n",
       "      <td>2996.778648</td>\n",
       "      <td>0.0</td>\n",
       "    </tr>\n",
       "    <tr>\n",
       "      <th>Residual</th>\n",
       "      <td>44228.0</td>\n",
       "      <td>5.865712e+07</td>\n",
       "      <td>1.326244e+03</td>\n",
       "      <td>NaN</td>\n",
       "      <td>NaN</td>\n",
       "    </tr>\n",
       "  </tbody>\n",
       "</table>\n",
       "</div>"
      ],
      "text/plain": [
       "               df        sum_sq       mean_sq            F  PR(>F)\n",
       "boite         2.0  7.948920e+06  3.974460e+06  2996.778648     0.0\n",
       "Residual  44228.0  5.865712e+07  1.326244e+03          NaN     NaN"
      ]
     },
     "execution_count": 103,
     "metadata": {},
     "output_type": "execute_result"
    }
   ],
   "source": [
    "#ANOVA\n",
    "result = statsmodels.formula.api.ols('CO2 ~ boite', data = df_2013).fit()\n",
    "table = statsmodels.api.stats.anova_lm(result)\n",
    "table"
   ]
  },
  {
   "cell_type": "markdown",
   "id": "4f779a98",
   "metadata": {},
   "source": [
    "#### *Norme EURO*"
   ]
  },
  {
   "cell_type": "code",
   "execution_count": 104,
   "id": "HLPTRryvpQGM",
   "metadata": {
    "colab": {
     "base_uri": "https://localhost:8080/",
     "height": 340
    },
    "id": "HLPTRryvpQGM",
    "outputId": "e9871854-ba7e-401b-ed27-35f6fb3aa72e"
   },
   "outputs": [
    {
     "name": "stderr",
     "output_type": "stream",
     "text": [
      "C:\\Users\\gilles.ngamenye\\Anaconda3\\lib\\site-packages\\seaborn\\_decorators.py:36: FutureWarning: Pass the following variable as a keyword arg: x. From version 0.12, the only valid positional argument will be `data`, and passing other arguments without an explicit keyword will result in an error or misinterpretation.\n",
      "  warnings.warn(\n"
     ]
    },
    {
     "data": {
      "image/png": "[encoded data removed]",
      "text/plain": [
       "<Figure size 324x288 with 1 Axes>"
      ]
     },
     "metadata": {},
     "output_type": "display_data"
    }
   ],
   "source": [
    "plot_norme=sns.countplot(df_2013['norme_EURO'], order = df_2013['norme_EURO'].value_counts().index)\n",
    "plot_norme.set_xlabel(\"Norme EURO\")\n",
    "plot_norme.set(title='Répartition des véhicules selon la norme EURO');\n",
    "# Il y a une sur-représentation de véhicules avec la norme EURO5"
   ]
  },
  {
   "cell_type": "markdown",
   "id": "GYmWgdtg79Fl",
   "metadata": {
    "id": "GYmWgdtg79Fl"
   },
   "source": [
    "## 5. Sélection des variables utiles"
   ]
  },
  {
   "cell_type": "code",
   "execution_count": 105,
   "id": "2-8gnyocf757",
   "metadata": {
    "id": "2-8gnyocf757"
   },
   "outputs": [],
   "source": [
    "# On ne conserve que les variables qui vont être utiles pour la modélisation\n",
    "# Les variables corrélées entre-elles sont aussi délaissées\n",
    "\n",
    "df = df_2013.drop(columns = ['modele_dossier', 'modele_UTAC', 'design_comm', 'CNIT', \"TVV\", 'puissance_adm', \n",
    "                              'boite0', 'conso_extra_urb', 'conso_mixte', 'CO2_type_1', 'NOX', 'hcnox', 'norme_EURO',\n",
    "                              'particules','masse_ordma_max', 'champ_V9', 'date_maj','gamme', 'rapport','cat', 'mq', 'genre'])"
   ]
  },
  {
   "cell_type": "code",
   "execution_count": 106,
   "id": "619c2449",
   "metadata": {},
   "outputs": [
    {
     "name": "stdout",
     "output_type": "stream",
     "text": [
      "Il y a 38947 doublons dans le dataset avant traitement\n",
      "Maintenant, il y a 0 doublons dans le dataset\n"
     ]
    }
   ],
   "source": [
    "# On revérifie les doublons avec cette nouvelle base\n",
    "# On checke les doublons\n",
    "print('Il y a', df.duplicated().sum(), 'doublons dans le dataset avant traitement')\n",
    "\n",
    "# et on les supprime\n",
    "df = df.drop_duplicates()\n",
    "print('Maintenant, il y a', df.duplicated().sum(), 'doublons dans le dataset')"
   ]
  },
  {
   "cell_type": "code",
   "execution_count": 107,
   "id": "92c90325",
   "metadata": {},
   "outputs": [
    {
     "name": "stdout",
     "output_type": "stream",
     "text": [
      "La taille de la base originale était de  (44231, 33)  elle est désormais de  (5284, 11)\n"
     ]
    }
   ],
   "source": [
    "print(\"La taille de la base originale était de \",df_2013.shape,' elle est désormais de ',df.shape)"
   ]
  },
  {
   "cell_type": "markdown",
   "id": "27ef873a",
   "metadata": {},
   "source": [
    "La suppression de certaines variables a généré un nombre très important de doublons, la taille de la base est largement réduite maintenant, mais les données supprimées étaient redondantes"
   ]
  },
  {
   "cell_type": "code",
   "execution_count": 108,
   "id": "ehjW1F1X2dza",
   "metadata": {
    "colab": {
     "base_uri": "https://localhost:8080/",
     "height": 354
    },
    "id": "ehjW1F1X2dza",
    "outputId": "9c8eccf3-fe80-486b-c544-95f2427e12b0"
   },
   "outputs": [
    {
     "data": {
      "text/html": [
       "<div>\n",
       "<style scoped>\n",
       "    .dataframe tbody tr th:only-of-type {\n",
       "        vertical-align: middle;\n",
       "    }\n",
       "\n",
       "    .dataframe tbody tr th {\n",
       "        vertical-align: top;\n",
       "    }\n",
       "\n",
       "    .dataframe thead th {\n",
       "        text-align: right;\n",
       "    }\n",
       "</style>\n",
       "<table border=\"1\" class=\"dataframe\">\n",
       "  <thead>\n",
       "    <tr style=\"text-align: right;\">\n",
       "      <th></th>\n",
       "      <th>Marque</th>\n",
       "      <th>Carburant</th>\n",
       "      <th>Hybride</th>\n",
       "      <th>puiss_max</th>\n",
       "      <th>conso_urb</th>\n",
       "      <th>CO2</th>\n",
       "      <th>masse_ordma_min</th>\n",
       "      <th>Carrosserie</th>\n",
       "      <th>boite</th>\n",
       "      <th>gamme2</th>\n",
       "      <th>Cat_CO2</th>\n",
       "    </tr>\n",
       "  </thead>\n",
       "  <tbody>\n",
       "    <tr>\n",
       "      <th>0</th>\n",
       "      <td>ALFA-ROMEO</td>\n",
       "      <td>ES</td>\n",
       "      <td>non</td>\n",
       "      <td>147.0</td>\n",
       "      <td>11.3</td>\n",
       "      <td>182.0</td>\n",
       "      <td>1505</td>\n",
       "      <td>BREAK</td>\n",
       "      <td>M</td>\n",
       "      <td>MOY-SUPERIEURE</td>\n",
       "      <td>E</td>\n",
       "    </tr>\n",
       "    <tr>\n",
       "      <th>1</th>\n",
       "      <td>ALFA-ROMEO</td>\n",
       "      <td>GO</td>\n",
       "      <td>non</td>\n",
       "      <td>125.0</td>\n",
       "      <td>6.6</td>\n",
       "      <td>136.0</td>\n",
       "      <td>1565</td>\n",
       "      <td>BERLINE</td>\n",
       "      <td>M</td>\n",
       "      <td>MOY-SUPERIEURE</td>\n",
       "      <td>C</td>\n",
       "    </tr>\n",
       "    <tr>\n",
       "      <th>2</th>\n",
       "      <td>ALFA-ROMEO</td>\n",
       "      <td>GO</td>\n",
       "      <td>non</td>\n",
       "      <td>100.0</td>\n",
       "      <td>6.6</td>\n",
       "      <td>134.0</td>\n",
       "      <td>1565</td>\n",
       "      <td>BERLINE</td>\n",
       "      <td>M</td>\n",
       "      <td>MOY-SUPERIEURE</td>\n",
       "      <td>C</td>\n",
       "    </tr>\n",
       "    <tr>\n",
       "      <th>4</th>\n",
       "      <td>ALFA-ROMEO</td>\n",
       "      <td>GO</td>\n",
       "      <td>non</td>\n",
       "      <td>125.0</td>\n",
       "      <td>6.9</td>\n",
       "      <td>139.0</td>\n",
       "      <td>1565</td>\n",
       "      <td>BERLINE</td>\n",
       "      <td>M</td>\n",
       "      <td>MOY-SUPERIEURE</td>\n",
       "      <td>C</td>\n",
       "    </tr>\n",
       "    <tr>\n",
       "      <th>6</th>\n",
       "      <td>ALFA-ROMEO</td>\n",
       "      <td>ES</td>\n",
       "      <td>non</td>\n",
       "      <td>147.0</td>\n",
       "      <td>11.5</td>\n",
       "      <td>186.0</td>\n",
       "      <td>1555</td>\n",
       "      <td>BREAK</td>\n",
       "      <td>M</td>\n",
       "      <td>MOY-SUPERIEURE</td>\n",
       "      <td>E</td>\n",
       "    </tr>\n",
       "  </tbody>\n",
       "</table>\n",
       "</div>"
      ],
      "text/plain": [
       "       Marque Carburant Hybride  puiss_max  conso_urb    CO2  masse_ordma_min  \\\n",
       "0  ALFA-ROMEO        ES     non      147.0       11.3  182.0             1505   \n",
       "1  ALFA-ROMEO        GO     non      125.0        6.6  136.0             1565   \n",
       "2  ALFA-ROMEO        GO     non      100.0        6.6  134.0             1565   \n",
       "4  ALFA-ROMEO        GO     non      125.0        6.9  139.0             1565   \n",
       "6  ALFA-ROMEO        ES     non      147.0       11.5  186.0             1555   \n",
       "\n",
       "  Carrosserie boite          gamme2 Cat_CO2  \n",
       "0       BREAK     M  MOY-SUPERIEURE       E  \n",
       "1     BERLINE     M  MOY-SUPERIEURE       C  \n",
       "2     BERLINE     M  MOY-SUPERIEURE       C  \n",
       "4     BERLINE     M  MOY-SUPERIEURE       C  \n",
       "6       BREAK     M  MOY-SUPERIEURE       E  "
      ]
     },
     "execution_count": 108,
     "metadata": {},
     "output_type": "execute_result"
    }
   ],
   "source": [
    "df.head()"
   ]
  },
  {
   "cell_type": "code",
   "execution_count": 109,
   "id": "bbb15f98",
   "metadata": {},
   "outputs": [
    {
     "name": "stdout",
     "output_type": "stream",
     "text": [
      "<class 'pandas.core.frame.DataFrame'>\n",
      "Int64Index: 5284 entries, 0 to 44849\n",
      "Data columns (total 11 columns):\n",
      " #   Column           Non-Null Count  Dtype  \n",
      "---  ------           --------------  -----  \n",
      " 0   Marque           5284 non-null   object \n",
      " 1   Carburant        5284 non-null   object \n",
      " 2   Hybride          5284 non-null   object \n",
      " 3   puiss_max        5284 non-null   float64\n",
      " 4   conso_urb        5284 non-null   float64\n",
      " 5   CO2              5284 non-null   float64\n",
      " 6   masse_ordma_min  5284 non-null   int64  \n",
      " 7   Carrosserie      5284 non-null   object \n",
      " 8   boite            5284 non-null   object \n",
      " 9   gamme2           5284 non-null   object \n",
      " 10  Cat_CO2          5284 non-null   object \n",
      "dtypes: float64(3), int64(1), object(7)\n",
      "memory usage: 495.4+ KB\n"
     ]
    }
   ],
   "source": [
    "df.info()"
   ]
  },
  {
   "cell_type": "code",
   "execution_count": 111,
   "id": "eaf9b74e",
   "metadata": {},
   "outputs": [
    {
     "data": {
      "text/html": [
       "<div>\n",
       "<style scoped>\n",
       "    .dataframe tbody tr th:only-of-type {\n",
       "        vertical-align: middle;\n",
       "    }\n",
       "\n",
       "    .dataframe tbody tr th {\n",
       "        vertical-align: top;\n",
       "    }\n",
       "\n",
       "    .dataframe thead th {\n",
       "        text-align: right;\n",
       "    }\n",
       "</style>\n",
       "<table border=\"1\" class=\"dataframe\">\n",
       "  <thead>\n",
       "    <tr style=\"text-align: right;\">\n",
       "      <th></th>\n",
       "      <th>puiss_max</th>\n",
       "      <th>conso_urb</th>\n",
       "      <th>CO2</th>\n",
       "      <th>masse_ordma_min</th>\n",
       "    </tr>\n",
       "  </thead>\n",
       "  <tbody>\n",
       "    <tr>\n",
       "      <th>count</th>\n",
       "      <td>5284.000000</td>\n",
       "      <td>5284.000000</td>\n",
       "      <td>5284.000000</td>\n",
       "      <td>5284.000000</td>\n",
       "    </tr>\n",
       "    <tr>\n",
       "      <th>mean</th>\n",
       "      <td>136.030905</td>\n",
       "      <td>8.545528</td>\n",
       "      <td>164.572294</td>\n",
       "      <td>1674.777441</td>\n",
       "    </tr>\n",
       "    <tr>\n",
       "      <th>std</th>\n",
       "      <td>79.749244</td>\n",
       "      <td>3.524950</td>\n",
       "      <td>51.140136</td>\n",
       "      <td>361.461055</td>\n",
       "    </tr>\n",
       "    <tr>\n",
       "      <th>min</th>\n",
       "      <td>10.000000</td>\n",
       "      <td>0.000000</td>\n",
       "      <td>0.000000</td>\n",
       "      <td>825.000000</td>\n",
       "    </tr>\n",
       "    <tr>\n",
       "      <th>25%</th>\n",
       "      <td>85.000000</td>\n",
       "      <td>6.300000</td>\n",
       "      <td>131.000000</td>\n",
       "      <td>1438.000000</td>\n",
       "    </tr>\n",
       "    <tr>\n",
       "      <th>50%</th>\n",
       "      <td>110.000000</td>\n",
       "      <td>7.800000</td>\n",
       "      <td>153.000000</td>\n",
       "      <td>1615.000000</td>\n",
       "    </tr>\n",
       "    <tr>\n",
       "      <th>75%</th>\n",
       "      <td>150.000000</td>\n",
       "      <td>9.800000</td>\n",
       "      <td>190.000000</td>\n",
       "      <td>1940.000000</td>\n",
       "    </tr>\n",
       "    <tr>\n",
       "      <th>max</th>\n",
       "      <td>559.300000</td>\n",
       "      <td>41.100000</td>\n",
       "      <td>572.000000</td>\n",
       "      <td>3115.000000</td>\n",
       "    </tr>\n",
       "  </tbody>\n",
       "</table>\n",
       "</div>"
      ],
      "text/plain": [
       "         puiss_max    conso_urb          CO2  masse_ordma_min\n",
       "count  5284.000000  5284.000000  5284.000000      5284.000000\n",
       "mean    136.030905     8.545528   164.572294      1674.777441\n",
       "std      79.749244     3.524950    51.140136       361.461055\n",
       "min      10.000000     0.000000     0.000000       825.000000\n",
       "25%      85.000000     6.300000   131.000000      1438.000000\n",
       "50%     110.000000     7.800000   153.000000      1615.000000\n",
       "75%     150.000000     9.800000   190.000000      1940.000000\n",
       "max     559.300000    41.100000   572.000000      3115.000000"
      ]
     },
     "execution_count": 111,
     "metadata": {},
     "output_type": "execute_result"
    }
   ],
   "source": [
    "df.describe()"
   ]
  },
  {
   "cell_type": "markdown",
   "id": "fee56ca8",
   "metadata": {},
   "source": [
    "#### *On sépare les variables numériques et catégorielles*"
   ]
  },
  {
   "cell_type": "code",
   "execution_count": 113,
   "id": "aecc18ac",
   "metadata": {},
   "outputs": [],
   "source": [
    "var_num = df.select_dtypes(exclude = 'object') # On récupère les variables numériques\n",
    "var_cat = df.select_dtypes(include = 'object') # On récupère les variables catégorielles\n",
    "\n",
    "# On récupère la variable cible\n",
    "target = df['Cat_CO2']\n",
    "var_cat = var_cat.drop('Cat_CO2', axis = 1)  # La variable cible est éliminée des variables catégorielles"
   ]
  },
  {
   "cell_type": "code",
   "execution_count": 127,
   "id": "c90a7eed",
   "metadata": {},
   "outputs": [
    {
     "data": {
      "text/plain": [
       "E    0.228615\n",
       "D    0.207986\n",
       "C    0.197388\n",
       "F    0.137774\n",
       "B    0.128501\n",
       "G    0.057343\n",
       "A    0.042392\n",
       "Name: Cat_CO2, dtype: float64"
      ]
     },
     "execution_count": 127,
     "metadata": {},
     "output_type": "execute_result"
    }
   ],
   "source": [
    "# Distribution de la variable cible\n",
    "target.value_counts(normalize = True)\n",
    "# On a une distribution légèrement déséquilibrée"
   ]
  },
  {
   "cell_type": "code",
   "execution_count": 114,
   "id": "836e6083",
   "metadata": {},
   "outputs": [
    {
     "data": {
      "text/html": [
       "<div>\n",
       "<style scoped>\n",
       "    .dataframe tbody tr th:only-of-type {\n",
       "        vertical-align: middle;\n",
       "    }\n",
       "\n",
       "    .dataframe tbody tr th {\n",
       "        vertical-align: top;\n",
       "    }\n",
       "\n",
       "    .dataframe thead th {\n",
       "        text-align: right;\n",
       "    }\n",
       "</style>\n",
       "<table border=\"1\" class=\"dataframe\">\n",
       "  <thead>\n",
       "    <tr style=\"text-align: right;\">\n",
       "      <th></th>\n",
       "      <th>Marque_ALFA-ROMEO</th>\n",
       "      <th>Marque_ASTON MARTIN</th>\n",
       "      <th>Marque_AUDI</th>\n",
       "      <th>Marque_BENTLEY</th>\n",
       "      <th>Marque_BMW</th>\n",
       "      <th>Marque_CADILLAC</th>\n",
       "      <th>Marque_CHEVROLET</th>\n",
       "      <th>Marque_CITROEN</th>\n",
       "      <th>Marque_DACIA</th>\n",
       "      <th>Marque_DANGEL</th>\n",
       "      <th>...</th>\n",
       "      <th>Carrosserie_TS TERRAINS/CHEMINS</th>\n",
       "      <th>boite_A</th>\n",
       "      <th>boite_Autres</th>\n",
       "      <th>boite_M</th>\n",
       "      <th>gamme2_ECONOMIQUE</th>\n",
       "      <th>gamme2_INFERIEURE</th>\n",
       "      <th>gamme2_LUXE</th>\n",
       "      <th>gamme2_MOY-INFERIEURE</th>\n",
       "      <th>gamme2_MOY-SUPERIEURE</th>\n",
       "      <th>gamme2_SUPERIEURE</th>\n",
       "    </tr>\n",
       "  </thead>\n",
       "  <tbody>\n",
       "    <tr>\n",
       "      <th>0</th>\n",
       "      <td>1</td>\n",
       "      <td>0</td>\n",
       "      <td>0</td>\n",
       "      <td>0</td>\n",
       "      <td>0</td>\n",
       "      <td>0</td>\n",
       "      <td>0</td>\n",
       "      <td>0</td>\n",
       "      <td>0</td>\n",
       "      <td>0</td>\n",
       "      <td>...</td>\n",
       "      <td>0</td>\n",
       "      <td>0</td>\n",
       "      <td>0</td>\n",
       "      <td>1</td>\n",
       "      <td>0</td>\n",
       "      <td>0</td>\n",
       "      <td>0</td>\n",
       "      <td>0</td>\n",
       "      <td>1</td>\n",
       "      <td>0</td>\n",
       "    </tr>\n",
       "    <tr>\n",
       "      <th>1</th>\n",
       "      <td>1</td>\n",
       "      <td>0</td>\n",
       "      <td>0</td>\n",
       "      <td>0</td>\n",
       "      <td>0</td>\n",
       "      <td>0</td>\n",
       "      <td>0</td>\n",
       "      <td>0</td>\n",
       "      <td>0</td>\n",
       "      <td>0</td>\n",
       "      <td>...</td>\n",
       "      <td>0</td>\n",
       "      <td>0</td>\n",
       "      <td>0</td>\n",
       "      <td>1</td>\n",
       "      <td>0</td>\n",
       "      <td>0</td>\n",
       "      <td>0</td>\n",
       "      <td>0</td>\n",
       "      <td>1</td>\n",
       "      <td>0</td>\n",
       "    </tr>\n",
       "    <tr>\n",
       "      <th>2</th>\n",
       "      <td>1</td>\n",
       "      <td>0</td>\n",
       "      <td>0</td>\n",
       "      <td>0</td>\n",
       "      <td>0</td>\n",
       "      <td>0</td>\n",
       "      <td>0</td>\n",
       "      <td>0</td>\n",
       "      <td>0</td>\n",
       "      <td>0</td>\n",
       "      <td>...</td>\n",
       "      <td>0</td>\n",
       "      <td>0</td>\n",
       "      <td>0</td>\n",
       "      <td>1</td>\n",
       "      <td>0</td>\n",
       "      <td>0</td>\n",
       "      <td>0</td>\n",
       "      <td>0</td>\n",
       "      <td>1</td>\n",
       "      <td>0</td>\n",
       "    </tr>\n",
       "    <tr>\n",
       "      <th>4</th>\n",
       "      <td>1</td>\n",
       "      <td>0</td>\n",
       "      <td>0</td>\n",
       "      <td>0</td>\n",
       "      <td>0</td>\n",
       "      <td>0</td>\n",
       "      <td>0</td>\n",
       "      <td>0</td>\n",
       "      <td>0</td>\n",
       "      <td>0</td>\n",
       "      <td>...</td>\n",
       "      <td>0</td>\n",
       "      <td>0</td>\n",
       "      <td>0</td>\n",
       "      <td>1</td>\n",
       "      <td>0</td>\n",
       "      <td>0</td>\n",
       "      <td>0</td>\n",
       "      <td>0</td>\n",
       "      <td>1</td>\n",
       "      <td>0</td>\n",
       "    </tr>\n",
       "    <tr>\n",
       "      <th>6</th>\n",
       "      <td>1</td>\n",
       "      <td>0</td>\n",
       "      <td>0</td>\n",
       "      <td>0</td>\n",
       "      <td>0</td>\n",
       "      <td>0</td>\n",
       "      <td>0</td>\n",
       "      <td>0</td>\n",
       "      <td>0</td>\n",
       "      <td>0</td>\n",
       "      <td>...</td>\n",
       "      <td>0</td>\n",
       "      <td>0</td>\n",
       "      <td>0</td>\n",
       "      <td>1</td>\n",
       "      <td>0</td>\n",
       "      <td>0</td>\n",
       "      <td>0</td>\n",
       "      <td>0</td>\n",
       "      <td>1</td>\n",
       "      <td>0</td>\n",
       "    </tr>\n",
       "    <tr>\n",
       "      <th>...</th>\n",
       "      <td>...</td>\n",
       "      <td>...</td>\n",
       "      <td>...</td>\n",
       "      <td>...</td>\n",
       "      <td>...</td>\n",
       "      <td>...</td>\n",
       "      <td>...</td>\n",
       "      <td>...</td>\n",
       "      <td>...</td>\n",
       "      <td>...</td>\n",
       "      <td>...</td>\n",
       "      <td>...</td>\n",
       "      <td>...</td>\n",
       "      <td>...</td>\n",
       "      <td>...</td>\n",
       "      <td>...</td>\n",
       "      <td>...</td>\n",
       "      <td>...</td>\n",
       "      <td>...</td>\n",
       "      <td>...</td>\n",
       "      <td>...</td>\n",
       "    </tr>\n",
       "    <tr>\n",
       "      <th>44845</th>\n",
       "      <td>0</td>\n",
       "      <td>0</td>\n",
       "      <td>0</td>\n",
       "      <td>0</td>\n",
       "      <td>0</td>\n",
       "      <td>0</td>\n",
       "      <td>0</td>\n",
       "      <td>0</td>\n",
       "      <td>0</td>\n",
       "      <td>0</td>\n",
       "      <td>...</td>\n",
       "      <td>0</td>\n",
       "      <td>1</td>\n",
       "      <td>0</td>\n",
       "      <td>0</td>\n",
       "      <td>0</td>\n",
       "      <td>0</td>\n",
       "      <td>0</td>\n",
       "      <td>0</td>\n",
       "      <td>0</td>\n",
       "      <td>1</td>\n",
       "    </tr>\n",
       "    <tr>\n",
       "      <th>44846</th>\n",
       "      <td>0</td>\n",
       "      <td>0</td>\n",
       "      <td>0</td>\n",
       "      <td>0</td>\n",
       "      <td>0</td>\n",
       "      <td>0</td>\n",
       "      <td>0</td>\n",
       "      <td>0</td>\n",
       "      <td>0</td>\n",
       "      <td>0</td>\n",
       "      <td>...</td>\n",
       "      <td>0</td>\n",
       "      <td>0</td>\n",
       "      <td>0</td>\n",
       "      <td>1</td>\n",
       "      <td>0</td>\n",
       "      <td>0</td>\n",
       "      <td>0</td>\n",
       "      <td>0</td>\n",
       "      <td>0</td>\n",
       "      <td>1</td>\n",
       "    </tr>\n",
       "    <tr>\n",
       "      <th>44847</th>\n",
       "      <td>0</td>\n",
       "      <td>0</td>\n",
       "      <td>0</td>\n",
       "      <td>0</td>\n",
       "      <td>0</td>\n",
       "      <td>0</td>\n",
       "      <td>0</td>\n",
       "      <td>0</td>\n",
       "      <td>0</td>\n",
       "      <td>0</td>\n",
       "      <td>...</td>\n",
       "      <td>0</td>\n",
       "      <td>1</td>\n",
       "      <td>0</td>\n",
       "      <td>0</td>\n",
       "      <td>0</td>\n",
       "      <td>0</td>\n",
       "      <td>0</td>\n",
       "      <td>0</td>\n",
       "      <td>0</td>\n",
       "      <td>1</td>\n",
       "    </tr>\n",
       "    <tr>\n",
       "      <th>44848</th>\n",
       "      <td>0</td>\n",
       "      <td>0</td>\n",
       "      <td>0</td>\n",
       "      <td>0</td>\n",
       "      <td>0</td>\n",
       "      <td>0</td>\n",
       "      <td>0</td>\n",
       "      <td>0</td>\n",
       "      <td>0</td>\n",
       "      <td>0</td>\n",
       "      <td>...</td>\n",
       "      <td>0</td>\n",
       "      <td>0</td>\n",
       "      <td>0</td>\n",
       "      <td>1</td>\n",
       "      <td>0</td>\n",
       "      <td>0</td>\n",
       "      <td>0</td>\n",
       "      <td>0</td>\n",
       "      <td>0</td>\n",
       "      <td>1</td>\n",
       "    </tr>\n",
       "    <tr>\n",
       "      <th>44849</th>\n",
       "      <td>0</td>\n",
       "      <td>0</td>\n",
       "      <td>0</td>\n",
       "      <td>0</td>\n",
       "      <td>0</td>\n",
       "      <td>0</td>\n",
       "      <td>0</td>\n",
       "      <td>0</td>\n",
       "      <td>0</td>\n",
       "      <td>0</td>\n",
       "      <td>...</td>\n",
       "      <td>0</td>\n",
       "      <td>1</td>\n",
       "      <td>0</td>\n",
       "      <td>0</td>\n",
       "      <td>0</td>\n",
       "      <td>0</td>\n",
       "      <td>0</td>\n",
       "      <td>0</td>\n",
       "      <td>0</td>\n",
       "      <td>1</td>\n",
       "    </tr>\n",
       "  </tbody>\n",
       "</table>\n",
       "<p>5284 rows × 83 columns</p>\n",
       "</div>"
      ],
      "text/plain": [
       "       Marque_ALFA-ROMEO  Marque_ASTON MARTIN  Marque_AUDI  Marque_BENTLEY  \\\n",
       "0                      1                    0            0               0   \n",
       "1                      1                    0            0               0   \n",
       "2                      1                    0            0               0   \n",
       "4                      1                    0            0               0   \n",
       "6                      1                    0            0               0   \n",
       "...                  ...                  ...          ...             ...   \n",
       "44845                  0                    0            0               0   \n",
       "44846                  0                    0            0               0   \n",
       "44847                  0                    0            0               0   \n",
       "44848                  0                    0            0               0   \n",
       "44849                  0                    0            0               0   \n",
       "\n",
       "       Marque_BMW  Marque_CADILLAC  Marque_CHEVROLET  Marque_CITROEN  \\\n",
       "0               0                0                 0               0   \n",
       "1               0                0                 0               0   \n",
       "2               0                0                 0               0   \n",
       "4               0                0                 0               0   \n",
       "6               0                0                 0               0   \n",
       "...           ...              ...               ...             ...   \n",
       "44845           0                0                 0               0   \n",
       "44846           0                0                 0               0   \n",
       "44847           0                0                 0               0   \n",
       "44848           0                0                 0               0   \n",
       "44849           0                0                 0               0   \n",
       "\n",
       "       Marque_DACIA  Marque_DANGEL  ...  Carrosserie_TS TERRAINS/CHEMINS  \\\n",
       "0                 0              0  ...                                0   \n",
       "1                 0              0  ...                                0   \n",
       "2                 0              0  ...                                0   \n",
       "4                 0              0  ...                                0   \n",
       "6                 0              0  ...                                0   \n",
       "...             ...            ...  ...                              ...   \n",
       "44845             0              0  ...                                0   \n",
       "44846             0              0  ...                                0   \n",
       "44847             0              0  ...                                0   \n",
       "44848             0              0  ...                                0   \n",
       "44849             0              0  ...                                0   \n",
       "\n",
       "       boite_A  boite_Autres  boite_M  gamme2_ECONOMIQUE  gamme2_INFERIEURE  \\\n",
       "0            0             0        1                  0                  0   \n",
       "1            0             0        1                  0                  0   \n",
       "2            0             0        1                  0                  0   \n",
       "4            0             0        1                  0                  0   \n",
       "6            0             0        1                  0                  0   \n",
       "...        ...           ...      ...                ...                ...   \n",
       "44845        1             0        0                  0                  0   \n",
       "44846        0             0        1                  0                  0   \n",
       "44847        1             0        0                  0                  0   \n",
       "44848        0             0        1                  0                  0   \n",
       "44849        1             0        0                  0                  0   \n",
       "\n",
       "       gamme2_LUXE  gamme2_MOY-INFERIEURE  gamme2_MOY-SUPERIEURE  \\\n",
       "0                0                      0                      1   \n",
       "1                0                      0                      1   \n",
       "2                0                      0                      1   \n",
       "4                0                      0                      1   \n",
       "6                0                      0                      1   \n",
       "...            ...                    ...                    ...   \n",
       "44845            0                      0                      0   \n",
       "44846            0                      0                      0   \n",
       "44847            0                      0                      0   \n",
       "44848            0                      0                      0   \n",
       "44849            0                      0                      0   \n",
       "\n",
       "       gamme2_SUPERIEURE  \n",
       "0                      0  \n",
       "1                      0  \n",
       "2                      0  \n",
       "4                      0  \n",
       "6                      0  \n",
       "...                  ...  \n",
       "44845                  1  \n",
       "44846                  1  \n",
       "44847                  1  \n",
       "44848                  1  \n",
       "44849                  1  \n",
       "\n",
       "[5284 rows x 83 columns]"
      ]
     },
     "execution_count": 114,
     "metadata": {},
     "output_type": "execute_result"
    }
   ],
   "source": [
    "# Les variables catégorielles sont transformées en indicatrices\n",
    "var_cat_ind = pd.get_dummies(var_cat)\n",
    "var_cat_ind"
   ]
  },
  {
   "cell_type": "code",
   "execution_count": 115,
   "id": "d201036f",
   "metadata": {},
   "outputs": [],
   "source": [
    "# On récupère les variables explicatives\n",
    "feats = var_num.join(var_cat_ind)"
   ]
  },
  {
   "cell_type": "markdown",
   "id": "aebe0de8",
   "metadata": {},
   "source": [
    "***\n",
    "\n",
    "# **2e partie : Modélisation**\n",
    "\n",
    "***"
   ]
  },
  {
   "cell_type": "markdown",
   "id": "52cb6db8",
   "metadata": {},
   "source": [
    "## 1. Regression"
   ]
  },
  {
   "cell_type": "markdown",
   "id": "c0bfaeac",
   "metadata": {},
   "source": [
    "## 2. Classification multiple"
   ]
  },
  {
   "cell_type": "markdown",
   "id": "484e6c2b",
   "metadata": {},
   "source": [
    "### Déterminer la classe du véhicule selon les normes européennes"
   ]
  },
  {
   "cell_type": "markdown",
   "id": "91a40a27",
   "metadata": {},
   "source": [
    "#### *Import des librairies utiles*"
   ]
  },
  {
   "cell_type": "code",
   "execution_count": 110,
   "id": "5339daaa",
   "metadata": {},
   "outputs": [],
   "source": [
    "# Les différents types de modèles de Machine Learning\n",
    "from sklearn.svm import SVC\n",
    "from sklearn.ensemble import RandomForestClassifier, VotingClassifier\n",
    "from sklearn.neighbors import KNeighborsClassifier\n",
    "\n",
    "# Les fonctions de paramétrage de la modélisation\n",
    "from sklearn.model_selection import train_test_split, KFold, cross_validate\n",
    "from sklearn.model_selection import GridSearchCV\n",
    "\n",
    "# Les fonctions de preprocessing\n",
    "from sklearn.preprocessing import StandardScaler\n",
    "from sklearn.preprocessing import LabelEncoder,OneHotEncoder\n",
    "\n",
    "# Les métriques\n",
    "from sklearn.metrics import f1_score\n",
    "from sklearn.metrics import accuracy_score\n",
    "\n",
    "# Les fonctions de sauvegarde et chargement de modèles\n",
    "from joblib import dump, load"
   ]
  },
  {
   "cell_type": "markdown",
   "id": "6e0d1833",
   "metadata": {},
   "source": [
    "### *Cas 1 : Modélisation sans les variables qualitatives*"
   ]
  },
  {
   "cell_type": "code",
   "execution_count": 116,
   "id": "41f9c3f4",
   "metadata": {},
   "outputs": [],
   "source": [
    "# On ne conserve que les variables quantitatives pour effectuer la modélisation\n",
    "feats_quant = feats[var_num.columns]"
   ]
  },
  {
   "cell_type": "code",
   "execution_count": 117,
   "id": "338cd678",
   "metadata": {},
   "outputs": [
    {
     "data": {
      "text/html": [
       "<div>\n",
       "<style scoped>\n",
       "    .dataframe tbody tr th:only-of-type {\n",
       "        vertical-align: middle;\n",
       "    }\n",
       "\n",
       "    .dataframe tbody tr th {\n",
       "        vertical-align: top;\n",
       "    }\n",
       "\n",
       "    .dataframe thead th {\n",
       "        text-align: right;\n",
       "    }\n",
       "</style>\n",
       "<table border=\"1\" class=\"dataframe\">\n",
       "  <thead>\n",
       "    <tr style=\"text-align: right;\">\n",
       "      <th></th>\n",
       "      <th>puiss_max</th>\n",
       "      <th>conso_urb</th>\n",
       "      <th>CO2</th>\n",
       "      <th>masse_ordma_min</th>\n",
       "    </tr>\n",
       "  </thead>\n",
       "  <tbody>\n",
       "    <tr>\n",
       "      <th>0</th>\n",
       "      <td>147.0</td>\n",
       "      <td>11.3</td>\n",
       "      <td>182.0</td>\n",
       "      <td>1505</td>\n",
       "    </tr>\n",
       "    <tr>\n",
       "      <th>1</th>\n",
       "      <td>125.0</td>\n",
       "      <td>6.6</td>\n",
       "      <td>136.0</td>\n",
       "      <td>1565</td>\n",
       "    </tr>\n",
       "    <tr>\n",
       "      <th>2</th>\n",
       "      <td>100.0</td>\n",
       "      <td>6.6</td>\n",
       "      <td>134.0</td>\n",
       "      <td>1565</td>\n",
       "    </tr>\n",
       "    <tr>\n",
       "      <th>4</th>\n",
       "      <td>125.0</td>\n",
       "      <td>6.9</td>\n",
       "      <td>139.0</td>\n",
       "      <td>1565</td>\n",
       "    </tr>\n",
       "    <tr>\n",
       "      <th>6</th>\n",
       "      <td>147.0</td>\n",
       "      <td>11.5</td>\n",
       "      <td>186.0</td>\n",
       "      <td>1555</td>\n",
       "    </tr>\n",
       "  </tbody>\n",
       "</table>\n",
       "</div>"
      ],
      "text/plain": [
       "   puiss_max  conso_urb    CO2  masse_ordma_min\n",
       "0      147.0       11.3  182.0             1505\n",
       "1      125.0        6.6  136.0             1565\n",
       "2      100.0        6.6  134.0             1565\n",
       "4      125.0        6.9  139.0             1565\n",
       "6      147.0       11.5  186.0             1555"
      ]
     },
     "execution_count": 117,
     "metadata": {},
     "output_type": "execute_result"
    }
   ],
   "source": [
    "feats_quant.head()"
   ]
  },
  {
   "cell_type": "code",
   "execution_count": 118,
   "id": "efc3bccc",
   "metadata": {},
   "outputs": [],
   "source": [
    "# Séparation en données d'entraînement et de test\n",
    "X_train, X_test, y_train, y_test = train_test_split(feats_quant, target, test_size = 0.25, random_state = 225)"
   ]
  },
  {
   "cell_type": "code",
   "execution_count": 119,
   "id": "ca152838",
   "metadata": {},
   "outputs": [],
   "source": [
    "# Les variables numériques doivent être standardisées\n",
    "from sklearn.preprocessing import StandardScaler\n",
    "scaler = StandardScaler()\n",
    "X_train = scaler.fit_transform(X_train)\n",
    "X_test = scaler.transform(X_test)"
   ]
  },
  {
   "cell_type": "markdown",
   "id": "8f2b57ce",
   "metadata": {},
   "source": [
    "Afin d'effectuer des classifications multiples, nous avons sélectionné les 3 classifieurs suivants :\n",
    "- SVC\n",
    "- KNN\n",
    "- Random Forest"
   ]
  },
  {
   "cell_type": "markdown",
   "id": "d51c7919",
   "metadata": {},
   "source": [
    "### *Classifieur 1 : SVC*"
   ]
  },
  {
   "cell_type": "code",
   "execution_count": 120,
   "id": "79a10d5d",
   "metadata": {},
   "outputs": [
    {
     "data": {
      "text/html": [
       "<div>\n",
       "<style scoped>\n",
       "    .dataframe tbody tr th:only-of-type {\n",
       "        vertical-align: middle;\n",
       "    }\n",
       "\n",
       "    .dataframe tbody tr th {\n",
       "        vertical-align: top;\n",
       "    }\n",
       "\n",
       "    .dataframe thead th {\n",
       "        text-align: right;\n",
       "    }\n",
       "</style>\n",
       "<table border=\"1\" class=\"dataframe\">\n",
       "  <thead>\n",
       "    <tr style=\"text-align: right;\">\n",
       "      <th>Classes prédites SVC</th>\n",
       "      <th>A</th>\n",
       "      <th>B</th>\n",
       "      <th>C</th>\n",
       "      <th>D</th>\n",
       "      <th>E</th>\n",
       "      <th>F</th>\n",
       "      <th>G</th>\n",
       "    </tr>\n",
       "    <tr>\n",
       "      <th>Classes réelles</th>\n",
       "      <th></th>\n",
       "      <th></th>\n",
       "      <th></th>\n",
       "      <th></th>\n",
       "      <th></th>\n",
       "      <th></th>\n",
       "      <th></th>\n",
       "    </tr>\n",
       "  </thead>\n",
       "  <tbody>\n",
       "    <tr>\n",
       "      <th>A</th>\n",
       "      <td>46</td>\n",
       "      <td>1</td>\n",
       "      <td>0</td>\n",
       "      <td>0</td>\n",
       "      <td>0</td>\n",
       "      <td>0</td>\n",
       "      <td>0</td>\n",
       "    </tr>\n",
       "    <tr>\n",
       "      <th>B</th>\n",
       "      <td>3</td>\n",
       "      <td>166</td>\n",
       "      <td>2</td>\n",
       "      <td>0</td>\n",
       "      <td>0</td>\n",
       "      <td>0</td>\n",
       "      <td>0</td>\n",
       "    </tr>\n",
       "    <tr>\n",
       "      <th>C</th>\n",
       "      <td>0</td>\n",
       "      <td>8</td>\n",
       "      <td>241</td>\n",
       "      <td>4</td>\n",
       "      <td>0</td>\n",
       "      <td>0</td>\n",
       "      <td>0</td>\n",
       "    </tr>\n",
       "    <tr>\n",
       "      <th>D</th>\n",
       "      <td>0</td>\n",
       "      <td>0</td>\n",
       "      <td>17</td>\n",
       "      <td>262</td>\n",
       "      <td>4</td>\n",
       "      <td>0</td>\n",
       "      <td>0</td>\n",
       "    </tr>\n",
       "    <tr>\n",
       "      <th>E</th>\n",
       "      <td>0</td>\n",
       "      <td>0</td>\n",
       "      <td>0</td>\n",
       "      <td>11</td>\n",
       "      <td>298</td>\n",
       "      <td>1</td>\n",
       "      <td>0</td>\n",
       "    </tr>\n",
       "    <tr>\n",
       "      <th>F</th>\n",
       "      <td>0</td>\n",
       "      <td>0</td>\n",
       "      <td>0</td>\n",
       "      <td>0</td>\n",
       "      <td>2</td>\n",
       "      <td>182</td>\n",
       "      <td>0</td>\n",
       "    </tr>\n",
       "    <tr>\n",
       "      <th>G</th>\n",
       "      <td>0</td>\n",
       "      <td>0</td>\n",
       "      <td>0</td>\n",
       "      <td>0</td>\n",
       "      <td>0</td>\n",
       "      <td>2</td>\n",
       "      <td>71</td>\n",
       "    </tr>\n",
       "  </tbody>\n",
       "</table>\n",
       "</div>"
      ],
      "text/plain": [
       "Classes prédites SVC   A    B    C    D    E    F   G\n",
       "Classes réelles                                      \n",
       "A                     46    1    0    0    0    0   0\n",
       "B                      3  166    2    0    0    0   0\n",
       "C                      0    8  241    4    0    0   0\n",
       "D                      0    0   17  262    4    0   0\n",
       "E                      0    0    0   11  298    1   0\n",
       "F                      0    0    0    0    2  182   0\n",
       "G                      0    0    0    0    0    2  71"
      ]
     },
     "execution_count": 120,
     "metadata": {},
     "output_type": "execute_result"
    }
   ],
   "source": [
    "# Instanciation du classifieur\n",
    "clf_svc = SVC(gamma = 'scale')        \n",
    "\n",
    "clf_svc.fit(X_train, y_train)         # Entraînement du classifieur\n",
    "\n",
    "y_pred_svc = clf_svc.predict(X_test) # Prédictions du classifieur\n",
    "\n",
    "# Matrice de confusion\n",
    "pd.crosstab(y_test, y_pred_svc, rownames = ['Classes réelles'], colnames = ['Classes prédites SVC'])"
   ]
  },
  {
   "cell_type": "code",
   "execution_count": 121,
   "id": "576e64f6",
   "metadata": {},
   "outputs": [
    {
     "name": "stdout",
     "output_type": "stream",
     "text": [
      "L'accuracy de clf_svc est de 0.9583648750946253\n"
     ]
    },
    {
     "data": {
      "text/plain": [
       "['clf_svc.joblib']"
      ]
     },
     "execution_count": 121,
     "metadata": {},
     "output_type": "execute_result"
    }
   ],
   "source": [
    "# Accuracy de clf_svc2\n",
    "acc_svc = accuracy_score(y_test, y_pred_svc)\n",
    "\n",
    "# Affichage des métriques\n",
    "print(\"L'accuracy de clf_svc est de\", acc_svc)\n",
    "\n",
    "# Enregistrement du modèle\n",
    "dump(clf_svc, 'clf_svc.joblib')"
   ]
  },
  {
   "cell_type": "markdown",
   "id": "4a661910",
   "metadata": {},
   "source": [
    "#### *Optimisation du classifieur SVC - Choix des hyperparamètres*"
   ]
  },
  {
   "cell_type": "markdown",
   "id": "2df63da4",
   "metadata": {},
   "source": [
    "Les hyperparamètres à faire varier :\n",
    "- C : doit être strictement positif\n",
    "- kernel : a 5 possibilités décrites\n",
    "- gamma : peut prendre les valeurs 'scale' 'auto' ou des nombres décimaux"
   ]
  },
  {
   "cell_type": "code",
   "execution_count": null,
   "id": "e033899c",
   "metadata": {},
   "outputs": [],
   "source": [
    "# Création d'un dictionnaire de parametres contenant les valeurs possibles prises pour les paramètres \n",
    "\n",
    "\n",
    "parametres= {\n",
    "        'C' :[1,50,100,200],\n",
    "    'kernel':['linear', 'poly', 'rbf', 'sigmoid'],\n",
    "    'gamma' :[0.1, 0.5,1]\n",
    "}\n",
    "\n",
    "# On applique la fonction gridsearch au modèle SVC\n",
    "grid_svc=GridSearchCV(clf_svc,parametres)\n",
    "\n",
    "#on entraîne grid_svc sur l'ensemble d'entraînement\n",
    "grille=grid_svc.fit(X_train, y_train)\n",
    "\n",
    "# On affiche les meilleurs paramètres de la grille \n",
    "print('les meilleurs paramètres pour le SVC sont ',grille.best_params_)"
   ]
  },
  {
   "cell_type": "code",
   "execution_count": null,
   "id": "a402058f",
   "metadata": {},
   "outputs": [],
   "source": [
    "# On refait les prédictions de classe avec les paramètres optimisés\n",
    "y_pred_svc_grid = grid_svc.predict(X_test) # Prédictions du classifieur\n",
    "\n",
    "# Matrice de confusion\n",
    "pd.crosstab(y_test, y_pred_svc_grid, rownames = ['Classes réelles'], colnames = ['Classes prédites SVC'])"
   ]
  },
  {
   "cell_type": "code",
   "execution_count": null,
   "id": "5c608539",
   "metadata": {},
   "outputs": [],
   "source": [
    "# Accuracy de clf_svc optimisé\n",
    "acc_svc_grid = accuracy_score(y_test, y_pred_svc_grid)\n",
    "\n",
    "# Affichage des métriques\n",
    "print(\"L'accuracy de clf_svc optimisé est de\", acc_svc_grid)\n",
    "\n",
    "# Enregistrement du modèle\n",
    "dump(grid_svc, 'clf_svc_grid.joblib')"
   ]
  },
  {
   "cell_type": "markdown",
   "id": "2e9a968b",
   "metadata": {},
   "source": [
    "### *Classifieur 2 : KNN*"
   ]
  },
  {
   "cell_type": "code",
   "execution_count": 123,
   "id": "5e1dbffd",
   "metadata": {},
   "outputs": [
    {
     "data": {
      "text/html": [
       "<div>\n",
       "<style scoped>\n",
       "    .dataframe tbody tr th:only-of-type {\n",
       "        vertical-align: middle;\n",
       "    }\n",
       "\n",
       "    .dataframe tbody tr th {\n",
       "        vertical-align: top;\n",
       "    }\n",
       "\n",
       "    .dataframe thead th {\n",
       "        text-align: right;\n",
       "    }\n",
       "</style>\n",
       "<table border=\"1\" class=\"dataframe\">\n",
       "  <thead>\n",
       "    <tr style=\"text-align: right;\">\n",
       "      <th>Classes prédites KNN</th>\n",
       "      <th>A</th>\n",
       "      <th>B</th>\n",
       "      <th>C</th>\n",
       "      <th>D</th>\n",
       "      <th>E</th>\n",
       "      <th>F</th>\n",
       "      <th>G</th>\n",
       "    </tr>\n",
       "    <tr>\n",
       "      <th>Classes réelles</th>\n",
       "      <th></th>\n",
       "      <th></th>\n",
       "      <th></th>\n",
       "      <th></th>\n",
       "      <th></th>\n",
       "      <th></th>\n",
       "      <th></th>\n",
       "    </tr>\n",
       "  </thead>\n",
       "  <tbody>\n",
       "    <tr>\n",
       "      <th>A</th>\n",
       "      <td>46</td>\n",
       "      <td>1</td>\n",
       "      <td>0</td>\n",
       "      <td>0</td>\n",
       "      <td>0</td>\n",
       "      <td>0</td>\n",
       "      <td>0</td>\n",
       "    </tr>\n",
       "    <tr>\n",
       "      <th>B</th>\n",
       "      <td>2</td>\n",
       "      <td>163</td>\n",
       "      <td>6</td>\n",
       "      <td>0</td>\n",
       "      <td>0</td>\n",
       "      <td>0</td>\n",
       "      <td>0</td>\n",
       "    </tr>\n",
       "    <tr>\n",
       "      <th>C</th>\n",
       "      <td>0</td>\n",
       "      <td>7</td>\n",
       "      <td>236</td>\n",
       "      <td>10</td>\n",
       "      <td>0</td>\n",
       "      <td>0</td>\n",
       "      <td>0</td>\n",
       "    </tr>\n",
       "    <tr>\n",
       "      <th>D</th>\n",
       "      <td>0</td>\n",
       "      <td>0</td>\n",
       "      <td>14</td>\n",
       "      <td>261</td>\n",
       "      <td>8</td>\n",
       "      <td>0</td>\n",
       "      <td>0</td>\n",
       "    </tr>\n",
       "    <tr>\n",
       "      <th>E</th>\n",
       "      <td>0</td>\n",
       "      <td>0</td>\n",
       "      <td>0</td>\n",
       "      <td>10</td>\n",
       "      <td>299</td>\n",
       "      <td>1</td>\n",
       "      <td>0</td>\n",
       "    </tr>\n",
       "    <tr>\n",
       "      <th>F</th>\n",
       "      <td>0</td>\n",
       "      <td>0</td>\n",
       "      <td>0</td>\n",
       "      <td>0</td>\n",
       "      <td>2</td>\n",
       "      <td>180</td>\n",
       "      <td>2</td>\n",
       "    </tr>\n",
       "    <tr>\n",
       "      <th>G</th>\n",
       "      <td>0</td>\n",
       "      <td>0</td>\n",
       "      <td>0</td>\n",
       "      <td>0</td>\n",
       "      <td>0</td>\n",
       "      <td>3</td>\n",
       "      <td>70</td>\n",
       "    </tr>\n",
       "  </tbody>\n",
       "</table>\n",
       "</div>"
      ],
      "text/plain": [
       "Classes prédites KNN   A    B    C    D    E    F   G\n",
       "Classes réelles                                      \n",
       "A                     46    1    0    0    0    0   0\n",
       "B                      2  163    6    0    0    0   0\n",
       "C                      0    7  236   10    0    0   0\n",
       "D                      0    0   14  261    8    0   0\n",
       "E                      0    0    0   10  299    1   0\n",
       "F                      0    0    0    0    2  180   2\n",
       "G                      0    0    0    0    0    3  70"
      ]
     },
     "execution_count": 123,
     "metadata": {},
     "output_type": "execute_result"
    }
   ],
   "source": [
    "# Instanciation du classifieur\n",
    "clf_knn = KNeighborsClassifier()\n",
    "\n",
    "clf_knn.fit(X_train, y_train)          # Entraînement du classifieur\n",
    "\n",
    "y_pred_knn = clf_knn.predict(X_test)  # Prédictions du classifieur\n",
    "\n",
    "# Matrice de confusion\n",
    "pd.crosstab(y_test, y_pred_knn, rownames = ['Classes réelles'], colnames = ['Classes prédites KNN'])"
   ]
  },
  {
   "cell_type": "code",
   "execution_count": 124,
   "id": "2c4486a2",
   "metadata": {},
   "outputs": [
    {
     "name": "stdout",
     "output_type": "stream",
     "text": [
      "L'accuracy de clf_knn est de 0.9500378501135504\n"
     ]
    },
    {
     "data": {
      "text/plain": [
       "['clf_knn.joblib']"
      ]
     },
     "execution_count": 124,
     "metadata": {},
     "output_type": "execute_result"
    }
   ],
   "source": [
    "# Accuracy de clf_knn2\n",
    "acc_knn = accuracy_score(y_test, y_pred_knn)\n",
    "\n",
    "# Affichage des métriques\n",
    "print(\"L'accuracy de clf_knn est de\", acc_knn)\n",
    "\n",
    "# Enregistrement du modèle\n",
    "dump(clf_knn, 'clf_knn.joblib')"
   ]
  },
  {
   "cell_type": "markdown",
   "id": "752127a1",
   "metadata": {},
   "source": [
    "#### *Optimisation du classifieur KNN - Choix des hyperparamètres*"
   ]
  },
  {
   "cell_type": "markdown",
   "id": "235c5fe8",
   "metadata": {},
   "source": [
    "Les hyperparamètres sur lesquels on peut jouer:\n",
    "- n_neighbors\n",
    "- leaf_size\n",
    "- p\n",
    "- metric afin de déterminer sur quelle etendue on peut faire jouer les hyper paramètres"
   ]
  },
  {
   "cell_type": "code",
   "execution_count": null,
   "id": "a53af383",
   "metadata": {},
   "outputs": [],
   "source": [
    "# On détermine les paramètres n_neighbors\n",
    "parameters = {'n_neighbors': list(range(1,30))}\n",
    "\n",
    "# On applique la fonction gridsearch au modèle knn\n",
    "grid_knn=GridSearchCV(clf_knn2,parameters)\n",
    "\n",
    "# On entraîne grid_knn sur l'ensemble d'entraînement\n",
    "grille_knn =grid_knn.fit(X_train, y_train)\n",
    "\n",
    "# On peut afficher toutes les combinaisons de paramètres\n",
    "res=grille_knn.cv_results_\n",
    "test_score = res['mean_test_score']\n",
    "plt.plot(range(1,30),test_score)\n",
    "plt.title('Accuracy selon le nombre de plus proches voisins');"
   ]
  },
  {
   "cell_type": "code",
   "execution_count": null,
   "id": "f0dbefc9",
   "metadata": {},
   "outputs": [],
   "source": [
    "# On détermine les paramètres leaf_size\n",
    "parameters = {'leaf_size': list(range(1,50))}\n",
    "\n",
    "# On applique la fonction gridsearch au modèle knn\n",
    "grid_knn=GridSearchCV(clf_knn2,parameters)\n",
    "\n",
    "# On entraîne grid_svc sur l'ensemble d'entraînement\n",
    "grille_knn=grid_knn.fit(X_train, y_train)\n",
    "\n",
    "# On peut afficher toutes les combinaisons de paramètres\n",
    "res=grille_knn.cv_results_\n",
    "test_score = res['mean_test_score']\n",
    "plt.plot(range(1,50),test_score)\n",
    "plt.title('Accuracy selon leaf_size');\n",
    "\n",
    "# Celui-ci a très peu d'impact"
   ]
  },
  {
   "cell_type": "code",
   "execution_count": null,
   "id": "1d40439d",
   "metadata": {},
   "outputs": [],
   "source": [
    "# On détermine le paramètre p\n",
    "parameters = {'p': [1,2]}\n",
    "\n",
    "# On applique la fonction gridsearch au modèle knn\n",
    "grid_knn=GridSearchCV(clf_knn2,parameters)\n",
    "\n",
    "# On entraîne grid_svc sur l'ensemble d'entraînement\n",
    "grille_knn=grid_knn.fit(X_train, y_train)\n",
    "\n",
    "# On peut afficher toutes les combinaisons de paramètres\n",
    "res=grille_knn.cv_results_\n",
    "test_score = res['mean_test_score']\n",
    "plt.plot(range(1,3),test_score)\n",
    "plt.title('Accuracy selon p');"
   ]
  },
  {
   "cell_type": "markdown",
   "id": "10c1cf33",
   "metadata": {},
   "source": [
    "Maintenant qu'on a une idée de l'étendue des hyperparamètres, on peut faire le gridsearch sur tous les hyperparamètres"
   ]
  },
  {
   "cell_type": "code",
   "execution_count": null,
   "id": "bb306ba7",
   "metadata": {},
   "outputs": [],
   "source": [
    "# Création d'un dictionnaire de parametres contenant les valeurs possibles prises pour les paramètres \n",
    "\n",
    "parametres_knn= {\n",
    "    'leaf_size':list(range(1,5)),\n",
    "    'n_neighbors': list(range(1,10)),\n",
    "    'p':[1,2],\n",
    "    'metric': ['minkowski','manhattan','chebyshev']\n",
    "}\n",
    "\n",
    "# On applique la fonction gridsearch au modèle knn\n",
    "grid_knn=GridSearchCV(clf_knn,parametres_knn)\n",
    "\n",
    "# On entraîne grid_knn sur l'ensemble d'entraînement\n",
    "grille_knn=grid_knn.fit(X_train, y_train)\n",
    "\n",
    "# On affiche les meilleurs paramètres de la grille \n",
    "print('les meilleurs paramètres pour le KNN sont ',grille_knn.best_params_)"
   ]
  },
  {
   "cell_type": "code",
   "execution_count": null,
   "id": "dbafd1fb",
   "metadata": {},
   "outputs": [],
   "source": [
    "# On refait les prédictions de classe avec les paramètres optimisés\n",
    "y_pred_knn_grid =grid_knn.predict(X_test) # Prédictions du classifieur\n",
    "\n",
    "# Matrice de confusion\n",
    "pd.crosstab(y_test, y_pred_knn_grid, rownames = ['Classes réelles'], colnames = ['Classes prédites KNN'])"
   ]
  },
  {
   "cell_type": "code",
   "execution_count": null,
   "id": "608809b7",
   "metadata": {},
   "outputs": [],
   "source": [
    "# Accuracy de clf_knn optimisé\n",
    "acc_knn_grid = accuracy_score(y_test, y_pred_knn_grid)\n",
    "\n",
    "# Affichage des métriques\n",
    "print(\"L'accuracy de clf_knn est de\", acc_knn_grid)\n",
    "\n",
    "# Enregistrement du modèle\n",
    "dump(grid_knn, 'clf_knn_grid.joblib')"
   ]
  },
  {
   "cell_type": "markdown",
   "id": "4d31690d",
   "metadata": {},
   "source": [
    "### *Classifieur 3 : Random Forest*"
   ]
  },
  {
   "cell_type": "code",
   "execution_count": 125,
   "id": "6c1ce6a5",
   "metadata": {},
   "outputs": [
    {
     "data": {
      "text/html": [
       "<div>\n",
       "<style scoped>\n",
       "    .dataframe tbody tr th:only-of-type {\n",
       "        vertical-align: middle;\n",
       "    }\n",
       "\n",
       "    .dataframe tbody tr th {\n",
       "        vertical-align: top;\n",
       "    }\n",
       "\n",
       "    .dataframe thead th {\n",
       "        text-align: right;\n",
       "    }\n",
       "</style>\n",
       "<table border=\"1\" class=\"dataframe\">\n",
       "  <thead>\n",
       "    <tr style=\"text-align: right;\">\n",
       "      <th>Classes prédites RF</th>\n",
       "      <th>A</th>\n",
       "      <th>B</th>\n",
       "      <th>C</th>\n",
       "      <th>D</th>\n",
       "      <th>E</th>\n",
       "      <th>F</th>\n",
       "      <th>G</th>\n",
       "    </tr>\n",
       "    <tr>\n",
       "      <th>Classes réelles</th>\n",
       "      <th></th>\n",
       "      <th></th>\n",
       "      <th></th>\n",
       "      <th></th>\n",
       "      <th></th>\n",
       "      <th></th>\n",
       "      <th></th>\n",
       "    </tr>\n",
       "  </thead>\n",
       "  <tbody>\n",
       "    <tr>\n",
       "      <th>A</th>\n",
       "      <td>46</td>\n",
       "      <td>1</td>\n",
       "      <td>0</td>\n",
       "      <td>0</td>\n",
       "      <td>0</td>\n",
       "      <td>0</td>\n",
       "      <td>0</td>\n",
       "    </tr>\n",
       "    <tr>\n",
       "      <th>B</th>\n",
       "      <td>0</td>\n",
       "      <td>171</td>\n",
       "      <td>0</td>\n",
       "      <td>0</td>\n",
       "      <td>0</td>\n",
       "      <td>0</td>\n",
       "      <td>0</td>\n",
       "    </tr>\n",
       "    <tr>\n",
       "      <th>C</th>\n",
       "      <td>0</td>\n",
       "      <td>0</td>\n",
       "      <td>253</td>\n",
       "      <td>0</td>\n",
       "      <td>0</td>\n",
       "      <td>0</td>\n",
       "      <td>0</td>\n",
       "    </tr>\n",
       "    <tr>\n",
       "      <th>D</th>\n",
       "      <td>0</td>\n",
       "      <td>0</td>\n",
       "      <td>0</td>\n",
       "      <td>283</td>\n",
       "      <td>0</td>\n",
       "      <td>0</td>\n",
       "      <td>0</td>\n",
       "    </tr>\n",
       "    <tr>\n",
       "      <th>E</th>\n",
       "      <td>0</td>\n",
       "      <td>0</td>\n",
       "      <td>0</td>\n",
       "      <td>0</td>\n",
       "      <td>310</td>\n",
       "      <td>0</td>\n",
       "      <td>0</td>\n",
       "    </tr>\n",
       "    <tr>\n",
       "      <th>F</th>\n",
       "      <td>0</td>\n",
       "      <td>0</td>\n",
       "      <td>0</td>\n",
       "      <td>0</td>\n",
       "      <td>0</td>\n",
       "      <td>184</td>\n",
       "      <td>0</td>\n",
       "    </tr>\n",
       "    <tr>\n",
       "      <th>G</th>\n",
       "      <td>0</td>\n",
       "      <td>0</td>\n",
       "      <td>0</td>\n",
       "      <td>0</td>\n",
       "      <td>0</td>\n",
       "      <td>0</td>\n",
       "      <td>73</td>\n",
       "    </tr>\n",
       "  </tbody>\n",
       "</table>\n",
       "</div>"
      ],
      "text/plain": [
       "Classes prédites RF   A    B    C    D    E    F   G\n",
       "Classes réelles                                     \n",
       "A                    46    1    0    0    0    0   0\n",
       "B                     0  171    0    0    0    0   0\n",
       "C                     0    0  253    0    0    0   0\n",
       "D                     0    0    0  283    0    0   0\n",
       "E                     0    0    0    0  310    0   0\n",
       "F                     0    0    0    0    0  184   0\n",
       "G                     0    0    0    0    0    0  73"
      ]
     },
     "execution_count": 125,
     "metadata": {},
     "output_type": "execute_result"
    }
   ],
   "source": [
    "# Instanciation du classifieur\n",
    "clf_rf = RandomForestClassifier()     \n",
    "\n",
    "clf_rf.fit(X_train, y_train)          # Entraînement du classifieur\n",
    "\n",
    "y_pred_rf = clf_rf.predict(X_test)   # Prédictions du classifieur\n",
    "\n",
    "# Matrice de confusion\n",
    "pd.crosstab(y_test, y_pred_rf, rownames = ['Classes réelles'], colnames = ['Classes prédites RF'])"
   ]
  },
  {
   "cell_type": "code",
   "execution_count": 126,
   "id": "4dc44389",
   "metadata": {},
   "outputs": [
    {
     "name": "stdout",
     "output_type": "stream",
     "text": [
      "L'accuracy de clf_rf est de 0.9992429977289932\n"
     ]
    },
    {
     "data": {
      "text/plain": [
       "['clf_rf.joblib']"
      ]
     },
     "execution_count": 126,
     "metadata": {},
     "output_type": "execute_result"
    }
   ],
   "source": [
    "# Accuracy de clf_rf\n",
    "acc_rf = accuracy_score(y_test, y_pred_rf)\n",
    "\n",
    "# Affichage des métriques\n",
    "print(\"L'accuracy de clf_rf est de\", acc_rf)\n",
    "\n",
    "# Enregistrement du modèle\n",
    "dump(clf_rf, 'clf_rf.joblib')"
   ]
  },
  {
   "cell_type": "markdown",
   "id": "c8159d67",
   "metadata": {},
   "source": [
    "#### *Optimisation du classifieur Random Forest - Choix des hyperparamètres*"
   ]
  },
  {
   "cell_type": "markdown",
   "id": "339ea50b",
   "metadata": {},
   "source": [
    "Les hyperparamètres sur lesquels on peut jouer sont:\n",
    "- n_estimators : entier égal au nombre d'arbres, 100 par défaut\n",
    "- criterion\n",
    "- max_depth\n",
    "- n_jobs"
   ]
  },
  {
   "cell_type": "code",
   "execution_count": null,
   "id": "2d805608",
   "metadata": {},
   "outputs": [],
   "source": [
    "# Création d'un dictionnaire de parametres contenant les valeurs possibles prises pour les paramètres \n",
    "\n",
    "parametres_rf= {\n",
    "    'n_estimators':[200,300,400,500,600,700],\n",
    "    'criterion': ['gini', 'entropy'],\n",
    "    'max_features': ['auto', 'sqrt', 'log2']\n",
    "   \n",
    "}\n",
    "\n",
    "# On applique la fonction gridsearch au modèle rf\n",
    "grid_rf=GridSearchCV(clf_rf2,param_grid=parametres_rf,cv=5)\n",
    "\n",
    "# On entraîne grid_rf sur l'ensemble d'entraînement\n",
    "grille_rf=grid_rf.fit(X_train, y_train)\n",
    "\n",
    "# On affiche les meilleurs paramètres de la grille \n",
    "print('les meilleurs paramètres pour le RF sont ',grille_rf.best_params_)"
   ]
  },
  {
   "cell_type": "code",
   "execution_count": null,
   "id": "8d36f6c8",
   "metadata": {},
   "outputs": [],
   "source": [
    "# On refait les prédictions de classe avec les paramètres optimisés\n",
    "y_pred_rf_grid =grille_rf.predict(X_test) # Prédictions du classifieur\n",
    "\n",
    "# Matrice de confusion\n",
    "pd.crosstab(y_test, y_pred_rf_grid, rownames = ['Classes réelles'], colnames = ['Classes prédites RF'])"
   ]
  },
  {
   "cell_type": "code",
   "execution_count": null,
   "id": "25ef0fe4",
   "metadata": {},
   "outputs": [],
   "source": [
    "# Accuracy de clf_rf optimisé\n",
    "acc_rf_grid = accuracy_score(y_test, y_pred_rf_grid)\n",
    "\n",
    "# Affichage des métriques\n",
    "print(\"L'accuracy de clf_rf est de\", acc_rf_grid)\n",
    "\n",
    "# Enregistrement du modèle\n",
    "dump(grid_rf, 'clf_rf_grid.joblib')"
   ]
  },
  {
   "cell_type": "markdown",
   "id": "6eac48c3",
   "metadata": {},
   "source": [
    "#### *Poids des variables explicatives*"
   ]
  },
  {
   "cell_type": "code",
   "execution_count": null,
   "id": "4a7c72a5",
   "metadata": {},
   "outputs": [],
   "source": [
    "# On veut identifier quelles variables pèsent le plus dans la classification\n",
    "feature_scores = pd.Series(clf_rf.feature_importances_, index=feats_quant.columns).sort_values(ascending=False)\n",
    "\n",
    "sns.barplot(x=feature_scores, y=feature_scores.index)\n",
    "plt.xlabel('Feature Importance Score')\n",
    "plt.ylabel('Features')\n",
    "plt.title(\"Visualisation des features les plus importants\")\n",
    "plt.show();"
   ]
  },
  {
   "cell_type": "markdown",
   "id": "44148d8a",
   "metadata": {},
   "source": [
    "### *Premières observations*"
   ]
  },
  {
   "cell_type": "markdown",
   "id": "7a952ae7",
   "metadata": {},
   "source": [
    "- Les classes les plus polluantes sont très bien classées, ce qui est le plus intéressant\n",
    "- Le classifieur Random Forest a la meilleure accuracy.\n",
    "- Vu les scores hyper-élevés, il peut y avoir de l'overfitting"
   ]
  },
  {
   "cell_type": "markdown",
   "id": "d1984a4f",
   "metadata": {},
   "source": [
    "### Comparaison des classifieurs : Voting Classifier"
   ]
  },
  {
   "cell_type": "code",
   "execution_count": null,
   "id": "61bd9a2d",
   "metadata": {},
   "outputs": [],
   "source": [
    "# Instanciation du classifieur\n",
    "clf_vc = VotingClassifier([('rf', clf_rf), ('svc', clf_svc), ('knn', clf_knn)], voting = 'hard')\n",
    "\n",
    "# Création du cross-validator\n",
    "cv3 = KFold(n_splits = 3) # Question : comment choisir les autres paramètres du CV? Comment définir le nombre optimal de splits?\n",
    "\n",
    "# Validation croisée et évaluation des classifieurs\n",
    "for clf, label in zip([clf_rf, clf_svc, clf_knn, clf_vc], ['Random Forest', 'SVC', 'KNN', 'Voting Classifier']):\n",
    "    scores = cross_validate(clf, feats_quant, target, cv=cv3, scoring=['accuracy','f1_weighted'])\n",
    "    print(\"[%s]: \\n Accuracy: %0.2f (+/- %0.2f)\" % (label, scores['test_accuracy'].mean(), scores['test_accuracy'].std()),\n",
    "          \"F1 score: %0.2f (+/- %0.2f)\" % (scores['test_f1_weighted'].mean(), scores['test_f1_weighted'].std()))"
   ]
  },
  {
   "cell_type": "markdown",
   "id": "ba94cafc",
   "metadata": {},
   "source": [
    "Suite au Voting Classifier, on constate que le modèle Random Forest (clf_rf) est celui qui a les meilleurs scores"
   ]
  },
  {
   "cell_type": "code",
   "execution_count": null,
   "id": "aedcf00a",
   "metadata": {},
   "outputs": [],
   "source": [
    "# Enregistrement du modèle\n",
    "dump(clf_vc, 'clf_vc.joblib')"
   ]
  }
 ],
 "metadata": {
  "colab": {
   "collapsed_sections": [
    "WRBNBqGMiyEP",
    "1xlwYVoDmh1U",
    "ulnz5atlaRPt",
    "neWz_Alch6CX",
    "RE7ZJ5voDKvm",
    "3aqN8egLXWHA",
    "84KTnvTd6yNW",
    "F6kA4GByGbFH",
    "qiuYvM6XZYe5",
    "WJ0gHCbIaGJb",
    "WnhmZo50dMQZ",
    "R9jir0Zcald0"
   ],
   "provenance": []
  },
  "kernelspec": {
   "display_name": "Python 3 (ipykernel)",
   "language": "python",
   "name": "python3"
  },
  "language_info": {
   "codemirror_mode": {
    "name": "ipython",
    "version": 3
   },
   "file_extension": ".py",
   "mimetype": "text/x-python",
   "name": "python",
   "nbconvert_exporter": "python",
   "pygments_lexer": "ipython3",
   "version": "3.9.7"
  }
 },
 "nbformat": 4,
 "nbformat_minor": 5
}
